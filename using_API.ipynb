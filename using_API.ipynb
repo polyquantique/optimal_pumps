{
 "cells": [
  {
   "cell_type": "markdown",
   "id": "efce0642-7df2-490b-bbdf-5835069111e2",
   "metadata": {},
   "source": [
    "# Finding pumps that give locally optimal spectral purity"
   ]
  },
  {
   "cell_type": "markdown",
   "id": "1cd983ae-e0eb-43d8-846e-f557f09395e0",
   "metadata": {},
   "source": [
    "This notebook showcases a local optimization scheme applied on mode purity for SPDC phenomenon in waveguides. The optimization will use penalty method with the average number of photon pairs generated per pulse as a constraint and the spectral purity of generated pair and the variance of the pump as the objective function. 2 seeds are used; one that is a Hermite polynomial multiplied by a Gaussian and a random vector."
   ]
  },
  {
   "cell_type": "markdown",
   "id": "7ac4d588-83b8-4543-90f9-d83c677703a0",
   "metadata": {},
   "source": [
    "## Theory"
   ]
  },
  {
   "cell_type": "markdown",
   "id": "f3f2ae13-cbec-4d5e-9972-3718848f4c39",
   "metadata": {},
   "source": [
    "The dynamics describing SPDC can be seen as "
   ]
  },
  {
   "cell_type": "markdown",
   "id": "008a8b5f-c156-4c0e-a918-ec61b9ece18e",
   "metadata": {},
   "source": [
    "$\n",
    "\\frac{\\partial }{\\partial z}a_S(z, \\omega) = \\text{i}\\omega \\Delta k_S a_S(z, \\omega) + \\frac{\\text{i}\\gamma (z)}{\\sqrt{2\\pi}}\\int \\beta (\\omega + \\omega ')a_I^\\dagger (z, \\omega ')d\\omega ',\\\\\n",
    "\\frac{\\partial }{\\partial z}a_I^\\dagger(z, \\omega) = -\\text{i}\\omega \\Delta k_I a_I ^\\dagger(z, \\omega) - \\frac{\\text{i}\\gamma ^* (z)}{\\sqrt{2\\pi}}\\int \\beta ^* (\\omega + \\omega ')a_S(z, \\omega),\n",
    "$"
   ]
  },
  {
   "cell_type": "markdown",
   "id": "66cc7787-c2dc-4b4b-8238-838c322132eb",
   "metadata": {},
   "source": [
    "where $\\Delta k_j = \\frac{1}{v_j} - \\frac{1}{v_p}$, where $v_j$ is the group velocity of the mode $j$, $\\omega$ the frequency, $\\beta(\\omega)$ the slowly varying envelope of the pump in frequency domain, $\\gamma (z)$ a tophat function associated to second order nonlinearity and $a_j (z, \\omega)$ the annihilation operator for the mode $j$. The equations can be described by discretization into normal modes as"
   ]
  },
  {
   "cell_type": "markdown",
   "id": "7be24d60-0394-447a-8f03-a65167e21c4e",
   "metadata": {},
   "source": [
    "$\n",
    "\\frac{\\partial}{\\partial z}\\begin{bmatrix}\n",
    "\\bar{a}_S(z, \\omega)\\\\\n",
    "\\bar{a}_I^\\dagger(z, \\omega)\n",
    "\\end{bmatrix}=\n",
    "\\text{i}\\begin{bmatrix}\n",
    "\\Delta k_S \\omega & \\frac{\\text{i}\\gamma}{\\sqrt{2\\pi}}\\beta \\\\\n",
    "-\\frac{\\text{i}\\gamma ^*}{\\sqrt{2\\pi}}\\beta ^\\dagger & -\\Delta k_I \\omega\n",
    "\\end{bmatrix}\n",
    "\\begin{bmatrix}\n",
    "\\bar{a}_S(z, \\omega')\\\\\n",
    "\\bar{a}_I^\\dagger(z, \\omega')\n",
    "\\end{bmatrix} = \\text{i}A\\begin{bmatrix}\n",
    "\\bar{a}_S(z, \\omega')\\\\\n",
    "\\bar{a}_I^\\dagger(z, \\omega')\n",
    "\\end{bmatrix} ,\n",
    "$"
   ]
  },
  {
   "cell_type": "markdown",
   "id": "36f05006-7103-47ab-afef-f29649418ae9",
   "metadata": {},
   "source": [
    "where $\\Delta k_j \\omega$ is a diagonal matrix for both values of $j$ and $\\beta$ a Hankel matrix representing $\\beta (\\omega + \\omega')$. The matrix $A$ is an element of the Lie algebra and is used to generate the propagator associate to the dynamics which will be an element of the group $SU(1,1)$."
   ]
  },
  {
   "cell_type": "markdown",
   "id": "b87edc45-07a4-4163-be66-917a631daa83",
   "metadata": {},
   "source": [
    "The spectral purity of SPDC dynamics in frequency and space domain for a waveguide can be represented by the Schmidt number $K$, which can be expressed by"
   ]
  },
  {
   "cell_type": "markdown",
   "id": "0dffeea1-f738-4f67-a360-ad0367261b93",
   "metadata": {},
   "source": [
    "$\n",
    "\\begin{align}\n",
    "K = \\frac{\\text{Tr}\\left[U_{SI}^*U_{SI}^{T}\\right]^2}{\\text{Tr}\\left[U_{SI}^*U_{SI}^{T}U_{SI}^*U_{SI}^{T}\\right]},\n",
    "\\end{align}\n",
    "$"
   ]
  },
  {
   "cell_type": "markdown",
   "id": "a13cb595-a229-414f-8934-f1c553583499",
   "metadata": {},
   "source": [
    "where $U_{SI}$ is a block of the matrix $U$, which is an element of the group $SU(1,1)$. The constraint that the average photon number pairs is equal to $n$, which in this notebook will be 3, can be written as"
   ]
  },
  {
   "cell_type": "markdown",
   "id": "236c4e70-97d4-4947-b9c0-793c0c6102f2",
   "metadata": {},
   "source": [
    "$\\text{Tr}\\left[U_{SI}^* U_{SI}^T\\right] - n = 0$,"
   ]
  },
  {
   "cell_type": "markdown",
   "id": "a4d1f1a5-38c4-42bd-8684-0c7bab99ffdc",
   "metadata": {},
   "source": [
    "which also used the matrix $U_{SI}$. The matrix $U$ can be obtained by exponentiating $A$ such as"
   ]
  },
  {
   "cell_type": "markdown",
   "id": "fade4716-0342-46a9-8325-299e63f16f6a",
   "metadata": {},
   "source": [
    "$\n",
    "U = \n",
    "\\begin{bmatrix}\n",
    "U_{SS} & U_{SI}\\\\\n",
    "U_{IS}^* & U_{II}^*\n",
    "\\end{bmatrix}\n",
    "=\n",
    "\\text{exp}\\left(\\text{i}\\begin{bmatrix}\n",
    "\\Delta k_S \\omega & \\frac{\\gamma}{\\sqrt{2\\pi}} \\beta \\\\\n",
    "-\\frac{\\gamma ^*}{\\sqrt{2\\pi}}\\beta ^\\dagger & -\\Delta k_I \\omega\n",
    "\\end{bmatrix}\\right).\n",
    "$"
   ]
  },
  {
   "cell_type": "markdown",
   "id": "c2247182-f640-41d6-b2d8-4248914cc8f0",
   "metadata": {},
   "source": [
    "Because the theoretical minimum of the Schmidt number is 1, the objective function becomes $K-1$ and the problem becomes"
   ]
  },
  {
   "cell_type": "markdown",
   "id": "14d30fee-acb2-45ab-a41c-e2628c433231",
   "metadata": {},
   "source": [
    "$\n",
    "\\begin{align}\n",
    "\\text{min} \\ & \\frac{\\text{Tr}\\left[U_{SI}^*U_{SI}^{T}\\right]^2}{\\text{Tr}\\left[U_{SI}^*U_{SI}^{T}U_{SI}^*U_{SI}^{T}\\right]} - 1\\\\\n",
    "\\text{s. c.} \\ & \\text{Tr}\\left[U_{SI}^* U_{SI}^T\\right] - n = 0,\\\\\n",
    "& \\begin{bmatrix}\n",
    "U_{SS} & U_{SI}\\\\\n",
    "U_{IS}^* & U_{II}^*\n",
    "\\end{bmatrix}\n",
    "=\n",
    "\\text{exp}\\left(\\text{i}\\begin{bmatrix}\n",
    "\\Delta k \\omega & \\frac{\\gamma}{\\sqrt{2\\pi}} \\beta \\\\\n",
    "-\\frac{\\gamma ^*}{\\sqrt{2\\pi}}\\beta ^\\dagger & \\Delta k \\omega\n",
    "\\end{bmatrix}\\right).\n",
    "\\end{align}\n",
    "$"
   ]
  },
  {
   "cell_type": "markdown",
   "id": "37b5dfbf-3850-4ec4-a56f-0dfeb68f01f7",
   "metadata": {},
   "source": [
    "## Import the libraries "
   ]
  },
  {
   "cell_type": "markdown",
   "id": "d8ae3af7-e4f9-4c07-a588-7120343ce0b0",
   "metadata": {},
   "source": [
    "The library used to generate initial seed, to optimize the spectral purity and to post-process the data are imported."
   ]
  },
  {
   "cell_type": "code",
   "execution_count": 1,
   "id": "0f5f8beb-951c-42d2-80d3-b797f49278ec",
   "metadata": {},
   "outputs": [],
   "source": [
    "import jax.numpy as jnp\n",
    "import jax\n",
    "import jaxopt\n",
    "import numpy as np\n",
    "\n",
    "import matplotlib.pyplot as plt\n",
    "\n",
    "import optimization_SPDC as opt\n",
    "import get_initialization_cond as init\n",
    "\n",
    "key = jax.random.PRNGKey(0)"
   ]
  },
  {
   "cell_type": "markdown",
   "id": "238278f5-4752-4719-942d-1845e3004621",
   "metadata": {},
   "source": [
    "# Set general hyperparameters"
   ]
  },
  {
   "cell_type": "markdown",
   "id": "859584e0-08ee-4658-be01-1fa6a6d8f79e",
   "metadata": {},
   "source": [
    "Hyperparameters are set to generate the propagator describing the dynamics of SPDC and to make the optimization scheme. They include the discretized frequency domain vector, the strength and parameters used to generate the initial pump seed, the group frequency of the pump mode, the length of the nonlinear material and the number of pairs generated per pulse."
   ]
  },
  {
   "cell_type": "code",
   "execution_count": 2,
   "id": "e4651287-a200-4008-a46e-ce865c68271b",
   "metadata": {},
   "outputs": [],
   "source": [
    "Np = 0.01\n",
    "# higher N and wf+wi makes less unstable pump... need to see if N or wf+wi influences more\n",
    "N = 601\n",
    "wi = -10\n",
    "wf = 10\n",
    "x = jnp.linspace(wi, wf, N)\n",
    "freq_range_pump = jnp.linspace(2*wi, 2*wf, 2*N)\n",
    "freq_range_pump_complex = jnp.concatenate((freq_range_pump, freq_range_pump)).reshape(4*N,)\n",
    "vp = 0.1\n",
    "l = 1\n",
    "# Parameters to generate pump seed\n",
    "hermite_order = 2\n",
    "gaussian_amplitude = 0.05\n",
    "gaussian_width = 0.3\n",
    "phase = jnp.pi/5\n",
    "hermite_init_params = [hermite_order, gaussian_amplitude, gaussian_width, phase]\n",
    "cst_init_params = [0.1]\n",
    "y_N = 3"
   ]
  },
  {
   "cell_type": "markdown",
   "id": "f5f1fad3-7eea-4783-a9b4-bd9aaf551b2b",
   "metadata": {},
   "source": [
    "Using the initialization module, the diagonal blocks $\\Delta k_j \\omega$ of the propagator generator are generated as well as the seeds used to effect the optimization scheme"
   ]
  },
  {
   "cell_type": "code",
   "execution_count": 3,
   "id": "cce1f329-4c35-429a-85ce-dad7fd65820c",
   "metadata": {},
   "outputs": [],
   "source": [
    "alpha, G, H = init.get_constants(vp, l, wi, wf, Np, N = N)\n",
    "arbitrary_seed_hermite = init.get_initialization_array(hermite_init_params, vp, l, wi, wf, Np, method='hermite', N = N)\n",
    "random_seed = Np*jax.random.uniform(key, shape=(4*N,))"
   ]
  },
  {
   "cell_type": "markdown",
   "id": "8c716190-9b00-46e7-b3be-d8fc61445d1c",
   "metadata": {},
   "source": [
    "BFGS will be used with a penalty method algorithm on random seed as well as on a Hermitian polynomial multiplied by a Gaussian. The $\\sigma _k$ value will be $3^k$."
   ]
  },
  {
   "cell_type": "code",
   "execution_count": 4,
   "id": "9b48557e-7af9-43ee-94da-ce21eb64c715",
   "metadata": {},
   "outputs": [],
   "source": [
    "solver = jaxopt.ScipyMinimize(method=\"BFGS\", fun=opt.get_penalty_loss, maxiter=1, jit = False)"
   ]
  },
  {
   "cell_type": "code",
   "execution_count": 5,
   "id": "e0d703aa-4ac9-4725-aada-d24666472023",
   "metadata": {},
   "outputs": [
    {
     "name": "stdout",
     "output_type": "stream",
     "text": [
      "run 0\n"
     ]
    },
    {
     "name": "stderr",
     "output_type": "stream",
     "text": [
      "\n",
      "KeyboardInterrupt\n",
      "\n"
     ]
    }
   ],
   "source": [
    "pump = random_seed.copy()\n",
    "pumps_for_k = []\n",
    "for i in range(20):\n",
    "    pumps = []\n",
    "    print(\"run \" + str(i))\n",
    "    for j in range(15):\n",
    "        (pump, state) = solver.run(pump, N, alpha, G, H, l, y_N, freq_range_pump, 3**i)\n",
    "        pumps.append(pump.copy())\n",
    "    pumps_for_k.append(pumps)"
   ]
  },
  {
   "cell_type": "markdown",
   "id": "45ed7900-5085-4dd0-8383-df2508db8ea9",
   "metadata": {},
   "source": [
    "We can visualize how the BFGS algorithm optimize the pump for the first 3 iterations of the penalty method"
   ]
  },
  {
   "cell_type": "code",
   "execution_count": 5,
   "id": "53ae2079-7bfb-4e25-8a42-73ac6e291b59",
   "metadata": {},
   "outputs": [],
   "source": [
    "pumps_for_k = list(np.load(\"random_seed__pumps_25_penalty_15_bfgs.npy\"))\n",
    "pumps_for_k = [list(i) for i in pumps_for_k]\n",
    "hermitian_pumps_for_k = list(np.load(\"hermite_seed_pumps_20_penalty_15_bfgs.npy\"))\n",
    "hermitian_pumps_for_k = [list(i) for i in hermitian_pumps_for_k]\n",
    "pump = pumps_for_k[-1][-1]\n",
    "hermitian_pump = hermitian_pumps_for_k[-1][-1]"
   ]
  },
  {
   "cell_type": "code",
   "execution_count": 6,
   "id": "a125855d-a4d6-4d71-ac0e-4f193d4269e4",
   "metadata": {},
   "outputs": [
    {
     "ename": "RuntimeError",
     "evalue": "Requested MovieWriter (ffmpeg) not available",
     "output_type": "error",
     "traceback": [
      "\u001b[1;31m---------------------------------------------------------------------------\u001b[0m",
      "\u001b[1;31mRuntimeError\u001b[0m                              Traceback (most recent call last)",
      "Input \u001b[1;32mIn [6]\u001b[0m, in \u001b[0;36m<cell line: 21>\u001b[1;34m()\u001b[0m\n\u001b[0;32m     19\u001b[0m A \u001b[38;5;241m=\u001b[39m [jnp\u001b[38;5;241m.\u001b[39mabs(opt\u001b[38;5;241m.\u001b[39mget_complex_array(i)) \u001b[38;5;28;01mfor\u001b[39;00m i \u001b[38;5;129;01min\u001b[39;00m (pumps_for_k[\u001b[38;5;241m0\u001b[39m]\u001b[38;5;241m+\u001b[39m pumps_for_k[\u001b[38;5;241m1\u001b[39m] \u001b[38;5;241m+\u001b[39m  pumps_for_k[\u001b[38;5;241m2\u001b[39m])]\n\u001b[0;32m     20\u001b[0m anim \u001b[38;5;241m=\u001b[39m animation\u001b[38;5;241m.\u001b[39mFuncAnimation(fig, partial(animate, pumps \u001b[38;5;241m=\u001b[39m A),  frames\u001b[38;5;241m=\u001b[39m\u001b[38;5;28mlen\u001b[39m(A), interval\u001b[38;5;241m=\u001b[39m\u001b[38;5;241m400\u001b[39m)\n\u001b[1;32m---> 21\u001b[0m video \u001b[38;5;241m=\u001b[39m \u001b[43manim\u001b[49m\u001b[38;5;241;43m.\u001b[39;49m\u001b[43mto_html5_video\u001b[49m\u001b[43m(\u001b[49m\u001b[43m)\u001b[49m\n\u001b[0;32m     22\u001b[0m html \u001b[38;5;241m=\u001b[39m display\u001b[38;5;241m.\u001b[39mHTML(video)\n\u001b[0;32m     23\u001b[0m display\u001b[38;5;241m.\u001b[39mdisplay(html)\n",
      "File \u001b[1;32m~\\.virtualenvs\\pump_optimization-rAbjnRJu\\lib\\site-packages\\matplotlib\\animation.py:1264\u001b[0m, in \u001b[0;36mAnimation.to_html5_video\u001b[1;34m(self, embed_limit)\u001b[0m\n\u001b[0;32m   1261\u001b[0m path \u001b[38;5;241m=\u001b[39m Path(tmpdir, \u001b[38;5;124m\"\u001b[39m\u001b[38;5;124mtemp.m4v\u001b[39m\u001b[38;5;124m\"\u001b[39m)\n\u001b[0;32m   1262\u001b[0m \u001b[38;5;66;03m# We create a writer manually so that we can get the\u001b[39;00m\n\u001b[0;32m   1263\u001b[0m \u001b[38;5;66;03m# appropriate size for the tag\u001b[39;00m\n\u001b[1;32m-> 1264\u001b[0m Writer \u001b[38;5;241m=\u001b[39m \u001b[43mwriters\u001b[49m\u001b[43m[\u001b[49m\u001b[43mmpl\u001b[49m\u001b[38;5;241;43m.\u001b[39;49m\u001b[43mrcParams\u001b[49m\u001b[43m[\u001b[49m\u001b[38;5;124;43m'\u001b[39;49m\u001b[38;5;124;43manimation.writer\u001b[39;49m\u001b[38;5;124;43m'\u001b[39;49m\u001b[43m]\u001b[49m\u001b[43m]\u001b[49m\n\u001b[0;32m   1265\u001b[0m writer \u001b[38;5;241m=\u001b[39m Writer(codec\u001b[38;5;241m=\u001b[39m\u001b[38;5;124m'\u001b[39m\u001b[38;5;124mh264\u001b[39m\u001b[38;5;124m'\u001b[39m,\n\u001b[0;32m   1266\u001b[0m                 bitrate\u001b[38;5;241m=\u001b[39mmpl\u001b[38;5;241m.\u001b[39mrcParams[\u001b[38;5;124m'\u001b[39m\u001b[38;5;124manimation.bitrate\u001b[39m\u001b[38;5;124m'\u001b[39m],\n\u001b[0;32m   1267\u001b[0m                 fps\u001b[38;5;241m=\u001b[39m\u001b[38;5;241m1000.\u001b[39m \u001b[38;5;241m/\u001b[39m \u001b[38;5;28mself\u001b[39m\u001b[38;5;241m.\u001b[39m_interval)\n\u001b[0;32m   1268\u001b[0m \u001b[38;5;28mself\u001b[39m\u001b[38;5;241m.\u001b[39msave(\u001b[38;5;28mstr\u001b[39m(path), writer\u001b[38;5;241m=\u001b[39mwriter)\n",
      "File \u001b[1;32m~\\.virtualenvs\\pump_optimization-rAbjnRJu\\lib\\site-packages\\matplotlib\\animation.py:151\u001b[0m, in \u001b[0;36mMovieWriterRegistry.__getitem__\u001b[1;34m(self, name)\u001b[0m\n\u001b[0;32m    149\u001b[0m \u001b[38;5;28;01mif\u001b[39;00m \u001b[38;5;28mself\u001b[39m\u001b[38;5;241m.\u001b[39mis_available(name):\n\u001b[0;32m    150\u001b[0m     \u001b[38;5;28;01mreturn\u001b[39;00m \u001b[38;5;28mself\u001b[39m\u001b[38;5;241m.\u001b[39m_registered[name]\n\u001b[1;32m--> 151\u001b[0m \u001b[38;5;28;01mraise\u001b[39;00m \u001b[38;5;167;01mRuntimeError\u001b[39;00m(\u001b[38;5;124mf\u001b[39m\u001b[38;5;124m\"\u001b[39m\u001b[38;5;124mRequested MovieWriter (\u001b[39m\u001b[38;5;132;01m{\u001b[39;00mname\u001b[38;5;132;01m}\u001b[39;00m\u001b[38;5;124m) not available\u001b[39m\u001b[38;5;124m\"\u001b[39m)\n",
      "\u001b[1;31mRuntimeError\u001b[0m: Requested MovieWriter (ffmpeg) not available"
     ]
    },
    {
     "data": {
      "image/png": "[encoded data removed]",
      "text/plain": [
       "<Figure size 432x288 with 1 Axes>"
      ]
     },
     "metadata": {
      "needs_background": "light"
     },
     "output_type": "display_data"
    }
   ],
   "source": [
    "from matplotlib import animation\n",
    "from functools import partial\n",
    "from IPython import display\n",
    "\n",
    "fig = plt.figure()\n",
    "\n",
    "lines = plt.plot([])\n",
    "line = lines[0]\n",
    "\n",
    "def animate(frame, pumps):\n",
    "    y = pumps[frame]\n",
    "    line.set_data(freq_range_pump, y)\n",
    "    return None\n",
    "plt.xlim(freq_range_pump[0], freq_range_pump[-1])\n",
    "plt.ylim(0, 1)\n",
    "plt.title(\"Pump optimization with penalty method and BFGS\")\n",
    "plt.xlabel(\"Frequency offset from mean frequency (arbitrary units)\")\n",
    "plt.ylabel(\"Absolute value of the pump (arbitrary units)\")\n",
    "A = [jnp.abs(opt.get_complex_array(i)) for i in (pumps_for_k[0]+ pumps_for_k[1] +  pumps_for_k[2])]\n",
    "anim = animation.FuncAnimation(fig, partial(animate, pumps = A),  frames=len(A), interval=400)\n",
    "video = anim.to_html5_video()\n",
    "html = display.HTML(video)\n",
    "display.display(html)\n",
    "plt.close()"
   ]
  },
  {
   "cell_type": "markdown",
   "id": "e67d1cec-e1bc-4612-9d52-a2465b9e1f1e",
   "metadata": {},
   "source": [
    "Now, let us see what happens if we were to use the Hermitian polynomial multiplied with the Gaussian instead. "
   ]
  },
  {
   "cell_type": "code",
   "execution_count": 7,
   "id": "bff69372-d55f-444c-b3a7-6cbd90e75264",
   "metadata": {},
   "outputs": [
    {
     "name": "stdout",
     "output_type": "stream",
     "text": [
      "run 0\n"
     ]
    },
    {
     "name": "stderr",
     "output_type": "stream",
     "text": [
      "\n",
      "KeyboardInterrupt\n",
      "\n"
     ]
    }
   ],
   "source": [
    "hermitian_pump = arbitrary_seed_hermite.copy()\n",
    "hermitian_pumps_for_k = []\n",
    "for i in range(25):\n",
    "    print(\"run \" + str(i))\n",
    "    hermitian_pumps = []\n",
    "    for j in range(15):\n",
    "        (hermitian_pump, state) = solver.run(hermitian_pump, N, alpha, G, H, l, y_N, freq_range_pump, 2**i)\n",
    "        hermitian_pumps.append(hermitian_pump.copy())\n",
    "    hermitian_pumps_for_k.append(hermitian_pumps)"
   ]
  },
  {
   "cell_type": "markdown",
   "id": "1004fc4f-11cc-45aa-b0a8-293a332f1507",
   "metadata": {},
   "source": [
    "Here we will plot out the absolute value of the optimal pump when the seed is random and when the seed is a Hermitian polynomial multiplied by a Gaussian"
   ]
  },
  {
   "cell_type": "code",
   "execution_count": 8,
   "id": "107b99f0-82a0-4b79-a8c1-933de3635062",
   "metadata": {},
   "outputs": [],
   "source": [
    "abs_pump = jnp.abs(opt.get_complex_array(pump))\n",
    "abs_hermit_pump = jnp.abs(opt.get_complex_array(hermitian_pump))\n",
    "phase_pump = jnp.angle(opt.get_complex_array(pump))\n",
    "phase_hermit_pump = jnp.angle(opt.get_complex_array(hermitian_pump))\n",
    "display_plot = [abs_pump, abs_hermit_pump, phase_pump, phase_hermit_pump]\n",
    "display_leg = [\"absolute value with random pump\", \"absolute value with Hermitian pump\", \"phase value with random pump\", \"phase value with Hermitian pump\"]"
   ]
  },
  {
   "cell_type": "code",
   "execution_count": 9,
   "id": "7d069f70-3b3d-49a7-bcd0-cfaaa354f9bf",
   "metadata": {},
   "outputs": [],
   "source": [
    "import display_res as disp"
   ]
  },
  {
   "cell_type": "code",
   "execution_count": null,
   "id": "71cc5ca6-1cbc-4b8f-8d00-cf40f8a5700c",
   "metadata": {},
   "outputs": [],
   "source": [
    "disp.plot_pump(display_plot, freq_range_pump, display_leg)"
   ]
  },
  {
   "cell_type": "markdown",
   "id": "58be5d3e-c4d3-42d4-a3a3-bea88dafc07a",
   "metadata": {},
   "source": [
    "And the purity for the optimal pump with random seed and Hermitian seed are respectively"
   ]
  },
  {
   "cell_type": "code",
   "execution_count": null,
   "id": "18deb2d9-58bc-4414-a6fd-6d8d07e274e6",
   "metadata": {},
   "outputs": [],
   "source": [
    "print(\"Schmidt number with random seed: \", opt.get_observables(pump, N, alpha, G, H, l)[1])\n",
    "print(\"Mean photon pair number with random seed: \", opt.get_observables(pump, N, alpha, G, H, l)[0])\n",
    "print(\"Schmidt number with Hermitian seed: \", opt.get_observables(hermitian_pump, N, alpha, G, H, l)[1])\n",
    "print(\"Mean photon pair number with Hermitian seed: \", opt.get_observables(hermitian_pump, N, alpha, G, H, l)[0])"
   ]
  },
  {
   "cell_type": "markdown",
   "id": "d657b4b3-a086-4fa7-a0c4-d5c40bd3f086",
   "metadata": {},
   "source": [
    "We can see that after optimization, the absolute value of the optimal pump initialized with random seed and Hermitian seed overlap. This overlapping shape also looks Gaussian. One would then be led to believe 2 things; first that the lower bound on the Schmidt number for an average pair number per pulse of 3 is 1.12 and second that the optimal pump seems to be Gaussian. Let us see if the second point hold."
   ]
  },
  {
   "cell_type": "markdown",
   "id": "34af9aca-52b2-4713-bd57-d627c90ef61f",
   "metadata": {},
   "source": [
    "## Optimization of a Gaussian"
   ]
  },
  {
   "cell_type": "markdown",
   "id": "1b06ce83-4f31-4cee-afa2-ee5584a6b245",
   "metadata": {},
   "source": [
    "Now, suppose the optimal pump is truly Gaussian, only 3 parameters are needed, which are the amplitude of the Gaussian, its width and the phase for a complex pump. Let us generate the seeds for these 3 parameters. First, we need to import the modules to realize the optimization scheme."
   ]
  },
  {
   "cell_type": "code",
   "execution_count": 18,
   "id": "b2444daa-2e75-4309-90dc-ff1cda1f9e18",
   "metadata": {},
   "outputs": [],
   "source": [
    "import optimization_SPDC_gaussain_pump as opt_gauss"
   ]
  },
  {
   "cell_type": "markdown",
   "id": "e405174a-429e-4799-8a7d-09cba70d7841",
   "metadata": {},
   "source": [
    "Now, let us use the same parameters for the Gaussian seed to generate an optimization scheme restricted to Gaussian pumps and the same solver as before with penalty method."
   ]
  },
  {
   "cell_type": "code",
   "execution_count": 13,
   "id": "2dbff652-d96f-4a1f-8a97-f9a72ef99df9",
   "metadata": {},
   "outputs": [
    {
     "name": "stdout",
     "output_type": "stream",
     "text": [
      "run number 0\n",
      "run number 1\n"
     ]
    },
    {
     "name": "stderr",
     "output_type": "stream",
     "text": [
      "\n",
      "KeyboardInterrupt\n",
      "\n"
     ]
    }
   ],
   "source": [
    "params = [gaussian_amplitude, gaussian_width, phase]\n",
    "gauss_solver = jaxopt.ScipyMinimize(method = \"BFGS\", fun=opt_gauss.get_penalty_loss, maxiter=20, jit= False)\n",
    "theta = params.copy()\n",
    "for i in range(15):\n",
    "    print(\"run number \" + str(i))\n",
    "    (theta, state) = gauss_solver.run(theta, freq_range_pump, alpha, G, H, l, y_N, 3**i)"
   ]
  },
  {
   "cell_type": "markdown",
   "id": "e2a4e0b0-0fdc-4918-9849-d9073f5d6041",
   "metadata": {},
   "source": [
    "Comparing the normalized absolute value of the optimal pump when pump values were arbitrary and the optimal pump when restricted to a Gaussian, one can see that the shape is almost identical."
   ]
  },
  {
   "cell_type": "code",
   "execution_count": null,
   "id": "16be6bb2-8460-4f58-991e-eafe86531867",
   "metadata": {},
   "outputs": [],
   "source": [
    "norm_gauss_pump = jnp.abs(opt_gauss.get_gaussian_pump(theta, freq_range_pump))/jnp.linalg.norm(opt_gauss.get_gaussian_pump(theta, freq_range_pump))\n",
    "norm_arb_hermitian_pump = (abs_hermit_pump/jnp.linalg.norm(abs_hermit_pump))\n",
    "comparison_leg = [\"optimal pump when every element is a parameter\", \"optimal Gaussian pump\"]"
   ]
  },
  {
   "cell_type": "code",
   "execution_count": null,
   "id": "9f13b3af-0ddf-4f6d-8a0d-681a01423ceb",
   "metadata": {},
   "outputs": [],
   "source": [
    "disp.plot_pump([norm_gauss_pump, norm_arb_hermitian_pump], freq_range_pump, comparison_leg)"
   ]
  },
  {
   "cell_type": "markdown",
   "id": "8fae68c9-e07c-48bf-a03a-8fdd7b783df3",
   "metadata": {},
   "source": [
    "Doing the cross correlation between the optimal pump, one realizes that the likelihood is "
   ]
  },
  {
   "cell_type": "code",
   "execution_count": null,
   "id": "be772f28-c1a5-46eb-bfc6-54b2636f4ce5",
   "metadata": {},
   "outputs": [],
   "source": [
    "print(\"Normalized cross correlation between the Gaussian pump and the arbitrary pump is \" + str(norm_gauss_pump@norm_arb_hermitian_pump))"
   ]
  },
  {
   "cell_type": "markdown",
   "id": "9d3f58eb-47c6-4b74-b18f-e93e8ab37a67",
   "metadata": {},
   "source": [
    "This result is interesting, because for low gain ($n \\ll 1$), it has been proven analytically through perturbative regime that to obtain purely separable joint spectral amplitude, a Gaussian phase matching function and a Gaussian pump are needed (Quesada and Branczyk, 2018). A numerical optimization scheme was performed with an objective function stemming from low-gain regime, which is a restricted case of the general SPDC in waveguides. Let us compare how does the optimal pump obtained theorically fare in high gain regime with the Gaussian pumps obtained with optimization at high gain."
   ]
  },
  {
   "cell_type": "markdown",
   "id": "29d08a73-00be-4a81-a9f8-6539adce6a08",
   "metadata": {},
   "source": [
    "# Comparing low gain optimal pump at high gain with optimized pump at this high gain"
   ]
  },
  {
   "cell_type": "markdown",
   "id": "bfc29729-65c4-46b3-af43-b370c0733f89",
   "metadata": {},
   "source": [
    "A main difference between the low-gain regime and high gain regime is the presence of higher Fock state terms in the output state. If the phase matching function (PMF) is not Gaussian, an approximation that is closest to a Gaussian is preferable. For a sinc PMF of the form $\\frac{\\sin \\left(\\kappa (x-y)\\right)}{x-y}$, the width of the Gaussian should be of $\\frac{1.61}{1.13}\\kappa$ to have maximal separability. Let us generate a pump with such a width."
   ]
  },
  {
   "cell_type": "code",
   "execution_count": 47,
   "id": "9a7d23cc-08f8-48f0-93e5-9ab22a4a4b80",
   "metadata": {},
   "outputs": [],
   "source": [
    "ratio = 1.61/1.13\n",
    "vi = vp / (1 - 2 * ratio * vp / l)\n",
    "vs = vp / (1 + 2 * ratio * vp / l)\n",
    "width = jnp.sqrt(ratio/(l*(1/vp - 1/vi)))\n",
    "theta = [0.01, width, 0.1]\n",
    "low_pump = opt_gauss.get_gaussian_pump(theta,freq_range_pump)"
   ]
  },
  {
   "cell_type": "code",
   "execution_count": 15,
   "id": "4390fe87-4b3b-4932-8a54-5a490433b19e",
   "metadata": {},
   "outputs": [
    {
     "data": {
      "text/plain": [
       "[<matplotlib.lines.Line2D at 0x1e83ddfb340>]"
      ]
     },
     "execution_count": 15,
     "metadata": {},
     "output_type": "execute_result"
    },
    {
     "data": {
      "image/png": "[encoded data removed]",
      "text/plain": [
       "<Figure size 432x288 with 1 Axes>"
      ]
     },
     "metadata": {
      "needs_background": "light"
     },
     "output_type": "display_data"
    }
   ],
   "source": [
    "plt.title(\"Low gain pump\")\n",
    "plt.xlabel(\"Frequency offset from mid frequency\")\n",
    "plt.ylabel(\"Amplitude of the absolute value\")\n",
    "plt.plot(np.abs(low_pump))"
   ]
  },
  {
   "cell_type": "markdown",
   "id": "c36fcec4-8ec8-4775-9611-46b93e80e54b",
   "metadata": {},
   "source": [
    "The joint spectral amplitude would look like"
   ]
  },
  {
   "cell_type": "code",
   "execution_count": 76,
   "id": "fb8e0907-bff5-4b42-980c-b63f7e08c2fa",
   "metadata": {},
   "outputs": [
    {
     "data": {
      "image/png": "[encoded data removed]",
      "text/plain": [
       "<Figure size 432x288 with 2 Axes>"
      ]
     },
     "metadata": {
      "needs_background": "light"
     },
     "output_type": "display_data"
    }
   ],
   "source": [
    "#U = opt_gauss.get_U_matrix(theta, freq_range_pump, alpha, G, H, l)\n",
    "#JSA = disp.get_JSA(freq_range_pump, U)\n",
    "JSA = 0.01*jnp.exp(-((x[:,np.newaxis]+x)**2)/width)*jnp.exp(-((x[:,np.newaxis]-x)**2)/width)\n",
    "fig, ax = plt.subplots()\n",
    "im = ax.imshow(JSA, cmap=\"jet\", origin=\"lower\",extent=[x[0],x[N-1],x[0],x[N-1]])\n",
    "ax.set_title(\"JSA for separable pair\")\n",
    "ax.set_xlabel(r\"$(\\omega_{s}-\\bar{\\omega}_{s})$\")\n",
    "ax.set_ylabel(r\"$(\\omega_{i}-\\bar{\\omega}_{i})$\")\n",
    "plt.colorbar(im, orientation=\"vertical\")\n",
    "plt.savefig(\"low_pump_JSA.png\")\n",
    "plt.show()"
   ]
  },
  {
   "cell_type": "code",
   "execution_count": 68,
   "id": "1502509e-23ae-4d33-934c-6a169c91b7fd",
   "metadata": {},
   "outputs": [
    {
     "data": {
      "text/plain": [
       "7.887395327885315"
      ]
     },
     "execution_count": 68,
     "metadata": {},
     "output_type": "execute_result"
    }
   ],
   "source": [
    "(A, B, C) = jax.scipy.linalg.svd(JSA)\n",
    "rand = jnp.diag(np.random.rand(10))\n",
    "rand = rand/jnp.linalg.norm(rand)\n",
    "np.trace(rand)**2"
   ]
  },
  {
   "cell_type": "markdown",
   "id": "21ee5f32-74b8-4e4d-8801-698458e54092",
   "metadata": {},
   "source": [
    "Now, let $n$ value taking the values $\\{0.5, 1, 1.5, 2, 2.5, 3\\}$, let us see what the optimized Gaussian pump should look like at these values"
   ]
  },
  {
   "cell_type": "code",
   "execution_count": 23,
   "id": "29900d78-2b47-4039-a1a1-e4fe10e3c1b1",
   "metadata": {},
   "outputs": [],
   "source": [
    "params = [gaussian_amplitude, gaussian_width, phase]\n",
    "gauss_solver = jaxopt.ScipyMinimize(method = \"BFGS\", fun=opt_gauss.get_penalty_loss, maxiter= 10, jit= False)"
   ]
  },
  {
   "cell_type": "code",
   "execution_count": 24,
   "id": "bb9b4b3d-3415-4d62-89a3-a44c798b9944",
   "metadata": {},
   "outputs": [
    {
     "name": "stdout",
     "output_type": "stream",
     "text": [
      "run number 0\n",
      "run number 1\n",
      "run number 2\n",
      "run number 3\n",
      "run number 4\n",
      "run number 5\n",
      "run number 6\n",
      "run number 7\n",
      "run number 8\n",
      "run number 9\n",
      "run number 10\n",
      "run number 11\n",
      "run number 12\n",
      "run number 13\n",
      "run number 14\n",
      "run number 0\n",
      "run number 1\n",
      "run number 2\n",
      "run number 3\n",
      "run number 4\n",
      "run number 5\n",
      "run number 6\n",
      "run number 7\n",
      "run number 8\n",
      "run number 9\n",
      "run number 10\n",
      "run number 11\n",
      "run number 12\n",
      "run number 13\n",
      "run number 14\n",
      "run number 0\n",
      "run number 1\n",
      "run number 2\n",
      "run number 3\n",
      "run number 4\n",
      "run number 5\n",
      "run number 6\n",
      "run number 7\n",
      "run number 8\n",
      "run number 9\n",
      "run number 10\n",
      "run number 11\n",
      "run number 12\n",
      "run number 13\n",
      "run number 14\n",
      "run number 0\n",
      "run number 1\n",
      "run number 2\n",
      "run number 3\n",
      "run number 4\n",
      "run number 5\n",
      "run number 6\n",
      "run number 7\n",
      "run number 8\n",
      "run number 9\n",
      "run number 10\n",
      "run number 11\n",
      "run number 12\n",
      "run number 13\n",
      "run number 14\n",
      "run number 0\n",
      "run number 1\n",
      "run number 2\n",
      "run number 3\n",
      "run number 4\n",
      "run number 5\n",
      "run number 6\n",
      "run number 7\n",
      "run number 8\n",
      "run number 9\n",
      "run number 10\n",
      "run number 11\n",
      "run number 12\n",
      "run number 13\n",
      "run number 14\n",
      "run number 0\n",
      "run number 1\n",
      "run number 2\n",
      "run number 3\n",
      "run number 4\n",
      "run number 5\n",
      "run number 6\n",
      "run number 7\n",
      "run number 8\n",
      "run number 9\n",
      "run number 10\n",
      "run number 11\n",
      "run number 12\n",
      "run number 13\n",
      "run number 14\n"
     ]
    }
   ],
   "source": [
    "y_Ns = [0.5, 1., 1.5, 2., 2.5, 3.]\n",
    "theta_per_y_N = []\n",
    "for n in y_Ns:\n",
    "    theta = params.copy()\n",
    "    for i in range(15):\n",
    "        print(\"run number \" + str(i))\n",
    "        (theta, state) = gauss_solver.run(theta, freq_range_pump, alpha, G, H, l, n, 3**i)\n",
    "    theta_per_y_N.append(theta.copy())"
   ]
  },
  {
   "cell_type": "code",
   "execution_count": 25,
   "id": "1880bdb3-e373-4562-947e-5df41b7fb0d0",
   "metadata": {},
   "outputs": [],
   "source": [
    "diff_n_schmidt_numbers = []\n",
    "for i in range(len(theta_per_y_N)):\n",
    "    diff_n_schmidt_numbers.append(opt_gauss.get_observables(theta_per_y_N[i], freq_range_pump, alpha, G, H, l)[1])"
   ]
  },
  {
   "cell_type": "markdown",
   "id": "17a0e801-7aac-43e0-a147-35d737865535",
   "metadata": {},
   "source": [
    "For the same values of $n$, let us take Gaussian pumps with width optimized for low gain and find the Schmidt number associated with each case."
   ]
  },
  {
   "cell_type": "code",
   "execution_count": 26,
   "id": "9b1948ec-c1ee-4731-aa4a-2979090c4d09",
   "metadata": {},
   "outputs": [],
   "source": [
    "amps = [0.3845, 0.5068, 0.5856, 0.64356, 0.689181, 0.72667]\n",
    "schmidt_numbers_low = []\n",
    "for amp in amps:\n",
    "    diff_theta = [amp, width, 0.1]\n",
    "    schmidt_numbers_low.append(opt_gauss.get_observables(diff_theta, freq_range_pump, alpha, G, H, l)[1])"
   ]
  },
  {
   "cell_type": "markdown",
   "id": "6521bec4-eff2-4af8-a660-a62419175100",
   "metadata": {},
   "source": [
    "Now, we can compare them by plotting the Schmidt number as function of mean number of photon pairs per pulse"
   ]
  },
  {
   "cell_type": "code",
   "execution_count": 28,
   "id": "ce474833-b1de-4c37-88bc-bb1ad2559389",
   "metadata": {},
   "outputs": [
    {
     "data": {
      "text/plain": [
       "[<matplotlib.lines.Line2D at 0x1e85c9f9190>]"
      ]
     },
     "execution_count": 28,
     "metadata": {},
     "output_type": "execute_result"
    },
    {
     "data": {
      "image/png": "[encoded data removed]",
      "text/plain": [
       "<Figure size 432x288 with 1 Axes>"
      ]
     },
     "metadata": {
      "needs_background": "light"
     },
     "output_type": "display_data"
    }
   ],
   "source": [
    "plt.plot(y_Ns, schmidt_numbers_low)\n",
    "#plt.plot(y_Ns, diff_n_schmidt_numbers)"
   ]
  },
  {
   "cell_type": "markdown",
   "id": "427ef608-e66d-454f-a61c-2be062e0683c",
   "metadata": {},
   "source": [
    "Comparing the Schmidt number, we see that the pump optimized for low gain does not seem to be optimal for high gain."
   ]
  }
 ],
 "metadata": {
  "kernelspec": {
   "display_name": "Python 3 (ipykernel)",
   "language": "python",
   "name": "python3"
  },
  "language_info": {
   "codemirror_mode": {
    "name": "ipython",
    "version": 3
   },
   "file_extension": ".py",
   "mimetype": "text/x-python",
   "name": "python",
   "nbconvert_exporter": "python",
   "pygments_lexer": "ipython3",
   "version": "3.9.7"
  }
 },
 "nbformat": 4,
 "nbformat_minor": 5
}
