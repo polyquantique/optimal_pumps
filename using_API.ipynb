{
 "cells": [
  {
   "cell_type": "markdown",
   "id": "efce0642-7df2-490b-bbdf-5835069111e2",
   "metadata": {},
   "source": [
    "# Finding pumps that give locally optimal spectral purity"
   ]
  },
  {
   "cell_type": "markdown",
   "id": "1cd983ae-e0eb-43d8-846e-f557f09395e0",
   "metadata": {},
   "source": [
    "This notebook showcases a local optimization scheme applied on mode purity for SPDC phenomenon in waveguides. The optimization will use penalty method with the average number of photon pairs generated per pulse as a constraint and the spectral purity of generated pair and the variance of the pump as the objective function. 2 seeds are used; one that is a Hermite polynomial multiplied by a Gaussian and a random vector."
   ]
  },
  {
   "cell_type": "markdown",
   "id": "7ac4d588-83b8-4543-90f9-d83c677703a0",
   "metadata": {},
   "source": [
    "## Theory"
   ]
  },
  {
   "cell_type": "markdown",
   "id": "f3f2ae13-cbec-4d5e-9972-3718848f4c39",
   "metadata": {},
   "source": [
    "The dynamics describing SPDC can be seen as "
   ]
  },
  {
   "cell_type": "markdown",
   "id": "008a8b5f-c156-4c0e-a918-ec61b9ece18e",
   "metadata": {},
   "source": [
    "$\n",
    "\\frac{\\partial }{\\partial z}a_S(z, \\omega) = \\text{i}\\omega \\Delta k_S a_S(z, \\omega) + \\frac{\\text{i}\\gamma (z)}{\\sqrt{2\\pi}}\\int \\beta (\\omega + \\omega ')a_I^\\dagger (z, \\omega ')d\\omega ',\\\\\n",
    "\\frac{\\partial }{\\partial z}a_I^\\dagger(z, \\omega) = -\\text{i}\\omega \\Delta k_I a_I ^\\dagger(z, \\omega) - \\frac{\\text{i}\\gamma ^* (z)}{\\sqrt{2\\pi}}\\int \\beta ^* (\\omega + \\omega ')a_S(z, \\omega),\n",
    "$"
   ]
  },
  {
   "cell_type": "markdown",
   "id": "66cc7787-c2dc-4b4b-8238-838c322132eb",
   "metadata": {},
   "source": [
    "where $\\Delta k_j = \\frac{1}{v_j} - \\frac{1}{v_p}$, where $v_j$ is the group velocity of the mode $j$, $\\omega$ the frequency, $\\beta(\\omega)$ the slowly varying envelope of the pump in frequency domain, $\\gamma (z)$ a tophat function associated to second order nonlinearity and $a_j (z, \\omega)$ the annihilation operator for the mode $j$. The equations can be described by discretization into normal modes as"
   ]
  },
  {
   "cell_type": "markdown",
   "id": "7be24d60-0394-447a-8f03-a65167e21c4e",
   "metadata": {},
   "source": [
    "$\n",
    "\\frac{\\partial}{\\partial z}\\begin{bmatrix}\n",
    "\\bar{a}_S(z, \\omega)\\\\\n",
    "\\bar{a}_I^\\dagger(z, \\omega)\n",
    "\\end{bmatrix}=\n",
    "\\text{i}\\begin{bmatrix}\n",
    "\\Delta k_S \\omega & \\frac{\\text{i}\\gamma}{\\sqrt{2\\pi}}\\beta \\\\\n",
    "-\\frac{\\text{i}\\gamma ^*}{\\sqrt{2\\pi}}\\beta ^\\dagger & -\\Delta k_I \\omega\n",
    "\\end{bmatrix}\n",
    "\\begin{bmatrix}\n",
    "\\bar{a}_S(z, \\omega')\\\\\n",
    "\\bar{a}_I^\\dagger(z, \\omega')\n",
    "\\end{bmatrix} = \\text{i}A\\begin{bmatrix}\n",
    "\\bar{a}_S(z, \\omega')\\\\\n",
    "\\bar{a}_I^\\dagger(z, \\omega')\n",
    "\\end{bmatrix} ,\n",
    "$"
   ]
  },
  {
   "cell_type": "markdown",
   "id": "36f05006-7103-47ab-afef-f29649418ae9",
   "metadata": {},
   "source": [
    "where $\\Delta k_j \\omega$ is a diagonal matrix for both values of $j$ and $\\beta$ a Hankel matrix representing $\\beta (\\omega + \\omega')$. The matrix $A$ is an element of the Lie algebra and is used to generate the propagator associate to the dynamics which will be an element of the group $SU(1,1)$."
   ]
  },
  {
   "cell_type": "markdown",
   "id": "b87edc45-07a4-4163-be66-917a631daa83",
   "metadata": {},
   "source": [
    "The spectral purity of SPDC dynamics in frequency and space domain for a waveguide can be represented by the Schmidt number $K$, which can be expressed by"
   ]
  },
  {
   "cell_type": "markdown",
   "id": "0dffeea1-f738-4f67-a360-ad0367261b93",
   "metadata": {},
   "source": [
    "$\n",
    "\\begin{align}\n",
    "K = \\frac{\\text{Tr}\\left[U_{SI}^*U_{SI}^{T}\\right]^2}{\\text{Tr}\\left[U_{SI}^*U_{SI}^{T}U_{SI}^*U_{SI}^{T}\\right]},\n",
    "\\end{align}\n",
    "$"
   ]
  },
  {
   "cell_type": "markdown",
   "id": "a13cb595-a229-414f-8934-f1c553583499",
   "metadata": {},
   "source": [
    "where $U_{SI}$ is a block of the matrix $U$, which is an element of the group $SU(1,1)$. The constraint that the average photon number pairs is equal to $n$, which in this notebook will be 3, can be written as"
   ]
  },
  {
   "cell_type": "markdown",
   "id": "236c4e70-97d4-4947-b9c0-793c0c6102f2",
   "metadata": {},
   "source": [
    "$\\text{Tr}\\left[U_{SI}^* U_{SI}^T\\right] - n = 0$,"
   ]
  },
  {
   "cell_type": "markdown",
   "id": "a4d1f1a5-38c4-42bd-8684-0c7bab99ffdc",
   "metadata": {},
   "source": [
    "which also used the matrix $U_{SI}$. The matrix $U$ can be obtained by exponentiating $A$ such as"
   ]
  },
  {
   "cell_type": "markdown",
   "id": "fade4716-0342-46a9-8325-299e63f16f6a",
   "metadata": {},
   "source": [
    "$\n",
    "U = \n",
    "\\begin{bmatrix}\n",
    "U_{SS} & U_{SI}\\\\\n",
    "U_{IS}^* & U_{II}^*\n",
    "\\end{bmatrix}\n",
    "=\n",
    "\\text{exp}\\left(\\text{i}\\begin{bmatrix}\n",
    "\\Delta k_S \\omega & \\frac{\\gamma}{\\sqrt{2\\pi}} \\beta \\\\\n",
    "-\\frac{\\gamma ^*}{\\sqrt{2\\pi}}\\beta ^\\dagger & -\\Delta k_I \\omega\n",
    "\\end{bmatrix}\\right).\n",
    "$"
   ]
  },
  {
   "cell_type": "markdown",
   "id": "d2cad23d-334d-4ba7-b093-e74649883126",
   "metadata": {},
   "source": [
    "Supposing that the pump is real in frequency with phase matching conditions, we can see that"
   ]
  },
  {
   "cell_type": "markdown",
   "id": "8c9d8370-19cb-4b08-8c6e-dc6348c294c2",
   "metadata": {},
   "source": [
    "$\n",
    "U = \n",
    "\\text{exp}\\left(\\text{i}\\begin{bmatrix}\n",
    "\\Delta k \\omega & \\frac{\\gamma}{\\sqrt{2\\pi}} \\beta \\\\\n",
    "-\\frac{\\gamma ^*}{\\sqrt{2\\pi}}\\beta & \\Delta k \\omega\n",
    "\\end{bmatrix}\\right),\n",
    "$"
   ]
  },
  {
   "cell_type": "markdown",
   "id": "9fc0066c-0290-42e5-b37c-5f3c7c81d3f4",
   "metadata": {},
   "source": [
    "since the $\\beta$ is a Hankel matrix."
   ]
  },
  {
   "cell_type": "markdown",
   "id": "c2247182-f640-41d6-b2d8-4248914cc8f0",
   "metadata": {},
   "source": [
    "Because the theoretical minimum of the Schmidt number is 1, the objective function becomes $K-1$ and the problem becomes"
   ]
  },
  {
   "cell_type": "markdown",
   "id": "14d30fee-acb2-45ab-a41c-e2628c433231",
   "metadata": {},
   "source": [
    "$\n",
    "\\begin{align}\n",
    "\\text{min} \\ & \\frac{\\text{Tr}\\left[U_{SI}^*U_{SI}^{T}\\right]^2}{\\text{Tr}\\left[U_{SI}^*U_{SI}^{T}U_{SI}^*U_{SI}^{T}\\right]} - 1\\\\\n",
    "\\text{s. c.} \\ & \\text{Tr}\\left[U_{SI}^* U_{SI}^T\\right] - n = 0,\\\\\n",
    "& \\begin{bmatrix}\n",
    "U_{SS} & U_{SI}\\\\\n",
    "U_{IS}^* & U_{II}^*\n",
    "\\end{bmatrix}\n",
    "=\n",
    "\\text{exp}\\left(\\text{i}\\begin{bmatrix}\n",
    "\\Delta k \\omega & \\frac{\\gamma}{\\sqrt{2\\pi}} \\beta \\\\\n",
    "-\\frac{\\gamma ^*}{\\sqrt{2\\pi}}\\beta & \\Delta k \\omega\n",
    "\\end{bmatrix}\\right).\n",
    "\\end{align}\n",
    "$"
   ]
  },
  {
   "cell_type": "markdown",
   "id": "37b5dfbf-3850-4ec4-a56f-0dfeb68f01f7",
   "metadata": {},
   "source": [
    "## Import the libraries "
   ]
  },
  {
   "cell_type": "markdown",
   "id": "d8ae3af7-e4f9-4c07-a588-7120343ce0b0",
   "metadata": {},
   "source": [
    "The library used to generate initial seed, to optimize the spectral purity and to post-process the data are imported."
   ]
  },
  {
   "cell_type": "code",
   "execution_count": 1,
   "id": "0f5f8beb-951c-42d2-80d3-b797f49278ec",
   "metadata": {},
   "outputs": [],
   "source": [
    "import jax.numpy as jnp\n",
    "import jax\n",
    "import jaxopt\n",
    "import numpy as np\n",
    "\n",
    "import matplotlib.pyplot as plt\n",
    "\n",
    "import optimization_SPDC as opt\n",
    "import get_initialization_cond as init\n",
    "\n",
    "key = jax.random.PRNGKey(0)"
   ]
  },
  {
   "cell_type": "markdown",
   "id": "238278f5-4752-4719-942d-1845e3004621",
   "metadata": {},
   "source": [
    "# Set general hyperparameters"
   ]
  },
  {
   "cell_type": "markdown",
   "id": "859584e0-08ee-4658-be01-1fa6a6d8f79e",
   "metadata": {},
   "source": [
    "Hyperparameters are set to generate the propagator describing the dynamics of SPDC and to make the optimization scheme. They include the discretized frequency domain vector, the strength and parameters used to generate the initial pump seed, the group frequency of the pump mode, the length of the nonlinear material and the number of pairs generated per pulse."
   ]
  },
  {
   "cell_type": "code",
   "execution_count": 35,
   "id": "e4651287-a200-4008-a46e-ce865c68271b",
   "metadata": {},
   "outputs": [],
   "source": [
    "Np = 0.01\n",
    "# higher N and wf+wi makes less unstable pump... need to see if N or wf+wi influences more\n",
    "N = 601\n",
    "wi = -10\n",
    "wf = 10\n",
    "x = jnp.linspace(wi, wf, N)\n",
    "freq_range_pump = jnp.linspace(2*wi, 2*wf, 2*N)\n",
    "freq_range_pump_complex = jnp.concatenate((freq_range_pump, freq_range_pump)).reshape(4*N,)\n",
    "vp = 0.1\n",
    "l = 1\n",
    "# Parameters to generate pump seed\n",
    "hermite_order = 2\n",
    "gaussian_amplitude = 0.05\n",
    "gaussian_width = 0.3\n",
    "phase = jnp.pi/5\n",
    "hermite_init_params = [hermite_order, gaussian_amplitude, gaussian_width, phase]\n",
    "cst_init_params = [0.1]\n",
    "y_N = 3"
   ]
  },
  {
   "cell_type": "markdown",
   "id": "f5f1fad3-7eea-4783-a9b4-bd9aaf551b2b",
   "metadata": {},
   "source": [
    "Using the initialization module, the diagonal blocks $\\Delta k_j \\omega$ of the propagator generator are generated as well as the seeds used to effect the optimization scheme"
   ]
  },
  {
   "cell_type": "code",
   "execution_count": 36,
   "id": "cce1f329-4c35-429a-85ce-dad7fd65820c",
   "metadata": {},
   "outputs": [],
   "source": [
    "alpha, G, H = init.get_constants(vp, l, wi, wf, Np, N = N)\n",
    "arbitrary_seed_hermite = init.get_initialization_array(hermite_init_params, vp, l, wi, wf, Np, method='hermite', N = N)\n",
    "random_seed = Np*jax.random.uniform(key, shape=(4*N,))"
   ]
  },
  {
   "cell_type": "markdown",
   "id": "8c716190-9b00-46e7-b3be-d8fc61445d1c",
   "metadata": {},
   "source": [
    "Subgradient descent will be used with a penalty method algorithm on random seed as well as on a Hermitian polynomial multiplied by a Gaussian. The $\\sigma _k$ value will be $3^k$."
   ]
  },
  {
   "cell_type": "code",
   "execution_count": 46,
   "id": "9b48557e-7af9-43ee-94da-ce21eb64c715",
   "metadata": {},
   "outputs": [],
   "source": [
    "solver = jaxopt.PolyakSGD(opt.get_penalty_loss, maxiter=40, verbose = 0, jit = False)"
   ]
  },
  {
   "cell_type": "code",
   "execution_count": 47,
   "id": "e0d703aa-4ac9-4725-aada-d24666472023",
   "metadata": {},
   "outputs": [
    {
     "name": "stdout",
     "output_type": "stream",
     "text": [
      "run 0\n"
     ]
    },
    {
     "ename": "KeyboardInterrupt",
     "evalue": "",
     "output_type": "error",
     "traceback": [
      "\u001b[1;31m---------------------------------------------------------------------------\u001b[0m",
      "\u001b[1;31mKeyboardInterrupt\u001b[0m                         Traceback (most recent call last)",
      "Input \u001b[1;32mIn [47]\u001b[0m, in \u001b[0;36m<cell line: 2>\u001b[1;34m()\u001b[0m\n\u001b[0;32m      2\u001b[0m \u001b[38;5;28;01mfor\u001b[39;00m i \u001b[38;5;129;01min\u001b[39;00m \u001b[38;5;28mrange\u001b[39m(\u001b[38;5;241m25\u001b[39m):\n\u001b[0;32m      3\u001b[0m     \u001b[38;5;28mprint\u001b[39m(\u001b[38;5;124m\"\u001b[39m\u001b[38;5;124mrun \u001b[39m\u001b[38;5;124m\"\u001b[39m \u001b[38;5;241m+\u001b[39m \u001b[38;5;28mstr\u001b[39m(i))\n\u001b[1;32m----> 4\u001b[0m     (pump, state) \u001b[38;5;241m=\u001b[39m \u001b[43msolver\u001b[49m\u001b[38;5;241;43m.\u001b[39;49m\u001b[43mrun\u001b[49m\u001b[43m(\u001b[49m\u001b[43mpump\u001b[49m\u001b[43m,\u001b[49m\u001b[43m \u001b[49m\u001b[43mN\u001b[49m\u001b[43m,\u001b[49m\u001b[43m \u001b[49m\u001b[43malpha\u001b[49m\u001b[43m,\u001b[49m\u001b[43m \u001b[49m\u001b[43mG\u001b[49m\u001b[43m,\u001b[49m\u001b[43m \u001b[49m\u001b[43mH\u001b[49m\u001b[43m,\u001b[49m\u001b[43m \u001b[49m\u001b[43ml\u001b[49m\u001b[43m,\u001b[49m\u001b[43m \u001b[49m\u001b[43my_N\u001b[49m\u001b[43m,\u001b[49m\u001b[43m \u001b[49m\u001b[43mfreq_range_pump\u001b[49m\u001b[43m,\u001b[49m\u001b[43m \u001b[49m\u001b[38;5;241;43m3\u001b[39;49m\u001b[38;5;241;43m*\u001b[39;49m\u001b[38;5;241;43m*\u001b[39;49m\u001b[43mi\u001b[49m\u001b[43m)\u001b[49m\n",
      "File \u001b[1;32m~\\.virtualenvs\\pump_optimization-rAbjnRJu\\lib\\site-packages\\jaxopt\\_src\\base.py:354\u001b[0m, in \u001b[0;36mIterativeSolver.run\u001b[1;34m(self, init_params, *args, **kwargs)\u001b[0m\n\u001b[0;32m    347\u001b[0m   decorator \u001b[38;5;241m=\u001b[39m idf\u001b[38;5;241m.\u001b[39mcustom_root(\n\u001b[0;32m    348\u001b[0m       \u001b[38;5;28mself\u001b[39m\u001b[38;5;241m.\u001b[39moptimality_fun,\n\u001b[0;32m    349\u001b[0m       has_aux\u001b[38;5;241m=\u001b[39m\u001b[38;5;28;01mTrue\u001b[39;00m,\n\u001b[0;32m    350\u001b[0m       solve\u001b[38;5;241m=\u001b[39m\u001b[38;5;28mself\u001b[39m\u001b[38;5;241m.\u001b[39mimplicit_diff_solve,\n\u001b[0;32m    351\u001b[0m       reference_signature\u001b[38;5;241m=\u001b[39mreference_signature)\n\u001b[0;32m    352\u001b[0m   run \u001b[38;5;241m=\u001b[39m decorator(run)\n\u001b[1;32m--> 354\u001b[0m \u001b[38;5;28;01mreturn\u001b[39;00m run(init_params, \u001b[38;5;241m*\u001b[39margs, \u001b[38;5;241m*\u001b[39m\u001b[38;5;241m*\u001b[39mkwargs)\n",
      "File \u001b[1;32m~\\.virtualenvs\\pump_optimization-rAbjnRJu\\lib\\site-packages\\jaxopt\\_src\\base.py:316\u001b[0m, in \u001b[0;36mIterativeSolver._run\u001b[1;34m(self, init_params, *args, **kwargs)\u001b[0m\n\u001b[0;32m    298\u001b[0m \u001b[38;5;66;03m# We unroll the very first iteration. This allows `init_val` and `body_fun`\u001b[39;00m\n\u001b[0;32m    299\u001b[0m \u001b[38;5;66;03m# below to have the same output type, which is a requirement of\u001b[39;00m\n\u001b[0;32m    300\u001b[0m \u001b[38;5;66;03m# lax.while_loop and lax.scan.\u001b[39;00m\n\u001b[1;32m   (...)\u001b[0m\n\u001b[0;32m    311\u001b[0m \u001b[38;5;66;03m# of a `lax.cond` for now in order to avoid staging the initial\u001b[39;00m\n\u001b[0;32m    312\u001b[0m \u001b[38;5;66;03m# update and the run loop. They might not be staging compatible.\u001b[39;00m\n\u001b[0;32m    314\u001b[0m zero_step \u001b[38;5;241m=\u001b[39m \u001b[38;5;28mself\u001b[39m\u001b[38;5;241m.\u001b[39m_make_zero_step(init_params, state)\n\u001b[1;32m--> 316\u001b[0m opt_step \u001b[38;5;241m=\u001b[39m \u001b[38;5;28mself\u001b[39m\u001b[38;5;241m.\u001b[39mupdate(init_params, state, \u001b[38;5;241m*\u001b[39margs, \u001b[38;5;241m*\u001b[39m\u001b[38;5;241m*\u001b[39mkwargs)\n\u001b[0;32m    317\u001b[0m init_val \u001b[38;5;241m=\u001b[39m (opt_step, (args, kwargs))\n\u001b[0;32m    319\u001b[0m jit, unroll \u001b[38;5;241m=\u001b[39m \u001b[38;5;28mself\u001b[39m\u001b[38;5;241m.\u001b[39m_get_loop_options()\n",
      "File \u001b[1;32m~\\.virtualenvs\\pump_optimization-rAbjnRJu\\lib\\site-packages\\jaxopt\\_src\\polyak_sgd.py:176\u001b[0m, in \u001b[0;36mPolyakSGD.update\u001b[1;34m(self, params, state, *args, **kwargs)\u001b[0m\n\u001b[0;32m    173\u001b[0m \u001b[38;5;28;01mif\u001b[39;00m \u001b[38;5;28mself\u001b[39m\u001b[38;5;241m.\u001b[39mpre_update:\n\u001b[0;32m    174\u001b[0m   params, state \u001b[38;5;241m=\u001b[39m \u001b[38;5;28mself\u001b[39m\u001b[38;5;241m.\u001b[39mpre_update(params, state, \u001b[38;5;241m*\u001b[39margs, \u001b[38;5;241m*\u001b[39m\u001b[38;5;241m*\u001b[39mkwargs)\n\u001b[1;32m--> 176\u001b[0m (value, aux), grad \u001b[38;5;241m=\u001b[39m \u001b[38;5;28mself\u001b[39m\u001b[38;5;241m.\u001b[39m_value_and_grad_fun(params, \u001b[38;5;241m*\u001b[39margs, \u001b[38;5;241m*\u001b[39m\u001b[38;5;241m*\u001b[39mkwargs)\n\u001b[0;32m    178\u001b[0m grad_sqnorm \u001b[38;5;241m=\u001b[39m tree_l2_norm(grad, squared\u001b[38;5;241m=\u001b[39m\u001b[38;5;28;01mTrue\u001b[39;00m)\n\u001b[0;32m    179\u001b[0m stepsize \u001b[38;5;241m=\u001b[39m jnp\u001b[38;5;241m.\u001b[39mminimum(value \u001b[38;5;241m/\u001b[39m (grad_sqnorm \u001b[38;5;241m+\u001b[39m \u001b[38;5;28mself\u001b[39m\u001b[38;5;241m.\u001b[39mdelta),\n\u001b[0;32m    180\u001b[0m                        \u001b[38;5;28mself\u001b[39m\u001b[38;5;241m.\u001b[39mmax_stepsize)\n",
      "    \u001b[1;31m[... skipping hidden 1 frame]\u001b[0m\n",
      "File \u001b[1;32m~\\.virtualenvs\\pump_optimization-rAbjnRJu\\lib\\site-packages\\jax\\_src\\api.py:998\u001b[0m, in \u001b[0;36mvalue_and_grad.<locals>.value_and_grad_f\u001b[1;34m(*args, **kwargs)\u001b[0m\n\u001b[0;32m    996\u001b[0m dtype \u001b[38;5;241m=\u001b[39m dtypes\u001b[38;5;241m.\u001b[39mresult_type(ans)\n\u001b[0;32m    997\u001b[0m tree_map(partial(_check_output_dtype_grad, holomorphic), ans)\n\u001b[1;32m--> 998\u001b[0m g \u001b[38;5;241m=\u001b[39m \u001b[43mvjp_py\u001b[49m\u001b[43m(\u001b[49m\u001b[43mnp\u001b[49m\u001b[38;5;241;43m.\u001b[39;49m\u001b[43mones\u001b[49m\u001b[43m(\u001b[49m\u001b[43m(\u001b[49m\u001b[43m)\u001b[49m\u001b[43m,\u001b[49m\u001b[43m \u001b[49m\u001b[43mdtype\u001b[49m\u001b[38;5;241;43m=\u001b[39;49m\u001b[43mdtype\u001b[49m\u001b[43m)\u001b[49m\u001b[43m)\u001b[49m\n\u001b[0;32m    999\u001b[0m g \u001b[38;5;241m=\u001b[39m g[\u001b[38;5;241m0\u001b[39m] \u001b[38;5;28;01mif\u001b[39;00m \u001b[38;5;28misinstance\u001b[39m(argnums, \u001b[38;5;28mint\u001b[39m) \u001b[38;5;28;01melse\u001b[39;00m g\n\u001b[0;32m   1000\u001b[0m \u001b[38;5;28;01mif\u001b[39;00m \u001b[38;5;129;01mnot\u001b[39;00m has_aux:\n",
      "File \u001b[1;32m~\\.virtualenvs\\pump_optimization-rAbjnRJu\\lib\\site-packages\\jax\\_src\\tree_util.py:323\u001b[0m, in \u001b[0;36mPartial.__new__.<locals>.<lambda>\u001b[1;34m(*args, **kw)\u001b[0m\n\u001b[0;32m    321\u001b[0m \u001b[38;5;28;01mif\u001b[39;00m \u001b[38;5;28misinstance\u001b[39m(func, functools\u001b[38;5;241m.\u001b[39mpartial):\n\u001b[0;32m    322\u001b[0m   original_func \u001b[38;5;241m=\u001b[39m func\n\u001b[1;32m--> 323\u001b[0m   func \u001b[38;5;241m=\u001b[39m \u001b[38;5;28;01mlambda\u001b[39;00m \u001b[38;5;241m*\u001b[39margs, \u001b[38;5;241m*\u001b[39m\u001b[38;5;241m*\u001b[39mkw: original_func(\u001b[38;5;241m*\u001b[39margs, \u001b[38;5;241m*\u001b[39m\u001b[38;5;241m*\u001b[39mkw)\n\u001b[0;32m    324\u001b[0m   func\u001b[38;5;241m.\u001b[39mfunc \u001b[38;5;241m=\u001b[39m original_func\u001b[38;5;241m.\u001b[39mfunc\n\u001b[0;32m    325\u001b[0m   func\u001b[38;5;241m.\u001b[39margs \u001b[38;5;241m=\u001b[39m original_func\u001b[38;5;241m.\u001b[39margs\n",
      "File \u001b[1;32m~\\.virtualenvs\\pump_optimization-rAbjnRJu\\lib\\site-packages\\jax\\_src\\api.py:2172\u001b[0m, in \u001b[0;36m_vjp_pullback_wrapper\u001b[1;34m(cotangent_dtypes, cotangent_shapes, io_tree, fun, py_args)\u001b[0m\n\u001b[0;32m   2167\u001b[0m   \u001b[38;5;28;01mif\u001b[39;00m np\u001b[38;5;241m.\u001b[39mshape(arg) \u001b[38;5;241m!=\u001b[39m ct_shape:\n\u001b[0;32m   2168\u001b[0m     \u001b[38;5;28;01mraise\u001b[39;00m \u001b[38;5;167;01mValueError\u001b[39;00m(\n\u001b[0;32m   2169\u001b[0m         \u001b[38;5;124mf\u001b[39m\u001b[38;5;124m\"\u001b[39m\u001b[38;5;124mShape of cotangent input to vjp pullback function \u001b[39m\u001b[38;5;132;01m{\u001b[39;00mnp\u001b[38;5;241m.\u001b[39mshape(arg)\u001b[38;5;132;01m}\u001b[39;00m\u001b[38;5;124m \u001b[39m\u001b[38;5;124m\"\u001b[39m\n\u001b[0;32m   2170\u001b[0m         \u001b[38;5;124m\"\u001b[39m\u001b[38;5;124mmust be the same as the shape of corresponding primal input \u001b[39m\u001b[38;5;124m\"\u001b[39m\n\u001b[0;32m   2171\u001b[0m         \u001b[38;5;124mf\u001b[39m\u001b[38;5;124m\"\u001b[39m\u001b[38;5;132;01m{\u001b[39;00mct_shape\u001b[38;5;132;01m}\u001b[39;00m\u001b[38;5;124m.\u001b[39m\u001b[38;5;124m\"\u001b[39m)\n\u001b[1;32m-> 2172\u001b[0m ans \u001b[38;5;241m=\u001b[39m \u001b[43mfun\u001b[49m\u001b[43m(\u001b[49m\u001b[38;5;241;43m*\u001b[39;49m\u001b[43margs\u001b[49m\u001b[43m)\u001b[49m\n\u001b[0;32m   2173\u001b[0m \u001b[38;5;28;01mreturn\u001b[39;00m tree_unflatten(out_tree, ans)\n",
      "File \u001b[1;32m~\\.virtualenvs\\pump_optimization-rAbjnRJu\\lib\\site-packages\\jax\\_src\\tree_util.py:323\u001b[0m, in \u001b[0;36mPartial.__new__.<locals>.<lambda>\u001b[1;34m(*args, **kw)\u001b[0m\n\u001b[0;32m    321\u001b[0m \u001b[38;5;28;01mif\u001b[39;00m \u001b[38;5;28misinstance\u001b[39m(func, functools\u001b[38;5;241m.\u001b[39mpartial):\n\u001b[0;32m    322\u001b[0m   original_func \u001b[38;5;241m=\u001b[39m func\n\u001b[1;32m--> 323\u001b[0m   func \u001b[38;5;241m=\u001b[39m \u001b[38;5;28;01mlambda\u001b[39;00m \u001b[38;5;241m*\u001b[39margs, \u001b[38;5;241m*\u001b[39m\u001b[38;5;241m*\u001b[39mkw: original_func(\u001b[38;5;241m*\u001b[39margs, \u001b[38;5;241m*\u001b[39m\u001b[38;5;241m*\u001b[39mkw)\n\u001b[0;32m    324\u001b[0m   func\u001b[38;5;241m.\u001b[39mfunc \u001b[38;5;241m=\u001b[39m original_func\u001b[38;5;241m.\u001b[39mfunc\n\u001b[0;32m    325\u001b[0m   func\u001b[38;5;241m.\u001b[39margs \u001b[38;5;241m=\u001b[39m original_func\u001b[38;5;241m.\u001b[39margs\n",
      "File \u001b[1;32m~\\.virtualenvs\\pump_optimization-rAbjnRJu\\lib\\site-packages\\jax\\interpreters\\ad.py:123\u001b[0m, in \u001b[0;36mvjp.<locals>.unbound_vjp\u001b[1;34m(pvals, jaxpr, consts, *cts)\u001b[0m\n\u001b[0;32m    121\u001b[0m cts \u001b[38;5;241m=\u001b[39m \u001b[38;5;28mtuple\u001b[39m(\u001b[38;5;28mmap\u001b[39m(ignore_consts, cts, pvals))\n\u001b[0;32m    122\u001b[0m dummy_args \u001b[38;5;241m=\u001b[39m [UndefinedPrimal(v\u001b[38;5;241m.\u001b[39maval) \u001b[38;5;28;01mfor\u001b[39;00m v \u001b[38;5;129;01min\u001b[39;00m jaxpr\u001b[38;5;241m.\u001b[39minvars]\n\u001b[1;32m--> 123\u001b[0m arg_cts \u001b[38;5;241m=\u001b[39m \u001b[43mbackward_pass\u001b[49m\u001b[43m(\u001b[49m\u001b[43mjaxpr\u001b[49m\u001b[43m,\u001b[49m\u001b[43m \u001b[49m\u001b[43mreduce_axes\u001b[49m\u001b[43m,\u001b[49m\u001b[43m \u001b[49m\u001b[43mconsts\u001b[49m\u001b[43m,\u001b[49m\u001b[43m \u001b[49m\u001b[43mdummy_args\u001b[49m\u001b[43m,\u001b[49m\u001b[43m \u001b[49m\u001b[43mcts\u001b[49m\u001b[43m)\u001b[49m\n\u001b[0;32m    124\u001b[0m \u001b[38;5;28;01mreturn\u001b[39;00m \u001b[38;5;28mmap\u001b[39m(instantiate_zeros, arg_cts)\n",
      "File \u001b[1;32m~\\.virtualenvs\\pump_optimization-rAbjnRJu\\lib\\site-packages\\jax\\interpreters\\ad.py:222\u001b[0m, in \u001b[0;36mbackward_pass\u001b[1;34m(jaxpr, reduce_axes, consts, primals_in, cotangents_in)\u001b[0m\n\u001b[0;32m    220\u001b[0m   cts_in_avals \u001b[38;5;241m=\u001b[39m [v\u001b[38;5;241m.\u001b[39maval \u001b[38;5;28;01mfor\u001b[39;00m v \u001b[38;5;129;01min\u001b[39;00m eqn\u001b[38;5;241m.\u001b[39moutvars]\n\u001b[0;32m    221\u001b[0m   call_jaxpr, params \u001b[38;5;241m=\u001b[39m core\u001b[38;5;241m.\u001b[39mextract_call_jaxpr(eqn\u001b[38;5;241m.\u001b[39mprimitive, eqn\u001b[38;5;241m.\u001b[39mparams)\n\u001b[1;32m--> 222\u001b[0m   cts_out \u001b[38;5;241m=\u001b[39m \u001b[43mget_primitive_transpose\u001b[49m\u001b[43m(\u001b[49m\u001b[43meqn\u001b[49m\u001b[38;5;241;43m.\u001b[39;49m\u001b[43mprimitive\u001b[49m\u001b[43m)\u001b[49m\u001b[43m(\u001b[49m\n\u001b[0;32m    223\u001b[0m \u001b[43m      \u001b[49m\u001b[43mparams\u001b[49m\u001b[43m,\u001b[49m\u001b[43m \u001b[49m\u001b[43mcall_jaxpr\u001b[49m\u001b[43m,\u001b[49m\u001b[43m \u001b[49m\u001b[43minvals\u001b[49m\u001b[43m,\u001b[49m\u001b[43m \u001b[49m\u001b[43mcts_in\u001b[49m\u001b[43m,\u001b[49m\u001b[43m \u001b[49m\u001b[43mcts_in_avals\u001b[49m\u001b[43m,\u001b[49m\u001b[43m \u001b[49m\u001b[43mreduce_axes\u001b[49m\u001b[43m)\u001b[49m\n\u001b[0;32m    224\u001b[0m \u001b[38;5;28;01melif\u001b[39;00m eqn\u001b[38;5;241m.\u001b[39mprimitive \u001b[38;5;129;01min\u001b[39;00m reducing_transposes:\n\u001b[0;32m    225\u001b[0m   cts_out \u001b[38;5;241m=\u001b[39m reducing_transposes[eqn\u001b[38;5;241m.\u001b[39mprimitive](\n\u001b[0;32m    226\u001b[0m       reduce_axes, cts_in, \u001b[38;5;241m*\u001b[39minvals, \u001b[38;5;241m*\u001b[39m\u001b[38;5;241m*\u001b[39meqn\u001b[38;5;241m.\u001b[39mparams)\n",
      "File \u001b[1;32m~\\.virtualenvs\\pump_optimization-rAbjnRJu\\lib\\site-packages\\jax\\interpreters\\ad.py:558\u001b[0m, in \u001b[0;36mcall_transpose\u001b[1;34m(primitive, params, call_jaxpr, args, ct, _, reduce_axes)\u001b[0m\n\u001b[0;32m    555\u001b[0m \u001b[38;5;28;01mif\u001b[39;00m update_params:\n\u001b[0;32m    556\u001b[0m   new_params \u001b[38;5;241m=\u001b[39m update_params(new_params, \u001b[38;5;28mmap\u001b[39m(is_undefined_primal, args),\n\u001b[0;32m    557\u001b[0m                              [\u001b[38;5;28mtype\u001b[39m(x) \u001b[38;5;129;01mis\u001b[39;00m \u001b[38;5;129;01mnot\u001b[39;00m Zero \u001b[38;5;28;01mfor\u001b[39;00m x \u001b[38;5;129;01min\u001b[39;00m ct])\n\u001b[1;32m--> 558\u001b[0m out_flat \u001b[38;5;241m=\u001b[39m primitive\u001b[38;5;241m.\u001b[39mbind(fun, \u001b[38;5;241m*\u001b[39mall_args, \u001b[38;5;241m*\u001b[39m\u001b[38;5;241m*\u001b[39mnew_params)\n\u001b[0;32m    559\u001b[0m \u001b[38;5;28;01mreturn\u001b[39;00m tree_unflatten(out_tree(), out_flat)\n",
      "File \u001b[1;32m~\\.virtualenvs\\pump_optimization-rAbjnRJu\\lib\\site-packages\\jax\\core.py:1639\u001b[0m, in \u001b[0;36mCallPrimitive.bind\u001b[1;34m(self, fun, *args, **params)\u001b[0m\n\u001b[0;32m   1638\u001b[0m \u001b[38;5;28;01mdef\u001b[39;00m \u001b[38;5;21mbind\u001b[39m(\u001b[38;5;28mself\u001b[39m, fun, \u001b[38;5;241m*\u001b[39margs, \u001b[38;5;241m*\u001b[39m\u001b[38;5;241m*\u001b[39mparams):\n\u001b[1;32m-> 1639\u001b[0m   \u001b[38;5;28;01mreturn\u001b[39;00m call_bind(\u001b[38;5;28mself\u001b[39m, fun, \u001b[38;5;241m*\u001b[39margs, \u001b[38;5;241m*\u001b[39m\u001b[38;5;241m*\u001b[39mparams)\n",
      "File \u001b[1;32m~\\.virtualenvs\\pump_optimization-rAbjnRJu\\lib\\site-packages\\jax\\core.py:1630\u001b[0m, in \u001b[0;36mcall_bind\u001b[1;34m(primitive, fun, *args, **params)\u001b[0m\n\u001b[0;32m   1626\u001b[0m fun, env_trace_todo \u001b[38;5;241m=\u001b[39m process_env_traces(\n\u001b[0;32m   1627\u001b[0m     fun, primitive, top_trace \u001b[38;5;129;01mand\u001b[39;00m top_trace\u001b[38;5;241m.\u001b[39mlevel,\n\u001b[0;32m   1628\u001b[0m     params_tuple, out_axes_transforms)\n\u001b[0;32m   1629\u001b[0m tracers \u001b[38;5;241m=\u001b[39m \u001b[38;5;28mmap\u001b[39m(top_trace\u001b[38;5;241m.\u001b[39mfull_raise, args)\n\u001b[1;32m-> 1630\u001b[0m outs \u001b[38;5;241m=\u001b[39m \u001b[43mprimitive\u001b[49m\u001b[38;5;241;43m.\u001b[39;49m\u001b[43mprocess\u001b[49m\u001b[43m(\u001b[49m\u001b[43mtop_trace\u001b[49m\u001b[43m,\u001b[49m\u001b[43m \u001b[49m\u001b[43mfun\u001b[49m\u001b[43m,\u001b[49m\u001b[43m \u001b[49m\u001b[43mtracers\u001b[49m\u001b[43m,\u001b[49m\u001b[43m \u001b[49m\u001b[43mparams\u001b[49m\u001b[43m)\u001b[49m\n\u001b[0;32m   1631\u001b[0m \u001b[38;5;28;01mreturn\u001b[39;00m \u001b[38;5;28mmap\u001b[39m(full_lower, apply_todos(env_trace_todo(), outs))\n",
      "File \u001b[1;32m~\\.virtualenvs\\pump_optimization-rAbjnRJu\\lib\\site-packages\\jax\\core.py:1642\u001b[0m, in \u001b[0;36mCallPrimitive.process\u001b[1;34m(self, trace, fun, tracers, params)\u001b[0m\n\u001b[0;32m   1641\u001b[0m \u001b[38;5;28;01mdef\u001b[39;00m \u001b[38;5;21mprocess\u001b[39m(\u001b[38;5;28mself\u001b[39m, trace, fun, tracers, params):\n\u001b[1;32m-> 1642\u001b[0m   \u001b[38;5;28;01mreturn\u001b[39;00m \u001b[43mtrace\u001b[49m\u001b[38;5;241;43m.\u001b[39;49m\u001b[43mprocess_call\u001b[49m\u001b[43m(\u001b[49m\u001b[38;5;28;43mself\u001b[39;49m\u001b[43m,\u001b[49m\u001b[43m \u001b[49m\u001b[43mfun\u001b[49m\u001b[43m,\u001b[49m\u001b[43m \u001b[49m\u001b[43mtracers\u001b[49m\u001b[43m,\u001b[49m\u001b[43m \u001b[49m\u001b[43mparams\u001b[49m\u001b[43m)\u001b[49m\n",
      "File \u001b[1;32m~\\.virtualenvs\\pump_optimization-rAbjnRJu\\lib\\site-packages\\jax\\core.py:631\u001b[0m, in \u001b[0;36mEvalTrace.process_call\u001b[1;34m(self, primitive, f, tracers, params)\u001b[0m\n\u001b[0;32m    630\u001b[0m \u001b[38;5;28;01mdef\u001b[39;00m \u001b[38;5;21mprocess_call\u001b[39m(\u001b[38;5;28mself\u001b[39m, primitive, f, tracers, params):\n\u001b[1;32m--> 631\u001b[0m   \u001b[38;5;28;01mreturn\u001b[39;00m primitive\u001b[38;5;241m.\u001b[39mimpl(f, \u001b[38;5;241m*\u001b[39mtracers, \u001b[38;5;241m*\u001b[39m\u001b[38;5;241m*\u001b[39mparams)\n",
      "File \u001b[1;32m~\\.virtualenvs\\pump_optimization-rAbjnRJu\\lib\\site-packages\\jax\\interpreters\\xla.py:624\u001b[0m, in \u001b[0;36m_xla_call_impl\u001b[1;34m(***failed resolving arguments***)\u001b[0m\n\u001b[0;32m    621\u001b[0m \u001b[38;5;28;01mdef\u001b[39;00m \u001b[38;5;21m_xla_call_impl\u001b[39m(fun: lu\u001b[38;5;241m.\u001b[39mWrappedFun, \u001b[38;5;241m*\u001b[39margs, device, backend, name,\n\u001b[0;32m    622\u001b[0m                    donated_invars, inline):\n\u001b[0;32m    623\u001b[0m   \u001b[38;5;28;01mdel\u001b[39;00m inline  \u001b[38;5;66;03m# Only used at tracing time\u001b[39;00m\n\u001b[1;32m--> 624\u001b[0m   compiled_fun \u001b[38;5;241m=\u001b[39m \u001b[43m_xla_callable\u001b[49m\u001b[43m(\u001b[49m\u001b[43mfun\u001b[49m\u001b[43m,\u001b[49m\u001b[43m \u001b[49m\u001b[43mdevice\u001b[49m\u001b[43m,\u001b[49m\u001b[43m \u001b[49m\u001b[43mbackend\u001b[49m\u001b[43m,\u001b[49m\u001b[43m \u001b[49m\u001b[43mname\u001b[49m\u001b[43m,\u001b[49m\u001b[43m \u001b[49m\u001b[43mdonated_invars\u001b[49m\u001b[43m,\u001b[49m\n\u001b[0;32m    625\u001b[0m \u001b[43m                               \u001b[49m\u001b[38;5;241;43m*\u001b[39;49m\u001b[43munsafe_map\u001b[49m\u001b[43m(\u001b[49m\u001b[43marg_spec\u001b[49m\u001b[43m,\u001b[49m\u001b[43m \u001b[49m\u001b[43margs\u001b[49m\u001b[43m)\u001b[49m\u001b[43m)\u001b[49m\n\u001b[0;32m    626\u001b[0m   \u001b[38;5;28;01mtry\u001b[39;00m:\n\u001b[0;32m    627\u001b[0m     out \u001b[38;5;241m=\u001b[39m compiled_fun(\u001b[38;5;241m*\u001b[39margs)\n",
      "File \u001b[1;32m~\\.virtualenvs\\pump_optimization-rAbjnRJu\\lib\\site-packages\\jax\\linear_util.py:263\u001b[0m, in \u001b[0;36mcache.<locals>.memoized_fun\u001b[1;34m(fun, *args)\u001b[0m\n\u001b[0;32m    261\u001b[0m   fun\u001b[38;5;241m.\u001b[39mpopulate_stores(stores)\n\u001b[0;32m    262\u001b[0m \u001b[38;5;28;01melse\u001b[39;00m:\n\u001b[1;32m--> 263\u001b[0m   ans \u001b[38;5;241m=\u001b[39m \u001b[43mcall\u001b[49m\u001b[43m(\u001b[49m\u001b[43mfun\u001b[49m\u001b[43m,\u001b[49m\u001b[43m \u001b[49m\u001b[38;5;241;43m*\u001b[39;49m\u001b[43margs\u001b[49m\u001b[43m)\u001b[49m\n\u001b[0;32m    264\u001b[0m   cache[key] \u001b[38;5;241m=\u001b[39m (ans, fun\u001b[38;5;241m.\u001b[39mstores)\n\u001b[0;32m    266\u001b[0m thread_local\u001b[38;5;241m.\u001b[39mmost_recent_entry \u001b[38;5;241m=\u001b[39m weakref\u001b[38;5;241m.\u001b[39mref(ans)\n",
      "File \u001b[1;32m~\\.virtualenvs\\pump_optimization-rAbjnRJu\\lib\\site-packages\\jax\\interpreters\\xla.py:696\u001b[0m, in \u001b[0;36m_xla_callable\u001b[1;34m(fun, device, backend, name, donated_invars, *arg_specs)\u001b[0m\n\u001b[0;32m    694\u001b[0m \u001b[38;5;129m@lu\u001b[39m\u001b[38;5;241m.\u001b[39mcache\n\u001b[0;32m    695\u001b[0m \u001b[38;5;28;01mdef\u001b[39;00m \u001b[38;5;21m_xla_callable\u001b[39m(fun: lu\u001b[38;5;241m.\u001b[39mWrappedFun, device, backend, name, donated_invars, \u001b[38;5;241m*\u001b[39marg_specs):\n\u001b[1;32m--> 696\u001b[0m   \u001b[38;5;28;01mreturn\u001b[39;00m \u001b[43mlower_xla_callable\u001b[49m\u001b[43m(\u001b[49m\u001b[43mfun\u001b[49m\u001b[43m,\u001b[49m\u001b[43m \u001b[49m\u001b[43mdevice\u001b[49m\u001b[43m,\u001b[49m\u001b[43m \u001b[49m\u001b[43mbackend\u001b[49m\u001b[43m,\u001b[49m\u001b[43m \u001b[49m\u001b[43mname\u001b[49m\u001b[43m,\u001b[49m\u001b[43m \u001b[49m\u001b[43mdonated_invars\u001b[49m\u001b[43m,\u001b[49m\u001b[43m \u001b[49m\u001b[38;5;241;43m*\u001b[39;49m\u001b[43marg_specs\u001b[49m\u001b[43m)\u001b[49m\u001b[38;5;241;43m.\u001b[39;49m\u001b[43mcompile\u001b[49m\u001b[43m(\u001b[49m\u001b[43m)\u001b[49m\u001b[38;5;241m.\u001b[39munsafe_call\n",
      "File \u001b[1;32m~\\.virtualenvs\\pump_optimization-rAbjnRJu\\lib\\site-packages\\jax\\interpreters\\xla.py:797\u001b[0m, in \u001b[0;36mXlaComputation.compile\u001b[1;34m(self)\u001b[0m\n\u001b[0;32m    794\u001b[0m     \u001b[38;5;28mself\u001b[39m\u001b[38;5;241m.\u001b[39m_executable \u001b[38;5;241m=\u001b[39m XlaCompiledComputation\u001b[38;5;241m.\u001b[39mfrom_trivial_jaxpr(\n\u001b[0;32m    795\u001b[0m         \u001b[38;5;241m*\u001b[39m\u001b[38;5;28mself\u001b[39m\u001b[38;5;241m.\u001b[39mcompile_args)\n\u001b[0;32m    796\u001b[0m   \u001b[38;5;28;01melse\u001b[39;00m:\n\u001b[1;32m--> 797\u001b[0m     \u001b[38;5;28mself\u001b[39m\u001b[38;5;241m.\u001b[39m_executable \u001b[38;5;241m=\u001b[39m \u001b[43mXlaCompiledComputation\u001b[49m\u001b[38;5;241;43m.\u001b[39;49m\u001b[43mfrom_xla_computation\u001b[49m\u001b[43m(\u001b[49m\n\u001b[0;32m    798\u001b[0m \u001b[43m        \u001b[49m\u001b[38;5;28;43mself\u001b[39;49m\u001b[38;5;241;43m.\u001b[39;49m\u001b[43mhlo\u001b[49m\u001b[43m(\u001b[49m\u001b[43m)\u001b[49m\u001b[43m,\u001b[49m\u001b[43m \u001b[49m\u001b[38;5;241;43m*\u001b[39;49m\u001b[38;5;28;43mself\u001b[39;49m\u001b[38;5;241;43m.\u001b[39;49m\u001b[43mcompile_args\u001b[49m\u001b[43m)\u001b[49m\n\u001b[0;32m    799\u001b[0m \u001b[38;5;28;01mreturn\u001b[39;00m \u001b[38;5;28mself\u001b[39m\u001b[38;5;241m.\u001b[39m_executable\n",
      "File \u001b[1;32m~\\.virtualenvs\\pump_optimization-rAbjnRJu\\lib\\site-packages\\jax\\interpreters\\xla.py:822\u001b[0m, in \u001b[0;36mXlaCompiledComputation.from_xla_computation\u001b[1;34m(xla_computation, nreps, device, backend, tuple_args, out_avals, kept_var_idx)\u001b[0m\n\u001b[0;32m    817\u001b[0m options \u001b[38;5;241m=\u001b[39m xb\u001b[38;5;241m.\u001b[39mget_compile_options(\n\u001b[0;32m    818\u001b[0m     num_replicas\u001b[38;5;241m=\u001b[39mnreps,\n\u001b[0;32m    819\u001b[0m     num_partitions\u001b[38;5;241m=\u001b[39m\u001b[38;5;241m1\u001b[39m,\n\u001b[0;32m    820\u001b[0m     device_assignment\u001b[38;5;241m=\u001b[39m(device\u001b[38;5;241m.\u001b[39mid,) \u001b[38;5;28;01mif\u001b[39;00m device \u001b[38;5;28;01melse\u001b[39;00m \u001b[38;5;28;01mNone\u001b[39;00m)\n\u001b[0;32m    821\u001b[0m options\u001b[38;5;241m.\u001b[39mparameter_is_tupled_arguments \u001b[38;5;241m=\u001b[39m tuple_args\n\u001b[1;32m--> 822\u001b[0m compiled \u001b[38;5;241m=\u001b[39m \u001b[43mcompile_or_get_cached\u001b[49m\u001b[43m(\u001b[49m\u001b[43mbackend\u001b[49m\u001b[43m,\u001b[49m\u001b[43m \u001b[49m\u001b[43mxla_computation\u001b[49m\u001b[43m,\u001b[49m\u001b[43m \u001b[49m\u001b[43moptions\u001b[49m\u001b[43m)\u001b[49m\n\u001b[0;32m    823\u001b[0m \u001b[38;5;28;01mif\u001b[39;00m nreps \u001b[38;5;241m==\u001b[39m \u001b[38;5;241m1\u001b[39m:\n\u001b[0;32m    824\u001b[0m   \u001b[38;5;28;01mreturn\u001b[39;00m XlaCompiledComputation(compiled, partial(\n\u001b[0;32m    825\u001b[0m       _execute_compiled, compiled, out_avals, result_handlers, kept_var_idx))\n",
      "File \u001b[1;32m~\\.virtualenvs\\pump_optimization-rAbjnRJu\\lib\\site-packages\\jax\\interpreters\\xla.py:83\u001b[0m, in \u001b[0;36mcompile_or_get_cached\u001b[1;34m(backend, computation, compile_options)\u001b[0m\n\u001b[0;32m     81\u001b[0m         cc\u001b[38;5;241m.\u001b[39mput_executable(computation, compile_options, compiled, backend)\n\u001b[0;32m     82\u001b[0m         \u001b[38;5;28;01mreturn\u001b[39;00m compiled\n\u001b[1;32m---> 83\u001b[0m \u001b[38;5;28;01mreturn\u001b[39;00m \u001b[43mbackend_compile\u001b[49m\u001b[43m(\u001b[49m\u001b[43mbackend\u001b[49m\u001b[43m,\u001b[49m\u001b[43m \u001b[49m\u001b[43mcomputation\u001b[49m\u001b[43m,\u001b[49m\u001b[43m \u001b[49m\u001b[43mcompile_options\u001b[49m\u001b[43m)\u001b[49m\n",
      "File \u001b[1;32m~\\.virtualenvs\\pump_optimization-rAbjnRJu\\lib\\site-packages\\jax\\interpreters\\xla.py:389\u001b[0m, in \u001b[0;36mbackend_compile\u001b[1;34m(backend, built_c, options)\u001b[0m\n\u001b[0;32m    386\u001b[0m \u001b[38;5;28;01mdef\u001b[39;00m \u001b[38;5;21mbackend_compile\u001b[39m(backend, built_c, options):\n\u001b[0;32m    387\u001b[0m   \u001b[38;5;66;03m# we use a separate function call to ensure that XLA compilation appears\u001b[39;00m\n\u001b[0;32m    388\u001b[0m   \u001b[38;5;66;03m# separately in Python profiling results\u001b[39;00m\n\u001b[1;32m--> 389\u001b[0m   \u001b[38;5;28;01mreturn\u001b[39;00m \u001b[43mbackend\u001b[49m\u001b[38;5;241;43m.\u001b[39;49m\u001b[43mcompile\u001b[49m\u001b[43m(\u001b[49m\u001b[43mbuilt_c\u001b[49m\u001b[43m,\u001b[49m\u001b[43m \u001b[49m\u001b[43mcompile_options\u001b[49m\u001b[38;5;241;43m=\u001b[39;49m\u001b[43moptions\u001b[49m\u001b[43m)\u001b[49m\n",
      "\u001b[1;31mKeyboardInterrupt\u001b[0m: "
     ]
    }
   ],
   "source": [
    "pump = random_seed.copy()\n",
    "for i in range(25):\n",
    "    print(\"run \" + str(i))\n",
    "    (pump, state) = solver.run(pump, N, alpha, G, H, l, y_N, freq_range_pump, 3**i)"
   ]
  },
  {
   "cell_type": "markdown",
   "id": "e67d1cec-e1bc-4612-9d52-a2465b9e1f1e",
   "metadata": {},
   "source": [
    "Now, let us see what happens if we were to use the Hermitian polynomial multiplied with the Gaussian instead. "
   ]
  },
  {
   "cell_type": "code",
   "execution_count": null,
   "id": "bff69372-d55f-444c-b3a7-6cbd90e75264",
   "metadata": {},
   "outputs": [],
   "source": [
    "hermitian_pump = arbitrary_seed_hermite.copy()\n",
    "for i in range(20):\n",
    "    print(\"run \" + str(i))\n",
    "    (hermitian_pump, state) = solver.run(hermitian_pump, N, alpha, G, H, l, y_N, freq_range_pump, 3**i)"
   ]
  },
  {
   "cell_type": "markdown",
   "id": "1004fc4f-11cc-45aa-b0a8-293a332f1507",
   "metadata": {},
   "source": [
    "Here we will plot out the absolute value of the optimal pump when the seed is random and when the seed is a Hermitian polynomial multiplied by a Gaussian"
   ]
  },
  {
   "cell_type": "code",
   "execution_count": null,
   "id": "107b99f0-82a0-4b79-a8c1-933de3635062",
   "metadata": {},
   "outputs": [],
   "source": [
    "abs_pump = jnp.abs(opt.get_complex_array(pump))\n",
    "abs_hermit_pump = jnp.abs(opt.get_complex_array(hermitian_pump))\n",
    "phase_pump = jnp.angle(opt.get_complex_array(pump))\n",
    "phase_hermit_pump = jnp.angle(opt.get_complex_array(hermitian_pump))\n",
    "display_plot = [abs_pump, abs_hermit_pump, phase_pump, phase_hermit_pump]\n",
    "display_leg = [\"absolute value with random pump\", \"absolute value with Hermitian pump\", \"phase value with random pump\", \"phase value with Hermitian pump\"]"
   ]
  },
  {
   "cell_type": "code",
   "execution_count": null,
   "id": "71cc5ca6-1cbc-4b8f-8d00-cf40f8a5700c",
   "metadata": {},
   "outputs": [],
   "source": [
    "import display_res as disp\n",
    "\n",
    "disp.plot_pump(display_plot, freq_range_pump, display_leg)"
   ]
  },
  {
   "cell_type": "markdown",
   "id": "58be5d3e-c4d3-42d4-a3a3-bea88dafc07a",
   "metadata": {},
   "source": [
    "And the purity for the optimal pump with random seed and Hermitian seed are respectively"
   ]
  },
  {
   "cell_type": "code",
   "execution_count": null,
   "id": "18deb2d9-58bc-4414-a6fd-6d8d07e274e6",
   "metadata": {},
   "outputs": [],
   "source": [
    "print(\"Schmidt number with random seed: \", opt.get_observables(pump, N, alpha, G, H, l)[1])\n",
    "print(\"Mean photon pair number with random seed: \", opt.get_observables(pump, N, alpha, G, H, l)[0])\n",
    "print(\"Schmidt number with Hermitian seed: \", opt.get_observables(hermitian_pump, N, alpha, G, H, l)[1])\n",
    "print(\"Mean photon pair number with Hermitian seed: \", opt.get_observables(hermitian_pump, N, alpha, G, H, l)[0])"
   ]
  },
  {
   "cell_type": "code",
   "execution_count": null,
   "id": "bf8ddad1-5d56-4755-ad67-de18bc7f2fad",
   "metadata": {},
   "outputs": [],
   "source": []
  },
  {
   "cell_type": "markdown",
   "id": "d657b4b3-a086-4fa7-a0c4-d5c40bd3f086",
   "metadata": {},
   "source": [
    "We can see that after optimization, the absolute value of the optimal pump initialized with random seed and Hermitian seed overlap. This overlapping shape also looks Gaussian. One would then be led to believe 2 things; first that the lower bound on the Schmidt number for an average pair number per pulse of 3 is 1.12 and second that the optimal pump seems to be Gaussian. Let us see if the second point hold."
   ]
  },
  {
   "cell_type": "markdown",
   "id": "34af9aca-52b2-4713-bd57-d627c90ef61f",
   "metadata": {},
   "source": [
    "## Optimization of a Gaussian"
   ]
  },
  {
   "cell_type": "markdown",
   "id": "1b06ce83-4f31-4cee-afa2-ee5584a6b245",
   "metadata": {},
   "source": [
    "Now, suppose the optimal pump is truly Gaussian, only 3 parameters are needed, which are the amplitude of the Gaussian, its width and the phase for a complex pump. Let us generate the seeds for these 3 parameters. First, we need to import the modules to realize the optimization scheme."
   ]
  },
  {
   "cell_type": "code",
   "execution_count": 4,
   "id": "b2444daa-2e75-4309-90dc-ff1cda1f9e18",
   "metadata": {},
   "outputs": [],
   "source": [
    "import optimization_SPDC_gaussain_pump as opt_gauss"
   ]
  },
  {
   "cell_type": "markdown",
   "id": "e405174a-429e-4799-8a7d-09cba70d7841",
   "metadata": {},
   "source": [
    "Now, let us use the same parameters for the Gaussian seed to generate an optimization scheme restricted to Gaussian pumps and the same solver as before with penalty method."
   ]
  },
  {
   "cell_type": "code",
   "execution_count": 5,
   "id": "2dbff652-d96f-4a1f-8a97-f9a72ef99df9",
   "metadata": {},
   "outputs": [],
   "source": [
    "params = [gaussian_amplitude, gaussian_width, phase]\n",
    "gauss_solver = jaxopt.PolyakSGD(opt_gauss.get_penalty_loss, maxiter=60, jit= False)\n",
    "theta = params.copy()\n",
    "for i in range(15):\n",
    "    print(\"run number \" + str(i))\n",
    "    (theta, state) = gauss_solver.run(theta, freq_range_pump, alpha, G, H, l, y_N, 3**i)"
   ]
  },
  {
   "cell_type": "markdown",
   "id": "e2a4e0b0-0fdc-4918-9849-d9073f5d6041",
   "metadata": {},
   "source": [
    "Comparing the normalized absolute value of the optimal pump when pump values were arbitrary and the optimal pump when restricted to a Gaussian, one can see that the shape is almost identical"
   ]
  },
  {
   "cell_type": "code",
   "execution_count": 32,
   "id": "9f13b3af-0ddf-4f6d-8a0d-681a01423ceb",
   "metadata": {},
   "outputs": [
    {
     "data": {
      "text/plain": [
       "(DeviceArray(3.069215, dtype=float32), DeviceArray(1.0878787, dtype=float32))"
      ]
     },
     "execution_count": 32,
     "metadata": {},
     "output_type": "execute_result"
    },
    {
     "data": {
      "image/png": "[encoded data removed]",
      "text/plain": [
       "<Figure size 432x288 with 1 Axes>"
      ]
     },
     "metadata": {
      "needs_background": "light"
     },
     "output_type": "display_data"
    }
   ],
   "source": [
    "plt.plot((opt_gauss.get_gaussian_pump(theta, freq_range_pump)/jnp.linalg.norm(opt_gauss.get_gaussian_pump(theta, freq_range_pump)))[100:1100])\n",
    "plt.plot(0.7*(abs_hermit_pump/jnp.linalg.norm(abs_hermit_pump))[100:1100])\n",
    "opt_gauss.get_observables(theta, freq_range_pump, alpha, G, H, l)"
   ]
  },
  {
   "cell_type": "markdown",
   "id": "8fae68c9-e07c-48bf-a03a-8fdd7b783df3",
   "metadata": {},
   "source": [
    "Doing the cross correlation between the optimal pump, one realizes that the likelihood is "
   ]
  }
 ],
 "metadata": {
  "kernelspec": {
   "display_name": "Python 3 (ipykernel)",
   "language": "python",
   "name": "python3"
  },
  "language_info": {
   "codemirror_mode": {
    "name": "ipython",
    "version": 3
   },
   "file_extension": ".py",
   "mimetype": "text/x-python",
   "name": "python",
   "nbconvert_exporter": "python",
   "pygments_lexer": "ipython3",
   "version": "3.9.7"
  }
 },
 "nbformat": 4,
 "nbformat_minor": 5
}
