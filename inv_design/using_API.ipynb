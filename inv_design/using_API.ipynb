{
 "cells": [
  {
   "cell_type": "markdown",
   "id": "efce0642-7df2-490b-bbdf-5835069111e2",
   "metadata": {},
   "source": [
    "# Finding pumps that give locally optimal spectral purity"
   ]
  },
  {
   "cell_type": "markdown",
   "id": "1cd983ae-e0eb-43d8-846e-f557f09395e0",
   "metadata": {},
   "source": [
    "This notebook showcases a local optimization scheme applied on mode purity for SPDC phenomenon in waveguides. The constraint on mean number of photon pair per pump pulse (gain) and on the center frequency of the pump will be imposed using a penalty method and the constraint on the variance of pump will be imposed using a regularization method."
   ]
  },
  {
   "cell_type": "markdown",
   "id": "37b5dfbf-3850-4ec4-a56f-0dfeb68f01f7",
   "metadata": {},
   "source": [
    "## Import the libraries "
   ]
  },
  {
   "cell_type": "markdown",
   "id": "d8ae3af7-e4f9-4c07-a588-7120343ce0b0",
   "metadata": {},
   "source": [
    "The library used to generate initial seed, to optimize the spectral purity and to post-process the data are imported."
   ]
  },
  {
   "cell_type": "code",
   "execution_count": 1,
   "id": "0f5f8beb-951c-42d2-80d3-b797f49278ec",
   "metadata": {},
   "outputs": [
    {
     "name": "stderr",
     "output_type": "stream",
     "text": [
      "No GPU/TPU found, falling back to CPU. (Set TF_CPP_MIN_LOG_LEVEL=0 and rerun for more info.)\n"
     ]
    }
   ],
   "source": [
    "import jax.numpy as jnp\n",
    "import jax\n",
    "import jaxopt\n",
    "import numpy as np\n",
    "import scipy\n",
    "\n",
    "import matplotlib.pyplot as plt\n",
    "\n",
    "import optimization_SPDC as opt\n",
    "import optimization_quadratures as opt_quad\n",
    "import optimization_SPDC_gaussain_pump as opt_gauss\n",
    "import get_initialization_cond as init\n",
    "\n",
    "\n",
    "key = jax.random.PRNGKey(0)\n",
    "#from jax.config import config\n",
    "#config.update(\"jax_enable_x64\", True)\n",
    "jax.config.update(\"jax_enable_x64\", True)"
   ]
  },
  {
   "cell_type": "markdown",
   "id": "38f9cb31",
   "metadata": {},
   "source": [
    "# Case where the pump has a frequency dependant phase"
   ]
  },
  {
   "cell_type": "markdown",
   "id": "238278f5-4752-4719-942d-1845e3004621",
   "metadata": {},
   "source": [
    "## Set general hyperparameters"
   ]
  },
  {
   "cell_type": "markdown",
   "id": "859584e0-08ee-4658-be01-1fa6a6d8f79e",
   "metadata": {},
   "source": [
    "Hyperparameters define the frequency range, length of waveguide, group velocities and gain"
   ]
  },
  {
   "cell_type": "code",
   "execution_count": 2,
   "id": "e4651287-a200-4008-a46e-ce865c68271b",
   "metadata": {},
   "outputs": [],
   "source": [
    "N = 201\n",
    "wi = -10\n",
    "wf = 10\n",
    "delta_omega = (wf - wi)/N\n",
    "x = jnp.linspace(wi, wf, N)\n",
    "vp = 0.1\n",
    "l = 1\n",
    "y_N = [0.0001, 0.1, 0.2, 0.5, 1.0, 2.0]"
   ]
  },
  {
   "cell_type": "markdown",
   "id": "f5f1fad3-7eea-4783-a9b4-bd9aaf551b2b",
   "metadata": {},
   "source": [
    "## Define phase matching matrices and initialize the pump"
   ]
  },
  {
   "cell_type": "code",
   "execution_count": 3,
   "id": "cce1f329-4c35-429a-85ce-dad7fd65820c",
   "metadata": {},
   "outputs": [],
   "source": [
    "G, H = init.get_constants(vp, l, wi, wf, N = N)\n",
    "random_seed = 0.1*delta_omega*jax.random.uniform(key, shape=(4*N - 2,))\n",
    "gaussian_seed = 0.001*delta_omega*jnp.array(list(np.exp(-np.linspace(x[0], x[-1], 2*N - 1)**2/.5)) + list(np.exp(-np.linspace(x[0], x[-1], 2*N - 1)**2/.5)))"
   ]
  },
  {
   "cell_type": "markdown",
   "id": "d7c9ac3b",
   "metadata": {},
   "source": [
    "## Perform BFGS with penalty method and regularization on pump variance"
   ]
  },
  {
   "cell_type": "code",
   "execution_count": 4,
   "id": "e0d703aa-4ac9-4725-aada-d24666472023",
   "metadata": {},
   "outputs": [
    {
     "name": "stdout",
     "output_type": "stream",
     "text": [
      "run 0\n",
      "observables:  (Array(0.29128919, dtype=float64), Array(14.84103648, dtype=float64))\n"
     ]
    },
    {
     "ename": "KeyboardInterrupt",
     "evalue": "",
     "output_type": "error",
     "traceback": [
      "\u001b[1;31m---------------------------------------------------------------------------\u001b[0m",
      "\u001b[1;31mKeyboardInterrupt\u001b[0m                         Traceback (most recent call last)",
      "Cell \u001b[1;32mIn[4], line 8\u001b[0m\n\u001b[0;32m      6\u001b[0m     \u001b[38;5;28mprint\u001b[39m(\u001b[38;5;124m\"\u001b[39m\u001b[38;5;124mrun \u001b[39m\u001b[38;5;124m\"\u001b[39m \u001b[38;5;241m+\u001b[39m \u001b[38;5;28mstr\u001b[39m(i))\n\u001b[0;32m      7\u001b[0m     \u001b[38;5;28mprint\u001b[39m(\u001b[38;5;124m\"\u001b[39m\u001b[38;5;124mobservables: \u001b[39m\u001b[38;5;124m\"\u001b[39m, opt\u001b[38;5;241m.\u001b[39mget_observables(pump, N, G, H, l))\n\u001b[1;32m----> 8\u001b[0m     (pump, state) \u001b[38;5;241m=\u001b[39m \u001b[43msolver\u001b[49m\u001b[38;5;241;43m.\u001b[39;49m\u001b[43mrun\u001b[49m\u001b[43m(\u001b[49m\u001b[43mpump\u001b[49m\u001b[43m,\u001b[49m\u001b[43m \u001b[49m\u001b[43mx\u001b[49m\u001b[43m,\u001b[49m\u001b[43m \u001b[49m\u001b[43mG\u001b[49m\u001b[43m,\u001b[49m\u001b[43m \u001b[49m\u001b[43mH\u001b[49m\u001b[43m,\u001b[49m\u001b[43m \u001b[49m\u001b[43ml\u001b[49m\u001b[43m,\u001b[49m\u001b[43m \u001b[49m\u001b[43my_N\u001b[49m\u001b[43m[\u001b[49m\u001b[43mj\u001b[49m\u001b[43m]\u001b[49m\u001b[43m,\u001b[49m\u001b[43m \u001b[49m\u001b[38;5;241;43m5\u001b[39;49m\u001b[38;5;241;43m*\u001b[39;49m\u001b[38;5;241;43m*\u001b[39;49m\u001b[43mi\u001b[49m\u001b[43m)\u001b[49m\n\u001b[0;32m      9\u001b[0m pumps\u001b[38;5;241m.\u001b[39mappend(pump\u001b[38;5;241m.\u001b[39mcopy())\n",
      "File \u001b[1;32mc:\\Users\\super\\Anaconda3\\envs\\jax_opt\\Lib\\site-packages\\jaxopt\\_src\\implicit_diff.py:251\u001b[0m, in \u001b[0;36m_custom_root.<locals>.wrapped_solver_fun\u001b[1;34m(*args, **kwargs)\u001b[0m\n\u001b[0;32m    249\u001b[0m args, kwargs \u001b[38;5;241m=\u001b[39m _signature_bind(solver_fun_signature, \u001b[38;5;241m*\u001b[39margs, \u001b[38;5;241m*\u001b[39m\u001b[38;5;241m*\u001b[39mkwargs)\n\u001b[0;32m    250\u001b[0m keys, vals \u001b[38;5;241m=\u001b[39m \u001b[38;5;28mlist\u001b[39m(kwargs\u001b[38;5;241m.\u001b[39mkeys()), \u001b[38;5;28mlist\u001b[39m(kwargs\u001b[38;5;241m.\u001b[39mvalues())\n\u001b[1;32m--> 251\u001b[0m \u001b[38;5;28;01mreturn\u001b[39;00m \u001b[43mmake_custom_vjp_solver_fun\u001b[49m\u001b[43m(\u001b[49m\u001b[43msolver_fun\u001b[49m\u001b[43m,\u001b[49m\u001b[43m \u001b[49m\u001b[43mkeys\u001b[49m\u001b[43m)\u001b[49m\u001b[43m(\u001b[49m\u001b[38;5;241;43m*\u001b[39;49m\u001b[43margs\u001b[49m\u001b[43m,\u001b[49m\u001b[43m \u001b[49m\u001b[38;5;241;43m*\u001b[39;49m\u001b[43mvals\u001b[49m\u001b[43m)\u001b[49m\n",
      "    \u001b[1;31m[... skipping hidden 1 frame]\u001b[0m\n",
      "File \u001b[1;32mc:\\Users\\super\\Anaconda3\\envs\\jax_opt\\Lib\\site-packages\\jax\\_src\\custom_derivatives.py:620\u001b[0m, in \u001b[0;36mcustom_vjp.__call__\u001b[1;34m(self, *args, **kwargs)\u001b[0m\n\u001b[0;32m    617\u001b[0m flat_fwd, out_trees \u001b[38;5;241m=\u001b[39m _flatten_fwd(fwd, \u001b[38;5;28mself\u001b[39m\u001b[38;5;241m.\u001b[39msymbolic_zeros, primal_name,\n\u001b[0;32m    618\u001b[0m                                    fwd_name, in_tree, out_type)\n\u001b[0;32m    619\u001b[0m flat_bwd \u001b[38;5;241m=\u001b[39m _flatten_bwd(bwd, in_tree, in_avals, out_trees)\u001b[38;5;241m.\u001b[39mcall_wrapped\n\u001b[1;32m--> 620\u001b[0m out_flat \u001b[38;5;241m=\u001b[39m \u001b[43mcustom_vjp_call_p\u001b[49m\u001b[38;5;241;43m.\u001b[39;49m\u001b[43mbind\u001b[49m\u001b[43m(\u001b[49m\u001b[43mflat_fun\u001b[49m\u001b[43m,\u001b[49m\u001b[43m \u001b[49m\u001b[43mflat_fwd\u001b[49m\u001b[43m,\u001b[49m\u001b[43m \u001b[49m\u001b[43mflat_bwd\u001b[49m\u001b[43m,\u001b[49m\n\u001b[0;32m    621\u001b[0m \u001b[43m                                  \u001b[49m\u001b[38;5;241;43m*\u001b[39;49m\u001b[43margs_flat\u001b[49m\u001b[43m,\u001b[49m\u001b[43m \u001b[49m\u001b[43mout_trees\u001b[49m\u001b[38;5;241;43m=\u001b[39;49m\u001b[43mout_trees\u001b[49m\u001b[43m,\u001b[49m\n\u001b[0;32m    622\u001b[0m \u001b[43m                                  \u001b[49m\u001b[43msymbolic_zeros\u001b[49m\u001b[38;5;241;43m=\u001b[39;49m\u001b[38;5;28;43mself\u001b[39;49m\u001b[38;5;241;43m.\u001b[39;49m\u001b[43msymbolic_zeros\u001b[49m\u001b[43m)\u001b[49m\n\u001b[0;32m    623\u001b[0m _, (out_tree, _) \u001b[38;5;241m=\u001b[39m lu\u001b[38;5;241m.\u001b[39mmerge_linear_aux(out_type, out_trees)\n\u001b[0;32m    624\u001b[0m \u001b[38;5;28;01mreturn\u001b[39;00m tree_unflatten(out_tree, out_flat)\n",
      "File \u001b[1;32mc:\\Users\\super\\Anaconda3\\envs\\jax_opt\\Lib\\site-packages\\jax\\_src\\custom_derivatives.py:770\u001b[0m, in \u001b[0;36mCustomVJPCallPrimitive.bind\u001b[1;34m(self, fun, fwd, bwd, out_trees, symbolic_zeros, *args)\u001b[0m\n\u001b[0;32m    768\u001b[0m tracers \u001b[38;5;241m=\u001b[39m \u001b[38;5;28mmap\u001b[39m(top_trace\u001b[38;5;241m.\u001b[39mfull_raise, args)  \u001b[38;5;66;03m# type: ignore\u001b[39;00m\n\u001b[0;32m    769\u001b[0m bwd_ \u001b[38;5;241m=\u001b[39m \u001b[38;5;28;01mlambda\u001b[39;00m \u001b[38;5;241m*\u001b[39margs: bwd(\u001b[38;5;241m*\u001b[39margs)\n\u001b[1;32m--> 770\u001b[0m outs \u001b[38;5;241m=\u001b[39m \u001b[43mtop_trace\u001b[49m\u001b[38;5;241;43m.\u001b[39;49m\u001b[43mprocess_custom_vjp_call\u001b[49m\u001b[43m(\u001b[49m\u001b[38;5;28;43mself\u001b[39;49m\u001b[43m,\u001b[49m\u001b[43m \u001b[49m\u001b[43mfun\u001b[49m\u001b[43m,\u001b[49m\u001b[43m \u001b[49m\u001b[43mfwd\u001b[49m\u001b[43m,\u001b[49m\u001b[43m \u001b[49m\u001b[43mbwd_\u001b[49m\u001b[43m,\u001b[49m\u001b[43m \u001b[49m\u001b[43mtracers\u001b[49m\u001b[43m,\u001b[49m\n\u001b[0;32m    771\u001b[0m \u001b[43m                                         \u001b[49m\u001b[43mout_trees\u001b[49m\u001b[38;5;241;43m=\u001b[39;49m\u001b[43mout_trees\u001b[49m\u001b[43m,\u001b[49m\n\u001b[0;32m    772\u001b[0m \u001b[43m                                         \u001b[49m\u001b[43msymbolic_zeros\u001b[49m\u001b[38;5;241;43m=\u001b[39;49m\u001b[43msymbolic_zeros\u001b[49m\u001b[43m)\u001b[49m\n\u001b[0;32m    773\u001b[0m fst, env_trace_todo \u001b[38;5;241m=\u001b[39m lu\u001b[38;5;241m.\u001b[39mmerge_linear_aux(env_trace_todo1, env_trace_todo2)\n\u001b[0;32m    774\u001b[0m \u001b[38;5;28;01mif\u001b[39;00m fst:\n",
      "File \u001b[1;32mc:\\Users\\super\\Anaconda3\\envs\\jax_opt\\Lib\\site-packages\\jax\\_src\\core.py:840\u001b[0m, in \u001b[0;36mEvalTrace.process_custom_vjp_call\u001b[1;34m(***failed resolving arguments***)\u001b[0m\n\u001b[0;32m    838\u001b[0m \u001b[38;5;28;01mdel\u001b[39;00m primitive, fwd, bwd, _  \u001b[38;5;66;03m# Unused.\u001b[39;00m\n\u001b[0;32m    839\u001b[0m \u001b[38;5;28;01mwith\u001b[39;00m new_sublevel():\n\u001b[1;32m--> 840\u001b[0m   \u001b[38;5;28;01mreturn\u001b[39;00m \u001b[43mfun\u001b[49m\u001b[38;5;241;43m.\u001b[39;49m\u001b[43mcall_wrapped\u001b[49m\u001b[43m(\u001b[49m\u001b[38;5;241;43m*\u001b[39;49m\u001b[43mtracers\u001b[49m\u001b[43m)\u001b[49m\n",
      "File \u001b[1;32mc:\\Users\\super\\Anaconda3\\envs\\jax_opt\\Lib\\site-packages\\jax\\_src\\linear_util.py:188\u001b[0m, in \u001b[0;36mWrappedFun.call_wrapped\u001b[1;34m(self, *args, **kwargs)\u001b[0m\n\u001b[0;32m    185\u001b[0m gen \u001b[38;5;241m=\u001b[39m gen_static_args \u001b[38;5;241m=\u001b[39m out_store \u001b[38;5;241m=\u001b[39m \u001b[38;5;28;01mNone\u001b[39;00m\n\u001b[0;32m    187\u001b[0m \u001b[38;5;28;01mtry\u001b[39;00m:\n\u001b[1;32m--> 188\u001b[0m   ans \u001b[38;5;241m=\u001b[39m \u001b[38;5;28;43mself\u001b[39;49m\u001b[38;5;241;43m.\u001b[39;49m\u001b[43mf\u001b[49m\u001b[43m(\u001b[49m\u001b[38;5;241;43m*\u001b[39;49m\u001b[43margs\u001b[49m\u001b[43m,\u001b[49m\u001b[43m \u001b[49m\u001b[38;5;241;43m*\u001b[39;49m\u001b[38;5;241;43m*\u001b[39;49m\u001b[38;5;28;43mdict\u001b[39;49m\u001b[43m(\u001b[49m\u001b[38;5;28;43mself\u001b[39;49m\u001b[38;5;241;43m.\u001b[39;49m\u001b[43mparams\u001b[49m\u001b[43m,\u001b[49m\u001b[43m \u001b[49m\u001b[38;5;241;43m*\u001b[39;49m\u001b[38;5;241;43m*\u001b[39;49m\u001b[43mkwargs\u001b[49m\u001b[43m)\u001b[49m\u001b[43m)\u001b[49m\n\u001b[0;32m    189\u001b[0m \u001b[38;5;28;01mexcept\u001b[39;00m:\n\u001b[0;32m    190\u001b[0m   \u001b[38;5;66;03m# Some transformations yield from inside context managers, so we have to\u001b[39;00m\n\u001b[0;32m    191\u001b[0m   \u001b[38;5;66;03m# interrupt them before reraising the exception. Otherwise they will only\u001b[39;00m\n\u001b[0;32m    192\u001b[0m   \u001b[38;5;66;03m# get garbage-collected at some later time, running their cleanup tasks\u001b[39;00m\n\u001b[0;32m    193\u001b[0m   \u001b[38;5;66;03m# only after this exception is handled, which can corrupt the global\u001b[39;00m\n\u001b[0;32m    194\u001b[0m   \u001b[38;5;66;03m# state.\u001b[39;00m\n\u001b[0;32m    195\u001b[0m   \u001b[38;5;28;01mwhile\u001b[39;00m stack:\n",
      "File \u001b[1;32mc:\\Users\\super\\Anaconda3\\envs\\jax_opt\\Lib\\site-packages\\jaxopt\\_src\\implicit_diff.py:207\u001b[0m, in \u001b[0;36m_custom_root.<locals>.make_custom_vjp_solver_fun.<locals>.solver_fun_flat\u001b[1;34m(*flat_args)\u001b[0m\n\u001b[0;32m    204\u001b[0m \u001b[38;5;129m@jax\u001b[39m\u001b[38;5;241m.\u001b[39mcustom_vjp\n\u001b[0;32m    205\u001b[0m \u001b[38;5;28;01mdef\u001b[39;00m \u001b[38;5;21msolver_fun_flat\u001b[39m(\u001b[38;5;241m*\u001b[39mflat_args):\n\u001b[0;32m    206\u001b[0m   args, kwargs \u001b[38;5;241m=\u001b[39m _extract_kwargs(kwarg_keys, flat_args)\n\u001b[1;32m--> 207\u001b[0m   \u001b[38;5;28;01mreturn\u001b[39;00m \u001b[43msolver_fun\u001b[49m\u001b[43m(\u001b[49m\u001b[38;5;241;43m*\u001b[39;49m\u001b[43margs\u001b[49m\u001b[43m,\u001b[49m\u001b[43m \u001b[49m\u001b[38;5;241;43m*\u001b[39;49m\u001b[38;5;241;43m*\u001b[39;49m\u001b[43mkwargs\u001b[49m\u001b[43m)\u001b[49m\n",
      "File \u001b[1;32mc:\\Users\\super\\Anaconda3\\envs\\jax_opt\\Lib\\site-packages\\jaxopt\\_src\\scipy_wrappers.py:390\u001b[0m, in \u001b[0;36mScipyMinimize.run\u001b[1;34m(self, init_params, *args, **kwargs)\u001b[0m\n\u001b[0;32m    377\u001b[0m \u001b[38;5;28;01mdef\u001b[39;00m \u001b[38;5;21mrun\u001b[39m(\u001b[38;5;28mself\u001b[39m,\n\u001b[0;32m    378\u001b[0m         init_params: Any,\n\u001b[0;32m    379\u001b[0m         \u001b[38;5;241m*\u001b[39margs,\n\u001b[0;32m    380\u001b[0m         \u001b[38;5;241m*\u001b[39m\u001b[38;5;241m*\u001b[39mkwargs) \u001b[38;5;241m-\u001b[39m\u001b[38;5;241m>\u001b[39m base\u001b[38;5;241m.\u001b[39mOptStep:\n\u001b[0;32m    381\u001b[0m \u001b[38;5;250m  \u001b[39m\u001b[38;5;124;03m\"\"\"Runs the solver.\u001b[39;00m\n\u001b[0;32m    382\u001b[0m \n\u001b[0;32m    383\u001b[0m \u001b[38;5;124;03m  Args:\u001b[39;00m\n\u001b[1;32m   (...)\u001b[0m\n\u001b[0;32m    388\u001b[0m \u001b[38;5;124;03m    (params, info).\u001b[39;00m\n\u001b[0;32m    389\u001b[0m \u001b[38;5;124;03m  \"\"\"\u001b[39;00m\n\u001b[1;32m--> 390\u001b[0m   \u001b[38;5;28;01mreturn\u001b[39;00m \u001b[38;5;28;43mself\u001b[39;49m\u001b[38;5;241;43m.\u001b[39;49m\u001b[43m_run\u001b[49m\u001b[43m(\u001b[49m\u001b[43minit_params\u001b[49m\u001b[43m,\u001b[49m\u001b[43m \u001b[49m\u001b[38;5;28;43;01mNone\u001b[39;49;00m\u001b[43m,\u001b[49m\u001b[43m \u001b[49m\u001b[38;5;241;43m*\u001b[39;49m\u001b[43margs\u001b[49m\u001b[43m,\u001b[49m\u001b[43m \u001b[49m\u001b[38;5;241;43m*\u001b[39;49m\u001b[38;5;241;43m*\u001b[39;49m\u001b[43mkwargs\u001b[49m\u001b[43m)\u001b[49m\n",
      "File \u001b[1;32mc:\\Users\\super\\Anaconda3\\envs\\jax_opt\\Lib\\site-packages\\jaxopt\\_src\\scipy_wrappers.py:343\u001b[0m, in \u001b[0;36mScipyMinimize._run\u001b[1;34m(self, init_params, bounds, *args, **kwargs)\u001b[0m\n\u001b[0;32m    339\u001b[0m \u001b[38;5;28;01mif\u001b[39;00m bounds \u001b[38;5;129;01mis\u001b[39;00m \u001b[38;5;129;01mnot\u001b[39;00m \u001b[38;5;28;01mNone\u001b[39;00m:\n\u001b[0;32m    340\u001b[0m   bounds \u001b[38;5;241m=\u001b[39m osp\u001b[38;5;241m.\u001b[39moptimize\u001b[38;5;241m.\u001b[39mBounds(lb\u001b[38;5;241m=\u001b[39mjnp_to_onp(bounds[\u001b[38;5;241m0\u001b[39m], \u001b[38;5;28mself\u001b[39m\u001b[38;5;241m.\u001b[39mdtype),\n\u001b[0;32m    341\u001b[0m                                ub\u001b[38;5;241m=\u001b[39mjnp_to_onp(bounds[\u001b[38;5;241m1\u001b[39m], \u001b[38;5;28mself\u001b[39m\u001b[38;5;241m.\u001b[39mdtype))\n\u001b[1;32m--> 343\u001b[0m res \u001b[38;5;241m=\u001b[39m \u001b[43mosp\u001b[49m\u001b[38;5;241;43m.\u001b[39;49m\u001b[43moptimize\u001b[49m\u001b[38;5;241;43m.\u001b[39;49m\u001b[43mminimize\u001b[49m\u001b[43m(\u001b[49m\u001b[43mscipy_fun\u001b[49m\u001b[43m,\u001b[49m\u001b[43m \u001b[49m\u001b[43mjnp_to_onp\u001b[49m\u001b[43m(\u001b[49m\u001b[43minit_params\u001b[49m\u001b[43m,\u001b[49m\u001b[43m \u001b[49m\u001b[38;5;28;43mself\u001b[39;49m\u001b[38;5;241;43m.\u001b[39;49m\u001b[43mdtype\u001b[49m\u001b[43m)\u001b[49m\u001b[43m,\u001b[49m\n\u001b[0;32m    344\u001b[0m \u001b[43m                            \u001b[49m\u001b[43mjac\u001b[49m\u001b[38;5;241;43m=\u001b[39;49m\u001b[38;5;28;43;01mTrue\u001b[39;49;00m\u001b[43m,\u001b[49m\n\u001b[0;32m    345\u001b[0m \u001b[43m                            \u001b[49m\u001b[43mtol\u001b[49m\u001b[38;5;241;43m=\u001b[39;49m\u001b[38;5;28;43mself\u001b[39;49m\u001b[38;5;241;43m.\u001b[39;49m\u001b[43mtol\u001b[49m\u001b[43m,\u001b[49m\n\u001b[0;32m    346\u001b[0m \u001b[43m                            \u001b[49m\u001b[43mbounds\u001b[49m\u001b[38;5;241;43m=\u001b[39;49m\u001b[43mbounds\u001b[49m\u001b[43m,\u001b[49m\n\u001b[0;32m    347\u001b[0m \u001b[43m                            \u001b[49m\u001b[43mmethod\u001b[49m\u001b[38;5;241;43m=\u001b[39;49m\u001b[38;5;28;43mself\u001b[39;49m\u001b[38;5;241;43m.\u001b[39;49m\u001b[43mmethod\u001b[49m\u001b[43m,\u001b[49m\n\u001b[0;32m    348\u001b[0m \u001b[43m                            \u001b[49m\u001b[43mcallback\u001b[49m\u001b[38;5;241;43m=\u001b[39;49m\u001b[43mscipy_callback\u001b[49m\u001b[43m,\u001b[49m\n\u001b[0;32m    349\u001b[0m \u001b[43m                            \u001b[49m\u001b[43moptions\u001b[49m\u001b[38;5;241;43m=\u001b[39;49m\u001b[38;5;28;43mself\u001b[39;49m\u001b[38;5;241;43m.\u001b[39;49m\u001b[43moptions\u001b[49m\u001b[43m)\u001b[49m\n\u001b[0;32m    351\u001b[0m params \u001b[38;5;241m=\u001b[39m tree_util\u001b[38;5;241m.\u001b[39mtree_map(jnp\u001b[38;5;241m.\u001b[39masarray, onp_to_jnp(res\u001b[38;5;241m.\u001b[39mx))\n\u001b[0;32m    353\u001b[0m \u001b[38;5;28;01mif\u001b[39;00m \u001b[38;5;28mhasattr\u001b[39m(res, \u001b[38;5;124m'\u001b[39m\u001b[38;5;124mhess_inv\u001b[39m\u001b[38;5;124m'\u001b[39m):\n",
      "File \u001b[1;32mc:\\Users\\super\\Anaconda3\\envs\\jax_opt\\Lib\\site-packages\\scipy\\optimize\\_minimize.py:705\u001b[0m, in \u001b[0;36mminimize\u001b[1;34m(fun, x0, args, method, jac, hess, hessp, bounds, constraints, tol, callback, options)\u001b[0m\n\u001b[0;32m    703\u001b[0m     res \u001b[38;5;241m=\u001b[39m _minimize_cg(fun, x0, args, jac, callback, \u001b[38;5;241m*\u001b[39m\u001b[38;5;241m*\u001b[39moptions)\n\u001b[0;32m    704\u001b[0m \u001b[38;5;28;01melif\u001b[39;00m meth \u001b[38;5;241m==\u001b[39m \u001b[38;5;124m'\u001b[39m\u001b[38;5;124mbfgs\u001b[39m\u001b[38;5;124m'\u001b[39m:\n\u001b[1;32m--> 705\u001b[0m     res \u001b[38;5;241m=\u001b[39m \u001b[43m_minimize_bfgs\u001b[49m\u001b[43m(\u001b[49m\u001b[43mfun\u001b[49m\u001b[43m,\u001b[49m\u001b[43m \u001b[49m\u001b[43mx0\u001b[49m\u001b[43m,\u001b[49m\u001b[43m \u001b[49m\u001b[43margs\u001b[49m\u001b[43m,\u001b[49m\u001b[43m \u001b[49m\u001b[43mjac\u001b[49m\u001b[43m,\u001b[49m\u001b[43m \u001b[49m\u001b[43mcallback\u001b[49m\u001b[43m,\u001b[49m\u001b[43m \u001b[49m\u001b[38;5;241;43m*\u001b[39;49m\u001b[38;5;241;43m*\u001b[39;49m\u001b[43moptions\u001b[49m\u001b[43m)\u001b[49m\n\u001b[0;32m    706\u001b[0m \u001b[38;5;28;01melif\u001b[39;00m meth \u001b[38;5;241m==\u001b[39m \u001b[38;5;124m'\u001b[39m\u001b[38;5;124mnewton-cg\u001b[39m\u001b[38;5;124m'\u001b[39m:\n\u001b[0;32m    707\u001b[0m     res \u001b[38;5;241m=\u001b[39m _minimize_newtoncg(fun, x0, args, jac, hess, hessp, callback,\n\u001b[0;32m    708\u001b[0m                              \u001b[38;5;241m*\u001b[39m\u001b[38;5;241m*\u001b[39moptions)\n",
      "File \u001b[1;32mc:\\Users\\super\\Anaconda3\\envs\\jax_opt\\Lib\\site-packages\\scipy\\optimize\\_optimize.py:1445\u001b[0m, in \u001b[0;36m_minimize_bfgs\u001b[1;34m(fun, x0, args, jac, callback, gtol, norm, eps, maxiter, disp, return_all, finite_diff_rel_step, xrtol, **unknown_options)\u001b[0m\n\u001b[0;32m   1442\u001b[0m pk \u001b[38;5;241m=\u001b[39m \u001b[38;5;241m-\u001b[39mnp\u001b[38;5;241m.\u001b[39mdot(Hk, gfk)\n\u001b[0;32m   1443\u001b[0m \u001b[38;5;28;01mtry\u001b[39;00m:\n\u001b[0;32m   1444\u001b[0m     alpha_k, fc, gc, old_fval, old_old_fval, gfkp1 \u001b[38;5;241m=\u001b[39m \\\n\u001b[1;32m-> 1445\u001b[0m              \u001b[43m_line_search_wolfe12\u001b[49m\u001b[43m(\u001b[49m\u001b[43mf\u001b[49m\u001b[43m,\u001b[49m\u001b[43m \u001b[49m\u001b[43mmyfprime\u001b[49m\u001b[43m,\u001b[49m\u001b[43m \u001b[49m\u001b[43mxk\u001b[49m\u001b[43m,\u001b[49m\u001b[43m \u001b[49m\u001b[43mpk\u001b[49m\u001b[43m,\u001b[49m\u001b[43m \u001b[49m\u001b[43mgfk\u001b[49m\u001b[43m,\u001b[49m\n\u001b[0;32m   1446\u001b[0m \u001b[43m                                  \u001b[49m\u001b[43mold_fval\u001b[49m\u001b[43m,\u001b[49m\u001b[43m \u001b[49m\u001b[43mold_old_fval\u001b[49m\u001b[43m,\u001b[49m\u001b[43m \u001b[49m\u001b[43mamin\u001b[49m\u001b[38;5;241;43m=\u001b[39;49m\u001b[38;5;241;43m1e-100\u001b[39;49m\u001b[43m,\u001b[49m\u001b[43m \u001b[49m\u001b[43mamax\u001b[49m\u001b[38;5;241;43m=\u001b[39;49m\u001b[38;5;241;43m1e100\u001b[39;49m\u001b[43m)\u001b[49m\n\u001b[0;32m   1447\u001b[0m \u001b[38;5;28;01mexcept\u001b[39;00m _LineSearchError:\n\u001b[0;32m   1448\u001b[0m     \u001b[38;5;66;03m# Line search failed to find a better solution.\u001b[39;00m\n\u001b[0;32m   1449\u001b[0m     warnflag \u001b[38;5;241m=\u001b[39m \u001b[38;5;241m2\u001b[39m\n",
      "File \u001b[1;32mc:\\Users\\super\\Anaconda3\\envs\\jax_opt\\Lib\\site-packages\\scipy\\optimize\\_optimize.py:1215\u001b[0m, in \u001b[0;36m_line_search_wolfe12\u001b[1;34m(f, fprime, xk, pk, gfk, old_fval, old_old_fval, **kwargs)\u001b[0m\n\u001b[0;32m   1201\u001b[0m \u001b[38;5;250m\u001b[39m\u001b[38;5;124;03m\"\"\"\u001b[39;00m\n\u001b[0;32m   1202\u001b[0m \u001b[38;5;124;03mSame as line_search_wolfe1, but fall back to line_search_wolfe2 if\u001b[39;00m\n\u001b[0;32m   1203\u001b[0m \u001b[38;5;124;03msuitable step length is not found, and raise an exception if a\u001b[39;00m\n\u001b[1;32m   (...)\u001b[0m\n\u001b[0;32m   1210\u001b[0m \n\u001b[0;32m   1211\u001b[0m \u001b[38;5;124;03m\"\"\"\u001b[39;00m\n\u001b[0;32m   1213\u001b[0m extra_condition \u001b[38;5;241m=\u001b[39m kwargs\u001b[38;5;241m.\u001b[39mpop(\u001b[38;5;124m'\u001b[39m\u001b[38;5;124mextra_condition\u001b[39m\u001b[38;5;124m'\u001b[39m, \u001b[38;5;28;01mNone\u001b[39;00m)\n\u001b[1;32m-> 1215\u001b[0m ret \u001b[38;5;241m=\u001b[39m \u001b[43mline_search_wolfe1\u001b[49m\u001b[43m(\u001b[49m\u001b[43mf\u001b[49m\u001b[43m,\u001b[49m\u001b[43m \u001b[49m\u001b[43mfprime\u001b[49m\u001b[43m,\u001b[49m\u001b[43m \u001b[49m\u001b[43mxk\u001b[49m\u001b[43m,\u001b[49m\u001b[43m \u001b[49m\u001b[43mpk\u001b[49m\u001b[43m,\u001b[49m\u001b[43m \u001b[49m\u001b[43mgfk\u001b[49m\u001b[43m,\u001b[49m\n\u001b[0;32m   1216\u001b[0m \u001b[43m                         \u001b[49m\u001b[43mold_fval\u001b[49m\u001b[43m,\u001b[49m\u001b[43m \u001b[49m\u001b[43mold_old_fval\u001b[49m\u001b[43m,\u001b[49m\n\u001b[0;32m   1217\u001b[0m \u001b[43m                         \u001b[49m\u001b[38;5;241;43m*\u001b[39;49m\u001b[38;5;241;43m*\u001b[39;49m\u001b[43mkwargs\u001b[49m\u001b[43m)\u001b[49m\n\u001b[0;32m   1219\u001b[0m \u001b[38;5;28;01mif\u001b[39;00m ret[\u001b[38;5;241m0\u001b[39m] \u001b[38;5;129;01mis\u001b[39;00m \u001b[38;5;129;01mnot\u001b[39;00m \u001b[38;5;28;01mNone\u001b[39;00m \u001b[38;5;129;01mand\u001b[39;00m extra_condition \u001b[38;5;129;01mis\u001b[39;00m \u001b[38;5;129;01mnot\u001b[39;00m \u001b[38;5;28;01mNone\u001b[39;00m:\n\u001b[0;32m   1220\u001b[0m     xp1 \u001b[38;5;241m=\u001b[39m xk \u001b[38;5;241m+\u001b[39m ret[\u001b[38;5;241m0\u001b[39m] \u001b[38;5;241m*\u001b[39m pk\n",
      "File \u001b[1;32mc:\\Users\\super\\Anaconda3\\envs\\jax_opt\\Lib\\site-packages\\scipy\\optimize\\_linesearch.py:84\u001b[0m, in \u001b[0;36mline_search_wolfe1\u001b[1;34m(f, fprime, xk, pk, gfk, old_fval, old_old_fval, args, c1, c2, amax, amin, xtol)\u001b[0m\n\u001b[0;32m     80\u001b[0m     \u001b[38;5;28;01mreturn\u001b[39;00m np\u001b[38;5;241m.\u001b[39mdot(gval[\u001b[38;5;241m0\u001b[39m], pk)\n\u001b[0;32m     82\u001b[0m derphi0 \u001b[38;5;241m=\u001b[39m np\u001b[38;5;241m.\u001b[39mdot(gfk, pk)\n\u001b[1;32m---> 84\u001b[0m stp, fval, old_fval \u001b[38;5;241m=\u001b[39m \u001b[43mscalar_search_wolfe1\u001b[49m\u001b[43m(\u001b[49m\n\u001b[0;32m     85\u001b[0m \u001b[43m        \u001b[49m\u001b[43mphi\u001b[49m\u001b[43m,\u001b[49m\u001b[43m \u001b[49m\u001b[43mderphi\u001b[49m\u001b[43m,\u001b[49m\u001b[43m \u001b[49m\u001b[43mold_fval\u001b[49m\u001b[43m,\u001b[49m\u001b[43m \u001b[49m\u001b[43mold_old_fval\u001b[49m\u001b[43m,\u001b[49m\u001b[43m \u001b[49m\u001b[43mderphi0\u001b[49m\u001b[43m,\u001b[49m\n\u001b[0;32m     86\u001b[0m \u001b[43m        \u001b[49m\u001b[43mc1\u001b[49m\u001b[38;5;241;43m=\u001b[39;49m\u001b[43mc1\u001b[49m\u001b[43m,\u001b[49m\u001b[43m \u001b[49m\u001b[43mc2\u001b[49m\u001b[38;5;241;43m=\u001b[39;49m\u001b[43mc2\u001b[49m\u001b[43m,\u001b[49m\u001b[43m \u001b[49m\u001b[43mamax\u001b[49m\u001b[38;5;241;43m=\u001b[39;49m\u001b[43mamax\u001b[49m\u001b[43m,\u001b[49m\u001b[43m \u001b[49m\u001b[43mamin\u001b[49m\u001b[38;5;241;43m=\u001b[39;49m\u001b[43mamin\u001b[49m\u001b[43m,\u001b[49m\u001b[43m \u001b[49m\u001b[43mxtol\u001b[49m\u001b[38;5;241;43m=\u001b[39;49m\u001b[43mxtol\u001b[49m\u001b[43m)\u001b[49m\n\u001b[0;32m     88\u001b[0m \u001b[38;5;28;01mreturn\u001b[39;00m stp, fc[\u001b[38;5;241m0\u001b[39m], gc[\u001b[38;5;241m0\u001b[39m], fval, old_fval, gval[\u001b[38;5;241m0\u001b[39m]\n",
      "File \u001b[1;32mc:\\Users\\super\\Anaconda3\\envs\\jax_opt\\Lib\\site-packages\\scipy\\optimize\\_linesearch.py:160\u001b[0m, in \u001b[0;36mscalar_search_wolfe1\u001b[1;34m(phi, derphi, phi0, old_phi0, derphi0, c1, c2, amax, amin, xtol)\u001b[0m\n\u001b[0;32m    158\u001b[0m \u001b[38;5;28;01mif\u001b[39;00m task[:\u001b[38;5;241m2\u001b[39m] \u001b[38;5;241m==\u001b[39m \u001b[38;5;124mb\u001b[39m\u001b[38;5;124m'\u001b[39m\u001b[38;5;124mFG\u001b[39m\u001b[38;5;124m'\u001b[39m:\n\u001b[0;32m    159\u001b[0m     alpha1 \u001b[38;5;241m=\u001b[39m stp\n\u001b[1;32m--> 160\u001b[0m     phi1 \u001b[38;5;241m=\u001b[39m \u001b[43mphi\u001b[49m\u001b[43m(\u001b[49m\u001b[43mstp\u001b[49m\u001b[43m)\u001b[49m\n\u001b[0;32m    161\u001b[0m     derphi1 \u001b[38;5;241m=\u001b[39m derphi(stp)\n\u001b[0;32m    162\u001b[0m \u001b[38;5;28;01melse\u001b[39;00m:\n",
      "File \u001b[1;32mc:\\Users\\super\\Anaconda3\\envs\\jax_opt\\Lib\\site-packages\\scipy\\optimize\\_linesearch.py:75\u001b[0m, in \u001b[0;36mline_search_wolfe1.<locals>.phi\u001b[1;34m(s)\u001b[0m\n\u001b[0;32m     73\u001b[0m \u001b[38;5;28;01mdef\u001b[39;00m \u001b[38;5;21mphi\u001b[39m(s):\n\u001b[0;32m     74\u001b[0m     fc[\u001b[38;5;241m0\u001b[39m] \u001b[38;5;241m+\u001b[39m\u001b[38;5;241m=\u001b[39m \u001b[38;5;241m1\u001b[39m\n\u001b[1;32m---> 75\u001b[0m     \u001b[38;5;28;01mreturn\u001b[39;00m \u001b[43mf\u001b[49m\u001b[43m(\u001b[49m\u001b[43mxk\u001b[49m\u001b[43m \u001b[49m\u001b[38;5;241;43m+\u001b[39;49m\u001b[43m \u001b[49m\u001b[43ms\u001b[49m\u001b[38;5;241;43m*\u001b[39;49m\u001b[43mpk\u001b[49m\u001b[43m,\u001b[49m\u001b[43m \u001b[49m\u001b[38;5;241;43m*\u001b[39;49m\u001b[43margs\u001b[49m\u001b[43m)\u001b[49m\n",
      "File \u001b[1;32mc:\\Users\\super\\Anaconda3\\envs\\jax_opt\\Lib\\site-packages\\scipy\\optimize\\_differentiable_functions.py:267\u001b[0m, in \u001b[0;36mScalarFunction.fun\u001b[1;34m(self, x)\u001b[0m\n\u001b[0;32m    265\u001b[0m \u001b[38;5;28;01mif\u001b[39;00m \u001b[38;5;129;01mnot\u001b[39;00m np\u001b[38;5;241m.\u001b[39marray_equal(x, \u001b[38;5;28mself\u001b[39m\u001b[38;5;241m.\u001b[39mx):\n\u001b[0;32m    266\u001b[0m     \u001b[38;5;28mself\u001b[39m\u001b[38;5;241m.\u001b[39m_update_x_impl(x)\n\u001b[1;32m--> 267\u001b[0m \u001b[38;5;28;43mself\u001b[39;49m\u001b[38;5;241;43m.\u001b[39;49m\u001b[43m_update_fun\u001b[49m\u001b[43m(\u001b[49m\u001b[43m)\u001b[49m\n\u001b[0;32m    268\u001b[0m \u001b[38;5;28;01mreturn\u001b[39;00m \u001b[38;5;28mself\u001b[39m\u001b[38;5;241m.\u001b[39mf\n",
      "File \u001b[1;32mc:\\Users\\super\\Anaconda3\\envs\\jax_opt\\Lib\\site-packages\\scipy\\optimize\\_differentiable_functions.py:251\u001b[0m, in \u001b[0;36mScalarFunction._update_fun\u001b[1;34m(self)\u001b[0m\n\u001b[0;32m    249\u001b[0m \u001b[38;5;28;01mdef\u001b[39;00m \u001b[38;5;21m_update_fun\u001b[39m(\u001b[38;5;28mself\u001b[39m):\n\u001b[0;32m    250\u001b[0m     \u001b[38;5;28;01mif\u001b[39;00m \u001b[38;5;129;01mnot\u001b[39;00m \u001b[38;5;28mself\u001b[39m\u001b[38;5;241m.\u001b[39mf_updated:\n\u001b[1;32m--> 251\u001b[0m         \u001b[38;5;28;43mself\u001b[39;49m\u001b[38;5;241;43m.\u001b[39;49m\u001b[43m_update_fun_impl\u001b[49m\u001b[43m(\u001b[49m\u001b[43m)\u001b[49m\n\u001b[0;32m    252\u001b[0m         \u001b[38;5;28mself\u001b[39m\u001b[38;5;241m.\u001b[39mf_updated \u001b[38;5;241m=\u001b[39m \u001b[38;5;28;01mTrue\u001b[39;00m\n",
      "File \u001b[1;32mc:\\Users\\super\\Anaconda3\\envs\\jax_opt\\Lib\\site-packages\\scipy\\optimize\\_differentiable_functions.py:155\u001b[0m, in \u001b[0;36mScalarFunction.__init__.<locals>.update_fun\u001b[1;34m()\u001b[0m\n\u001b[0;32m    154\u001b[0m \u001b[38;5;28;01mdef\u001b[39;00m \u001b[38;5;21mupdate_fun\u001b[39m():\n\u001b[1;32m--> 155\u001b[0m     \u001b[38;5;28mself\u001b[39m\u001b[38;5;241m.\u001b[39mf \u001b[38;5;241m=\u001b[39m \u001b[43mfun_wrapped\u001b[49m\u001b[43m(\u001b[49m\u001b[38;5;28;43mself\u001b[39;49m\u001b[38;5;241;43m.\u001b[39;49m\u001b[43mx\u001b[49m\u001b[43m)\u001b[49m\n",
      "File \u001b[1;32mc:\\Users\\super\\Anaconda3\\envs\\jax_opt\\Lib\\site-packages\\scipy\\optimize\\_differentiable_functions.py:137\u001b[0m, in \u001b[0;36mScalarFunction.__init__.<locals>.fun_wrapped\u001b[1;34m(x)\u001b[0m\n\u001b[0;32m    133\u001b[0m \u001b[38;5;28mself\u001b[39m\u001b[38;5;241m.\u001b[39mnfev \u001b[38;5;241m+\u001b[39m\u001b[38;5;241m=\u001b[39m \u001b[38;5;241m1\u001b[39m\n\u001b[0;32m    134\u001b[0m \u001b[38;5;66;03m# Send a copy because the user may overwrite it.\u001b[39;00m\n\u001b[0;32m    135\u001b[0m \u001b[38;5;66;03m# Overwriting results in undefined behaviour because\u001b[39;00m\n\u001b[0;32m    136\u001b[0m \u001b[38;5;66;03m# fun(self.x) will change self.x, with the two no longer linked.\u001b[39;00m\n\u001b[1;32m--> 137\u001b[0m fx \u001b[38;5;241m=\u001b[39m \u001b[43mfun\u001b[49m\u001b[43m(\u001b[49m\u001b[43mnp\u001b[49m\u001b[38;5;241;43m.\u001b[39;49m\u001b[43mcopy\u001b[49m\u001b[43m(\u001b[49m\u001b[43mx\u001b[49m\u001b[43m)\u001b[49m\u001b[43m,\u001b[49m\u001b[43m \u001b[49m\u001b[38;5;241;43m*\u001b[39;49m\u001b[43margs\u001b[49m\u001b[43m)\u001b[49m\n\u001b[0;32m    138\u001b[0m \u001b[38;5;66;03m# Make sure the function returns a true scalar\u001b[39;00m\n\u001b[0;32m    139\u001b[0m \u001b[38;5;28;01mif\u001b[39;00m \u001b[38;5;129;01mnot\u001b[39;00m np\u001b[38;5;241m.\u001b[39misscalar(fx):\n",
      "File \u001b[1;32mc:\\Users\\super\\Anaconda3\\envs\\jax_opt\\Lib\\site-packages\\scipy\\optimize\\_optimize.py:77\u001b[0m, in \u001b[0;36mMemoizeJac.__call__\u001b[1;34m(self, x, *args)\u001b[0m\n\u001b[0;32m     75\u001b[0m \u001b[38;5;28;01mdef\u001b[39;00m \u001b[38;5;21m__call__\u001b[39m(\u001b[38;5;28mself\u001b[39m, x, \u001b[38;5;241m*\u001b[39margs):\n\u001b[0;32m     76\u001b[0m \u001b[38;5;250m    \u001b[39m\u001b[38;5;124;03m\"\"\" returns the function value \"\"\"\u001b[39;00m\n\u001b[1;32m---> 77\u001b[0m     \u001b[38;5;28;43mself\u001b[39;49m\u001b[38;5;241;43m.\u001b[39;49m\u001b[43m_compute_if_needed\u001b[49m\u001b[43m(\u001b[49m\u001b[43mx\u001b[49m\u001b[43m,\u001b[49m\u001b[43m \u001b[49m\u001b[38;5;241;43m*\u001b[39;49m\u001b[43margs\u001b[49m\u001b[43m)\u001b[49m\n\u001b[0;32m     78\u001b[0m     \u001b[38;5;28;01mreturn\u001b[39;00m \u001b[38;5;28mself\u001b[39m\u001b[38;5;241m.\u001b[39m_value\n",
      "File \u001b[1;32mc:\\Users\\super\\Anaconda3\\envs\\jax_opt\\Lib\\site-packages\\scipy\\optimize\\_optimize.py:71\u001b[0m, in \u001b[0;36mMemoizeJac._compute_if_needed\u001b[1;34m(self, x, *args)\u001b[0m\n\u001b[0;32m     69\u001b[0m \u001b[38;5;28;01mif\u001b[39;00m \u001b[38;5;129;01mnot\u001b[39;00m np\u001b[38;5;241m.\u001b[39mall(x \u001b[38;5;241m==\u001b[39m \u001b[38;5;28mself\u001b[39m\u001b[38;5;241m.\u001b[39mx) \u001b[38;5;129;01mor\u001b[39;00m \u001b[38;5;28mself\u001b[39m\u001b[38;5;241m.\u001b[39m_value \u001b[38;5;129;01mis\u001b[39;00m \u001b[38;5;28;01mNone\u001b[39;00m \u001b[38;5;129;01mor\u001b[39;00m \u001b[38;5;28mself\u001b[39m\u001b[38;5;241m.\u001b[39mjac \u001b[38;5;129;01mis\u001b[39;00m \u001b[38;5;28;01mNone\u001b[39;00m:\n\u001b[0;32m     70\u001b[0m     \u001b[38;5;28mself\u001b[39m\u001b[38;5;241m.\u001b[39mx \u001b[38;5;241m=\u001b[39m np\u001b[38;5;241m.\u001b[39masarray(x)\u001b[38;5;241m.\u001b[39mcopy()\n\u001b[1;32m---> 71\u001b[0m     fg \u001b[38;5;241m=\u001b[39m \u001b[38;5;28;43mself\u001b[39;49m\u001b[38;5;241;43m.\u001b[39;49m\u001b[43mfun\u001b[49m\u001b[43m(\u001b[49m\u001b[43mx\u001b[49m\u001b[43m,\u001b[49m\u001b[43m \u001b[49m\u001b[38;5;241;43m*\u001b[39;49m\u001b[43margs\u001b[49m\u001b[43m)\u001b[49m\n\u001b[0;32m     72\u001b[0m     \u001b[38;5;28mself\u001b[39m\u001b[38;5;241m.\u001b[39mjac \u001b[38;5;241m=\u001b[39m fg[\u001b[38;5;241m1\u001b[39m]\n\u001b[0;32m     73\u001b[0m     \u001b[38;5;28mself\u001b[39m\u001b[38;5;241m.\u001b[39m_value \u001b[38;5;241m=\u001b[39m fg[\u001b[38;5;241m0\u001b[39m]\n",
      "File \u001b[1;32mc:\\Users\\super\\Anaconda3\\envs\\jax_opt\\Lib\\site-packages\\jaxopt\\_src\\scipy_wrappers.py:336\u001b[0m, in \u001b[0;36mScipyMinimize._run.<locals>.scipy_fun\u001b[1;34m(x_onp)\u001b[0m\n\u001b[0;32m    334\u001b[0m \u001b[38;5;28;01mdef\u001b[39;00m \u001b[38;5;21mscipy_fun\u001b[39m(x_onp: onp\u001b[38;5;241m.\u001b[39mndarray) \u001b[38;5;241m-\u001b[39m\u001b[38;5;241m>\u001b[39m Tuple[onp\u001b[38;5;241m.\u001b[39mndarray, onp\u001b[38;5;241m.\u001b[39mndarray]:\n\u001b[0;32m    335\u001b[0m   x_jnp \u001b[38;5;241m=\u001b[39m onp_to_jnp(x_onp)\n\u001b[1;32m--> 336\u001b[0m   value, grads \u001b[38;5;241m=\u001b[39m \u001b[38;5;28;43mself\u001b[39;49m\u001b[38;5;241;43m.\u001b[39;49m\u001b[43m_value_and_grad_fun\u001b[49m\u001b[43m(\u001b[49m\u001b[43mx_jnp\u001b[49m\u001b[43m,\u001b[49m\u001b[43m \u001b[49m\u001b[38;5;241;43m*\u001b[39;49m\u001b[43margs\u001b[49m\u001b[43m,\u001b[49m\u001b[43m \u001b[49m\u001b[38;5;241;43m*\u001b[39;49m\u001b[38;5;241;43m*\u001b[39;49m\u001b[43mkwargs\u001b[49m\u001b[43m)\u001b[49m\n\u001b[0;32m    337\u001b[0m   \u001b[38;5;28;01mreturn\u001b[39;00m onp\u001b[38;5;241m.\u001b[39masarray(value, \u001b[38;5;28mself\u001b[39m\u001b[38;5;241m.\u001b[39mdtype), jnp_to_onp(grads, \u001b[38;5;28mself\u001b[39m\u001b[38;5;241m.\u001b[39mdtype)\n",
      "\u001b[1;31mKeyboardInterrupt\u001b[0m: "
     ]
    }
   ],
   "source": [
    "solver = jaxopt.ScipyMinimize(method=\"BFGS\", fun=opt.problem, maxiter=2000, jit = True)\n",
    "pump = random_seed.copy()\n",
    "pumps = []\n",
    "for j in range(len(y_N)):\n",
    "    for i in range(10):\n",
    "        print(\"run \" + str(i))\n",
    "        print(\"observables: \", opt.get_observables(pump, N, G, H, l))\n",
    "        (pump, state) = solver.run(pump, x, G, H, l, y_N[j], 5**i)\n",
    "    pumps.append(pump.copy())"
   ]
  },
  {
   "cell_type": "markdown",
   "id": "b7970b57",
   "metadata": {},
   "source": [
    "If the pump has a constant phase (independant of frequency), we can always multiply it by another phase such that the pump in the new frame of reference is purely real. Multiplication of the pump by a global phase does not change the value of the gain or of the Schmidt number."
   ]
  },
  {
   "cell_type": "markdown",
   "id": "689fef2d-3204-4450-96de-8119ec0eeb74",
   "metadata": {},
   "source": [
    "# Quadratures"
   ]
  },
  {
   "cell_type": "code",
   "execution_count": null,
   "id": "df00fccc-99c3-4c7b-9c8f-98071013dd0f",
   "metadata": {},
   "outputs": [
    {
     "data": {
      "text/plain": [
       "(Array(0.01947283, dtype=float64), Array(1.21603413, dtype=float64))"
      ]
     },
     "execution_count": 2,
     "metadata": {},
     "output_type": "execute_result"
    }
   ],
   "source": [
    "N = 201\n",
    "wi = -10\n",
    "wf = 10\n",
    "omega = np.linspace(wi, wf, N)\n",
    "delta_omega = np.abs(omega[1] - omega[0])\n",
    "vp = 0.1\n",
    "l = 1\n",
    "Np = 0.01\n",
    "G, H = init.get_constants(vp, l, wi, wf, Np, N = N)\n",
    "delta_k = 1.j*G\n",
    "y_N = 1.\n",
    "opt_quad.get_observables(gaussian_seed, N, delta_k, l)"
   ]
  },
  {
   "cell_type": "code",
   "execution_count": null,
   "id": "979a15f9-d789-4c62-9440-55b0cd6db133",
   "metadata": {},
   "outputs": [],
   "source": [
    "solver = jaxopt.ScipyMinimize(method=\"BFGS\", fun=opt_quad.problem, maxiter=5000, jit = False)"
   ]
  },
  {
   "cell_type": "code",
   "execution_count": null,
   "id": "311cc0e9-a0be-4725-a1ac-d44698300221",
   "metadata": {},
   "outputs": [
    {
     "name": "stdout",
     "output_type": "stream",
     "text": [
      "run 0\n",
      "observables:  (Array(0.13250503, dtype=float64), Array(15.58651777, dtype=float64))\n",
      "BFGS:  0\n",
      "observables:  (Array(1.02274813, dtype=float64), Array(1.14208508, dtype=float64))\n",
      "BFGS:  1\n",
      "observables:  (Array(1.02274813, dtype=float64), Array(1.14208508, dtype=float64))\n",
      "BFGS:  2\n",
      "observables:  (Array(1.02274813, dtype=float64), Array(1.14208508, dtype=float64))\n",
      "run 1\n",
      "observables:  (Array(1.02274813, dtype=float64), Array(1.14208508, dtype=float64))\n",
      "BFGS:  0\n",
      "observables:  (Array(1.00460954, dtype=float64), Array(1.14292455, dtype=float64))\n",
      "BFGS:  1\n",
      "observables:  (Array(1.00460954, dtype=float64), Array(1.14292455, dtype=float64))\n",
      "BFGS:  2\n",
      "observables:  (Array(1.00460954, dtype=float64), Array(1.14292455, dtype=float64))\n",
      "run 2\n",
      "observables:  (Array(1.00460954, dtype=float64), Array(1.14292455, dtype=float64))\n",
      "BFGS:  0\n",
      "observables:  (Array(1.00242965, dtype=float64), Array(1.14302504, dtype=float64))\n",
      "BFGS:  1\n",
      "observables:  (Array(1.00072715, dtype=float64), Array(1.14310396, dtype=float64))\n",
      "BFGS:  2\n",
      "observables:  (Array(1.00099997, dtype=float64), Array(1.14309118, dtype=float64))\n",
      "run 3\n",
      "observables:  (Array(1.00099997, dtype=float64), Array(1.14309118, dtype=float64))\n",
      "BFGS:  0\n",
      "observables:  (Array(1.00029063, dtype=float64), Array(1.14312443, dtype=float64))\n",
      "BFGS:  1\n",
      "observables:  (Array(1.00008453, dtype=float64), Array(1.14313368, dtype=float64))\n",
      "BFGS:  2\n",
      "observables:  (Array(1.00022199, dtype=float64), Array(1.14312742, dtype=float64))\n",
      "run 4\n",
      "observables:  (Array(1.00022199, dtype=float64), Array(1.14312742, dtype=float64))\n",
      "BFGS:  0\n",
      "observables:  (Array(1.00007545, dtype=float64), Array(1.14313421, dtype=float64))\n",
      "BFGS:  1\n",
      "observables:  (Array(1.00002502, dtype=float64), Array(1.14313658, dtype=float64))\n",
      "BFGS:  2\n",
      "observables:  (Array(1.00004115, dtype=float64), Array(1.14313584, dtype=float64))\n"
     ]
    }
   ],
   "source": [
    "# Try reducing the penalty term\n",
    "pump = random_seed.copy()\n",
    "pumps_quad = []\n",
    "for j in range(len(y_N)):\n",
    "    for i in range(5):\n",
    "        print(\"run \" + str(i))\n",
    "        print(\"observables: \", opt_quad.get_observables(pump, N, delta_k, l))\n",
    "        (pump, state) = solver.run(pump, omega, delta_k, l, y_N[j], 5**i)\n",
    "    pumps_quad.append(pump.copy())"
   ]
  },
  {
   "cell_type": "markdown",
   "id": "34af9aca-52b2-4713-bd57-d627c90ef61f",
   "metadata": {},
   "source": [
    "## Optimization of a Gaussian"
   ]
  },
  {
   "cell_type": "markdown",
   "id": "1b06ce83-4f31-4cee-afa2-ee5584a6b245",
   "metadata": {},
   "source": [
    "Now, assuming the optimal pump is truly Gaussian and a real function, only 2 parameters are needed, which are the amplitude and the width of the Gaussian. "
   ]
  },
  {
   "cell_type": "code",
   "execution_count": 4,
   "id": "2dbff652-d96f-4a1f-8a97-f9a72ef99df9",
   "metadata": {},
   "outputs": [
    {
     "name": "stdout",
     "output_type": "stream",
     "text": [
      "run number 0\n"
     ]
    }
   ],
   "source": [
    "gaussian_amplitude = 2*np.random.random()*delta_omega\n",
    "gaussian_width = 4*delta_omega\n",
    "params = [gaussian_amplitude, gaussian_width]\n",
    "gauss_solver = jaxopt.ScipyMinimize(method = \"BFGS\", fun=opt_gauss.problem, maxiter=20, jit= False)\n",
    "theta = params.copy()\n",
    "thetas = []\n",
    "for j in range(len(y_N)):\n",
    "    for i in range(10):\n",
    "        print(\"run number \" + str(i))\n",
    "        print(\"Schmidt number : \" + str(opt_gauss.get_observables(theta, x, 1.j*G, l)[1]))\n",
    "        (theta, state) = gauss_solver.run(theta, x, 1.j*G, l, y_N[j], 3**i)\n",
    "    thetas.append(theta.copy())"
   ]
  },
  {
   "cell_type": "markdown",
   "id": "372dd4d5",
   "metadata": {},
   "source": [
    "Comparing the likelihood between the optimal Gaussian pump and optimal pump from pseudo-quadrature, we see they are very similar"
   ]
  },
  {
   "cell_type": "code",
   "execution_count": null,
   "id": "5b6fea96",
   "metadata": {},
   "outputs": [],
   "source": [
    "for i in range(len(y_N)):\n",
    "    gauss = opt_gauss.get_gaussian(thetas[i], x)\n",
    "    print(\"difference for gain of \" + str(y_N[i]) + \" is: \" + str((pumps_quad[i] - gauss)@(pumps_quad[i] - gauss)/gauss@gauss))"
   ]
  },
  {
   "cell_type": "markdown",
   "id": "9d3f58eb-47c6-4b74-b18f-e93e8ab37a67",
   "metadata": {},
   "source": [
    "This result is interesting, because for low gain ($n \\ll 1$), it has been proven analytically through perturbative regime that to obtain purely separable joint spectral amplitude, a Gaussian phase matching function and a Gaussian pump are needed (Quesada and Branczyk, 2018). A numerical optimization scheme was performed with an objective function stemming from low-gain regime, which is a restricted case of the general SPDC in waveguides. Let us compare how does the optimal pump obtained theorically fare in high gain regime with the Gaussian pumps obtained with optimization at high gain."
   ]
  },
  {
   "cell_type": "markdown",
   "id": "29d08a73-00be-4a81-a9f8-6539adce6a08",
   "metadata": {},
   "source": [
    "# Comparing low gain optimal pump at high gain with optimized pump at this high gain"
   ]
  },
  {
   "cell_type": "markdown",
   "id": "bfc29729-65c4-46b3-af43-b370c0733f89",
   "metadata": {},
   "source": [
    "A main difference between the low-gain regime and high gain regime is the presence of higher photon number state terms in the output state. In low-gain regime, the optimal pump can be found analytically to be a Gaussian of a specific width. Here we show how the Schmidt number given by the optimal pump is compared to the Schmidt number given by the low-gain optimal pump scaled to give a specific gain."
   ]
  },
  {
   "cell_type": "code",
   "execution_count": null,
   "id": "9a7d23cc-08f8-48f0-93e5-9ab22a4a4b80",
   "metadata": {},
   "outputs": [],
   "source": [
    "ratio = 1.61/1.13\n",
    "vi = vp / (1 - 2 * ratio * vp / l)\n",
    "vs = vp / (1 + 2 * ratio * vp / l)\n",
    "width = jnp.sqrt(ratio/(2*l*(1/vp - 1/vi)))\n",
    "theta = [0.1*delta_omega, width]\n",
    "low_pump = opt_gauss.get_gaussian(theta, x)"
   ]
  },
  {
   "cell_type": "code",
   "execution_count": null,
   "id": "9b1948ec-c1ee-4731-aa4a-2979090c4d09",
   "metadata": {},
   "outputs": [],
   "source": [
    "amps = [0.0072305, 0.22415, 0.311079, 0.46748, 0.61615, 0.78247]\n",
    "schmidt_numbers_low = []\n",
    "schmidt_numbers = []\n",
    "for i, amp in enumerate(amps):\n",
    "    diff_theta = [amp*delta_omega, width]\n",
    "    schmidt_numbers_low.append(opt_gauss.get_observables(diff_theta, x, 1.j*G, l)[1])\n",
    "    schmidt_numbers.append(opt_gauss.get_observables(list(jnp.array(thetas[i])), x, 1.j*G, l)[1])"
   ]
  },
  {
   "cell_type": "markdown",
   "id": "6521bec4-eff2-4af8-a660-a62419175100",
   "metadata": {},
   "source": [
    "Now, we can compare them by plotting the Schmidt number as function of mean number of photon pairs per pulse"
   ]
  },
  {
   "cell_type": "code",
   "execution_count": null,
   "id": "ce474833-b1de-4c37-88bc-bb1ad2559389",
   "metadata": {},
   "outputs": [
    {
     "data": {
      "text/plain": [
       "[<matplotlib.lines.Line2D at 0x21843591350>]"
      ]
     },
     "execution_count": 207,
     "metadata": {},
     "output_type": "execute_result"
    },
    {
     "data": {
      "image/png": "[encoded data removed]",
      "text/plain": [
       "<Figure size 640x480 with 1 Axes>"
      ]
     },
     "metadata": {},
     "output_type": "display_data"
    }
   ],
   "source": [
    "plt.plot(y_N, schmidt_numbers_low)\n",
    "plt.plot(y_N, schmidt_numbers)"
   ]
  },
  {
   "cell_type": "markdown",
   "id": "427ef608-e66d-454f-a61c-2be062e0683c",
   "metadata": {},
   "source": [
    "Comparing the Schmidt number, we see that the pump optimized for low gain does not seem to be optimal for high gain."
   ]
  }
 ],
 "metadata": {
  "kernelspec": {
   "display_name": "Python 3 (ipykernel)",
   "language": "python",
   "name": "python3"
  },
  "language_info": {
   "codemirror_mode": {
    "name": "ipython",
    "version": 3
   },
   "file_extension": ".py",
   "mimetype": "text/x-python",
   "name": "python",
   "nbconvert_exporter": "python",
   "pygments_lexer": "ipython3",
   "version": "3.11.5"
  }
 },
 "nbformat": 4,
 "nbformat_minor": 5
}
