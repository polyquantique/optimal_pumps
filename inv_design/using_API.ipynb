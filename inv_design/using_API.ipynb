{
 "cells": [
  {
   "cell_type": "markdown",
   "id": "efce0642-7df2-490b-bbdf-5835069111e2",
   "metadata": {},
   "source": [
    "# Finding pumps that give locally optimal spectral purity"
   ]
  },
  {
   "cell_type": "markdown",
   "id": "1cd983ae-e0eb-43d8-846e-f557f09395e0",
   "metadata": {},
   "source": [
    "This notebook showcases a local optimization scheme applied on mode purity for SPDC phenomenon in waveguides. The constraint on mean number of photon pair per pump pulse (gain) and on the center frequency of the pump will be imposed using a penalty method and the constraint on the variance of pump will be imposed using a regularization method."
   ]
  },
  {
   "cell_type": "markdown",
   "id": "37b5dfbf-3850-4ec4-a56f-0dfeb68f01f7",
   "metadata": {},
   "source": [
    "## Import the libraries "
   ]
  },
  {
   "cell_type": "markdown",
   "id": "d8ae3af7-e4f9-4c07-a588-7120343ce0b0",
   "metadata": {},
   "source": [
    "The library used to generate initial seed, to optimize the spectral purity and to post-process the data are imported."
   ]
  },
  {
   "cell_type": "code",
   "execution_count": 1,
   "id": "0f5f8beb-951c-42d2-80d3-b797f49278ec",
   "metadata": {},
   "outputs": [
    {
     "name": "stderr",
     "output_type": "stream",
     "text": [
      "No GPU/TPU found, falling back to CPU. (Set TF_CPP_MIN_LOG_LEVEL=0 and rerun for more info.)\n"
     ]
    }
   ],
   "source": [
    "import jax.numpy as jnp\n",
    "import jax\n",
    "import jaxopt\n",
    "import numpy as np\n",
    "import scipy\n",
    "\n",
    "import matplotlib.pyplot as plt\n",
    "\n",
    "import optimization_SPDC as opt\n",
    "import optimization_quadratures as opt_quad\n",
    "import get_initialization_cond as init\n",
    "\n",
    "\n",
    "key = jax.random.PRNGKey(0)\n",
    "#from jax.config import config\n",
    "#config.update(\"jax_enable_x64\", True)\n",
    "jax.config.update(\"jax_enable_x64\", True)"
   ]
  },
  {
   "cell_type": "markdown",
   "id": "38f9cb31",
   "metadata": {},
   "source": [
    "# Case where the pump has a frequency dependant phase"
   ]
  },
  {
   "cell_type": "markdown",
   "id": "238278f5-4752-4719-942d-1845e3004621",
   "metadata": {},
   "source": [
    "## Set general hyperparameters"
   ]
  },
  {
   "cell_type": "markdown",
   "id": "859584e0-08ee-4658-be01-1fa6a6d8f79e",
   "metadata": {},
   "source": [
    "Hyperparameters define the frequency range, length of waveguide, group velocities and gain"
   ]
  },
  {
   "cell_type": "code",
   "execution_count": 2,
   "id": "e4651287-a200-4008-a46e-ce865c68271b",
   "metadata": {},
   "outputs": [],
   "source": [
    "N = 201\n",
    "wi = -10\n",
    "wf = 10\n",
    "delta_omega = (wf - wi)/N\n",
    "x = jnp.linspace(wi, wf, N)\n",
    "vp = 0.1\n",
    "l = 1\n",
    "y_N = 0.5"
   ]
  },
  {
   "cell_type": "markdown",
   "id": "f5f1fad3-7eea-4783-a9b4-bd9aaf551b2b",
   "metadata": {},
   "source": [
    "## Define phase matching matrices and initialize the pump"
   ]
  },
  {
   "cell_type": "code",
   "execution_count": 3,
   "id": "cce1f329-4c35-429a-85ce-dad7fd65820c",
   "metadata": {},
   "outputs": [
    {
     "data": {
      "text/plain": [
       "(Array(3.86375127e-06, dtype=float64), Array(1.21830831, dtype=float64))"
      ]
     },
     "execution_count": 3,
     "metadata": {},
     "output_type": "execute_result"
    }
   ],
   "source": [
    "G, H = init.get_constants(vp, l, wi, wf, N = N)\n",
    "random_seed = 0.1*delta_omega*jax.random.uniform(key, shape=(4*N - 2,))\n",
    "gaussian_seed = 0.001*delta_omega*jnp.array(list(np.exp(-np.linspace(x[0], x[-1], 2*N - 1)**2/.5)) + list(np.exp(-np.linspace(x[0], x[-1], 2*N - 1)**2/.5)))"
   ]
  },
  {
   "cell_type": "markdown",
   "id": "d7c9ac3b",
   "metadata": {},
   "source": [
    "## Perform BFGS with penalty method and regularization on pump variance"
   ]
  },
  {
   "cell_type": "code",
   "execution_count": 15,
   "id": "e0d703aa-4ac9-4725-aada-d24666472023",
   "metadata": {},
   "outputs": [
    {
     "name": "stdout",
     "output_type": "stream",
     "text": [
      "run 0\n",
      "observables:  (Array(0.29128919, dtype=float64), Array(14.84103648, dtype=float64))\n",
      "53.25400114059448\n",
      "BFGS:  0\n",
      "observables:  (Array(1.20907539, dtype=float64), Array(1.4128639, dtype=float64))\n"
     ]
    },
    {
     "ename": "KeyboardInterrupt",
     "evalue": "",
     "output_type": "error",
     "traceback": [
      "\u001b[1;31m---------------------------------------------------------------------------\u001b[0m",
      "\u001b[1;31mKeyboardInterrupt\u001b[0m                         Traceback (most recent call last)",
      "Cell \u001b[1;32mIn[15], line 11\u001b[0m\n\u001b[0;32m      9\u001b[0m \u001b[38;5;28;01mfor\u001b[39;00m j \u001b[38;5;129;01min\u001b[39;00m \u001b[38;5;28mrange\u001b[39m(\u001b[38;5;241m3\u001b[39m):\n\u001b[0;32m     10\u001b[0m     tic \u001b[38;5;241m=\u001b[39m time\u001b[38;5;241m.\u001b[39mtime()\n\u001b[1;32m---> 11\u001b[0m     (pump, state) \u001b[38;5;241m=\u001b[39m \u001b[43msolver\u001b[49m\u001b[38;5;241;43m.\u001b[39;49m\u001b[43mrun\u001b[49m\u001b[43m(\u001b[49m\u001b[43mpump\u001b[49m\u001b[43m,\u001b[49m\u001b[43m \u001b[49m\u001b[43mx\u001b[49m\u001b[43m,\u001b[49m\u001b[43m \u001b[49m\u001b[43mG\u001b[49m\u001b[43m,\u001b[49m\u001b[43m \u001b[49m\u001b[43mH\u001b[49m\u001b[43m,\u001b[49m\u001b[43m \u001b[49m\u001b[43ml\u001b[49m\u001b[43m,\u001b[49m\u001b[43m \u001b[49m\u001b[43my_N\u001b[49m\u001b[43m,\u001b[49m\u001b[43m \u001b[49m\u001b[38;5;241;43m5\u001b[39;49m\u001b[38;5;241;43m*\u001b[39;49m\u001b[38;5;241;43m*\u001b[39;49m\u001b[43mi\u001b[49m\u001b[43m)\u001b[49m\n\u001b[0;32m     12\u001b[0m     \u001b[38;5;28mprint\u001b[39m(time\u001b[38;5;241m.\u001b[39mtime() \u001b[38;5;241m-\u001b[39m tic)\n\u001b[0;32m     13\u001b[0m     \u001b[38;5;28mprint\u001b[39m(\u001b[38;5;124m\"\u001b[39m\u001b[38;5;124mBFGS: \u001b[39m\u001b[38;5;124m\"\u001b[39m, j)\n",
      "File \u001b[1;32mc:\\Users\\super\\Anaconda3\\envs\\jax_opt\\Lib\\site-packages\\jaxopt\\_src\\implicit_diff.py:251\u001b[0m, in \u001b[0;36m_custom_root.<locals>.wrapped_solver_fun\u001b[1;34m(*args, **kwargs)\u001b[0m\n\u001b[0;32m    249\u001b[0m args, kwargs \u001b[38;5;241m=\u001b[39m _signature_bind(solver_fun_signature, \u001b[38;5;241m*\u001b[39margs, \u001b[38;5;241m*\u001b[39m\u001b[38;5;241m*\u001b[39mkwargs)\n\u001b[0;32m    250\u001b[0m keys, vals \u001b[38;5;241m=\u001b[39m \u001b[38;5;28mlist\u001b[39m(kwargs\u001b[38;5;241m.\u001b[39mkeys()), \u001b[38;5;28mlist\u001b[39m(kwargs\u001b[38;5;241m.\u001b[39mvalues())\n\u001b[1;32m--> 251\u001b[0m \u001b[38;5;28;01mreturn\u001b[39;00m \u001b[43mmake_custom_vjp_solver_fun\u001b[49m\u001b[43m(\u001b[49m\u001b[43msolver_fun\u001b[49m\u001b[43m,\u001b[49m\u001b[43m \u001b[49m\u001b[43mkeys\u001b[49m\u001b[43m)\u001b[49m\u001b[43m(\u001b[49m\u001b[38;5;241;43m*\u001b[39;49m\u001b[43margs\u001b[49m\u001b[43m,\u001b[49m\u001b[43m \u001b[49m\u001b[38;5;241;43m*\u001b[39;49m\u001b[43mvals\u001b[49m\u001b[43m)\u001b[49m\n",
      "    \u001b[1;31m[... skipping hidden 1 frame]\u001b[0m\n",
      "File \u001b[1;32mc:\\Users\\super\\Anaconda3\\envs\\jax_opt\\Lib\\site-packages\\jax\\_src\\custom_derivatives.py:620\u001b[0m, in \u001b[0;36mcustom_vjp.__call__\u001b[1;34m(self, *args, **kwargs)\u001b[0m\n\u001b[0;32m    617\u001b[0m flat_fwd, out_trees \u001b[38;5;241m=\u001b[39m _flatten_fwd(fwd, \u001b[38;5;28mself\u001b[39m\u001b[38;5;241m.\u001b[39msymbolic_zeros, primal_name,\n\u001b[0;32m    618\u001b[0m                                    fwd_name, in_tree, out_type)\n\u001b[0;32m    619\u001b[0m flat_bwd \u001b[38;5;241m=\u001b[39m _flatten_bwd(bwd, in_tree, in_avals, out_trees)\u001b[38;5;241m.\u001b[39mcall_wrapped\n\u001b[1;32m--> 620\u001b[0m out_flat \u001b[38;5;241m=\u001b[39m \u001b[43mcustom_vjp_call_p\u001b[49m\u001b[38;5;241;43m.\u001b[39;49m\u001b[43mbind\u001b[49m\u001b[43m(\u001b[49m\u001b[43mflat_fun\u001b[49m\u001b[43m,\u001b[49m\u001b[43m \u001b[49m\u001b[43mflat_fwd\u001b[49m\u001b[43m,\u001b[49m\u001b[43m \u001b[49m\u001b[43mflat_bwd\u001b[49m\u001b[43m,\u001b[49m\n\u001b[0;32m    621\u001b[0m \u001b[43m                                  \u001b[49m\u001b[38;5;241;43m*\u001b[39;49m\u001b[43margs_flat\u001b[49m\u001b[43m,\u001b[49m\u001b[43m \u001b[49m\u001b[43mout_trees\u001b[49m\u001b[38;5;241;43m=\u001b[39;49m\u001b[43mout_trees\u001b[49m\u001b[43m,\u001b[49m\n\u001b[0;32m    622\u001b[0m \u001b[43m                                  \u001b[49m\u001b[43msymbolic_zeros\u001b[49m\u001b[38;5;241;43m=\u001b[39;49m\u001b[38;5;28;43mself\u001b[39;49m\u001b[38;5;241;43m.\u001b[39;49m\u001b[43msymbolic_zeros\u001b[49m\u001b[43m)\u001b[49m\n\u001b[0;32m    623\u001b[0m _, (out_tree, _) \u001b[38;5;241m=\u001b[39m lu\u001b[38;5;241m.\u001b[39mmerge_linear_aux(out_type, out_trees)\n\u001b[0;32m    624\u001b[0m \u001b[38;5;28;01mreturn\u001b[39;00m tree_unflatten(out_tree, out_flat)\n",
      "File \u001b[1;32mc:\\Users\\super\\Anaconda3\\envs\\jax_opt\\Lib\\site-packages\\jax\\_src\\custom_derivatives.py:770\u001b[0m, in \u001b[0;36mCustomVJPCallPrimitive.bind\u001b[1;34m(self, fun, fwd, bwd, out_trees, symbolic_zeros, *args)\u001b[0m\n\u001b[0;32m    768\u001b[0m tracers \u001b[38;5;241m=\u001b[39m \u001b[38;5;28mmap\u001b[39m(top_trace\u001b[38;5;241m.\u001b[39mfull_raise, args)  \u001b[38;5;66;03m# type: ignore\u001b[39;00m\n\u001b[0;32m    769\u001b[0m bwd_ \u001b[38;5;241m=\u001b[39m \u001b[38;5;28;01mlambda\u001b[39;00m \u001b[38;5;241m*\u001b[39margs: bwd(\u001b[38;5;241m*\u001b[39margs)\n\u001b[1;32m--> 770\u001b[0m outs \u001b[38;5;241m=\u001b[39m \u001b[43mtop_trace\u001b[49m\u001b[38;5;241;43m.\u001b[39;49m\u001b[43mprocess_custom_vjp_call\u001b[49m\u001b[43m(\u001b[49m\u001b[38;5;28;43mself\u001b[39;49m\u001b[43m,\u001b[49m\u001b[43m \u001b[49m\u001b[43mfun\u001b[49m\u001b[43m,\u001b[49m\u001b[43m \u001b[49m\u001b[43mfwd\u001b[49m\u001b[43m,\u001b[49m\u001b[43m \u001b[49m\u001b[43mbwd_\u001b[49m\u001b[43m,\u001b[49m\u001b[43m \u001b[49m\u001b[43mtracers\u001b[49m\u001b[43m,\u001b[49m\n\u001b[0;32m    771\u001b[0m \u001b[43m                                         \u001b[49m\u001b[43mout_trees\u001b[49m\u001b[38;5;241;43m=\u001b[39;49m\u001b[43mout_trees\u001b[49m\u001b[43m,\u001b[49m\n\u001b[0;32m    772\u001b[0m \u001b[43m                                         \u001b[49m\u001b[43msymbolic_zeros\u001b[49m\u001b[38;5;241;43m=\u001b[39;49m\u001b[43msymbolic_zeros\u001b[49m\u001b[43m)\u001b[49m\n\u001b[0;32m    773\u001b[0m fst, env_trace_todo \u001b[38;5;241m=\u001b[39m lu\u001b[38;5;241m.\u001b[39mmerge_linear_aux(env_trace_todo1, env_trace_todo2)\n\u001b[0;32m    774\u001b[0m \u001b[38;5;28;01mif\u001b[39;00m fst:\n",
      "File \u001b[1;32mc:\\Users\\super\\Anaconda3\\envs\\jax_opt\\Lib\\site-packages\\jax\\_src\\core.py:840\u001b[0m, in \u001b[0;36mEvalTrace.process_custom_vjp_call\u001b[1;34m(***failed resolving arguments***)\u001b[0m\n\u001b[0;32m    838\u001b[0m \u001b[38;5;28;01mdel\u001b[39;00m primitive, fwd, bwd, _  \u001b[38;5;66;03m# Unused.\u001b[39;00m\n\u001b[0;32m    839\u001b[0m \u001b[38;5;28;01mwith\u001b[39;00m new_sublevel():\n\u001b[1;32m--> 840\u001b[0m   \u001b[38;5;28;01mreturn\u001b[39;00m \u001b[43mfun\u001b[49m\u001b[38;5;241;43m.\u001b[39;49m\u001b[43mcall_wrapped\u001b[49m\u001b[43m(\u001b[49m\u001b[38;5;241;43m*\u001b[39;49m\u001b[43mtracers\u001b[49m\u001b[43m)\u001b[49m\n",
      "File \u001b[1;32mc:\\Users\\super\\Anaconda3\\envs\\jax_opt\\Lib\\site-packages\\jax\\_src\\linear_util.py:188\u001b[0m, in \u001b[0;36mWrappedFun.call_wrapped\u001b[1;34m(self, *args, **kwargs)\u001b[0m\n\u001b[0;32m    185\u001b[0m gen \u001b[38;5;241m=\u001b[39m gen_static_args \u001b[38;5;241m=\u001b[39m out_store \u001b[38;5;241m=\u001b[39m \u001b[38;5;28;01mNone\u001b[39;00m\n\u001b[0;32m    187\u001b[0m \u001b[38;5;28;01mtry\u001b[39;00m:\n\u001b[1;32m--> 188\u001b[0m   ans \u001b[38;5;241m=\u001b[39m \u001b[38;5;28;43mself\u001b[39;49m\u001b[38;5;241;43m.\u001b[39;49m\u001b[43mf\u001b[49m\u001b[43m(\u001b[49m\u001b[38;5;241;43m*\u001b[39;49m\u001b[43margs\u001b[49m\u001b[43m,\u001b[49m\u001b[43m \u001b[49m\u001b[38;5;241;43m*\u001b[39;49m\u001b[38;5;241;43m*\u001b[39;49m\u001b[38;5;28;43mdict\u001b[39;49m\u001b[43m(\u001b[49m\u001b[38;5;28;43mself\u001b[39;49m\u001b[38;5;241;43m.\u001b[39;49m\u001b[43mparams\u001b[49m\u001b[43m,\u001b[49m\u001b[43m \u001b[49m\u001b[38;5;241;43m*\u001b[39;49m\u001b[38;5;241;43m*\u001b[39;49m\u001b[43mkwargs\u001b[49m\u001b[43m)\u001b[49m\u001b[43m)\u001b[49m\n\u001b[0;32m    189\u001b[0m \u001b[38;5;28;01mexcept\u001b[39;00m:\n\u001b[0;32m    190\u001b[0m   \u001b[38;5;66;03m# Some transformations yield from inside context managers, so we have to\u001b[39;00m\n\u001b[0;32m    191\u001b[0m   \u001b[38;5;66;03m# interrupt them before reraising the exception. Otherwise they will only\u001b[39;00m\n\u001b[0;32m    192\u001b[0m   \u001b[38;5;66;03m# get garbage-collected at some later time, running their cleanup tasks\u001b[39;00m\n\u001b[0;32m    193\u001b[0m   \u001b[38;5;66;03m# only after this exception is handled, which can corrupt the global\u001b[39;00m\n\u001b[0;32m    194\u001b[0m   \u001b[38;5;66;03m# state.\u001b[39;00m\n\u001b[0;32m    195\u001b[0m   \u001b[38;5;28;01mwhile\u001b[39;00m stack:\n",
      "File \u001b[1;32mc:\\Users\\super\\Anaconda3\\envs\\jax_opt\\Lib\\site-packages\\jaxopt\\_src\\implicit_diff.py:207\u001b[0m, in \u001b[0;36m_custom_root.<locals>.make_custom_vjp_solver_fun.<locals>.solver_fun_flat\u001b[1;34m(*flat_args)\u001b[0m\n\u001b[0;32m    204\u001b[0m \u001b[38;5;129m@jax\u001b[39m\u001b[38;5;241m.\u001b[39mcustom_vjp\n\u001b[0;32m    205\u001b[0m \u001b[38;5;28;01mdef\u001b[39;00m \u001b[38;5;21msolver_fun_flat\u001b[39m(\u001b[38;5;241m*\u001b[39mflat_args):\n\u001b[0;32m    206\u001b[0m   args, kwargs \u001b[38;5;241m=\u001b[39m _extract_kwargs(kwarg_keys, flat_args)\n\u001b[1;32m--> 207\u001b[0m   \u001b[38;5;28;01mreturn\u001b[39;00m \u001b[43msolver_fun\u001b[49m\u001b[43m(\u001b[49m\u001b[38;5;241;43m*\u001b[39;49m\u001b[43margs\u001b[49m\u001b[43m,\u001b[49m\u001b[43m \u001b[49m\u001b[38;5;241;43m*\u001b[39;49m\u001b[38;5;241;43m*\u001b[39;49m\u001b[43mkwargs\u001b[49m\u001b[43m)\u001b[49m\n",
      "File \u001b[1;32mc:\\Users\\super\\Anaconda3\\envs\\jax_opt\\Lib\\site-packages\\jaxopt\\_src\\scipy_wrappers.py:390\u001b[0m, in \u001b[0;36mScipyMinimize.run\u001b[1;34m(self, init_params, *args, **kwargs)\u001b[0m\n\u001b[0;32m    377\u001b[0m \u001b[38;5;28;01mdef\u001b[39;00m \u001b[38;5;21mrun\u001b[39m(\u001b[38;5;28mself\u001b[39m,\n\u001b[0;32m    378\u001b[0m         init_params: Any,\n\u001b[0;32m    379\u001b[0m         \u001b[38;5;241m*\u001b[39margs,\n\u001b[0;32m    380\u001b[0m         \u001b[38;5;241m*\u001b[39m\u001b[38;5;241m*\u001b[39mkwargs) \u001b[38;5;241m-\u001b[39m\u001b[38;5;241m>\u001b[39m base\u001b[38;5;241m.\u001b[39mOptStep:\n\u001b[0;32m    381\u001b[0m \u001b[38;5;250m  \u001b[39m\u001b[38;5;124;03m\"\"\"Runs the solver.\u001b[39;00m\n\u001b[0;32m    382\u001b[0m \n\u001b[0;32m    383\u001b[0m \u001b[38;5;124;03m  Args:\u001b[39;00m\n\u001b[1;32m   (...)\u001b[0m\n\u001b[0;32m    388\u001b[0m \u001b[38;5;124;03m    (params, info).\u001b[39;00m\n\u001b[0;32m    389\u001b[0m \u001b[38;5;124;03m  \"\"\"\u001b[39;00m\n\u001b[1;32m--> 390\u001b[0m   \u001b[38;5;28;01mreturn\u001b[39;00m \u001b[38;5;28;43mself\u001b[39;49m\u001b[38;5;241;43m.\u001b[39;49m\u001b[43m_run\u001b[49m\u001b[43m(\u001b[49m\u001b[43minit_params\u001b[49m\u001b[43m,\u001b[49m\u001b[43m \u001b[49m\u001b[38;5;28;43;01mNone\u001b[39;49;00m\u001b[43m,\u001b[49m\u001b[43m \u001b[49m\u001b[38;5;241;43m*\u001b[39;49m\u001b[43margs\u001b[49m\u001b[43m,\u001b[49m\u001b[43m \u001b[49m\u001b[38;5;241;43m*\u001b[39;49m\u001b[38;5;241;43m*\u001b[39;49m\u001b[43mkwargs\u001b[49m\u001b[43m)\u001b[49m\n",
      "File \u001b[1;32mc:\\Users\\super\\Anaconda3\\envs\\jax_opt\\Lib\\site-packages\\jaxopt\\_src\\scipy_wrappers.py:343\u001b[0m, in \u001b[0;36mScipyMinimize._run\u001b[1;34m(self, init_params, bounds, *args, **kwargs)\u001b[0m\n\u001b[0;32m    339\u001b[0m \u001b[38;5;28;01mif\u001b[39;00m bounds \u001b[38;5;129;01mis\u001b[39;00m \u001b[38;5;129;01mnot\u001b[39;00m \u001b[38;5;28;01mNone\u001b[39;00m:\n\u001b[0;32m    340\u001b[0m   bounds \u001b[38;5;241m=\u001b[39m osp\u001b[38;5;241m.\u001b[39moptimize\u001b[38;5;241m.\u001b[39mBounds(lb\u001b[38;5;241m=\u001b[39mjnp_to_onp(bounds[\u001b[38;5;241m0\u001b[39m], \u001b[38;5;28mself\u001b[39m\u001b[38;5;241m.\u001b[39mdtype),\n\u001b[0;32m    341\u001b[0m                                ub\u001b[38;5;241m=\u001b[39mjnp_to_onp(bounds[\u001b[38;5;241m1\u001b[39m], \u001b[38;5;28mself\u001b[39m\u001b[38;5;241m.\u001b[39mdtype))\n\u001b[1;32m--> 343\u001b[0m res \u001b[38;5;241m=\u001b[39m \u001b[43mosp\u001b[49m\u001b[38;5;241;43m.\u001b[39;49m\u001b[43moptimize\u001b[49m\u001b[38;5;241;43m.\u001b[39;49m\u001b[43mminimize\u001b[49m\u001b[43m(\u001b[49m\u001b[43mscipy_fun\u001b[49m\u001b[43m,\u001b[49m\u001b[43m \u001b[49m\u001b[43mjnp_to_onp\u001b[49m\u001b[43m(\u001b[49m\u001b[43minit_params\u001b[49m\u001b[43m,\u001b[49m\u001b[43m \u001b[49m\u001b[38;5;28;43mself\u001b[39;49m\u001b[38;5;241;43m.\u001b[39;49m\u001b[43mdtype\u001b[49m\u001b[43m)\u001b[49m\u001b[43m,\u001b[49m\n\u001b[0;32m    344\u001b[0m \u001b[43m                            \u001b[49m\u001b[43mjac\u001b[49m\u001b[38;5;241;43m=\u001b[39;49m\u001b[38;5;28;43;01mTrue\u001b[39;49;00m\u001b[43m,\u001b[49m\n\u001b[0;32m    345\u001b[0m \u001b[43m                            \u001b[49m\u001b[43mtol\u001b[49m\u001b[38;5;241;43m=\u001b[39;49m\u001b[38;5;28;43mself\u001b[39;49m\u001b[38;5;241;43m.\u001b[39;49m\u001b[43mtol\u001b[49m\u001b[43m,\u001b[49m\n\u001b[0;32m    346\u001b[0m \u001b[43m                            \u001b[49m\u001b[43mbounds\u001b[49m\u001b[38;5;241;43m=\u001b[39;49m\u001b[43mbounds\u001b[49m\u001b[43m,\u001b[49m\n\u001b[0;32m    347\u001b[0m \u001b[43m                            \u001b[49m\u001b[43mmethod\u001b[49m\u001b[38;5;241;43m=\u001b[39;49m\u001b[38;5;28;43mself\u001b[39;49m\u001b[38;5;241;43m.\u001b[39;49m\u001b[43mmethod\u001b[49m\u001b[43m,\u001b[49m\n\u001b[0;32m    348\u001b[0m \u001b[43m                            \u001b[49m\u001b[43mcallback\u001b[49m\u001b[38;5;241;43m=\u001b[39;49m\u001b[43mscipy_callback\u001b[49m\u001b[43m,\u001b[49m\n\u001b[0;32m    349\u001b[0m \u001b[43m                            \u001b[49m\u001b[43moptions\u001b[49m\u001b[38;5;241;43m=\u001b[39;49m\u001b[38;5;28;43mself\u001b[39;49m\u001b[38;5;241;43m.\u001b[39;49m\u001b[43moptions\u001b[49m\u001b[43m)\u001b[49m\n\u001b[0;32m    351\u001b[0m params \u001b[38;5;241m=\u001b[39m tree_util\u001b[38;5;241m.\u001b[39mtree_map(jnp\u001b[38;5;241m.\u001b[39masarray, onp_to_jnp(res\u001b[38;5;241m.\u001b[39mx))\n\u001b[0;32m    353\u001b[0m \u001b[38;5;28;01mif\u001b[39;00m \u001b[38;5;28mhasattr\u001b[39m(res, \u001b[38;5;124m'\u001b[39m\u001b[38;5;124mhess_inv\u001b[39m\u001b[38;5;124m'\u001b[39m):\n",
      "File \u001b[1;32mc:\\Users\\super\\Anaconda3\\envs\\jax_opt\\Lib\\site-packages\\scipy\\optimize\\_minimize.py:705\u001b[0m, in \u001b[0;36mminimize\u001b[1;34m(fun, x0, args, method, jac, hess, hessp, bounds, constraints, tol, callback, options)\u001b[0m\n\u001b[0;32m    703\u001b[0m     res \u001b[38;5;241m=\u001b[39m _minimize_cg(fun, x0, args, jac, callback, \u001b[38;5;241m*\u001b[39m\u001b[38;5;241m*\u001b[39moptions)\n\u001b[0;32m    704\u001b[0m \u001b[38;5;28;01melif\u001b[39;00m meth \u001b[38;5;241m==\u001b[39m \u001b[38;5;124m'\u001b[39m\u001b[38;5;124mbfgs\u001b[39m\u001b[38;5;124m'\u001b[39m:\n\u001b[1;32m--> 705\u001b[0m     res \u001b[38;5;241m=\u001b[39m \u001b[43m_minimize_bfgs\u001b[49m\u001b[43m(\u001b[49m\u001b[43mfun\u001b[49m\u001b[43m,\u001b[49m\u001b[43m \u001b[49m\u001b[43mx0\u001b[49m\u001b[43m,\u001b[49m\u001b[43m \u001b[49m\u001b[43margs\u001b[49m\u001b[43m,\u001b[49m\u001b[43m \u001b[49m\u001b[43mjac\u001b[49m\u001b[43m,\u001b[49m\u001b[43m \u001b[49m\u001b[43mcallback\u001b[49m\u001b[43m,\u001b[49m\u001b[43m \u001b[49m\u001b[38;5;241;43m*\u001b[39;49m\u001b[38;5;241;43m*\u001b[39;49m\u001b[43moptions\u001b[49m\u001b[43m)\u001b[49m\n\u001b[0;32m    706\u001b[0m \u001b[38;5;28;01melif\u001b[39;00m meth \u001b[38;5;241m==\u001b[39m \u001b[38;5;124m'\u001b[39m\u001b[38;5;124mnewton-cg\u001b[39m\u001b[38;5;124m'\u001b[39m:\n\u001b[0;32m    707\u001b[0m     res \u001b[38;5;241m=\u001b[39m _minimize_newtoncg(fun, x0, args, jac, hess, hessp, callback,\n\u001b[0;32m    708\u001b[0m                              \u001b[38;5;241m*\u001b[39m\u001b[38;5;241m*\u001b[39moptions)\n",
      "File \u001b[1;32mc:\\Users\\super\\Anaconda3\\envs\\jax_opt\\Lib\\site-packages\\scipy\\optimize\\_optimize.py:1445\u001b[0m, in \u001b[0;36m_minimize_bfgs\u001b[1;34m(fun, x0, args, jac, callback, gtol, norm, eps, maxiter, disp, return_all, finite_diff_rel_step, xrtol, **unknown_options)\u001b[0m\n\u001b[0;32m   1442\u001b[0m pk \u001b[38;5;241m=\u001b[39m \u001b[38;5;241m-\u001b[39mnp\u001b[38;5;241m.\u001b[39mdot(Hk, gfk)\n\u001b[0;32m   1443\u001b[0m \u001b[38;5;28;01mtry\u001b[39;00m:\n\u001b[0;32m   1444\u001b[0m     alpha_k, fc, gc, old_fval, old_old_fval, gfkp1 \u001b[38;5;241m=\u001b[39m \\\n\u001b[1;32m-> 1445\u001b[0m              \u001b[43m_line_search_wolfe12\u001b[49m\u001b[43m(\u001b[49m\u001b[43mf\u001b[49m\u001b[43m,\u001b[49m\u001b[43m \u001b[49m\u001b[43mmyfprime\u001b[49m\u001b[43m,\u001b[49m\u001b[43m \u001b[49m\u001b[43mxk\u001b[49m\u001b[43m,\u001b[49m\u001b[43m \u001b[49m\u001b[43mpk\u001b[49m\u001b[43m,\u001b[49m\u001b[43m \u001b[49m\u001b[43mgfk\u001b[49m\u001b[43m,\u001b[49m\n\u001b[0;32m   1446\u001b[0m \u001b[43m                                  \u001b[49m\u001b[43mold_fval\u001b[49m\u001b[43m,\u001b[49m\u001b[43m \u001b[49m\u001b[43mold_old_fval\u001b[49m\u001b[43m,\u001b[49m\u001b[43m \u001b[49m\u001b[43mamin\u001b[49m\u001b[38;5;241;43m=\u001b[39;49m\u001b[38;5;241;43m1e-100\u001b[39;49m\u001b[43m,\u001b[49m\u001b[43m \u001b[49m\u001b[43mamax\u001b[49m\u001b[38;5;241;43m=\u001b[39;49m\u001b[38;5;241;43m1e100\u001b[39;49m\u001b[43m)\u001b[49m\n\u001b[0;32m   1447\u001b[0m \u001b[38;5;28;01mexcept\u001b[39;00m _LineSearchError:\n\u001b[0;32m   1448\u001b[0m     \u001b[38;5;66;03m# Line search failed to find a better solution.\u001b[39;00m\n\u001b[0;32m   1449\u001b[0m     warnflag \u001b[38;5;241m=\u001b[39m \u001b[38;5;241m2\u001b[39m\n",
      "File \u001b[1;32mc:\\Users\\super\\Anaconda3\\envs\\jax_opt\\Lib\\site-packages\\scipy\\optimize\\_optimize.py:1215\u001b[0m, in \u001b[0;36m_line_search_wolfe12\u001b[1;34m(f, fprime, xk, pk, gfk, old_fval, old_old_fval, **kwargs)\u001b[0m\n\u001b[0;32m   1201\u001b[0m \u001b[38;5;250m\u001b[39m\u001b[38;5;124;03m\"\"\"\u001b[39;00m\n\u001b[0;32m   1202\u001b[0m \u001b[38;5;124;03mSame as line_search_wolfe1, but fall back to line_search_wolfe2 if\u001b[39;00m\n\u001b[0;32m   1203\u001b[0m \u001b[38;5;124;03msuitable step length is not found, and raise an exception if a\u001b[39;00m\n\u001b[1;32m   (...)\u001b[0m\n\u001b[0;32m   1210\u001b[0m \n\u001b[0;32m   1211\u001b[0m \u001b[38;5;124;03m\"\"\"\u001b[39;00m\n\u001b[0;32m   1213\u001b[0m extra_condition \u001b[38;5;241m=\u001b[39m kwargs\u001b[38;5;241m.\u001b[39mpop(\u001b[38;5;124m'\u001b[39m\u001b[38;5;124mextra_condition\u001b[39m\u001b[38;5;124m'\u001b[39m, \u001b[38;5;28;01mNone\u001b[39;00m)\n\u001b[1;32m-> 1215\u001b[0m ret \u001b[38;5;241m=\u001b[39m \u001b[43mline_search_wolfe1\u001b[49m\u001b[43m(\u001b[49m\u001b[43mf\u001b[49m\u001b[43m,\u001b[49m\u001b[43m \u001b[49m\u001b[43mfprime\u001b[49m\u001b[43m,\u001b[49m\u001b[43m \u001b[49m\u001b[43mxk\u001b[49m\u001b[43m,\u001b[49m\u001b[43m \u001b[49m\u001b[43mpk\u001b[49m\u001b[43m,\u001b[49m\u001b[43m \u001b[49m\u001b[43mgfk\u001b[49m\u001b[43m,\u001b[49m\n\u001b[0;32m   1216\u001b[0m \u001b[43m                         \u001b[49m\u001b[43mold_fval\u001b[49m\u001b[43m,\u001b[49m\u001b[43m \u001b[49m\u001b[43mold_old_fval\u001b[49m\u001b[43m,\u001b[49m\n\u001b[0;32m   1217\u001b[0m \u001b[43m                         \u001b[49m\u001b[38;5;241;43m*\u001b[39;49m\u001b[38;5;241;43m*\u001b[39;49m\u001b[43mkwargs\u001b[49m\u001b[43m)\u001b[49m\n\u001b[0;32m   1219\u001b[0m \u001b[38;5;28;01mif\u001b[39;00m ret[\u001b[38;5;241m0\u001b[39m] \u001b[38;5;129;01mis\u001b[39;00m \u001b[38;5;129;01mnot\u001b[39;00m \u001b[38;5;28;01mNone\u001b[39;00m \u001b[38;5;129;01mand\u001b[39;00m extra_condition \u001b[38;5;129;01mis\u001b[39;00m \u001b[38;5;129;01mnot\u001b[39;00m \u001b[38;5;28;01mNone\u001b[39;00m:\n\u001b[0;32m   1220\u001b[0m     xp1 \u001b[38;5;241m=\u001b[39m xk \u001b[38;5;241m+\u001b[39m ret[\u001b[38;5;241m0\u001b[39m] \u001b[38;5;241m*\u001b[39m pk\n",
      "File \u001b[1;32mc:\\Users\\super\\Anaconda3\\envs\\jax_opt\\Lib\\site-packages\\scipy\\optimize\\_linesearch.py:84\u001b[0m, in \u001b[0;36mline_search_wolfe1\u001b[1;34m(f, fprime, xk, pk, gfk, old_fval, old_old_fval, args, c1, c2, amax, amin, xtol)\u001b[0m\n\u001b[0;32m     80\u001b[0m     \u001b[38;5;28;01mreturn\u001b[39;00m np\u001b[38;5;241m.\u001b[39mdot(gval[\u001b[38;5;241m0\u001b[39m], pk)\n\u001b[0;32m     82\u001b[0m derphi0 \u001b[38;5;241m=\u001b[39m np\u001b[38;5;241m.\u001b[39mdot(gfk, pk)\n\u001b[1;32m---> 84\u001b[0m stp, fval, old_fval \u001b[38;5;241m=\u001b[39m \u001b[43mscalar_search_wolfe1\u001b[49m\u001b[43m(\u001b[49m\n\u001b[0;32m     85\u001b[0m \u001b[43m        \u001b[49m\u001b[43mphi\u001b[49m\u001b[43m,\u001b[49m\u001b[43m \u001b[49m\u001b[43mderphi\u001b[49m\u001b[43m,\u001b[49m\u001b[43m \u001b[49m\u001b[43mold_fval\u001b[49m\u001b[43m,\u001b[49m\u001b[43m \u001b[49m\u001b[43mold_old_fval\u001b[49m\u001b[43m,\u001b[49m\u001b[43m \u001b[49m\u001b[43mderphi0\u001b[49m\u001b[43m,\u001b[49m\n\u001b[0;32m     86\u001b[0m \u001b[43m        \u001b[49m\u001b[43mc1\u001b[49m\u001b[38;5;241;43m=\u001b[39;49m\u001b[43mc1\u001b[49m\u001b[43m,\u001b[49m\u001b[43m \u001b[49m\u001b[43mc2\u001b[49m\u001b[38;5;241;43m=\u001b[39;49m\u001b[43mc2\u001b[49m\u001b[43m,\u001b[49m\u001b[43m \u001b[49m\u001b[43mamax\u001b[49m\u001b[38;5;241;43m=\u001b[39;49m\u001b[43mamax\u001b[49m\u001b[43m,\u001b[49m\u001b[43m \u001b[49m\u001b[43mamin\u001b[49m\u001b[38;5;241;43m=\u001b[39;49m\u001b[43mamin\u001b[49m\u001b[43m,\u001b[49m\u001b[43m \u001b[49m\u001b[43mxtol\u001b[49m\u001b[38;5;241;43m=\u001b[39;49m\u001b[43mxtol\u001b[49m\u001b[43m)\u001b[49m\n\u001b[0;32m     88\u001b[0m \u001b[38;5;28;01mreturn\u001b[39;00m stp, fc[\u001b[38;5;241m0\u001b[39m], gc[\u001b[38;5;241m0\u001b[39m], fval, old_fval, gval[\u001b[38;5;241m0\u001b[39m]\n",
      "File \u001b[1;32mc:\\Users\\super\\Anaconda3\\envs\\jax_opt\\Lib\\site-packages\\scipy\\optimize\\_linesearch.py:160\u001b[0m, in \u001b[0;36mscalar_search_wolfe1\u001b[1;34m(phi, derphi, phi0, old_phi0, derphi0, c1, c2, amax, amin, xtol)\u001b[0m\n\u001b[0;32m    158\u001b[0m \u001b[38;5;28;01mif\u001b[39;00m task[:\u001b[38;5;241m2\u001b[39m] \u001b[38;5;241m==\u001b[39m \u001b[38;5;124mb\u001b[39m\u001b[38;5;124m'\u001b[39m\u001b[38;5;124mFG\u001b[39m\u001b[38;5;124m'\u001b[39m:\n\u001b[0;32m    159\u001b[0m     alpha1 \u001b[38;5;241m=\u001b[39m stp\n\u001b[1;32m--> 160\u001b[0m     phi1 \u001b[38;5;241m=\u001b[39m \u001b[43mphi\u001b[49m\u001b[43m(\u001b[49m\u001b[43mstp\u001b[49m\u001b[43m)\u001b[49m\n\u001b[0;32m    161\u001b[0m     derphi1 \u001b[38;5;241m=\u001b[39m derphi(stp)\n\u001b[0;32m    162\u001b[0m \u001b[38;5;28;01melse\u001b[39;00m:\n",
      "File \u001b[1;32mc:\\Users\\super\\Anaconda3\\envs\\jax_opt\\Lib\\site-packages\\scipy\\optimize\\_linesearch.py:75\u001b[0m, in \u001b[0;36mline_search_wolfe1.<locals>.phi\u001b[1;34m(s)\u001b[0m\n\u001b[0;32m     73\u001b[0m \u001b[38;5;28;01mdef\u001b[39;00m \u001b[38;5;21mphi\u001b[39m(s):\n\u001b[0;32m     74\u001b[0m     fc[\u001b[38;5;241m0\u001b[39m] \u001b[38;5;241m+\u001b[39m\u001b[38;5;241m=\u001b[39m \u001b[38;5;241m1\u001b[39m\n\u001b[1;32m---> 75\u001b[0m     \u001b[38;5;28;01mreturn\u001b[39;00m \u001b[43mf\u001b[49m\u001b[43m(\u001b[49m\u001b[43mxk\u001b[49m\u001b[43m \u001b[49m\u001b[38;5;241;43m+\u001b[39;49m\u001b[43m \u001b[49m\u001b[43ms\u001b[49m\u001b[38;5;241;43m*\u001b[39;49m\u001b[43mpk\u001b[49m\u001b[43m,\u001b[49m\u001b[43m \u001b[49m\u001b[38;5;241;43m*\u001b[39;49m\u001b[43margs\u001b[49m\u001b[43m)\u001b[49m\n",
      "File \u001b[1;32mc:\\Users\\super\\Anaconda3\\envs\\jax_opt\\Lib\\site-packages\\scipy\\optimize\\_differentiable_functions.py:267\u001b[0m, in \u001b[0;36mScalarFunction.fun\u001b[1;34m(self, x)\u001b[0m\n\u001b[0;32m    265\u001b[0m \u001b[38;5;28;01mif\u001b[39;00m \u001b[38;5;129;01mnot\u001b[39;00m np\u001b[38;5;241m.\u001b[39marray_equal(x, \u001b[38;5;28mself\u001b[39m\u001b[38;5;241m.\u001b[39mx):\n\u001b[0;32m    266\u001b[0m     \u001b[38;5;28mself\u001b[39m\u001b[38;5;241m.\u001b[39m_update_x_impl(x)\n\u001b[1;32m--> 267\u001b[0m \u001b[38;5;28;43mself\u001b[39;49m\u001b[38;5;241;43m.\u001b[39;49m\u001b[43m_update_fun\u001b[49m\u001b[43m(\u001b[49m\u001b[43m)\u001b[49m\n\u001b[0;32m    268\u001b[0m \u001b[38;5;28;01mreturn\u001b[39;00m \u001b[38;5;28mself\u001b[39m\u001b[38;5;241m.\u001b[39mf\n",
      "File \u001b[1;32mc:\\Users\\super\\Anaconda3\\envs\\jax_opt\\Lib\\site-packages\\scipy\\optimize\\_differentiable_functions.py:251\u001b[0m, in \u001b[0;36mScalarFunction._update_fun\u001b[1;34m(self)\u001b[0m\n\u001b[0;32m    249\u001b[0m \u001b[38;5;28;01mdef\u001b[39;00m \u001b[38;5;21m_update_fun\u001b[39m(\u001b[38;5;28mself\u001b[39m):\n\u001b[0;32m    250\u001b[0m     \u001b[38;5;28;01mif\u001b[39;00m \u001b[38;5;129;01mnot\u001b[39;00m \u001b[38;5;28mself\u001b[39m\u001b[38;5;241m.\u001b[39mf_updated:\n\u001b[1;32m--> 251\u001b[0m         \u001b[38;5;28;43mself\u001b[39;49m\u001b[38;5;241;43m.\u001b[39;49m\u001b[43m_update_fun_impl\u001b[49m\u001b[43m(\u001b[49m\u001b[43m)\u001b[49m\n\u001b[0;32m    252\u001b[0m         \u001b[38;5;28mself\u001b[39m\u001b[38;5;241m.\u001b[39mf_updated \u001b[38;5;241m=\u001b[39m \u001b[38;5;28;01mTrue\u001b[39;00m\n",
      "File \u001b[1;32mc:\\Users\\super\\Anaconda3\\envs\\jax_opt\\Lib\\site-packages\\scipy\\optimize\\_differentiable_functions.py:155\u001b[0m, in \u001b[0;36mScalarFunction.__init__.<locals>.update_fun\u001b[1;34m()\u001b[0m\n\u001b[0;32m    154\u001b[0m \u001b[38;5;28;01mdef\u001b[39;00m \u001b[38;5;21mupdate_fun\u001b[39m():\n\u001b[1;32m--> 155\u001b[0m     \u001b[38;5;28mself\u001b[39m\u001b[38;5;241m.\u001b[39mf \u001b[38;5;241m=\u001b[39m \u001b[43mfun_wrapped\u001b[49m\u001b[43m(\u001b[49m\u001b[38;5;28;43mself\u001b[39;49m\u001b[38;5;241;43m.\u001b[39;49m\u001b[43mx\u001b[49m\u001b[43m)\u001b[49m\n",
      "File \u001b[1;32mc:\\Users\\super\\Anaconda3\\envs\\jax_opt\\Lib\\site-packages\\scipy\\optimize\\_differentiable_functions.py:137\u001b[0m, in \u001b[0;36mScalarFunction.__init__.<locals>.fun_wrapped\u001b[1;34m(x)\u001b[0m\n\u001b[0;32m    133\u001b[0m \u001b[38;5;28mself\u001b[39m\u001b[38;5;241m.\u001b[39mnfev \u001b[38;5;241m+\u001b[39m\u001b[38;5;241m=\u001b[39m \u001b[38;5;241m1\u001b[39m\n\u001b[0;32m    134\u001b[0m \u001b[38;5;66;03m# Send a copy because the user may overwrite it.\u001b[39;00m\n\u001b[0;32m    135\u001b[0m \u001b[38;5;66;03m# Overwriting results in undefined behaviour because\u001b[39;00m\n\u001b[0;32m    136\u001b[0m \u001b[38;5;66;03m# fun(self.x) will change self.x, with the two no longer linked.\u001b[39;00m\n\u001b[1;32m--> 137\u001b[0m fx \u001b[38;5;241m=\u001b[39m \u001b[43mfun\u001b[49m\u001b[43m(\u001b[49m\u001b[43mnp\u001b[49m\u001b[38;5;241;43m.\u001b[39;49m\u001b[43mcopy\u001b[49m\u001b[43m(\u001b[49m\u001b[43mx\u001b[49m\u001b[43m)\u001b[49m\u001b[43m,\u001b[49m\u001b[43m \u001b[49m\u001b[38;5;241;43m*\u001b[39;49m\u001b[43margs\u001b[49m\u001b[43m)\u001b[49m\n\u001b[0;32m    138\u001b[0m \u001b[38;5;66;03m# Make sure the function returns a true scalar\u001b[39;00m\n\u001b[0;32m    139\u001b[0m \u001b[38;5;28;01mif\u001b[39;00m \u001b[38;5;129;01mnot\u001b[39;00m np\u001b[38;5;241m.\u001b[39misscalar(fx):\n",
      "File \u001b[1;32mc:\\Users\\super\\Anaconda3\\envs\\jax_opt\\Lib\\site-packages\\scipy\\optimize\\_optimize.py:77\u001b[0m, in \u001b[0;36mMemoizeJac.__call__\u001b[1;34m(self, x, *args)\u001b[0m\n\u001b[0;32m     75\u001b[0m \u001b[38;5;28;01mdef\u001b[39;00m \u001b[38;5;21m__call__\u001b[39m(\u001b[38;5;28mself\u001b[39m, x, \u001b[38;5;241m*\u001b[39margs):\n\u001b[0;32m     76\u001b[0m \u001b[38;5;250m    \u001b[39m\u001b[38;5;124;03m\"\"\" returns the function value \"\"\"\u001b[39;00m\n\u001b[1;32m---> 77\u001b[0m     \u001b[38;5;28;43mself\u001b[39;49m\u001b[38;5;241;43m.\u001b[39;49m\u001b[43m_compute_if_needed\u001b[49m\u001b[43m(\u001b[49m\u001b[43mx\u001b[49m\u001b[43m,\u001b[49m\u001b[43m \u001b[49m\u001b[38;5;241;43m*\u001b[39;49m\u001b[43margs\u001b[49m\u001b[43m)\u001b[49m\n\u001b[0;32m     78\u001b[0m     \u001b[38;5;28;01mreturn\u001b[39;00m \u001b[38;5;28mself\u001b[39m\u001b[38;5;241m.\u001b[39m_value\n",
      "File \u001b[1;32mc:\\Users\\super\\Anaconda3\\envs\\jax_opt\\Lib\\site-packages\\scipy\\optimize\\_optimize.py:71\u001b[0m, in \u001b[0;36mMemoizeJac._compute_if_needed\u001b[1;34m(self, x, *args)\u001b[0m\n\u001b[0;32m     69\u001b[0m \u001b[38;5;28;01mif\u001b[39;00m \u001b[38;5;129;01mnot\u001b[39;00m np\u001b[38;5;241m.\u001b[39mall(x \u001b[38;5;241m==\u001b[39m \u001b[38;5;28mself\u001b[39m\u001b[38;5;241m.\u001b[39mx) \u001b[38;5;129;01mor\u001b[39;00m \u001b[38;5;28mself\u001b[39m\u001b[38;5;241m.\u001b[39m_value \u001b[38;5;129;01mis\u001b[39;00m \u001b[38;5;28;01mNone\u001b[39;00m \u001b[38;5;129;01mor\u001b[39;00m \u001b[38;5;28mself\u001b[39m\u001b[38;5;241m.\u001b[39mjac \u001b[38;5;129;01mis\u001b[39;00m \u001b[38;5;28;01mNone\u001b[39;00m:\n\u001b[0;32m     70\u001b[0m     \u001b[38;5;28mself\u001b[39m\u001b[38;5;241m.\u001b[39mx \u001b[38;5;241m=\u001b[39m np\u001b[38;5;241m.\u001b[39masarray(x)\u001b[38;5;241m.\u001b[39mcopy()\n\u001b[1;32m---> 71\u001b[0m     fg \u001b[38;5;241m=\u001b[39m \u001b[38;5;28;43mself\u001b[39;49m\u001b[38;5;241;43m.\u001b[39;49m\u001b[43mfun\u001b[49m\u001b[43m(\u001b[49m\u001b[43mx\u001b[49m\u001b[43m,\u001b[49m\u001b[43m \u001b[49m\u001b[38;5;241;43m*\u001b[39;49m\u001b[43margs\u001b[49m\u001b[43m)\u001b[49m\n\u001b[0;32m     72\u001b[0m     \u001b[38;5;28mself\u001b[39m\u001b[38;5;241m.\u001b[39mjac \u001b[38;5;241m=\u001b[39m fg[\u001b[38;5;241m1\u001b[39m]\n\u001b[0;32m     73\u001b[0m     \u001b[38;5;28mself\u001b[39m\u001b[38;5;241m.\u001b[39m_value \u001b[38;5;241m=\u001b[39m fg[\u001b[38;5;241m0\u001b[39m]\n",
      "File \u001b[1;32mc:\\Users\\super\\Anaconda3\\envs\\jax_opt\\Lib\\site-packages\\jaxopt\\_src\\scipy_wrappers.py:336\u001b[0m, in \u001b[0;36mScipyMinimize._run.<locals>.scipy_fun\u001b[1;34m(x_onp)\u001b[0m\n\u001b[0;32m    334\u001b[0m \u001b[38;5;28;01mdef\u001b[39;00m \u001b[38;5;21mscipy_fun\u001b[39m(x_onp: onp\u001b[38;5;241m.\u001b[39mndarray) \u001b[38;5;241m-\u001b[39m\u001b[38;5;241m>\u001b[39m Tuple[onp\u001b[38;5;241m.\u001b[39mndarray, onp\u001b[38;5;241m.\u001b[39mndarray]:\n\u001b[0;32m    335\u001b[0m   x_jnp \u001b[38;5;241m=\u001b[39m onp_to_jnp(x_onp)\n\u001b[1;32m--> 336\u001b[0m   value, grads \u001b[38;5;241m=\u001b[39m \u001b[38;5;28;43mself\u001b[39;49m\u001b[38;5;241;43m.\u001b[39;49m\u001b[43m_value_and_grad_fun\u001b[49m\u001b[43m(\u001b[49m\u001b[43mx_jnp\u001b[49m\u001b[43m,\u001b[49m\u001b[43m \u001b[49m\u001b[38;5;241;43m*\u001b[39;49m\u001b[43margs\u001b[49m\u001b[43m,\u001b[49m\u001b[43m \u001b[49m\u001b[38;5;241;43m*\u001b[39;49m\u001b[38;5;241;43m*\u001b[39;49m\u001b[43mkwargs\u001b[49m\u001b[43m)\u001b[49m\n\u001b[0;32m    337\u001b[0m   \u001b[38;5;28;01mreturn\u001b[39;00m onp\u001b[38;5;241m.\u001b[39masarray(value, \u001b[38;5;28mself\u001b[39m\u001b[38;5;241m.\u001b[39mdtype), jnp_to_onp(grads, \u001b[38;5;28mself\u001b[39m\u001b[38;5;241m.\u001b[39mdtype)\n",
      "\u001b[1;31mKeyboardInterrupt\u001b[0m: "
     ]
    }
   ],
   "source": [
    "solver = jaxopt.ScipyMinimize(method=\"BFGS\", fun=opt.problem, maxiter=2000, jit = True)\n",
    "pump = random_seed.copy()\n",
    "for i in range(10):\n",
    "    print(\"run \" + str(i))\n",
    "    print(\"observables: \", opt.get_observables(pump, N, G, H, l))\n",
    "    (pump, state) = solver.run(pump, x, G, H, l, y_N, 5**i)"
   ]
  },
  {
   "cell_type": "markdown",
   "id": "689fef2d-3204-4450-96de-8119ec0eeb74",
   "metadata": {},
   "source": [
    "# Quadratures"
   ]
  },
  {
   "cell_type": "code",
   "execution_count": 2,
   "id": "df00fccc-99c3-4c7b-9c8f-98071013dd0f",
   "metadata": {},
   "outputs": [
    {
     "data": {
      "text/plain": [
       "(Array(0.01947283, dtype=float64), Array(1.21603413, dtype=float64))"
      ]
     },
     "execution_count": 2,
     "metadata": {},
     "output_type": "execute_result"
    }
   ],
   "source": [
    "N = 201\n",
    "wi = -10\n",
    "wf = 10\n",
    "omega = np.linspace(wi, wf, N)\n",
    "delta_omega = np.abs(omega[1] - omega[0])\n",
    "vp = 0.1\n",
    "l = 1\n",
    "Np = 0.01\n",
    "G, H = init.get_constants(vp, l, wi, wf, Np, N = N)\n",
    "delta_k = 1.j*G\n",
    "y_N = 1.\n",
    "opt_quad.get_observables(gaussian_seed, N, delta_k, l)"
   ]
  },
  {
   "cell_type": "code",
   "execution_count": 3,
   "id": "979a15f9-d789-4c62-9440-55b0cd6db133",
   "metadata": {},
   "outputs": [],
   "source": [
    "solver = jaxopt.ScipyMinimize(method=\"BFGS\", fun=opt_quad.problem, maxiter=5000, jit = False)"
   ]
  },
  {
   "cell_type": "code",
   "execution_count": 4,
   "id": "311cc0e9-a0be-4725-a1ac-d44698300221",
   "metadata": {},
   "outputs": [
    {
     "name": "stdout",
     "output_type": "stream",
     "text": [
      "run 0\n",
      "observables:  (Array(0.13250503, dtype=float64), Array(15.58651777, dtype=float64))\n",
      "BFGS:  0\n",
      "observables:  (Array(1.02274813, dtype=float64), Array(1.14208508, dtype=float64))\n",
      "BFGS:  1\n",
      "observables:  (Array(1.02274813, dtype=float64), Array(1.14208508, dtype=float64))\n",
      "BFGS:  2\n",
      "observables:  (Array(1.02274813, dtype=float64), Array(1.14208508, dtype=float64))\n",
      "run 1\n",
      "observables:  (Array(1.02274813, dtype=float64), Array(1.14208508, dtype=float64))\n",
      "BFGS:  0\n",
      "observables:  (Array(1.00460954, dtype=float64), Array(1.14292455, dtype=float64))\n",
      "BFGS:  1\n",
      "observables:  (Array(1.00460954, dtype=float64), Array(1.14292455, dtype=float64))\n",
      "BFGS:  2\n",
      "observables:  (Array(1.00460954, dtype=float64), Array(1.14292455, dtype=float64))\n",
      "run 2\n",
      "observables:  (Array(1.00460954, dtype=float64), Array(1.14292455, dtype=float64))\n",
      "BFGS:  0\n",
      "observables:  (Array(1.00242965, dtype=float64), Array(1.14302504, dtype=float64))\n",
      "BFGS:  1\n",
      "observables:  (Array(1.00072715, dtype=float64), Array(1.14310396, dtype=float64))\n",
      "BFGS:  2\n",
      "observables:  (Array(1.00099997, dtype=float64), Array(1.14309118, dtype=float64))\n",
      "run 3\n",
      "observables:  (Array(1.00099997, dtype=float64), Array(1.14309118, dtype=float64))\n",
      "BFGS:  0\n",
      "observables:  (Array(1.00029063, dtype=float64), Array(1.14312443, dtype=float64))\n",
      "BFGS:  1\n",
      "observables:  (Array(1.00008453, dtype=float64), Array(1.14313368, dtype=float64))\n",
      "BFGS:  2\n",
      "observables:  (Array(1.00022199, dtype=float64), Array(1.14312742, dtype=float64))\n",
      "run 4\n",
      "observables:  (Array(1.00022199, dtype=float64), Array(1.14312742, dtype=float64))\n",
      "BFGS:  0\n",
      "observables:  (Array(1.00007545, dtype=float64), Array(1.14313421, dtype=float64))\n",
      "BFGS:  1\n",
      "observables:  (Array(1.00002502, dtype=float64), Array(1.14313658, dtype=float64))\n",
      "BFGS:  2\n",
      "observables:  (Array(1.00004115, dtype=float64), Array(1.14313584, dtype=float64))\n"
     ]
    }
   ],
   "source": [
    "# Try reducing the penalty term\n",
    "pump = random_seed.copy()\n",
    "pumps_for_k = []\n",
    "for i in range(5):\n",
    "    print(\"run \" + str(i))\n",
    "    print(\"observables: \", opt_quad.get_observables(pump, N, delta_k, l))\n",
    "    (pump, state) = solver.run(pump, omega, delta_k, l, y_N, 5**i)"
   ]
  },
  {
   "cell_type": "markdown",
   "id": "34af9aca-52b2-4713-bd57-d627c90ef61f",
   "metadata": {},
   "source": [
    "## Optimization of a Gaussian"
   ]
  },
  {
   "cell_type": "markdown",
   "id": "1b06ce83-4f31-4cee-afa2-ee5584a6b245",
   "metadata": {},
   "source": [
    "Now, suppose the optimal pump is truly Gaussian, only 3 parameters are needed, which are the amplitude of the Gaussian, its width and the phase for a complex pump. Let us generate the seeds for these 3 parameters. First, we need to import the modules to realize the optimization scheme."
   ]
  },
  {
   "cell_type": "code",
   "execution_count": 6,
   "id": "b2444daa-2e75-4309-90dc-ff1cda1f9e18",
   "metadata": {},
   "outputs": [],
   "source": [
    "import optimization_SPDC_gaussain_pump as opt_gauss"
   ]
  },
  {
   "cell_type": "markdown",
   "id": "e405174a-429e-4799-8a7d-09cba70d7841",
   "metadata": {},
   "source": [
    "Now, let us use the same parameters for the Gaussian seed to generate an optimization scheme restricted to Gaussian pumps and the same solver as before with penalty method."
   ]
  },
  {
   "cell_type": "code",
   "execution_count": 24,
   "id": "2dbff652-d96f-4a1f-8a97-f9a72ef99df9",
   "metadata": {},
   "outputs": [
    {
     "name": "stdout",
     "output_type": "stream",
     "text": [
      "run number 0\n",
      "run number 1\n",
      "run number 2\n",
      "run number 3\n",
      "run number 4\n",
      "run number 5\n",
      "run number 6\n",
      "run number 7\n",
      "run number 8\n",
      "run number 9\n",
      "run number 10\n",
      "run number 11\n",
      "run number 12\n",
      "run number 13\n",
      "run number 14\n"
     ]
    }
   ],
   "source": [
    "params = [gaussian_amplitude, gaussian_width, phase]\n",
    "gauss_solver = jaxopt.ScipyMinimize(method = \"BFGS\", fun=opt_gauss.get_penalty_loss, maxiter=20, jit= False)\n",
    "theta = params.copy()\n",
    "for i in range(15):\n",
    "    print(\"run number \" + str(i))\n",
    "    (theta, state) = gauss_solver.run(theta, freq_range_pump, alpha, G, H, l, y_N, 3**i)"
   ]
  },
  {
   "cell_type": "markdown",
   "id": "e2a4e0b0-0fdc-4918-9849-d9073f5d6041",
   "metadata": {},
   "source": [
    "Comparing the normalized absolute value of the optimal pump when pump values were arbitrary and the optimal pump when restricted to a Gaussian, one can see that the shape is almost identical."
   ]
  },
  {
   "cell_type": "code",
   "execution_count": 32,
   "id": "16be6bb2-8460-4f58-991e-eafe86531867",
   "metadata": {},
   "outputs": [],
   "source": [
    "Nownorm_gauss_pump = jnp.abs(opt_gauss.get_gaussian_pump(theta, freq_range_pump))/jnp.linalg.norm(opt_gauss.get_gaussian_pump(theta, freq_range_pump))\n",
    "norm_arb_hermitian_pump = (abs_hermit_pump/jnp.linalg.norm(abs_hermit_pump))\n",
    "comparison_leg = [\"optimal pump when every element is a parameter\", \"optimal Gaussian pump\"]"
   ]
  },
  {
   "cell_type": "code",
   "execution_count": 33,
   "id": "9f13b3af-0ddf-4f6d-8a0d-681a01423ceb",
   "metadata": {},
   "outputs": [
    {
     "data": {
      "text/plain": [
       "(DeviceArray(3.0009482, dtype=float32), DeviceArray(1.088198, dtype=float32))"
      ]
     },
     "execution_count": 33,
     "metadata": {},
     "output_type": "execute_result"
    },
    {
     "data": {
      "image/png": "[encoded data removed]",
      "text/plain": [
       "<Figure size 432x288 with 1 Axes>"
      ]
     },
     "metadata": {
      "needs_background": "light"
     },
     "output_type": "display_data"
    }
   ],
   "source": [
    "disp.plot_pump([norm_gauss_pump, norm_arb_hermitian_pump], freq_range_pump, comparison_leg)"
   ]
  },
  {
   "cell_type": "markdown",
   "id": "8fae68c9-e07c-48bf-a03a-8fdd7b783df3",
   "metadata": {},
   "source": [
    "Doing the cross correlation between the optimal pump, one realizes that the likelihood is "
   ]
  },
  {
   "cell_type": "code",
   "execution_count": 37,
   "id": "be772f28-c1a5-46eb-bfc6-54b2636f4ce5",
   "metadata": {},
   "outputs": [
    {
     "name": "stdout",
     "output_type": "stream",
     "text": [
      "Normalized cross correlation between the Gaussian pump and the arbitrary pump is 0.996406\n"
     ]
    }
   ],
   "source": [
    "print(\"Normalized cross correlation between the Gaussian pump and the arbitrary pump is \" + str(norm_gauss_pump@norm_arb_hermitian_pump))"
   ]
  },
  {
   "cell_type": "markdown",
   "id": "9d3f58eb-47c6-4b74-b18f-e93e8ab37a67",
   "metadata": {},
   "source": [
    "This result is interesting, because for low gain ($n \\ll 1$), it has been proven analytically through perturbative regime that to obtain purely separable joint spectral amplitude, a Gaussian phase matching function and a Gaussian pump are needed (Quesada and Branczyk, 2018). A numerical optimization scheme was performed with an objective function stemming from low-gain regime, which is a restricted case of the general SPDC in waveguides. Let us compare how does the optimal pump obtained theorically fare in high gain regime with the Gaussian pumps obtained with optimization at high gain."
   ]
  },
  {
   "cell_type": "markdown",
   "id": "29d08a73-00be-4a81-a9f8-6539adce6a08",
   "metadata": {},
   "source": [
    "# Comparing low gain optimal pump at high gain with optimized pump at this high gain"
   ]
  },
  {
   "cell_type": "markdown",
   "id": "bfc29729-65c4-46b3-af43-b370c0733f89",
   "metadata": {},
   "source": [
    "A main difference between the low-gain regime and high gain regime is the presence of higher Fock state terms in the output state. If the phase matching function (PMF) is not Gaussian, an approximation that is closest to a Gaussian is preferable. For a sinc PMF of the form $\\frac{\\sin \\left(\\kappa (x-y)\\right)}{x-y}$, the width of the Gaussian should be of $\\frac{1.61}{1.13}\\kappa$ to have maximal separability. Let us generate a pump with such a width."
   ]
  },
  {
   "cell_type": "code",
   "execution_count": 29,
   "id": "9a7d23cc-08f8-48f0-93e5-9ab22a4a4b80",
   "metadata": {},
   "outputs": [],
   "source": [
    "ratio = 1.61/1.13\n",
    "vi = vp / (1 - 2 * ratio * vp / l)\n",
    "vs = vp / (1 + 2 * ratio * vp / l)\n",
    "width = jnp.sqrt(ratio/(l*(1/vp - 1/vi)))\n",
    "theta = [0.01, width, 0.1]\n",
    "low_pump = opt_gauss.get_gaussian_pump(theta,freq_range_pump)"
   ]
  },
  {
   "cell_type": "code",
   "execution_count": 32,
   "id": "4390fe87-4b3b-4932-8a54-5a490433b19e",
   "metadata": {},
   "outputs": [
    {
     "data": {
      "text/plain": [
       "[<matplotlib.lines.Line2D at 0x7f297c198e20>]"
      ]
     },
     "execution_count": 32,
     "metadata": {},
     "output_type": "execute_result"
    },
    {
     "data": {
      "image/png": "[encoded data removed]",
      "text/plain": [
       "<Figure size 640x480 with 1 Axes>"
      ]
     },
     "metadata": {},
     "output_type": "display_data"
    }
   ],
   "source": [
    "plt.title(\"Low gain pump\")\n",
    "plt.xlabel(\"Frequency offset from mid frequency\")\n",
    "plt.ylabel(\"Amplitude of the absolute value\")\n",
    "plt.plot(np.abs(low_pump))"
   ]
  },
  {
   "cell_type": "markdown",
   "id": "c36fcec4-8ec8-4775-9611-46b93e80e54b",
   "metadata": {},
   "source": [
    "The joint spectral amplitude would look like"
   ]
  },
  {
   "cell_type": "code",
   "execution_count": null,
   "id": "fb8e0907-bff5-4b42-980c-b63f7e08c2fa",
   "metadata": {},
   "outputs": [],
   "source": [
    "JSA = gauss_opt.get_JSA(theta, freq_range_pump, alpha, G, H, l)\n",
    "fig, ax = plt.subplots()\n",
    "im = ax.imshow(JSA, cmap=\"jet\", origin=\"lower\",extent=[x[0],x[N-1],x[0],x[N-1]])\n",
    "ax.set_title(\"JSA with 10 N value\")\n",
    "ax.set_xlabel(r\"$(\\omega_{s}-\\bar{\\omega}_{s})/\\sigma$\")\n",
    "ax.set_ylabel(r\"$(\\omega_{i}-\\bar{\\omega}_{i})/\\sigma$\")\n",
    "plt.colorbar(im, orientation=\"vertical\")\n",
    "plt.show()Now"
   ]
  },
  {
   "cell_type": "markdown",
   "id": "21ee5f32-74b8-4e4d-8801-698458e54092",
   "metadata": {},
   "source": [
    "Now, let $n$ value taking the values $\\{0.5, 1, 1.5, 2, 2.5, 3\\}$, let us see what the optimized Gaussian pump should look like at these values"
   ]
  },
  {
   "cell_type": "code",
   "execution_count": 7,
   "id": "29900d78-2b47-4039-a1a1-e4fe10e3c1b1",
   "metadata": {},
   "outputs": [],
   "source": [
    "params = [gaussian_amplitude, gaussian_width, phase]\n",
    "gauss_solver = jaxopt.ScipyMinimize(method = \"BFGS\", fun=opt_gauss.get_penalty_loss, maxiter= 10, jit= False)"
   ]
  },
  {
   "cell_type": "code",
   "execution_count": 8,
   "id": "bb9b4b3d-3415-4d62-89a3-a44c798b9944",
   "metadata": {},
   "outputs": [
    {
     "name": "stdout",
     "output_type": "stream",
     "text": [
      "run number 0\n",
      "run number 1\n"
     ]
    },
    {
     "name": "stderr",
     "output_type": "stream",
     "text": [
      "\n",
      "KeyboardInterrupt\n",
      "\n"
     ]
    }
   ],
   "source": [
    "y_Ns = [0.5, 1., 1.5, 2., 2.5, 3.]\n",
    "theta_per_y_N = []\n",
    "for n in y_Ns:\n",
    "    theta = params.copy()\n",
    "    for i in range(15):\n",
    "        print(\"run number \" + str(i))\n",
    "        (theta, state) = gauss_solver.run(theta, freq_range_pump, alpha, G, H, l, n, 3**i)\n",
    "        theta_per_y_N.append(theta.copy())"
   ]
  },
  {
   "cell_type": "code",
   "execution_count": null,
   "id": "1880bdb3-e373-4562-947e-5df41b7fb0d0",
   "metadata": {},
   "outputs": [],
   "source": [
    "diff_n_schmidt_numbers = []\n",
    "for i in range(len(theta_per_y_N)):\n",
    "    diff_n_schmidt_numbers.append(opt_gauss.get_observables(theta_per_y_N[i], freq_range_pump, alpha, G, H, l)[1])"
   ]
  },
  {
   "cell_type": "markdown",
   "id": "17a0e801-7aac-43e0-a147-35d737865535",
   "metadata": {},
   "source": [
    "For the same values of $n$, let us take Gaussian pumps with width optimized for low gain and find the Schmidt number associated with each case."
   ]
  },
  {
   "cell_type": "code",
   "execution_count": 133,
   "id": "9b1948ec-c1ee-4731-aa4a-2979090c4d09",
   "metadata": {},
   "outputs": [],
   "source": [
    "amps = [0.3845, 0.5068, 0.5856, 0.64356, 0.689181, 0.72667]\n",
    "schmidt_numbers_low = []\n",
    "for amp in amps:\n",
    "    diff_theta = [amp, width, 0.1]\n",
    "    schmidt_numbers_low.append(opt_gauss.get_observables(diff_theta, freq_range_pump, alpha, G, H, l)[1])"
   ]
  },
  {
   "cell_type": "markdown",
   "id": "6521bec4-eff2-4af8-a660-a62419175100",
   "metadata": {},
   "source": [
    "Now, we can compare them by plotting the Schmidt number as function of mean number of photon pairs per pulse"
   ]
  },
  {
   "cell_type": "code",
   "execution_count": 138,
   "id": "ce474833-b1de-4c37-88bc-bb1ad2559389",
   "metadata": {},
   "outputs": [
    {
     "ename": "NameError",
     "evalue": "name 'diff_n_schmidt_numbers' is not defined",
     "output_type": "error",
     "traceback": [
      "\u001b[0;31m---------------------------------------------------------------------------\u001b[0m",
      "\u001b[0;31mNameError\u001b[0m                                 Traceback (most recent call last)",
      "Cell \u001b[0;32mIn [138], line 2\u001b[0m\n\u001b[1;32m      1\u001b[0m plt\u001b[38;5;241m.\u001b[39mplot(y_Ns, schmidt_numbers_low)\n\u001b[0;32m----> 2\u001b[0m plt\u001b[38;5;241m.\u001b[39mplot(y_Ns, \u001b[43mdiff_n_schmidt_numbers\u001b[49m)\n",
      "\u001b[0;31mNameError\u001b[0m: name 'diff_n_schmidt_numbers' is not defined"
     ]
    },
    {
     "data": {
      "image/png": "[encoded data removed]",
      "text/plain": [
       "<Figure size 640x480 with 1 Axes>"
      ]
     },
     "metadata": {},
     "output_type": "display_data"
    }
   ],
   "source": [
    "plt.plot(y_Ns, schmidt_numbers_low)\n",
    "plt.plot(y_Ns, diff_n_schmidt_numbers)"
   ]
  },
  {
   "cell_type": "markdown",
   "id": "427ef608-e66d-454f-a61c-2be062e0683c",
   "metadata": {},
   "source": [
    "Comparing the Schmidt number, we see that the pump optimized for low gain does not seem to be optimal for high gain."
   ]
  },
  {
   "cell_type": "markdown",
   "id": "e61f75cd",
   "metadata": {},
   "source": [
    "# Optimizing with quadrature operators"
   ]
  },
  {
   "cell_type": "code",
   "execution_count": 18,
   "id": "c825db3b",
   "metadata": {},
   "outputs": [],
   "source": [
    "import optimization_quadratures as quad_opt\n",
    "alpha, G, H = init.get_constants(vp, l, wi, wf, Np, alpha_phase, N = N)\n",
    "pump = 0.1*jax.random.uniform(key=jax.random.PRNGKey(np.random.randint(999)), shape = (2*N,))\n",
    "solver = jaxopt.ScipyMinimize(method=\"BFGS\", fun=quad_opt.get_penalty_loss, maxiter=1, jit = False)"
   ]
  },
  {
   "cell_type": "code",
   "execution_count": 19,
   "id": "377a8e33",
   "metadata": {},
   "outputs": [
    {
     "name": "stdout",
     "output_type": "stream",
     "text": [
      "run 0\n",
      "run 1\n",
      "run 2\n",
      "run 3\n",
      "run 4\n",
      "run 5\n",
      "run 6\n",
      "run 7\n",
      "run 8\n",
      "run 9\n",
      "run 10\n",
      "run 11\n",
      "run 12\n",
      "run 13\n",
      "run 14\n",
      "run 15\n",
      "run 16\n",
      "run 17\n",
      "run 18\n",
      "run 19\n"
     ]
    }
   ],
   "source": [
    "pumps_for_k = []\n",
    "for i in range(20):\n",
    "    pumps = []\n",
    "    print(\"run \" + str(i))\n",
    "    for j in range(15):\n",
    "        (pump, state) = solver.run(pump, N, alpha, H, l, freq_range_pump, y_N, 3**i)\n",
    "        pumps.append(pump.copy())\n",
    "    quad_opt.get_observables(pump, N, alpha, H, l)\n",
    "    pumps_for_k.append(pumps)"
   ]
  },
  {
   "cell_type": "code",
   "execution_count": 34,
   "id": "99e3d1ee",
   "metadata": {},
   "outputs": [
    {
     "data": {
      "text/plain": [
       "(Array(2.9997458, dtype=float32), Array(1.0815665, dtype=float32))"
      ]
     },
     "execution_count": 34,
     "metadata": {},
     "output_type": "execute_result"
    }
   ],
   "source": [
    "best_pump = pumps_for_k[-1][-1]\n",
    "W_plus, W_minus = quad_opt.get_propagators(best_pump, N, alpha, H, l)\n",
    "J = 0.25*(W_plus@W_plus.conj().T + W_minus@W_minus.conj().T - 2*jnp.eye(N))\n",
    "quad_opt.get_observables(best_pump, N, alpha, H, l)"
   ]
  },
  {
   "cell_type": "code",
   "execution_count": 42,
   "id": "496aa3fe",
   "metadata": {},
   "outputs": [
    {
     "data": {
      "text/plain": [
       "Array([[-1.88052654e-04,  5.10445659e-08, -1.85755411e-10, ...,\n",
       "         1.03409548e-08, -1.66319296e-08, -4.59734792e-08],\n",
       "       [-7.80806531e-08, -4.83989716e-05, -2.55643684e-08, ...,\n",
       "         1.23573045e-08, -7.90578270e-10,  8.91304808e-09],\n",
       "       [-4.63171084e-08, -1.18812942e-08,  2.00510025e-04, ...,\n",
       "         2.25736585e-09,  7.20319804e-10,  3.59887053e-09],\n",
       "       ...,\n",
       "       [-8.75297701e-09, -5.14319254e-10,  5.84350346e-09, ...,\n",
       "        -2.55107880e-04,  2.20825314e-08, -2.18278728e-08],\n",
       "       [-2.61484274e-08, -1.47838364e-08, -1.74668457e-08, ...,\n",
       "        -1.86810212e-09,  5.65052032e-05,  5.82367647e-08],\n",
       "       [-5.87756404e-08, -1.49848347e-08, -5.95700840e-08, ...,\n",
       "        -2.71538738e-08,  8.69476935e-08, -1.43051147e-05]],      dtype=float32)"
      ]
     },
     "execution_count": 42,
     "metadata": {},
     "output_type": "execute_result"
    }
   ],
   "source": [
    "np.real(W_plus@W_minus.conj().T) - np.eye(N)"
   ]
  },
  {
   "cell_type": "code",
   "execution_count": 53,
   "id": "9cdf1bb1",
   "metadata": {},
   "outputs": [
    {
     "data": {
      "text/plain": [
       "Array([[ 2.7509854e-04-2.2967939e-05j,  3.0196033e-04-1.8715127e-05j,\n",
       "         6.1506624e-05+3.6841088e-06j, ...,\n",
       "         2.0174048e-05+5.4287072e-04j,  7.0846290e-06+5.3598138e-04j,\n",
       "        -5.6609861e-06+5.2862789e-04j],\n",
       "       [ 3.0196065e-04-1.8715089e-05j,  6.1534556e-05+3.6968734e-06j,\n",
       "         1.1695750e-04+2.9726530e-06j, ...,\n",
       "         7.0310780e-06+5.3892244e-04j, -5.7888974e-06+5.3213781e-04j,\n",
       "        -1.8271123e-05+5.2481209e-04j],\n",
       "       [ 6.1506638e-05+3.6840881e-06j,  1.1695745e-04+2.9726393e-06j,\n",
       "         6.2491643e-05+6.6050816e-06j, ...,\n",
       "        -5.9132872e-06+5.3444010e-04j, -1.8467894e-05+5.2768498e-04j,\n",
       "        -3.0682102e-05+5.2026095e-04j],\n",
       "       ...,\n",
       "       [ 2.0173407e-05+5.4287119e-04j,  7.0309616e-06+5.3892250e-04j,\n",
       "        -5.9136655e-06+5.3443993e-04j, ...,\n",
       "        -2.7987163e-04-2.7001975e-06j, -8.1756516e-05-1.5601529e-06j,\n",
       "        -4.3755645e-05-1.1319376e-06j],\n",
       "       [ 7.0840179e-06+5.3598173e-04j, -5.7894795e-06+5.3213775e-04j,\n",
       "        -1.8468330e-05+5.2768504e-04j, ...,\n",
       "        -8.1756516e-05-1.5601560e-06j, -4.3774729e-05-1.1192315e-06j,\n",
       "        -3.1679054e-04-2.5968300e-05j],\n",
       "       [-5.6609279e-06+5.2862766e-04j, -1.8270512e-05+5.2481133e-04j,\n",
       "        -3.0682218e-05+5.2026089e-04j, ...,\n",
       "        -4.3755648e-05-1.1319449e-06j, -3.1679057e-04-2.5968297e-05j,\n",
       "        -1.5521615e-05-1.2601006e-07j]], dtype=complex64)"
      ]
     },
     "execution_count": 53,
     "metadata": {},
     "output_type": "execute_result"
    }
   ],
   "source": [
    "U_si"
   ]
  },
  {
   "cell_type": "code",
   "execution_count": 55,
   "id": "75e91507",
   "metadata": {},
   "outputs": [
    {
     "data": {
      "text/plain": [
       "Array([[ 2.75098486e-04-2.2967910e-05j,  3.01960739e-04-1.8715107e-05j,\n",
       "         6.15066601e-05+3.6841216e-06j, ...,\n",
       "         2.01737857e-05+5.4287061e-04j,  7.08457083e-06+5.3598103e-04j,\n",
       "        -5.66034578e-06+5.2862795e-04j],\n",
       "       [ 3.01960215e-04-1.8715080e-05j,  6.15345634e-05+3.6968745e-06j,\n",
       "         1.16957366e-04+2.9726448e-06j, ...,\n",
       "         7.03133992e-06+5.3892174e-04j, -5.78921754e-06+5.3213711e-04j,\n",
       "        -1.82712392e-05+5.2481127e-04j],\n",
       "       [ 6.15066383e-05+3.6841111e-06j,  1.16957461e-04+2.9726589e-06j,\n",
       "         6.24917157e-05+6.6050798e-06j, ...,\n",
       "        -5.91319986e-06+5.3443958e-04j, -1.84677774e-05+5.2768475e-04j,\n",
       "        -3.06821603e-05+5.2026066e-04j],\n",
       "       ...,\n",
       "       [ 2.01734947e-05+5.4287066e-04j,  7.03238766e-06+5.3892285e-04j,\n",
       "        -5.91520802e-06+5.3443981e-04j, ...,\n",
       "        -2.79871630e-04-2.7001975e-06j, -8.17564724e-05-1.5601693e-06j,\n",
       "        -4.37556446e-05-1.1319430e-06j],\n",
       "       [ 7.08483276e-06+5.3598150e-04j, -5.78950858e-06+5.3213845e-04j,\n",
       "        -1.84686796e-05+5.2768539e-04j, ...,\n",
       "        -8.17565015e-05-1.5601574e-06j, -4.37747440e-05-1.1192375e-06j,\n",
       "        -3.16790509e-04-2.5968471e-05j],\n",
       "       [-5.66014205e-06+5.2862824e-04j, -1.82699296e-05+5.2481226e-04j,\n",
       "        -3.06826551e-05+5.2026147e-04j, ...,\n",
       "        -4.37556555e-05-1.1319422e-06j, -3.16790800e-04-2.5968424e-05j,\n",
       "        -1.55216221e-05-1.2601231e-07j]], dtype=complex64)"
      ]
     },
     "execution_count": 55,
     "metadata": {},
     "output_type": "execute_result"
    }
   ],
   "source": [
    "-U_is"
   ]
  },
  {
   "cell_type": "code",
   "execution_count": 59,
   "id": "51cb7445",
   "metadata": {},
   "outputs": [
    {
     "data": {
      "text/plain": [
       "Array([[ 2.76297331e-04+2.7872622e-05j,  3.01962456e-04+1.8714665e-05j,\n",
       "         6.15085810e-05-3.6841666e-06j, ...,\n",
       "         2.01749208e-05-5.4286985e-04j,  7.08513835e-06-5.3597987e-04j,\n",
       "        -5.66047675e-06-5.2862702e-04j],\n",
       "       [ 3.01962573e-04+1.8714694e-05j,  6.18696213e-05+1.6465783e-06j,\n",
       "         1.16959694e-04-2.9717630e-06j, ...,\n",
       "         7.03112164e-06-5.3892191e-04j, -5.78875188e-06-5.3213607e-04j,\n",
       "        -1.82707881e-05-5.2481098e-04j],\n",
       "       [ 6.15085955e-05-3.6841084e-06j,  1.16959658e-04-2.9718503e-06j,\n",
       "         6.36279583e-05-1.5823171e-06j, ...,\n",
       "        -5.91286516e-06-5.3443859e-04j, -1.84679666e-05-5.2768382e-04j,\n",
       "        -3.06818984e-05-5.2026031e-04j],\n",
       "       ...,\n",
       "       [ 2.01743533e-05-5.4287072e-04j,  7.03125261e-06-5.3892343e-04j,\n",
       "        -5.91311255e-06-5.3443934e-04j, ...,\n",
       "        -2.79814005e-04+2.8912909e-06j, -8.17565378e-05+1.5602272e-06j,\n",
       "        -4.37556519e-05+1.1319717e-06j],\n",
       "       [ 7.08449807e-06-5.3598057e-04j, -5.78837353e-06-5.3213671e-04j,\n",
       "        -1.84676755e-05-5.2768458e-04j, ...,\n",
       "        -8.17565306e-05+1.5602272e-06j, -4.31239605e-05+1.3262033e-06j,\n",
       "        -3.16790654e-04+2.5968471e-05j],\n",
       "       [-5.66052040e-06-5.2862737e-04j, -1.82710646e-05-5.2481174e-04j,\n",
       "        -3.06814472e-05-5.2026124e-04j, ...,\n",
       "        -4.37556810e-05+1.1319498e-06j, -3.16790596e-04+2.5968433e-05j,\n",
       "        -1.52587891e-05+3.4272671e-07j]], dtype=complex64)"
      ]
     },
     "execution_count": 59,
     "metadata": {},
     "output_type": "execute_result"
    }
   ],
   "source": [
    "# There is a phase problem in the quadratures\n",
    "-0.5*1.j*(W_plus - W_minus)"
   ]
  },
  {
   "cell_type": "code",
   "execution_count": 32,
   "id": "0ef99849",
   "metadata": {},
   "outputs": [
    {
     "data": {
      "text/plain": [
       "Array([[ 7.3343945e-05-2.8421709e-14j,  7.3521827e-05+1.6276224e-06j,\n",
       "         7.3714924e-05+3.2633459e-06j, ...,\n",
       "        -1.2279353e-06+6.3588886e-06j, -1.3680116e-06+6.5634972e-06j,\n",
       "        -1.5025475e-06+6.6000571e-06j],\n",
       "       [ 7.3521827e-05-1.6276231e-06j,  7.4017524e-05-1.1723955e-13j,\n",
       "         7.4198266e-05+1.6408234e-06j, ...,\n",
       "        -1.1032315e-06+6.0589236e-06j, -1.2304730e-06+6.2718118e-06j,\n",
       "        -1.3566353e-06+6.3183757e-06j],\n",
       "       [ 7.3714924e-05-3.2633459e-06j,  7.4198266e-05-1.6408237e-06j,\n",
       "         7.4698153e-05-8.7041485e-14j, ...,\n",
       "        -9.9398665e-07+5.7360617e-06j, -1.1076992e-06+5.9572362e-06j,\n",
       "        -1.2245256e-06+6.0132925e-06j],\n",
       "       ...,\n",
       "       [-1.2279353e-06-6.3588882e-06j, -1.1032315e-06-6.0589236e-06j,\n",
       "        -9.9398665e-07-5.7360608e-06j, ...,\n",
       "         1.0546925e-05+2.1649349e-14j,  1.0405582e-05+2.3482211e-07j,\n",
       "         1.0277930e-05+4.6380660e-07j],\n",
       "       [-1.3680116e-06-6.5634972e-06j, -1.2304730e-06-6.2718113e-06j,\n",
       "        -1.1076992e-06-5.9572353e-06j, ...,\n",
       "         1.0405582e-05-2.3482191e-07j,  1.0477165e-05+6.1728400e-14j,\n",
       "         1.0237483e-05+2.3080428e-07j],\n",
       "       [-1.5025475e-06-6.6000566e-06j, -1.3566353e-06-6.3183752e-06j,\n",
       "        -1.2245256e-06-6.0132920e-06j, ...,\n",
       "         1.0277930e-05-4.6380651e-07j,  1.0237483e-05-2.3080429e-07j,\n",
       "         1.0300911e-05+2.6201263e-14j]], dtype=complex64)"
      ]
     },
     "execution_count": 32,
     "metadata": {},
     "output_type": "execute_result"
    }
   ],
   "source": [
    "not_quad_pump = jnp.concatenate((best_pump, jnp.zeros(len(best_pump))))\n",
    "U_ss, U_si, U_is, U_ii = opt.get_submatrices(not_quad_pump, N, alpha, G, H, l)\n",
    "N_mat = U_si.conj().T@U_si\n",
    "N_mat"
   ]
  },
  {
   "cell_type": "code",
   "execution_count": 25,
   "id": "35c674c6",
   "metadata": {},
   "outputs": [
    {
     "data": {
      "text/plain": [
       "[<matplotlib.lines.Line2D at 0x7f4ed8594490>]"
      ]
     },
     "execution_count": 25,
     "metadata": {},
     "output_type": "execute_result"
    },
    {
     "data": {
      "image/png": "[encoded data removed]",
      "text/plain": [
       "<Figure size 640x480 with 1 Axes>"
      ]
     },
     "metadata": {},
     "output_type": "display_data"
    }
   ],
   "source": [
    "plt.plot(best_pump)"
   ]
  }
 ],
 "metadata": {
  "kernelspec": {
   "display_name": "Python 3 (ipykernel)",
   "language": "python",
   "name": "python3"
  },
  "language_info": {
   "codemirror_mode": {
    "name": "ipython",
    "version": 3
   },
   "file_extension": ".py",
   "mimetype": "text/x-python",
   "name": "python",
   "nbconvert_exporter": "python",
   "pygments_lexer": "ipython3",
   "version": "3.11.5"
  }
 },
 "nbformat": 4,
 "nbformat_minor": 5
}
