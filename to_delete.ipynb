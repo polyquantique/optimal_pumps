{
 "cells": [
  {
   "cell_type": "code",
   "execution_count": 1,
   "id": "6c827a23-eb25-4e7b-84ff-35597cf07d55",
   "metadata": {},
   "outputs": [],
   "source": [
    "import jax.numpy as jnp\n",
    "import matplotlib.pyplot as plt\n",
    "import jax\n",
    "import get_initialization_cond as init\n",
    "import optimization_SPDC as opt\n",
    "import jaxopt\n",
    "import jax.scipy.optimize as optimize\n",
    "import numpy as np\n",
    "\n",
    "key = jax.random.PRNGKey(0)"
   ]
  },
  {
   "cell_type": "code",
   "execution_count": 2,
   "id": "d3883c25-ee95-4003-80c7-f3b8cb3b0d7c",
   "metadata": {},
   "outputs": [],
   "source": [
    "Np = 0.01\n",
    "# higher N and wf+wi makes less unstable pump... need to see if N or wf+wi influences more\n",
    "N = 601\n",
    "wi = -10\n",
    "wf = 10\n",
    "x = jnp.linspace(wi, wf, N)\n",
    "freq_range_pump = jnp.linspace(2*wi, 2*wf, 2*N)\n",
    "freq_range_pump_complex = jnp.concatenate((freq_range_pump, freq_range_pump)).reshape(4*N,)\n",
    "vp = 0.1\n",
    "l = 1\n",
    "# For an unstable pump, just change amplitude to 0.2 and width to 0.2 at N = 1\n",
    "hermite_init_params = [2, 0.05, 0.3, jnp.pi/5]\n",
    "cst_init_params = [0.1]\n",
    "alpha, G, H = init.get_constants(vp, l, wi, wf, Np, N = N)\n",
    "# get the initialization seeds\n",
    "initial_value_gauss = jnp.array([0.5, 1., 2*jnp.pi/7])\n",
    "arbitrary_seed_hermite = init.get_initialization_array(hermite_init_params, vp, l, wi, wf, Np, method='hermite', N = N)\n",
    "random_seed = 0.01*jax.random.uniform(key, shape=(4*N,))\n",
    "phi = 2*jnp.pi*jax.random.uniform(key)\n",
    "y_N = 5"
   ]
  },
  {
   "cell_type": "code",
   "execution_count": 19,
   "id": "5e3f53c6-9364-4ae0-9d49-37623c6c0267",
   "metadata": {},
   "outputs": [],
   "source": [
    "solver_K = jaxopt.PolyakSGD(opt.get_loss_K, maxiter=5, verbose=1)\n",
    "solver_N = jaxopt.PolyakSGD(opt.get_loss_N, maxiter=20, verbose=1)   \n",
    "solver = jaxopt.PolyakSGD(opt.get_loss, maxiter=100, verbose=1) "
   ]
  },
  {
   "cell_type": "code",
   "execution_count": 23,
   "id": "76854d2e-71c4-4e50-a41d-fccdb27d23a2",
   "metadata": {},
   "outputs": [
    {
     "name": "stdout",
     "output_type": "stream",
     "text": [
      "error: 233.2064\n",
      "error: 112.012634\n",
      "error: 91.41702\n",
      "error: 64.03452\n",
      "error: 59.94392\n",
      "error: 35.14683\n",
      "error: 43.524044\n",
      "error: 13.186435\n",
      "error: 29.959309\n",
      "error: 7.539593\n",
      "error: 11.991227\n",
      "error: 4.7137685\n",
      "error: 6.4480615\n",
      "error: 2.0443926\n",
      "error: 4.7699265\n",
      "error: 0.4625502\n",
      "error: 14.424387\n",
      "error: 5.547262\n",
      "error: 0.6453144\n",
      "error: 6.460557\n",
      "error: 2.0389001\n",
      "error: 5.244437\n",
      "error: 0.5966284\n",
      "error: 6.689095\n",
      "error: 2.4504383\n",
      "error: 3.4510238\n",
      "error: 1.2194365\n",
      "error: 8.15957\n",
      "error: 2.5910337\n",
      "error: 1.838391\n",
      "error: 4.1295085\n",
      "error: 0.19511202\n",
      "error: 4.0190415\n",
      "error: 0.17402798\n",
      "error: 3.1005294\n",
      "error: 0.92175674\n",
      "error: 10.147998\n",
      "error: 3.846577\n",
      "error: 0.17520666\n",
      "error: 3.2338922\n",
      "error: 0.6807368\n",
      "error: 13.840018\n",
      "error: 5.7266154\n",
      "error: 1.3853347\n",
      "error: 3.4277637\n",
      "error: 0.1171076\n",
      "error: 0.5658388\n",
      "error: 6.4063993\n",
      "error: 2.7235236\n",
      "error: 1.0421094\n",
      "error: 4.1295743\n",
      "error: 0.90352434\n",
      "error: 8.122801\n",
      "error: 2.9338474\n",
      "error: 0.65294015\n",
      "error: 12.889922\n",
      "error: 5.3794403\n",
      "error: 1.3353176\n",
      "error: 3.1352124\n",
      "error: 0.12334367\n",
      "error: 2.1095896\n",
      "error: 1.6471883\n",
      "error: 2.328158\n",
      "error: 1.2095183\n",
      "error: 3.3606703\n",
      "error: 0.23860389\n",
      "error: 6.8122888\n",
      "error: 2.2810614\n",
      "error: 1.2360439\n",
      "error: 4.434871\n",
      "error: 0.7813425\n",
      "error: 4.855586\n",
      "error: 1.6677386\n",
      "error: 2.584671\n",
      "error: 0.8305673\n",
      "error: 7.858386\n",
      "error: 2.8883862\n",
      "error: 0.49050274\n",
      "error: 16.940025\n",
      "error: 7.3522973\n",
      "error: 2.6265574\n",
      "error: 0.7316229\n",
      "error: 9.107524\n",
      "error: 3.5727546\n",
      "error: 0.18889052\n",
      "error: 3.4384604\n",
      "error: 0.45971966\n",
      "error: 16.82976\n",
      "error: 7.320201\n",
      "error: 2.6431887\n",
      "error: 0.6386704\n",
      "error: 10.504979\n",
      "error: 4.310355\n",
      "error: 0.80332917\n",
      "error: 4.426686\n",
      "error: 1.3975635\n",
      "error: 3.1601858\n",
      "error: 0.110567376\n",
      "error: 2.5744805\n"
     ]
    }
   ],
   "source": [
    "pump = random_seed.copy()\n",
    "(pump, state) = solver.run(pump, N, alpha, G, H, l, freq_range_pump, y_N)"
   ]
  },
  {
   "cell_type": "code",
   "execution_count": 4,
   "id": "569979ba-85da-41eb-8a4a-ce9935ab8550",
   "metadata": {},
   "outputs": [
    {
     "name": "stdout",
     "output_type": "stream",
     "text": [
      "Loop 0 for K\n",
      "error: 541.3239\n",
      "error: 245.7988\n",
      "error: 140.0841\n",
      "error: 178.94304\n",
      "Loop 0 for N\n",
      "error: 0.06672315\n",
      "error: 0.07503613\n",
      "error: 0.08433486\n",
      "error: 0.09471352\n",
      "error: 0.106265135\n",
      "error: 0.11907565\n",
      "error: 0.13321528\n",
      "error: 0.1487254\n",
      "error: 0.16560002\n",
      "error: 0.18375881\n",
      "error: 0.20300952\n",
      "error: 0.2229976\n",
      "error: 0.24313992\n",
      "error: 0.2625437\n",
      "error: 0.27991715\n",
      "error: 0.2934946\n",
      "error: 0.30102447\n",
      "error: 0.2999171\n",
      "error: 0.28769124\n",
      "Loop 1 for K\n",
      "error: 7.733236\n",
      "error: 17.871737\n",
      "error: 3.019166\n",
      "error: 14.036781\n",
      "Loop 1 for N\n",
      "error: 0.016879253\n",
      "error: 0.008411281\n",
      "error: 0.004198605\n",
      "error: 0.0020974318\n",
      "error: 0.0010481506\n",
      "error: 0.00052398164\n",
      "Loop 2 for K\n",
      "error: 11.067432\n",
      "error: 2.1080685\n",
      "error: 13.655944\n",
      "error: 4.8386774\n",
      "Loop 2 for N\n",
      "error: 0.21847954\n",
      "error: 0.105586566\n",
      "error: 0.051834267\n",
      "error: 0.025670689\n",
      "error: 0.012772642\n",
      "error: 0.006370707\n",
      "error: 0.003181298\n",
      "error: 0.0015895298\n",
      "error: 0.00079440227\n",
      "Loop 3 for K\n",
      "error: 7.194381\n",
      "error: 1.0966797\n",
      "error: 16.947721\n",
      "error: 7.3456354\n",
      "Loop 3 for N\n",
      "error: 0.2673866\n",
      "error: 0.12858808\n",
      "error: 0.06294208\n",
      "error: 0.031121934\n",
      "error: 0.015471986\n",
      "error: 0.007713789\n",
      "error: 0.0038508836\n",
      "error: 0.0019240949\n",
      "error: 0.00096187554\n",
      "Loop 4 for K\n",
      "error: 12.0578785\n",
      "error: 4.606592\n",
      "error: 1.6145285\n",
      "error: 10.020965\n",
      "Loop 4 for N\n",
      "error: 0.07336005\n",
      "error: 0.036216523\n",
      "error: 0.0179898\n",
      "error: 0.008965092\n",
      "error: 0.00447512\n",
      "error: 0.0022356184\n",
      "error: 0.0011172714\n",
      "error: 0.00055853446\n",
      "Loop 5 for K\n",
      "error: 3.4415507\n",
      "error: 3.3531063\n",
      "error: 3.487181\n",
      "error: 3.1880116\n",
      "Loop 5 for N\n",
      "error: 0.03633717\n",
      "error: 0.018049944\n",
      "error: 0.008995075\n",
      "error: 0.0044898526\n",
      "error: 0.0022429037\n",
      "error: 0.0011212457\n",
      "error: 0.0005605206\n",
      "Loop 6 for K\n",
      "error: 2.6988184\n",
      "error: 5.023618\n",
      "error: 0.9644777\n",
      "error: 15.64516\n",
      "Loop 6 for N\n",
      "error: 0.0791846\n",
      "error: 0.03905978\n",
      "error: 0.019393912\n",
      "error: 0.009662861\n",
      "error: 0.0048227296\n",
      "error: 0.0024091844\n",
      "error: 0.0012041111\n",
      "error: 0.00060185126\n",
      "Loop 7 for K\n",
      "error: 1.3956494\n",
      "error: 9.964287\n",
      "error: 3.532494\n",
      "error: 2.344835\n",
      "Loop 7 for N\n",
      "error: 0.041471776\n",
      "error: 0.02058331\n",
      "error: 0.010253187\n",
      "error: 0.0051169028\n",
      "error: 0.0025560018\n",
      "error: 0.0012773183\n",
      "error: 0.0006384881\n",
      "Loop 8 for K\n",
      "error: 0.49418098\n",
      "error: 10.696432\n",
      "error: 4.1285143\n",
      "error: 1.1320784\n",
      "Loop 8 for N\n",
      "error: 0.06606256\n",
      "error: 0.03265625\n",
      "error: 0.016232522\n",
      "error: 0.008092025\n",
      "error: 0.004040201\n",
      "error: 0.0020184007\n",
      "error: 0.0010088404\n",
      "error: 0.0005041638\n",
      "Loop 9 for K\n",
      "error: 4.299113\n",
      "error: 0.9048816\n",
      "error: 13.350517\n",
      "error: 5.7691503\n",
      "Loop 9 for N\n",
      "error: 0.06760051\n",
      "error: 0.033405583\n",
      "error: 0.01660223\n",
      "error: 0.0082758\n",
      "error: 0.004131657\n",
      "error: 0.0020642201\n",
      "error: 0.0010317062\n",
      "error: 0.00051571894\n"
     ]
    }
   ],
   "source": [
    "pump = random_seed.copy()\n",
    "for i in range(10):\n",
    "    print(\"Loop \" + str(i) + \" for K\")\n",
    "    (pump, state) = solver_K.run(pump, N, alpha, G, H, l, freq_range_pump)\n",
    "    print(\"Loop \" + str(i) + \" for N\")\n",
    "    (pump, state) = solver_N.run(pump, N, alpha, G, H, l, y_N)"
   ]
  },
  {
   "cell_type": "code",
   "execution_count": 24,
   "id": "5afa3d3c-2013-4ff9-978a-ab9ae5435cd1",
   "metadata": {},
   "outputs": [
    {
     "data": {
      "text/plain": [
       "(DeviceArray(6.1297665, dtype=float32), DeviceArray(1.0685395, dtype=float32))"
      ]
     },
     "execution_count": 24,
     "metadata": {},
     "output_type": "execute_result"
    },
    {
     "data": {
      "image/png": "[encoded data removed]",
      "text/plain": [
       "<Figure size 432x288 with 1 Axes>"
      ]
     },
     "metadata": {
      "needs_background": "light"
     },
     "output_type": "display_data"
    }
   ],
   "source": [
    "plt.plot(jnp.abs(opt.get_complex_array(pump)))\n",
    "#plt.plot(jnp.angle(opt.get_complex_array(pump)))\n",
    "opt.get_observables(pump, N, alpha, G, H, l)"
   ]
  },
  {
   "cell_type": "code",
   "execution_count": 26,
   "id": "a2ca200c-22a7-46a9-8a9f-c094a40b06f6",
   "metadata": {},
   "outputs": [
    {
     "data": {
      "text/plain": [
       "(DeviceArray(5.000048, dtype=float32), DeviceArray(1.2693273, dtype=float32))"
      ]
     },
     "execution_count": 26,
     "metadata": {},
     "output_type": "execute_result"
    },
    {
     "data": {
      "image/png": "[encoded data removed]",
      "text/plain": [
       "<Figure size 640x480 with 1 Axes>"
      ]
     },
     "metadata": {},
     "output_type": "display_data"
    }
   ],
   "source": [
    "plt.plot(jnp.abs(opt.get_complex_array(pump)))\n",
    "plt.plot(jnp.angle(opt.get_complex_array(pump)))\n",
    "opt.get_observables(pump, N, alpha, G, H, l)"
   ]
  },
  {
   "cell_type": "code",
   "execution_count": 19,
   "id": "015b4b83-57f9-4673-801e-89d461b30230",
   "metadata": {},
   "outputs": [
    {
     "data": {
      "text/plain": [
       "DeviceArray(1.5572517, dtype=float32)"
      ]
     },
     "execution_count": 19,
     "metadata": {},
     "output_type": "execute_result"
    }
   ],
   "source": [
    "opt.get_loss_N(arbitrary_seed_hermite_order_1, N, alpha, G, H, l, y_N)"
   ]
  },
  {
   "cell_type": "code",
   "execution_count": 7,
   "id": "4feb0786-89b7-4907-a7f9-c2528a0c0fef",
   "metadata": {},
   "outputs": [
    {
     "data": {
      "text/plain": [
       "DeviceArray(2.6292431, dtype=float32)"
      ]
     },
     "execution_count": 7,
     "metadata": {},
     "output_type": "execute_result"
    }
   ],
   "source": [
    "# first attempt\n"
   ]
  },
  {
   "cell_type": "code",
   "execution_count": null,
   "id": "460c2a3f-d3f9-4a8c-a4e1-9758c3a69559",
   "metadata": {},
   "outputs": [],
   "source": [
    "# Try get a hang of using Greens function\n"
   ]
  }
 ],
 "metadata": {
  "kernelspec": {
   "display_name": "Python 3 (ipykernel)",
   "language": "python",
   "name": "python3"
  },
  "language_info": {
   "codemirror_mode": {
    "name": "ipython",
    "version": 3
   },
   "file_extension": ".py",
   "mimetype": "text/x-python",
   "name": "python",
   "nbconvert_exporter": "python",
   "pygments_lexer": "ipython3",
   "version": "3.9.7"
  }
 },
 "nbformat": 4,
 "nbformat_minor": 5
}
