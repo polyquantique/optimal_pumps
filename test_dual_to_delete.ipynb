{
 "cells": [
  {
   "cell_type": "code",
   "execution_count": 1,
   "id": "6c827a23-eb25-4e7b-84ff-35597cf07d55",
   "metadata": {},
   "outputs": [],
   "source": [
    "import jax.numpy as jnp\n",
    "import matplotlib.pyplot as plt\n",
    "import jax\n",
    "import numpy as np\n",
    "\n",
    "np.random.seed(0)\n",
    "key = jax.random.PRNGKey(0)"
   ]
  },
  {
   "cell_type": "code",
   "execution_count": 2,
   "id": "d3883c25-ee95-4003-80c7-f3b8cb3b0d7c",
   "metadata": {},
   "outputs": [],
   "source": [
    "v = np.ones(10)\n",
    "v[np.array([np.random.randint(5) + i*5 for i in range(len(v)//5)])] = 0\n",
    "V = 2*jnp.diag(v)\n",
    "E = jnp.exp(V)"
   ]
  },
  {
   "cell_type": "code",
   "execution_count": null,
   "id": "4feb0786-89b7-4907-a7f9-c2528a0c0fef",
   "metadata": {},
   "outputs": [],
   "source": [
    "# first attempt\n"
   ]
  },
  {
   "cell_type": "code",
   "execution_count": null,
   "id": "460c2a3f-d3f9-4a8c-a4e1-9758c3a69559",
   "metadata": {},
   "outputs": [],
   "source": [
    "# Try get a hang of using Greens function\n"
   ]
  }
 ],
 "metadata": {
  "kernelspec": {
   "display_name": "Python 3 (ipykernel)",
   "language": "python",
   "name": "python3"
  },
  "language_info": {
   "codemirror_mode": {
    "name": "ipython",
    "version": 3
   },
   "file_extension": ".py",
   "mimetype": "text/x-python",
   "name": "python",
   "nbconvert_exporter": "python",
   "pygments_lexer": "ipython3",
   "version": "3.9.7"
  }
 },
 "nbformat": 4,
 "nbformat_minor": 5
}
