{
 "cells": [
  {
   "cell_type": "code",
   "execution_count": null,
   "id": "e693f384-1927-418d-90c6-6bee6bfccd2f",
   "metadata": {},
   "outputs": [],
   "source": [
    "#dont touch this\n",
    "optimal_arbitrary_pump = (jax_opt.minimize(opt.get_loss, arbitrary_seed_hermite_order_1,args=(N, alpha, G, H, l, y_N), method = \"BFGS\")).x\n",
    "optimal_arbitrary_complex_pump = opt.get_complex_array(optimal_arbitrary_pump)\n",
    "optimal_arbitrary_pump_cst_seed = (jax_opt.minimize(opt.get_loss, arbitrary_cst_seed,args=(N, alpha, G, H, l, y_N), method = \"BFGS\")).x\n",
    "optimal_arbitrary_pump_cst_seed_complex = opt.get_complex_array(optimal_arbitrary_pump_cst_seed)\n",
    "optimal_gaussian_theta = (jax_opt.minimize(gauss_opt.get_loss,initial_value_gauss, args = (freq_range_pump, alpha, G, H, l, y_N), method=\"BFGS\")).x\n",
    "optimal_gaussian_pump = gauss_opt.get_gaussian_pump(optimal_gaussian_theta, freq_range_pump)"
   ]
  },
  {
   "cell_type": "code",
   "execution_count": null,
   "id": "34151317-e320-459c-8ebe-fb5e5addeb8c",
   "metadata": {},
   "outputs": [],
   "source": [
    "seed_1 = opt.get_complex_array(arbitrary_seed_hermite_order_1)\n",
    "seed_2 = opt.get_complex_array(arbitrary_cst_seed)"
   ]
  },
  {
   "cell_type": "markdown",
   "id": "099b934d-ceb0-4227-9720-a8d74ae9ba49",
   "metadata": {},
   "source": [
    "# Test zone"
   ]
  },
  {
   "cell_type": "code",
   "execution_count": null,
   "id": "108c8fed-f5dd-4056-85e1-f9c425dcd293",
   "metadata": {},
   "outputs": [],
   "source": [
    "def penalized_obj_function(theta, freq_range, size: int, alpha, G, H, l, y_N):\n",
    "    loss = opt.get_loss(theta, size, alpha, G, H, l, y_N)\n",
    "    w = 1\n",
    "    return loss + w*(sum(((wf-wi)/N)*freq_range*jnp.abs(theta)/jnp.linalg.norm(theta)))**2Avoiding explicit imports of NumPy is a non-goal for JAX."
   ]
  },
  {
   "cell_type": "code",
   "execution_count": null,
   "id": "733014cc-5963-4335-a5f5-ddb6fe58cd24",
   "metadata": {},
   "outputs": [],
   "source": [
    "test_optimal_arbitrary_pump = (jax_opt.minimize(penalized_obj_function, arbitrary_seed_hermite_order_1, args=(freq_range_pump_for_real_and_complex, N, alpha, G, H, l, y_N), method=\"BFGS\")).x"
   ]
  },
  {
   "cell_type": "code",
   "execution_count": null,
   "id": "b5ecfe0b-bcc1-4ca6-95d0-3bbe48346520",
   "metadata": {},
   "outputs": [],
   "source": [
    "dirac = np.zeros(len(freq_range_pump_for_real_and_complex))\n",
    "dirac[101] = -1\n",
    "dirac[101+202] = -1"
   ]
  },
  {
   "cell_type": "code",
   "execution_count": null,
   "id": "71f5a651-a722-4495-97ab-e74f0dd1d04b",
   "metadata": {},
   "outputs": [],
   "source": [
    "#penalty\n",
    "plt.plot(test_optimal_arbitrary_pump)"
   ]
  },
  {
   "cell_type": "markdown",
   "id": "df2cc518-5117-4920-b254-80cf6411c4be",
   "metadata": {},
   "source": [
    "# Plot"
   ]
  },
  {
   "cell_type": "code",
   "execution_count": null,
   "id": "cfcc7624-b1cb-46e9-acca-5e884e0d1c44",
   "metadata": {},
   "outputs": [],
   "source": [
    "plt.figure(figsize=(20,10))\n",
    "plt.plot(freq_range_pump[10:-10], (np.abs(optimal_arbitrary_complex_pump)/np.linalg.norm(optimal_arbitrary_complex_pump))[10:-10], label = \"optimized with Hermitian polynomial multiplied by Gaussian seed\")\n",
    "plt.plot(freq_range_pump[10:-10], (np.abs(optimal_arbitrary_pump_cst_seed_complex)/np.linalg.norm(optimal_arbitrary_pump_cst_seed_complex))[10:-10], label = \"Optimized with constant seed\")\n",
    "plt.plot(freq_range_pump[10:-10], (np.abs(optimal_gaussian_pump)/np.linalg.norm(optimal_gaussian_pump))[10:-10], label = \"Haussian fit\")\n",
    "plt.plot(freq_range_pump[10:-10], (np.abs(seed_1)/np.linalg.norm(seed_1))[10:-10], label = 'Hermitian initializtion seed')\n",
    "plt.plot(freq_range_pump[10:-10], (np.abs(seed_2)/np.linalg.norm(seed_2))[10:-10], label = 'Constant initializtion seed')\n",
    "plt.xlabel(\"Normalized frequency\",fontsize = 20)\n",
    "plt.ylabel(\"Normalized absolute value of amplitude\",fontsize = 20)\n",
    "plt.legend(loc = 1,prop = {\"size\": 14})\n",
    "plt.savefig(\"figabstract.pdf\")"
   ]
  },
  {
   "cell_type": "markdown",
   "id": "8ef21451-5604-48f3-a4dc-279de9b6ae06",
   "metadata": {},
   "source": [
    "# Experimentation with many N values "
   ]
  },
  {
   "cell_type": "markdown",
   "id": "a9e3fe07-e56f-40f6-a4aa-c95683506d82",
   "metadata": {},
   "source": [
    "## Set all possible values of $\\left<N\\right>$"
   ]
  },
  {
   "cell_type": "code",
   "execution_count": null,
   "id": "55db5271-dda2-484a-b338-52d5f85c4bd9",
   "metadata": {},
   "outputs": [],
   "source": [
    "y_Ns = jnp.array([0.1, 0.5, 1, 2, 3, 4, 5])"
   ]
  },
  {
   "cell_type": "markdown",
   "id": "ca1bbf84-485f-49bf-b6a1-62cd40f4edbf",
   "metadata": {},
   "source": [
    "## Optimization with BFGS"
   ]
  },
  {
   "cell_type": "code",
   "execution_count": null,
   "id": "134d2d2d-99b4-4f19-b2cb-ec6773c7bdec",
   "metadata": {},
   "outputs": [],
   "source": [
    "K_values_arbitrary = []\n",
    "N_values_arbitrary = []\n",
    "arbitrary_optimized_params = []\n",
    "arbitrary_optimized_complex_params = []\n",
    "K_values_gauss = []\n",
    "N_values_gauss = []\n",
    "gaussian_optimized_params = []\n",
    "gaussian_optimized_complex_pump = []\n",
    "for i in range(len(y_Ns)):\n",
    "    optimized_arbitrary_pump = (jax_opt.minimize(opt.get_loss, arbitrary_seed_hermite_order_1, args = (N, alpha, G, H, l, y_Ns[i]), method=\"BFGS\")).x\n",
    "    arbitrary_optimized_params.append(optimized_arbitrary_pump)\n",
    "    arbitrary_optimized_complex_params.append(opt.get_complex_array(optimized_arbitrary_pump))\n",
    "    N_values_arbitrary.append(opt.get_observables(optimized_arbitrary_pump, N, alpha, G, H, l)[0])\n",
    "    K_values_arbitrary.append(opt.get_observables(optimized_arbitrary_pump, N, alpha, G, H, l)[1])\n",
    "    optimized_gaussian_params = (jax_opt.minimize(gauss_opt.get_loss, initial_value_gauss, args=(freq_range_pump, alpha, G, H, l, y_Ns[i]), method= \"BFGS\")).x\n",
    "    gaussian_optimized_params.append(optimized_gaussian_params)\n",
    "    gaussian_optimized_complex_pump.append(optimized_gaussian_params[0]*jnp.exp(-(freq_range_pump*optimized_gaussian_params[1])**2)*jnp.exp(1j*optimized_gaussian_params[2]))\n",
    "    K_values_gauss.append(gauss_opt.get_observable(optimized_gaussian_params, freq_range_pump, alpha, G, H, l)[1])\n",
    "    N_values_gauss.append(gauss_opt.get_observable(optimized_gaussian_params, freq_range_pump, alpha, G, H, l)[0])\n",
    "    print(\"Finished \" + str(y_Ns[i]) + \" number of pairs created\")"
   ]
  },
  {
   "cell_type": "markdown",
   "id": "da2d290e-0bda-48fe-a84d-1244637cc1e3",
   "metadata": {},
   "source": [
    "## Plotting results"
   ]
  },
  {
   "cell_type": "code",
   "execution_count": null,
   "id": "1cff05c0-18db-4bb0-a391-fc4647307a5d",
   "metadata": {},
   "outputs": [],
   "source": [
    "plt.figure(figsize = (16,8))\n",
    "plt.title(\"Normalized optimal arbitrary pump for different N\")\n",
    "plt.xlabel(\"Frequency offset from mean frequency\")\n",
    "plt.ylabel(\"Amplitude of the pump\")\n",
    "for i in range(len(arbitrary_optimized_params)):\n",
    "    plt.plot(w, jnp.abs(arbitrary_optimized_complex_params[i]/jnp.linalg.norm(arbitrary_optimized_complex_params[i])), label = \"N = \"+str(y_Ns[i]))\n",
    "plt.legend()"
   ]
  },
  {
   "cell_type": "code",
   "execution_count": null,
   "id": "4df59d66-9005-463c-a4db-d51d1b7de6a1",
   "metadata": {},
   "outputs": [],
   "source": [
    "plt.figure(figsize = (16,8))\n",
    "plt.title(\"Normalized optimal gaussian pump for different N\")\n",
    "plt.xlabel(\"Frequency offset from mean frequency\")\n",
    "plt.ylabel(\"Amplitude of the pump\")\n",
    "for i in range(len(arbitrary_optimized_params)):\n",
    "    plt.plot(freq_range_pump, jnp.abs(gaussian_optimized_complex_pump[i]/jnp.linalg.norm(gaussian_optimized_complex_pump[i])), label = \"N = \"+str(y_Ns[i]))\n",
    "plt.legend()"
   ]
  },
  {
   "cell_type": "code",
   "execution_count": null,
   "id": "1ed1cbb3-7b6a-4f6a-beea-0960f17f09aa",
   "metadata": {},
   "outputs": [],
   "source": [
    "plt.figure(figsize = (16,8))\n",
    "plt.title(\"Phase of optimal arbitrary pump for different N\")\n",
    "plt.xlabel(\"Frequency offset from mean frequency\")\n",
    "plt.ylabel(\"Amplitude of the pump\")\n",
    "for i in range(len(arbitrary_optimized_params)):\n",
    "    plt.plot(freq_range_pump, jnp.angle(gaussian_optimized_complex_pump[i]/jnp.linalg.norm(gaussian_optimized_complex_pump[i])), label = \"N = \"+str(y_Ns[i]))\n",
    "plt.legend()"
   ]
  },
  {
   "cell_type": "code",
   "execution_count": null,
   "id": "66441f7b-9177-4102-90c1-24f5aaaa2dc5",
   "metadata": {},
   "outputs": [],
   "source": [
    "plt.plot(np.array(gaussian_optimized_params).T[1])"
   ]
  },
  {
   "cell_type": "code",
   "execution_count": null,
   "id": "20455d0b-d2ac-4f21-b3ab-a0acbe558aae",
   "metadata": {},
   "outputs": [],
   "source": [
    "K_values_gauss, K_values_arbitrary"
   ]
  }
 ],
 "metadata": {
  "kernelspec": {
   "display_name": "Python 3 (ipykernel)",
   "language": "python",
   "name": "python3"
  },
  "language_info": {
   "codemirror_mode": {
    "name": "ipython",
    "version": 3
   },
   "file_extension": ".py",
   "mimetype": "text/x-python",
   "name": "python",
   "nbconvert_exporter": "python",
   "pygments_lexer": "ipython3",
   "version": "3.9.12"
  }
 },
 "nbformat": 4,
 "nbformat_minor": 5
}
