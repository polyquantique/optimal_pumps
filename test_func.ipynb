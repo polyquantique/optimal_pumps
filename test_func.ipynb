{
 "cells": [
  {
   "cell_type": "code",
   "execution_count": 2,
   "id": "201d51fa-58a6-4903-a809-218a2cd03ca5",
   "metadata": {},
   "outputs": [],
   "source": [
    "import jax \n",
    "import jax.numpy as jnp\n",
    "import numpy as np\n",
    "import matplotlib.pyplot as plt"
   ]
  },
  {
   "cell_type": "code",
   "execution_count": 30,
   "id": "b626440b-de0a-4e07-99b6-75951b90975c",
   "metadata": {},
   "outputs": [],
   "source": [
    "def lin_reg(theta,x):\n",
    "    w, b = theta\n",
    "    return w*x+b\n",
    "def least_square(theta, x, y):\n",
    "    pred = lin_reg(theta, x)\n",
    "    return jnp.mean((pred - y)**2)\n",
    "def update(theta, x, y, lr = 0.2):\n",
    "    return theta - lr*jax.grad(least_square, argnums=(0))(theta, x, y)"
   ]
  },
  {
   "cell_type": "code",
   "execution_count": 36,
   "id": "3f513526-042a-4061-8525-de7eb2ad3044",
   "metadata": {},
   "outputs": [],
   "source": [
    "x = jnp.linspace(0,1,101)\n",
    "theta = jnp.array([1.,1.])\n",
    "y = 3*jnp.linspace(0,1,101)+0.5\n",
    "for i in range(200):\n",
    "    theta = update(theta, x, y)"
   ]
  },
  {
   "cell_type": "code",
   "execution_count": 37,
   "id": "56363810-f97e-4f12-a351-33274d611969",
   "metadata": {},
   "outputs": [
    {
     "data": {
      "text/plain": [
       "DeviceArray([-0.00102905,  0.00055146], dtype=float32)"
      ]
     },
     "execution_count": 37,
     "metadata": {},
     "output_type": "execute_result"
    }
   ],
   "source": [
    "jax.grad(least_square)(theta, x, y)"
   ]
  }
 ],
 "metadata": {
  "kernelspec": {
   "display_name": "Python 3 (ipykernel)",
   "language": "python",
   "name": "python3"
  },
  "language_info": {
   "codemirror_mode": {
    "name": "ipython",
    "version": 3
   },
   "file_extension": ".py",
   "mimetype": "text/x-python",
   "name": "python",
   "nbconvert_exporter": "python",
   "pygments_lexer": "ipython3",
   "version": "3.9.7"
  }
 },
 "nbformat": 4,
 "nbformat_minor": 5
}
