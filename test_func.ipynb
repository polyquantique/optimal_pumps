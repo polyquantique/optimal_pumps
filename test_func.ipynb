{
 "cells": [
  {
   "cell_type": "markdown",
   "id": "875cdda7-b930-452d-9a57-8b310b80615b",
   "metadata": {},
   "source": [
    "# Notebook to test functions and behaviors of the matrix exponentiation"
   ]
  },
  {
   "cell_type": "code",
   "execution_count": 1,
   "id": "201d51fa-58a6-4903-a809-218a2cd03ca5",
   "metadata": {},
   "outputs": [],
   "source": [
    "import jax \n",
    "import jax.numpy as jnp\n",
    "import numpy as np\n",
    "import matplotlib.pyplot as plt\n",
    "import scipy\n",
    "import jax.scipy.optimize as jaxopt\n",
    "import get_initialization_cond as init"
   ]
  },
  {
   "cell_type": "code",
   "execution_count": 2,
   "id": "b626440b-de0a-4e07-99b6-75951b90975c",
   "metadata": {},
   "outputs": [],
   "source": [
    "def lin_reg(theta,x):\n",
    "    w, b = theta\n",
    "    return w*x+b\n",
    "def least_square(theta, x, y):\n",
    "    pred = lin_reg(theta, x)\n",
    "    return jnp.mean((pred - y)**2)\n",
    "def update(theta, x, y, lr = 0.2):\n",
    "    return theta - lr*jax.grad(least_square, argnums=(0))(theta, x, y)"
   ]
  },
  {
   "cell_type": "code",
   "execution_count": 36,
   "id": "3f513526-042a-4061-8525-de7eb2ad3044",
   "metadata": {},
   "outputs": [],
   "source": [
    "x = jnp.linspace(0,1,101)\n",
    "theta = jnp.array([1.,1.])\n",
    "y = 3*jnp.linspace(0,1,101)+0.5\n",
    "for i in range(200):\n",
    "      9     Returns a complex array with real part the first half of the input vector\n",
    "     10     and the imaginary part the second half of the input vector.\n",
    "   (...)\n",
    "     21         array([complex]): vector initializing the optimization\n",
    "     22     \"\"\"\n",
    "---> 23     if pump_shape == 0:\n",
    "     24         real = theta[:len(theta)//2]\n",
    "     25         imag = theta[len(theta)//2:]\n",
    "\n",
    "    [... skipping hidden 1 frame]\n",
    "\n",
    "File ~/.local/share/virtualenvs/optimal_pumps-vxukOnVz/lib/python3.9/site-packages/jax/core.py:1177, in concretization_function_error.<locals>.error(self, arg)\n",
    "   1176 def error(self, arg):\n",
    "-> 1177   raise ConcretizationTypeError(arg, fname_context)\n",
    "\n",
    "ConcretizationTypeError: Abstract tracer value encountered where concrete value is expected: Traced<ShapedArray(bool[], weak_type=True)>with<DynamicJaxprTrace(level=0/1)>\n",
    "The problem arose with the `bool` function. \n",
    "The error occurred while tracing the function moving_window at /home/jiaqi/Downloads/masters/optimal_pumps/optimization_SPDC.py:31 for jit. This concrete value was not available in Python because it depends on the value of the argument 'size'.\n",
    "\n",
    "See https://jax.readthedocs.io/en/latest/errors.html#jax.errors.ConcretizationTypeError\n",
    "    theta = update(theta, x, y)"
   ]
  },
  {
   "cell_type": "code",
   "execution_count": 2,
   "id": "640aba01-b937-4eb2-b3e0-a87a587f4bd3",
   "metadata": {},
   "outputs": [],
   "source": [
    "N = 401\n",
    "wi = -10\n",
    "wf = 10\n",
    "l = 1\n",
    "Np = 0.001\n",
    "change = np.linspace(0.5,5,101)\n",
    "x = np.linspace(wi,wf,N)\n",
    "objective_f = []\n",
    "N_pairs = []\n",
    "alpha, G, H  = init.get_constants(l, wi, wf, Np, N = N)\n",
    "for i in range(len(change)):\n",
    "    x[N//2] = change[i]\n",
    "    F = alpha*np.exp(-(x+x[:,np.newaxis])**2/2)\n",
    "    #F = alpha*(x + x[:, np.newaxis])\n",
    "    #F = np.array([[1,2,3],[2, 3, 1], [3,1,change[i]]])\n",
    "    a = np.block([[G, F],[-np.conj(F).T, -H]])\n",
    "    U = (scipy.linalg.expm(1j*a))[:N,N:]\n",
    "    objective_f.append(((np.trace(np.conj(U)@U.T))**2/(np.trace((np.conj(U)@U.T)@(np.conj(U)@U.T))) - 1)**2 + (np.trace(np.conj(U)@U.T) - 1)**2)\n",
    "    N_pairs.append(np.trace(np.conj(U)@U.T))"
   ]
  },
  {
   "cell_type": "code",
   "execution_count": 66,
   "id": "b3658470-8a7a-4333-ace0-5f2e28f2cfc8",
   "metadata": {},
   "outputs": [
    {
     "name": "stderr",
     "output_type": "stream",
     "text": [
      "C:\\Users\\super\\.virtualenvs\\pump_optimization-rAbjnRJu\\lib\\site-packages\\matplotlib\\cbook\\__init__.py:1298: ComplexWarning: Casting complex values to real discards the imaginary part\n",
      "  return np.asarray(x, float)\n"
     ]
    },
    {
     "data": {
      "text/plain": [
       "[<matplotlib.lines.Line2D at 0x133e5d49eb0>]"
      ]
     },
     "execution_count": 66,
     "metadata": {},
     "output_type": "execute_result"
    },
    {
     "data": {
      "image/png": "[encoded data removed]",
      "text/plain": [
       "<Figure size 432x288 with 1 Axes>"
      ]
     },
     "metadata": {
      "needs_background": "light"
     },
     "output_type": "display_data"
    }
   ],
   "source": [
    "plt.plot(objective_f)"
   ]
  },
  {
   "cell_type": "code",
   "execution_count": 75,
   "id": "bda11a98-5dee-4da0-ab46-4cdd642c93fb",
   "metadata": {},
   "outputs": [],
   "source": [
    "x = jnp.linspace(wi,wf,N)"
   ]
  },
  {
   "cell_type": "code",
   "execution_count": 66,
   "id": "7ba208d1-5311-477e-9a00-44d030585c11",
   "metadata": {},
   "outputs": [
    {
     "name": "stderr",
     "output_type": "stream",
     "text": [
      "C:\\Users\\super\\AppData\\Local\\Temp\\ipykernel_12124\\2592801646.py:1: RuntimeWarning: divide by zero encountered in log\n",
      "  plt.plot(x, -np.log(x-x[-1])-np.log(x+x[-1]))\n",
      "C:\\Users\\super\\AppData\\Local\\Temp\\ipykernel_12124\\2592801646.py:1: RuntimeWarning: invalid value encountered in log\n",
      "  plt.plot(x, -np.log(x-x[-1])-np.log(x+x[-1]))\n"
     ]
    },
    {
     "data": {
      "text/plain": [
       "[<matplotlib.lines.Line2D at 0x24802943cd0>]"
      ]
     },
     "execution_count": 66,
     "metadata": {},
     "output_type": "execute_result"
    },
    {
     "data": {
      "image/png": "[encoded data removed]",
      "text/plain": [
       "<Figure size 432x288 with 1 Axes>"
      ]
     },
     "metadata": {
      "needs_background": "light"
     },
     "output_type": "display_data"
    }
   ],
   "source": [
    "plt.plot(x, -np.log(x-x[-1])-np.log(x+x[-1]))"
   ]
  },
  {
   "cell_type": "code",
   "execution_count": 79,
   "id": "03511d93-6602-4914-83bf-00e86855d55b",
   "metadata": {},
   "outputs": [],
   "source": [
    "def loss(a, x, objective_value):\n",
    "    return jnp.sum((a*(x-objective_value))**2)\n",
    "a = jnp.exp(-x**2)"
   ]
  },
  {
   "cell_type": "code",
   "execution_count": 80,
   "id": "3aca365f-dcd6-4acd-aa7b-bf069a8233b6",
   "metadata": {},
   "outputs": [],
   "source": [
    "optim = jaxopt.minimize(loss, a, args=(x, 0), method = \"BFGS\")"
   ]
  }
 ],
 "metadata": {
  "kernelspec": {
   "display_name": "Python 3 (ipykernel)",
   "language": "python",
   "name": "python3"
  },
  "language_info": {
   "codemirror_mode": {
    "name": "ipython",
    "version": 3
   },
   "file_extension": ".py",
   "mimetype": "text/x-python",
   "name": "python",
   "nbconvert_exporter": "python",
   "pygments_lexer": "ipython3",
   "version": "3.9.7"
  }
 },
 "nbformat": 4,
 "nbformat_minor": 5
}
