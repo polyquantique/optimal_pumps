{
 "cells": [
  {
   "cell_type": "markdown",
   "id": "7d443343-b2cb-42f6-8908-fd30de054aca",
   "metadata": {},
   "source": [
    "## Notebook to test different test"
   ]
  },
  {
   "cell_type": "code",
   "execution_count": 74,
   "id": "e74f175c-7e04-4d96-b4dc-c8984e534991",
   "metadata": {},
   "outputs": [],
   "source": [
    "import jax.numpy as jnp\n",
    "import matplotlib.pyplot as plt\n",
    "import jax\n",
    "import jax.scipy as jscipy\n",
    "import optimization_SPDC as opt\n",
    "import get_initialization_cond as init\n",
    "import scipy\n",
    "import numpy as np\n",
    "import time_uncouple_dynamics as uncoupling"
   ]
  },
  {
   "cell_type": "code",
   "execution_count": 75,
   "id": "7247dbc6-7bde-4002-a716-72df124aafb0",
   "metadata": {},
   "outputs": [],
   "source": [
    "# Initialize waveguide parameters\n",
    "vp = 0.1\n",
    "l = 1\n",
    "wi = -5\n",
    "wf = 5\n",
    "# negative Np wuch that gamma is purely imaginary\n",
    "Np = 0.1\n",
    "N = 101\n",
    "alpha_phase = np.pi/2\n",
    "method = \"hermite\"\n",
    "gauss_amp = 1\n",
    "gauss_width = 0.4\n",
    "gauss_phase = 0"
   ]
  },
  {
   "cell_type": "markdown",
   "id": "7773b828-f5e5-4956-898f-b5966f88816e",
   "metadata": {},
   "source": [
    "# Optimization problem in pseudo-quadratures in frequency"
   ]
  },
  {
   "cell_type": "markdown",
   "id": "a1918535-7a54-43df-8a1b-02dd3753d6b8",
   "metadata": {},
   "source": [
    "## Put here the theory behind how the dynamics are decoupled "
   ]
  },
  {
   "cell_type": "code",
   "execution_count": null,
   "id": "96e668e0-dadc-42d2-927e-29ceec78884c",
   "metadata": {},
   "outputs": [],
   "source": [
    "import optimization_quadratures as opt_quad"
   ]
  },
  {
   "cell_type": "code",
   "execution_count": 33,
   "id": "ec56678e-cb17-4c8a-8085-4b911afdfed5",
   "metadata": {},
   "outputs": [],
   "source": [
    "# Note: if pump is very wide, U_ss, U_si... may be very noisy\n",
    "omega = jnp.linspace(wi, wf, 2*N)\n",
    "key = jax.random.PRNGKey(0)\n",
    "seed = jnp.exp(-(omega**2)/0.1)#0.2*jax.random.uniform(shape = (2*N,), key = key)\n",
    "alpha, G, H = init.get_constants(vp, l, wi, wf, Np, alpha_phase, N = N)\n",
    "alpha = jnp.abs(alpha)"
   ]
  },
  {
   "cell_type": "code",
   "execution_count": 5,
   "id": "26201739-7a39-406b-9a7f-0583c98466e2",
   "metadata": {},
   "outputs": [],
   "source": [
    "import jaxopt\n",
    "solver = jaxopt.ScipyMinimize(method=\"BFGS\", fun=opt_quad.get_penalty_loss, maxiter=1, jit = False)\n",
    "y_N = 1"
   ]
  },
  {
   "cell_type": "code",
   "execution_count": 7,
   "id": "339be50b-2a37-4750-87d5-1fdd73da45b9",
   "metadata": {},
   "outputs": [
    {
     "name": "stdout",
     "output_type": "stream",
     "text": [
      "run 0\n",
      "run 1\n",
      "run 2\n",
      "run 3\n",
      "run 4\n",
      "run 5\n",
      "run 6\n",
      "run 7\n",
      "run 8\n",
      "run 9\n",
      "run 10\n",
      "run 11\n",
      "run 12\n",
      "run 13\n",
      "run 14\n",
      "run 15\n",
      "run 16\n",
      "run 17\n",
      "run 18\n",
      "run 19\n"
     ]
    }
   ],
   "source": [
    "pump = seed.copy()\n",
    "pumps_for_k = []\n",
    "for i in range(20):\n",
    "    pumps = []\n",
    "    print(\"run \" + str(i))\n",
    "    for j in range(10):\n",
    "        (pump, state) = solver.run(pump, N, alpha, H, l, omega, y_N, 3**i)\n",
    "        pumps.append(pump.copy())\n",
    "    pumps_for_k.append(pumps)"
   ]
  },
  {
   "cell_type": "code",
   "execution_count": 10,
   "id": "2276d097-98a2-4347-b0b6-0099bc30bf36",
   "metadata": {},
   "outputs": [
    {
     "data": {
      "text/plain": [
       "(DeviceArray(1.0004156+0.j, dtype=complex64),\n",
       " DeviceArray(1.1434447+0.j, dtype=complex64))"
      ]
     },
     "execution_count": 10,
     "metadata": {},
     "output_type": "execute_result"
    }
   ],
   "source": [
    "opt_quad.get_observables(pump, N, alpha, H, l)"
   ]
  },
  {
   "cell_type": "markdown",
   "id": "f7c59eb0-ec86-4a78-9de1-5d7253943a73",
   "metadata": {},
   "source": [
    "# If we do not impose penalty on variance of pump, we have a purity of 1 but a weird pump..."
   ]
  },
  {
   "cell_type": "markdown",
   "id": "6ffe2528-bb15-4023-8d5d-d7380696066d",
   "metadata": {},
   "source": [
    "## Let us use as initial seed a pump that is displaced in frequency"
   ]
  },
  {
   "cell_type": "code",
   "execution_count": 76,
   "id": "19c443bd-b935-48cd-8642-da01f31f92e8",
   "metadata": {},
   "outputs": [],
   "source": [
    "alpha, G, H = init.get_constants(vp, l, wi, wf, Np, alpha_phase, N = N)\n",
    "alpha = jnp.abs(alpha)\n",
    "omega = jnp.linspace(wi, wf, 2*N)\n",
    "pump = np.zeros(4*N) \n",
    "pump[2*N - 30:2*N - 5] = 0.1\n",
    "import optimization_SPDC as opt\n",
    "complex_pump = opt.get_complex_array(pump)"
   ]
  },
  {
   "cell_type": "code",
   "execution_count": 77,
   "id": "ff6ee042-b47e-49aa-9f4a-dae513ffb978",
   "metadata": {},
   "outputs": [
    {
     "data": {
      "text/plain": [
       "[<matplotlib.lines.Line2D at 0x7f01cb402610>]"
      ]
     },
     "execution_count": 77,
     "metadata": {},
     "output_type": "execute_result"
    },
    {
     "data": {
      "image/png": "[encoded data removed]",
      "text/plain": [
       "<Figure size 640x480 with 1 Axes>"
      ]
     },
     "metadata": {},
     "output_type": "display_data"
    }
   ],
   "source": [
    "plt.xlabel(\"frequency\")\n",
    "plt.ylabel(\"pump real amplitude\")\n",
    "plt.plot(jnp.linspace(-5, 5, 2*101), complex_pump)"
   ]
  },
  {
   "cell_type": "markdown",
   "id": "c0c37817-7826-49ec-bb21-5f5dfe10e0f2",
   "metadata": {},
   "source": [
    "## We will not be using the function that gives the objective function from the optimization_SPDC module. Instead, an objective function that does not contain the variance will be used."
   ]
  },
  {
   "cell_type": "code",
   "execution_count": 78,
   "id": "9d10b1b0-6c03-4683-a62c-f0bf227bac57",
   "metadata": {},
   "outputs": [],
   "source": [
    "def get_loss_K_runaway(theta, size: int, alpha, G, H, l):\n",
    "    \"\"\"\n",
    "    Gives the value of the objective function when not penalizing the variance.\n",
    "\n",
    "    Args:\n",
    "        theta (array[float]): problem parameters. Length is 4 times size\n",
    "        size (int): resolution of the matrices\n",
    "        alpha (float): constant including power of pump, group velocity of all modes, etc.\n",
    "        G (array[complex]): matrix giving the dependency of a_s(z) on a_z(z_o)\n",
    "        H (array[complex]): matrix giving the dependency of a_i(z) dagger on a_i(z_o) dagger\n",
    "        l (float): length of the waveguide\n",
    "    returns:\n",
    "        float: value of the objective function\n",
    "    \"\"\"\n",
    "    N, K = opt.get_observables(theta, size, alpha, G, H, l)\n",
    "    return K - 1\n",
    "def get_penalty_loss(theta, size: int, alpha, G, H, l, y_N, sigma):\n",
    "    \"\"\"\n",
    "    Gives the loss value when using the penalty method.\n",
    "\n",
    "    Args:\n",
    "        theta (array[float]): problem parameters. Length is 4 times size\n",
    "        size (int): resolution of the matrices\n",
    "        alpha (float): constant including power of pump, group velocity of all modes, etc.\n",
    "        G (array[complex]): matrix giving the dependency of a_s(z) on a_z(z_o)\n",
    "        H (array[complex]): matrix giving the dependency of a_i(z) dagger on a_i(z_o) dagger\n",
    "        l (float): length of the waveguide\n",
    "        y_N (float): desired value for photon pairs\n",
    "        sigma (float): weight of the penalty\n",
    "    returns:\n",
    "        float: value of the loss when using penalty method\n",
    "    \"\"\"\n",
    "    loss_K = get_loss_K_runaway(theta, size, alpha, G, H, l)\n",
    "    loss_N = opt.get_loss_N(theta, size, alpha, G, H, l, y_N)\n",
    "    penalty_loss = loss_K + sigma*((jnp.maximum(0, loss_N))**2 + (jnp.maximum(0, - loss_N))**2)\n",
    "    return penalty_loss"
   ]
  },
  {
   "cell_type": "code",
   "execution_count": 38,
   "id": "4cd2facc-32dd-4c08-8b4f-3d76a9b1dd23",
   "metadata": {},
   "outputs": [],
   "source": [
    "import jaxopt \n",
    "optimizer = jaxopt.ScipyMinimize(method = \"BFGS\", fun=get_penalty_loss, maxiter = 1, jit=False)"
   ]
  },
  {
   "cell_type": "code",
   "execution_count": 81,
   "id": "439fc137-ca8d-4aa3-9e3e-58024eb17303",
   "metadata": {},
   "outputs": [
    {
     "name": "stdout",
     "output_type": "stream",
     "text": [
      "0.17560422\n",
      "0.004764676\n",
      "0.0033521652\n",
      "0.002557993\n",
      "0.0020515919\n",
      "0.0017054081\n",
      "0.0014528036\n",
      "0.0012608767\n",
      "0.001110673\n",
      "0.0009903908\n",
      "For propagators of size 100 times 100, the time taken is:  77.30684494972229\n"
     ]
    }
   ],
   "source": [
    "import time\n",
    "\n",
    "y_N = 1\n",
    "params = jnp.array(pump).copy()\n",
    "tic = time.time()\n",
    "for i in range(10):\n",
    "    print(get_loss_K_runaway(params, N, alpha, G, H, l))\n",
    "    for j in range(15):\n",
    "        params, state = optimizer.run(params, N, alpha, G, H, l, y_N, i**3)\n",
    "print(\"For propagators of size 100 times 100, the time taken in seconds is: \", time.time() - tic)"
   ]
  },
  {
   "cell_type": "code",
   "execution_count": 40,
   "id": "dc89c233-df4a-4d6f-ab46-ca1da17baefe",
   "metadata": {},
   "outputs": [
    {
     "name": "stderr",
     "output_type": "stream",
     "text": [
      "/home/jiaqi/.local/share/virtualenvs/optimal_pumps-vxukOnVz/lib/python3.9/site-packages/matplotlib/cbook/__init__.py:1298: ComplexWarning: Casting complex values to real discards the imaginary part\n",
      "  return np.asarray(x, float)\n"
     ]
    },
    {
     "data": {
      "text/plain": [
       "(DeviceArray(0.99501747, dtype=float32), DeviceArray(1.0013762, dtype=float32))"
      ]
     },
     "execution_count": 40,
     "metadata": {},
     "output_type": "execute_result"
    },
    {
     "data": {
      "image/png": "[encoded data removed]",
      "text/plain": [
       "<Figure size 640x480 with 1 Axes>"
      ]
     },
     "metadata": {},
     "output_type": "display_data"
    }
   ],
   "source": [
    "plt.xlabel(\"frequency\")\n",
    "plt.ylabel(\"pump real amplitude\")\n",
    "plt.plot(omega, opt.get_complex_array(params))\n",
    "opt.get_observables(params, N, alpha, G, H, l)"
   ]
  },
  {
   "cell_type": "markdown",
   "id": "9b515ae9-2cb9-40df-9ebc-2673ea310353",
   "metadata": {},
   "source": [
    "## Now, what if we used a bigger domain"
   ]
  },
  {
   "cell_type": "code",
   "execution_count": 42,
   "id": "f66eed88-71cb-4866-8ccb-df63f209cb46",
   "metadata": {},
   "outputs": [
    {
     "ename": "SyntaxError",
     "evalue": "invalid syntax (486326152.py, line 9)",
     "output_type": "error",
     "traceback": [
      "\u001b[0;36m  Cell \u001b[0;32mIn [60], line 9\u001b[0;36m\u001b[0m\n\u001b[0;31m    print(get_loss_K_runaway(parapenalty term unconstrained optimizationms, N, alpha, G, H, l))\u001b[0m\n\u001b[0m                                         ^\u001b[0m\n\u001b[0;31mSyntaxError\u001b[0m\u001b[0;31m:\u001b[0m invalid syntax\n"
     ]
    }
   ],
   "source": [
    "wi = -15\n",
    "wf = 15\n",
    "omega = jnp.linspace(wi, wf, 2*N)\n",
    "alpha, G, H = init.get_constants(vp, l, wi, wf, Np, alpha_phase, N = N)\n",
    "alpha = jnp.abs(alpha)\n",
    "y_N = 1\n",
    "params = jnp.array(pump).copy()\n",
    "for i in range(10):\n",
    "    print(get_loss_K_runaway(params, N, alpha, G, H, l))\n",
    "    for j in range(15):\n",
    "        params, state = optimizer.run(params, N, alpha, G, H, l, y_N, i**3)"
   ]
  },
  {
   "cell_type": "code",
   "execution_count": 64,
   "id": "5f14f6a8-adfc-4466-a5b3-b42a53316ec3",
   "metadata": {},
   "outputs": [
    {
     "name": "stderr",
     "output_type": "stream",
     "text": [
      "/home/jiaqi/.local/share/virtualenvs/optimal_pumps-vxukOnVz/lib/python3.9/site-packages/matplotlib/cbook/__init__.py:1298: ComplexWarning: Casting complex values to real discards the imaginary part\n",
      "  return np.asarray(x, float)\n"
     ]
    },
    {
     "data": {
      "text/plain": [
       "[<matplotlib.lines.Line2D at 0x7f01d8ea7c40>]"
      ]
     },
     "execution_count": 64,
     "metadata": {},
     "output_type": "execute_result"
    },
    {
     "data": {
      "image/png": "[encoded data removed]",
      "text/plain": [
       "<Figure size 640x480 with 1 Axes>"
      ]
     },
     "metadata": {},
     "output_type": "display_data"
    }
   ],
   "source": [
    "plt.xlabel(\"frequency\")\n",
    "plt.ylabel(\"pump real amplitude\")\n",
    "plt.plot(omega, opt.get_complex_array(params))"
   ]
  },
  {
   "cell_type": "markdown",
   "id": "095f6b13-c577-44d7-8e36-4f05d0d29c17",
   "metadata": {},
   "source": [
    "## What if the resolution was better?"
   ]
  },
  {
   "cell_type": "code",
   "execution_count": 62,
   "id": "dd2abf62-ee45-4da9-95ba-99a7372dd307",
   "metadata": {},
   "outputs": [
    {
     "name": "stdout",
     "output_type": "stream",
     "text": [
      "0.24702287\n",
      "0.0024424791\n",
      "0.0023593903\n",
      "0.0017466545\n",
      "0.0013833046\n",
      "0.0011566877\n",
      "0.0010288954\n",
      "0.00092601776\n",
      "0.0008406639\n",
      "0.0007685423\n"
     ]
    }
   ],
   "source": [
    "wi = -15\n",
    "wf = 15\n",
    "N = 401\n",
    "omega = jnp.linspace(wi, wf, 2*N)\n",
    "alpha, G, H = init.get_constants(vp, l, wi, wf, Np, alpha_phase, N = N)\n",
    "alpha = jnp.abs(alpha)\n",
    "y_N = 1\n",
    "pump = np.zeros(4*N) \n",
    "pump[2*N - 30:2*N - 5] = 0.1\n",
    "params = jnp.array(pump)\n",
    "for i in range(10):\n",
    "    print(get_loss_K_runaway(params, N, alpha, G, H, l))\n",
    "    for j in range(15):\n",
    "        params, state = optimizer.run(params, N, alpha, G, H, l, y_N, i**3)"
   ]
  },
  {
   "cell_type": "code",
   "execution_count": 69,
   "id": "10264030-ea1c-47d0-bff1-a75730a863ca",
   "metadata": {},
   "outputs": [
    {
     "data": {
      "text/plain": [
       "[<matplotlib.lines.Line2D at 0x7f01cb6daf40>]"
      ]
     },
     "execution_count": 69,
     "metadata": {},
     "output_type": "execute_result"
    },
    {
     "data": {
      "image/png": "[encoded data removed]",
      "text/plain": [
       "<Figure size 640x480 with 1 Axes>"
      ]
     },
     "metadata": {},
     "output_type": "display_data"
    }
   ],
   "source": [
    "plt.xlabel(\"frequency\")\n",
    "plt.ylabel(\"pump real amplitude\")\n",
    "plt.plot(omega, opt.get_complex_array(params))"
   ]
  },
  {
   "cell_type": "markdown",
   "id": "7a890351-82e9-4ae5-b398-75ca46463553",
   "metadata": {
    "tags": []
   },
   "source": [
    "# Get the propagators of pseudo-quadratures using optimization_SPDC"
   ]
  },
  {
   "cell_type": "code",
   "execution_count": 44,
   "id": "f9cbf415-2c6d-4fb1-8f9e-12aa27df908c",
   "metadata": {},
   "outputs": [],
   "source": [
    "# Get initial pump and SU(1,1) algebra elements\n",
    "alpha, G, H = init.get_constants(vp, l, wi, wf, Np, alpha_phase, N = N)\n",
    "pump = init.get_initialization_array([0, gauss_amp, gauss_width, gauss_phase], vp, l, wi, wf, Np, method = method, N=N)"
   ]
  },
  {
   "cell_type": "code",
   "execution_count": 55,
   "id": "7c877fb6-6dfb-48e0-9c7d-67c9415744a3",
   "metadata": {},
   "outputs": [],
   "source": [
    "U_ss, U_si, U_is, U_ii = opt.get_submatrices(pump, N, alpha, G, H, l)\n",
    "V, W = uncoupling.get_V_W_matrices(pump, N, alpha, G, H, l)"
   ]
  },
  {
   "cell_type": "code",
   "execution_count": 46,
   "id": "19297bb7-18c5-476e-9bb0-8ee9c7c5c68b",
   "metadata": {},
   "outputs": [],
   "source": [
    "# Eigenvalues and eigenvectors\n",
    "eigenvalues, eigenvectors = jnp.linalg.eig(U_si@U_si.conj().T)\n",
    "norm_eig = np.abs(eigenvalues*eigenvalues.conj())"
   ]
  },
  {
   "cell_type": "code",
   "execution_count": 47,
   "id": "9209e1ab-152e-4813-8956-7735346d3564",
   "metadata": {},
   "outputs": [],
   "source": [
    "# Get free propagation V and W\n",
    "pump_free = init.get_initialization_array([0, 0, gauss_width, gauss_phase], vp, l, wi, wf, Np, method = method, N=N)\n",
    "free_U_ss, free_U_si, free_U_is, free_U_ii = opt.get_submatrices(pump_free, N, alpha, G, H, l)\n",
    "free_V, free_W = uncoupling.get_V_W_matrices(pump_free, N, alpha, G, H, l)"
   ]
  },
  {
   "cell_type": "code",
   "execution_count": 48,
   "id": "0d3fb951-a46d-44f5-bd5a-8a47b4eb2f08",
   "metadata": {},
   "outputs": [],
   "source": [
    "F = scipy.fft.fft(np.eye(N))\n",
    "F_inv = scipy.fft.ifft(np.eye(N))"
   ]
  },
  {
   "cell_type": "code",
   "execution_count": 49,
   "id": "ec22ca10-5117-4944-aea8-3e667183bcc5",
   "metadata": {},
   "outputs": [],
   "source": [
    "pump_matrix = opt.moving_window(pump, N)[:-1]\n",
    "time_pump = scipy.fft.fftshift(jnp.diag(F@(opt.moving_window(pump, N)[:-1])@F/N))"
   ]
  },
  {
   "cell_type": "code",
   "execution_count": 50,
   "id": "89250596-5741-4785-b450-680f182567ae",
   "metadata": {},
   "outputs": [],
   "source": [
    "supposed_V = free_V@np.diag(time_pump)@V"
   ]
  },
  {
   "cell_type": "markdown",
   "id": "29c29b35-bf60-4f0d-ad48-7844dd9305c4",
   "metadata": {},
   "source": [
    "# Code useful for pytest"
   ]
  },
  {
   "cell_type": "markdown",
   "id": "62f17d7a-c42b-49e4-85a5-c980f88552bd",
   "metadata": {},
   "source": [
    "## Put here theory about how the propagators of uncoupled dynamics are related to the propagators of coupled dynamics"
   ]
  },
  {
   "cell_type": "code",
   "execution_count": 51,
   "id": "69e2b6a9-b914-494a-9221-1a3caca0787a",
   "metadata": {},
   "outputs": [],
   "source": [
    "# Build submatrices of U\n",
    "K = alpha*opt.moving_window(pump, N)[:-1]\n",
    "Q = jnp.block([[G, K], [-jnp.conj(K).T, -jnp.conj(H).T]])\n",
    "U = jax.scipy.linalg.expm(1j*Q*l)\n",
    "M = len(U)\n",
    "U_ss = U[:M//2, :M//2]\n",
    "U_is = U[:M//2, M//2:M]\n",
    "U_si = U[M//2:M, :M//2]\n",
    "U_ii = U[M//2:M,M//2:M]"
   ]
  },
  {
   "cell_type": "code",
   "execution_count": 107,
   "id": "588bf102-67e3-4666-b141-7e3265988288",
   "metadata": {},
   "outputs": [
    {
     "ename": "NameError",
     "evalue": "name 'F' is not defined",
     "output_type": "error",
     "traceback": [
      "\u001b[0;31m---------------------------------------------------------------------------\u001b[0m",
      "\u001b[0;31mNameError\u001b[0m                                 Traceback (most recent call last)",
      "Cell \u001b[0;32mIn [107], line 1\u001b[0m\n\u001b[0;32m----> 1\u001b[0m test \u001b[38;5;241m=\u001b[39m \u001b[43mF\u001b[49m\u001b[38;5;129m@K\u001b[39m\u001b[38;5;129m@F\u001b[39m\u001b[38;5;241m/\u001b[39m\u001b[38;5;241m401\u001b[39m\n\u001b[1;32m      2\u001b[0m a \u001b[38;5;241m=\u001b[39m jnp\u001b[38;5;241m.\u001b[39mdiag(test)\n",
      "\u001b[0;31mNameError\u001b[0m: name 'F' is not defined"
     ]
    }
   ],
   "source": [
    "test = F@K@F/401\n",
    "a = jnp.diag(test)\n"
   ]
  },
  {
   "cell_type": "code",
   "execution_count": 129,
   "id": "fc70cb76-1727-4453-a292-ce62af4eb145",
   "metadata": {},
   "outputs": [
    {
     "ename": "NameError",
     "evalue": "name 'a' is not defined",
     "output_type": "error",
     "traceback": [
      "\u001b[0;31m---------------------------------------------------------------------------\u001b[0m",
      "\u001b[0;31mNameError\u001b[0m                                 Traceback (most recent call last)",
      "Cell \u001b[0;32mIn [129], line 1\u001b[0m\n\u001b[0;32m----> 1\u001b[0m plt\u001b[38;5;241m.\u001b[39mplot(np\u001b[38;5;241m.\u001b[39mabs(scipy\u001b[38;5;241m.\u001b[39mfft\u001b[38;5;241m.\u001b[39mfftshift(\u001b[43ma\u001b[49m)))\n",
      "\u001b[0;31mNameError\u001b[0m: name 'a' is not defined"
     ]
    }
   ],
   "source": [
    "plt.plot(np.abs(scipy.fft.fftshift(a)))"
   ]
  },
  {
   "cell_type": "code",
   "execution_count": 52,
   "id": "0598a6d5-4d21-4ad6-a9ad-29d64eda8ec6",
   "metadata": {},
   "outputs": [],
   "source": [
    "# Tests to see if matrices are well built\n",
    "test_phase_match_cond = jnp.allclose(G, -H)\n",
    "V_matrix_verif = jnp.allclose(U_ss + U_si, U_is + U_ii, rtol=0.01)\n",
    "W_matrix_verif = jnp.allclose(U_ss - U_si, U_ii - U_is, rtol=0.01)\n",
    "# Commutation tests (sum is used because even though the difference is small, allclose still does not recognize them as similar matrices...)\n",
    "# The absolute value of these matrices can even be plotted with matshow and it would show mostly noise\n",
    "# matrix exponential can introduce a lot of noise because of the algorithm of powers used\n",
    "commutation_ai_as = sum(sum(jnp.abs((U_ss@jnp.conj(U_si).T- U_is@jnp.conj(U_ii).T))))\n",
    "commutation_as_as_dagger = sum(sum(jnp.abs((U_ss@jnp.conj(U_ss).T - U_si@jnp.conj(U_si).T - jnp.eye(len(U_ss))))))"
   ]
  },
  {
   "cell_type": "code",
   "execution_count": 53,
   "id": "38559a85-ef33-4a89-9cca-4c0bb44c2402",
   "metadata": {},
   "outputs": [],
   "source": [
    "# Get V and W, propagators of pseudo-quadratures in frequency\n",
    "V = U_ss + U_si\n",
    "W = U_ss - U_si\n",
    "# Test where commutation relations of U_ss/U_si/U_is/U_ii are made with V/W\n",
    "commutation_ai_as = sum(sum(np.abs(V@jnp.conj(W).T-W@jnp.conj(V).T)))\n",
    "commutation_as_as_dagger = sum(sum(np.abs(V@jnp.conj(W).T-jnp.eye(len(U_ss)))))"
   ]
  },
  {
   "cell_type": "code",
   "execution_count": 54,
   "id": "eff37086-fccb-4694-aae3-8ee96188fb3e",
   "metadata": {},
   "outputs": [
    {
     "data": {
      "text/plain": [
       "<matplotlib.image.AxesImage at 0x7f01e3b29580>"
      ]
     },
     "execution_count": 54,
     "metadata": {},
     "output_type": "execute_result"
    },
    {
     "data": {
      "image/png": "[encoded data removed]",
      "text/plain": [
       "<Figure size 480x480 with 1 Axes>"
      ]
     },
     "metadata": {},
     "output_type": "display_data"
    }
   ],
   "source": [
    "plt.matshow(jnp.abs(U_si))"
   ]
  },
  {
   "cell_type": "code",
   "execution_count": 16,
   "id": "3d362c7f-0ff9-4b01-97ed-86a7ed0a62b2",
   "metadata": {},
   "outputs": [],
   "source": [
    "# See commutation relation VVdagger, WWdagger\n",
    "commutation_V_dagger_V = sum(sum(jnp.abs(V@jnp.conj(V).T - jnp.conj(V).T@V)))\n",
    "commutation_W_dagger_W = sum(sum(jnp.abs(W@jnp.conj(W).T - jnp.conj(W).T@W)))\n",
    "# See commutation relation V_dagger V and W_dagger W\n"
   ]
  },
  {
   "cell_type": "code",
   "execution_count": 17,
   "id": "ab927372-ee65-4d24-a08a-b31df8f35578",
   "metadata": {},
   "outputs": [],
   "source": [
    "# Objective function in V/W (4*Tr(N_U) = Tr(N), parfaitement comme prevu theoriquement)\n",
    "N = V@jnp.conj(V).T + W@jnp.conj(W).T - 2*jnp.eye(len(V))\n",
    "N_U = U_si@jnp.conj(U_si).T"
   ]
  },
  {
   "cell_type": "code",
   "execution_count": 18,
   "id": "a3623b17-1a60-405d-b173-0589bfe822c7",
   "metadata": {},
   "outputs": [],
   "source": [
    "# Fourier matrices\n",
    "F = scipy.fft.fft(np.eye(len(V)))\n",
    "F_inv = F.conj().T\n",
    "# V and W in time domain\n",
    "V_time = F@V@F_inv\n",
    "W_time = F@W@F_inv"
   ]
  },
  {
   "cell_type": "code",
   "execution_count": 19,
   "id": "68f632f8-8ec6-41cc-a9dd-d7ccc0f0ecbe",
   "metadata": {},
   "outputs": [],
   "source": [
    "up = jnp.trace(V_time@V_time.conj().T)**2+jnp.trace(W_time@W_time.conj().T)**2+2*jnp.trace(W_time@W_time.conj().T)*jnp.trace(V_time@V_time.conj().T) - 4*(jnp.trace(W_time@W_time.conj().T)+jnp.trace(V_time@V_time.conj().T))\n",
    "down = jnp.trace(V_time@V_time.conj().T@V_time@V_time.conj().T) + jnp.trace(W_time@W_time.conj().T@W_time@W_time.conj().T) + 2 - 4*jnp.trace(V_time@V_time.conj().T + W_time@W_time.conj().T)"
   ]
  },
  {
   "cell_type": "code",
   "execution_count": null,
   "id": "38cb87a5-dd98-459c-b626-817849e9b5d5",
   "metadata": {},
   "outputs": [
    {
     "data": {
      "text/plain": [
       "DeviceArray(1.230627+2.3992178e-10j, dtype=complex64)"
      ]
     },
     "execution_count": 20,
     "metadata": {},
     "output_type": "execute_result"
    }
   ],
   "source": [
    "up/(2*down)"
   ]
  },
  {
   "cell_type": "code",
   "execution_count": 21,
   "id": "1d5bce75-656d-4593-acb1-bf7c57ab1d10",
   "metadata": {},
   "outputs": [
    {
     "data": {
      "text/plain": [
       "<matplotlib.image.AxesImage at 0x7f50082df040>"
      ]
     },
     "execution_count": 21,
     "metadata": {},
     "output_type": "execute_result"
    },
    {
     "data": {
      "image/png": "[encoded data removed]",
      "text/plain": [
       "<Figure size 480x480 with 1 Axes>"
      ]
     },
     "metadata": {},
     "output_type": "display_data"
    }
   ],
   "source": [
    "plt.matshow(np.abs(V_time))"
   ]
  },
  {
   "cell_type": "code",
   "execution_count": 22,
   "id": "cac31160-d548-4c6e-9ce2-99a8060d59e7",
   "metadata": {},
   "outputs": [
    {
     "data": {
      "text/plain": [
       "DeviceArray(1.2246513+1.8074207e-10j, dtype=complex64)"
      ]
     },
     "execution_count": 22,
     "metadata": {},
     "output_type": "execute_result"
    }
   ],
   "source": [
    "(jnp.trace(U_is@jnp.conj(U_is).T)**2)/jnp.trace(U_is@jnp.conj(U_is).T@U_is@jnp.conj(U_is).T)"
   ]
  }
 ],
 "metadata": {
  "kernelspec": {
   "display_name": "Python 3 (ipykernel)",
   "language": "python",
   "name": "python3"
  },
  "language_info": {
   "codemirror_mode": {
    "name": "ipython",
    "version": 3
   },
   "file_extension": ".py",
   "mimetype": "text/x-python",
   "name": "python",
   "nbconvert_exporter": "python",
   "pygments_lexer": "ipython3",
   "version": "3.9.12"
  }
 },
 "nbformat": 4,
 "nbformat_minor": 5
}
