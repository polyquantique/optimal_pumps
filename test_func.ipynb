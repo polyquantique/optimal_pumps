{
 "cells": [
  {
   "cell_type": "markdown",
   "id": "7d443343-b2cb-42f6-8908-fd30de054aca",
   "metadata": {},
   "source": [
    "## Notebook to test different test"
   ]
  },
  {
   "cell_type": "code",
   "execution_count": 1,
   "id": "e74f175c-7e04-4d96-b4dc-c8984e534991",
   "metadata": {},
   "outputs": [],
   "source": [
    "import jax.numpy as jnp\n",
    "import matplotlib.pyplot as plt\n",
    "import jax\n",
    "import jax.scipy as jscipy\n",
    "import optimization_SPDC as opt\n",
    "import get_initialization_cond as init\n",
    "import scipy\n",
    "import numpy as np"
   ]
  },
  {
   "cell_type": "code",
   "execution_count": 2,
   "id": "7247dbc6-7bde-4002-a716-72df124aafb0",
   "metadata": {},
   "outputs": [],
   "source": [
    "# Initialize waveguide parameters\n",
    "vp = 0.1\n",
    "l = 1\n",
    "wi = -10\n",
    "wf = 10\n",
    "# negative Np wuch that gamma is purely imaginary\n",
    "Np = -0.1+0*1.j\n",
    "N = 401\n",
    "method = \"hermite\"\n",
    "gauss_amp = 1\n",
    "gauss_width = 0.4\n",
    "gauss_phase = 0"
   ]
  },
  {
   "cell_type": "code",
   "execution_count": 3,
   "id": "f9cbf415-2c6d-4fb1-8f9e-12aa27df908c",
   "metadata": {},
   "outputs": [],
   "source": [
    "# Get initial pump and SU(1,1) algebra elements\n",
    "alpha, G, H = init.get_constants(vp, l, wi, wf, Np, N = N)\n",
    "pump = init.get_initialization_array([0, gauss_amp, gauss_width, gauss_phase], vp, l, wi, wf, Np, method = method, N=N)"
   ]
  },
  {
   "cell_type": "code",
   "execution_count": 4,
   "id": "69e2b6a9-b914-494a-9221-1a3caca0787a",
   "metadata": {},
   "outputs": [],
   "source": [
    "# Build submatrices of U\n",
    "F = alpha*opt.moving_window(pump, N)[:-1]\n",
    "Q = jnp.block([[G, F], [-jnp.conj(F).T, -jnp.conj(H).T]])\n",
    "U = jax.scipy.linalg.expm(1j*Q*l)\n",
    "N = len(U)\n",
    "U_ss = U[:N//2, :N//2]\n",
    "U_is = U[:N//2, N//2:N]\n",
    "U_si = U[N//2:N, :N//2]\n",
    "U_ii = U[N//2:N,N//2:N]"
   ]
  },
  {
   "cell_type": "code",
   "execution_count": 5,
   "id": "0598a6d5-4d21-4ad6-a9ad-29d64eda8ec6",
   "metadata": {},
   "outputs": [],
   "source": [
    "# Tests to see if matrices are well built\n",
    "test_phase_match_cond = jnp.allclose(G, -H)\n",
    "V_matrix_verif = jnp.allclose(U_ss + U_si, U_is + U_ii, rtol=0.01)\n",
    "W_matrix_verif = jnp.allclose(U_ss - U_si, U_ii - U_is, rtol=0.01)\n",
    "# Commutation tests (sum is used because even though the difference is small, allclose still does not recognize them as similar matrices...)\n",
    "# The absolute value of these matrices can even be plotted with matshow and it would show mostly noise\n",
    "# matrix exponential can introduce a lot of noise because of the algorithm of powers used\n",
    "commutation_ai_as = sum(sum(jnp.abs((U_ss@jnp.conj(U_si).T- U_is@jnp.conj(U_ii).T))))\n",
    "commutation_as_as_dagger = sum(sum(jnp.abs((U_ss@jnp.conj(U_ss).T - U_si@jnp.conj(U_si).T - jnp.eye(len(U_ss))))))"
   ]
  },
  {
   "cell_type": "code",
   "execution_count": 6,
   "id": "38559a85-ef33-4a89-9cca-4c0bb44c2402",
   "metadata": {},
   "outputs": [],
   "source": [
    "# Get V and W, propagators of pseudo-quadratures in frequency\n",
    "V = U_ss + U_si\n",
    "W = U_ss - U_si\n",
    "# Test where commutation relations of U_ss/U_si/U_is/U_ii are made with V/W\n",
    "commutation_ai_as = sum(sum(np.abs(V@jnp.conj(W).T-W@jnp.conj(V).T)))\n",
    "commutation_as_as_dagger = sum(sum(np.abs(V@jnp.conj(W).T-jnp.eye(len(U_ss)))))"
   ]
  },
  {
   "cell_type": "code",
   "execution_count": 7,
   "id": "3d362c7f-0ff9-4b01-97ed-86a7ed0a62b2",
   "metadata": {},
   "outputs": [],
   "source": [
    "# See commutation relation VVdagger, WWdagger\n",
    "commutation_V_dagger_V = sum(sum(jnp.abs(V@jnp.conj(V).T - jnp.conj(V).T@V)))\n",
    "commutation_W_dagger_W = sum(sum(jnp.abs(W@jnp.conj(W).T - jnp.conj(W).T@W)))\n",
    "# See commutation relation V_dagger V and W_dagger W\n"
   ]
  },
  {
   "cell_type": "code",
   "execution_count": 8,
   "id": "ab927372-ee65-4d24-a08a-b31df8f35578",
   "metadata": {},
   "outputs": [],
   "source": [
    "# Objective function in V/W (4*Tr(N_U) = Tr(N), parfaitement comme prevu theoriquement)\n",
    "N = V@jnp.conj(V).T + W@jnp.conj(W).T - 2*jnp.eye(len(V))\n",
    "N_U = U_si@jnp.conj(U_si).T"
   ]
  },
  {
   "cell_type": "code",
   "execution_count": 9,
   "id": "cac31160-d548-4c6e-9ce2-99a8060d59e7",
   "metadata": {},
   "outputs": [
    {
     "data": {
      "text/plain": [
       "DeviceArray(1.2246512-1.5387962e-09j, dtype=complex64)"
      ]
     },
     "execution_count": 9,
     "metadata": {},
     "output_type": "execute_result"
    }
   ],
   "source": [
    "(jnp.trace(U_is@jnp.conj(U_is).T)**2)/jnp.trace(U_is@jnp.conj(U_is).T@U_is@jnp.conj(U_is).T)"
   ]
  },
  {
   "cell_type": "code",
   "execution_count": 44,
   "id": "2b423d7c-63a1-49ae-aa68-c1e74dcf9f18",
   "metadata": {},
   "outputs": [
    {
     "data": {
      "text/plain": [
       "<matplotlib.image.AxesImage at 0x1d226664370>"
      ]
     },
     "execution_count": 44,
     "metadata": {},
     "output_type": "execute_result"
    },
    {
     "data": {
      "image/png": "[encoded data removed]",
      "text/plain": [
       "<Figure size 288x288 with 1 Axes>"
      ]
     },
     "metadata": {
      "needs_background": "light"
     },
     "output_type": "display_data"
    }
   ],
   "source": [
    "plt.matshow(jnp.abs(N))"
   ]
  },
  {
   "cell_type": "code",
   "execution_count": 45,
   "id": "c4200e28-d4b8-4f05-883a-e68d8e88268c",
   "metadata": {},
   "outputs": [
    {
     "data": {
      "text/plain": [
       "<matplotlib.image.AxesImage at 0x1d3312a1760>"
      ]
     },
     "execution_count": 45,
     "metadata": {},
     "output_type": "execute_result"
    },
    {
     "data": {
      "image/png": "[encoded data removed]",
      "text/plain": [
       "<Figure size 288x288 with 1 Axes>"
      ]
     },
     "metadata": {
      "needs_background": "light"
     },
     "output_type": "display_data"
    }
   ],
   "source": [
    "plt.matshow(jnp.abs(N_U))"
   ]
  }
 ],
 "metadata": {
  "kernelspec": {
   "display_name": "Python 3 (ipykernel)",
   "language": "python",
   "name": "python3"
  },
  "language_info": {
   "codemirror_mode": {
    "name": "ipython",
    "version": 3
   },
   "file_extension": ".py",
   "mimetype": "text/x-python",
   "name": "python",
   "nbconvert_exporter": "python",
   "pygments_lexer": "ipython3",
   "version": "3.9.7"
  }
 },
 "nbformat": 4,
 "nbformat_minor": 5
}
