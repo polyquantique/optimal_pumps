{
 "cells": [
  {
   "cell_type": "code",
   "execution_count": 1,
   "id": "201d51fa-58a6-4903-a809-218a2cd03ca5",
   "metadata": {},
   "outputs": [],
   "source": [
    "import jax \n",
    "import jax.numpy as jnp\n",
    "import numpy as np\n",
    "import matplotlib.pyplot as plt\n",
    "import scipy"
   ]
  },
  {
   "cell_type": "code",
   "execution_count": 2,
   "id": "b626440b-de0a-4e07-99b6-75951b90975c",
   "metadata": {},
   "outputs": [],
   "source": [
    "def lin_reg(theta,x):\n",
    "    w, b = theta\n",
    "    return w*x+b\n",
    "def least_square(theta, x, y):\n",
    "    pred = lin_reg(theta, x)\n",
    "    return jnp.mean((pred - y)**2)\n",
    "def update(theta, x, y, lr = 0.2):\n",
    "    return theta - lr*jax.grad(least_square, argnums=(0))(theta, x, y)"
   ]
  },
  {
   "cell_type": "code",
   "execution_count": 36,
   "id": "3f513526-042a-4061-8525-de7eb2ad3044",
   "metadata": {},
   "outputs": [],
   "source": [
    "x = jnp.linspace(0,1,101)\n",
    "theta = jnp.array([1.,1.])\n",
    "y = 3*jnp.linspace(0,1,101)+0.5\n",
    "for i in range(200):\n",
    "    theta = update(theta, x, y)"
   ]
  },
  {
   "cell_type": "code",
   "execution_count": 3,
   "id": "640aba01-b937-4eb2-b3e0-a87a587f4bd3",
   "metadata": {},
   "outputs": [],
   "source": [
    "change = np.linspace(0,10,101)\n",
    "trace = []\n",
    "G = np.array([[1,0],[0,2]])\n",
    "H = np.array([[1,0],[0,2]])\n",
    "for i in range(len(change)):\n",
    "    F = np.array([[1,change[i]],[change[i],1]])\n",
    "    a = np.block([[G, F],[-np.conj(F).T, -H]])\n",
    "    U = (scipy.linalg.expm(1j*a))[:2,2:]\n",
    "    trace.append((np.trace(np.conj(U)@U.T))**2/(np.trace((np.conj(U)@U.T)@(np.conj(U)@U.T))))"
   ]
  },
  {
   "cell_type": "code",
   "execution_count": 4,
   "id": "b3658470-8a7a-4333-ace0-5f2e28f2cfc8",
   "metadata": {},
   "outputs": [
    {
     "name": "stderr",
     "output_type": "stream",
     "text": [
      "C:\\Users\\super\\.virtualenvs\\pump_optimization-rAbjnRJu\\lib\\site-packages\\matplotlib\\cbook\\__init__.py:1298: ComplexWarning: Casting complex values to real discards the imaginary part\n",
      "  return np.asarray(x, float)\n"
     ]
    },
    {
     "data": {
      "text/plain": [
       "[<matplotlib.lines.Line2D at 0x1651fc5ad90>]"
      ]
     },
     "execution_count": 4,
     "metadata": {},
     "output_type": "execute_result"
    },
    {
     "data": {
      "image/png": "[encoded data removed]",
      "text/plain": [
       "<Figure size 432x288 with 1 Axes>"
      ]
     },
     "metadata": {
      "needs_background": "light"
     },
     "output_type": "display_data"
    }
   ],
   "source": [
    "plt.plot(trace)"
   ]
  },
  {
   "cell_type": "code",
   "execution_count": null,
   "id": "875866cb-fb53-40bd-ba4f-9c26fb9ec8b7",
   "metadata": {},
   "outputs": [],
   "source": []
  }
 ],
 "metadata": {
  "kernelspec": {
   "display_name": "Python 3 (ipykernel)",
   "language": "python",
   "name": "python3"
  },
  "language_info": {
   "codemirror_mode": {
    "name": "ipython",
    "version": 3
   },
   "file_extension": ".py",
   "mimetype": "text/x-python",
   "name": "python",
   "nbconvert_exporter": "python",
   "pygments_lexer": "ipython3",
   "version": "3.9.7"
  }
 },
 "nbformat": 4,
 "nbformat_minor": 5
}
