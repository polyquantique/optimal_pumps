{
 "cells": [
  {
   "cell_type": "markdown",
   "id": "7d443343-b2cb-42f6-8908-fd30de054aca",
   "metadata": {},
   "source": [
    "## Notebook to test different test"
   ]
  },
  {
   "cell_type": "code",
   "execution_count": 1,
   "id": "e74f175c-7e04-4d96-b4dc-c8984e534991",
   "metadata": {},
   "outputs": [],
   "source": [
    "import jax.numpy as jnp\n",
    "import matplotlib.pyplot as plt\n",
    "import jax\n",
    "import jax.scipy as jscipy\n",
    "import optimization_SPDC as opt\n",
    "import get_initialization_cond as init\n",
    "import scipy\n",
    "import numpy as np\n",
    "import time_uncouple_dynamics as uncoupling"
   ]
  },
  {
   "cell_type": "code",
   "execution_count": 2,
   "id": "7247dbc6-7bde-4002-a716-72df124aafb0",
   "metadata": {},
   "outputs": [],
   "source": [
    "# Initialize waveguide parameters\n",
    "vp = 0.1\n",
    "l = 1\n",
    "wi = -10\n",
    "wf = 10\n",
    "# negative Np wuch that gamma is purely imaginary\n",
    "Np = 0.1\n",
    "N = 201\n",
    "alpha_phase = np.pi/2\n",
    "method = \"hermite\"\n",
    "gauss_amp = 1\n",
    "gauss_width = 0.4\n",
    "gauss_phase = 0"
   ]
  },
  {
   "cell_type": "markdown",
   "id": "7773b828-f5e5-4956-898f-b5966f88816e",
   "metadata": {},
   "source": [
    "# Optimization problem in pseudo-quadratures in frequency"
   ]
  },
  {
   "cell_type": "code",
   "execution_count": null,
   "id": "96e668e0-dadc-42d2-927e-29ceec78884c",
   "metadata": {},
   "outputs": [],
   "source": [
    "import optimization_quadratures as opt_quad"
   ]
  },
  {
   "cell_type": "code",
   "execution_count": 3,
   "id": "ec56678e-cb17-4c8a-8085-4b911afdfed5",
   "metadata": {},
   "outputs": [
    {
     "name": "stderr",
     "output_type": "stream",
     "text": [
      "WARNING:absl:No GPU/TPU found, falling back to CPU. (Set TF_CPP_MIN_LOG_LEVEL=0 and rerun for more info.)\n"
     ]
    }
   ],
   "source": [
    "# Note: if pump is very wide, U_ss, U_si... may be very noisy\n",
    "omega = jnp.linspace(wi, wf, 2*N)\n",
    "key = jax.random.PRNGKey(0)\n",
    "seed = jnp.exp(-(omega**2)/0.1)#0.2*jax.random.uniform(shape = (2*N,), key = key)\n",
    "alpha, G, H = init.get_constants(vp, l, wi, wf, Np, alpha_phase, N = N)\n",
    "alpha = jnp.abs(alpha)"
   ]
  },
  {
   "cell_type": "code",
   "execution_count": 5,
   "id": "26201739-7a39-406b-9a7f-0583c98466e2",
   "metadata": {},
   "outputs": [],
   "source": [
    "import jaxopt\n",
    "solver = jaxopt.ScipyMinimize(method=\"BFGS\", fun=opt_quad.get_penalty_loss, maxiter=1, jit = False)\n",
    "y_N = 1"
   ]
  },
  {
   "cell_type": "code",
   "execution_count": 7,
   "id": "339be50b-2a37-4750-87d5-1fdd73da45b9",
   "metadata": {},
   "outputs": [
    {
     "name": "stdout",
     "output_type": "stream",
     "text": [
      "run 0\n",
      "run 1\n",
      "run 2\n",
      "run 3\n",
      "run 4\n",
      "run 5\n",
      "run 6\n",
      "run 7\n",
      "run 8\n",
      "run 9\n",
      "run 10\n",
      "run 11\n",
      "run 12\n",
      "run 13\n",
      "run 14\n",
      "run 15\n",
      "run 16\n",
      "run 17\n",
      "run 18\n",
      "run 19\n"
     ]
    }
   ],
   "source": [
    "pump = seed.copy()\n",
    "pumps_for_k = []\n",
    "for i in range(20):\n",
    "    pumps = []\n",
    "    print(\"run \" + str(i))\n",
    "    for j in range(10):\n",
    "        (pump, state) = solver.run(pump, N, alpha, H, l, omega, y_N, 3**i)\n",
    "        pumps.append(pump.copy())\n",
    "    pumps_for_k.append(pumps)"
   ]
  },
  {
   "cell_type": "code",
   "execution_count": 10,
   "id": "2276d097-98a2-4347-b0b6-0099bc30bf36",
   "metadata": {},
   "outputs": [
    {
     "data": {
      "text/plain": [
       "(DeviceArray(1.0004156+0.j, dtype=complex64),\n",
       " DeviceArray(1.1434447+0.j, dtype=complex64))"
      ]
     },
     "execution_count": 10,
     "metadata": {},
     "output_type": "execute_result"
    }
   ],
   "source": [
    "opt_quad.get_observables(pump, N, alpha, H, l)"
   ]
  },
  {
   "cell_type": "markdown",
   "id": "f7c59eb0-ec86-4a78-9de1-5d7253943a73",
   "metadata": {},
   "source": [
    "# If we do not impose penalty on variance of pump, we have a purity of 1 but a weird pump..."
   ]
  },
  {
   "cell_type": "code",
   "execution_count": 118,
   "id": "19c443bd-b935-48cd-8642-da01f31f92e8",
   "metadata": {},
   "outputs": [
    {
     "ename": "TypeError",
     "evalue": "Cannot concatenate arrays with shapes that differ in dimensions other than the one being concatenated: concatenating along dimension 1 for shapes (401, 401), (802, 802).",
     "output_type": "error",
     "traceback": [
      "\u001b[0;31m---------------------------------------------------------------------------\u001b[0m",
      "\u001b[0;31mTypeError\u001b[0m                                 Traceback (most recent call last)",
      "Cell \u001b[0;32mIn [118], line 5\u001b[0m\n\u001b[1;32m      3\u001b[0m \u001b[38;5;28;01mimport\u001b[39;00m \u001b[38;5;21;01moptimization_SPDC\u001b[39;00m \u001b[38;5;28;01mas\u001b[39;00m \u001b[38;5;21;01mopt\u001b[39;00m\n\u001b[1;32m      4\u001b[0m complex_pump \u001b[38;5;241m=\u001b[39m opt\u001b[38;5;241m.\u001b[39mget_complex_array(pump)\n\u001b[0;32m----> 5\u001b[0m \u001b[43mopt\u001b[49m\u001b[38;5;241;43m.\u001b[39;49m\u001b[43mget_observables\u001b[49m\u001b[43m(\u001b[49m\u001b[43mpump\u001b[49m\u001b[43m,\u001b[49m\u001b[43m \u001b[49m\u001b[43mN\u001b[49m\u001b[43m,\u001b[49m\u001b[43m \u001b[49m\u001b[43malpha\u001b[49m\u001b[43m,\u001b[49m\u001b[43m \u001b[49m\u001b[43mG\u001b[49m\u001b[43m,\u001b[49m\u001b[43m \u001b[49m\u001b[43mH\u001b[49m\u001b[43m,\u001b[49m\u001b[43m \u001b[49m\u001b[43ml\u001b[49m\u001b[43m)\u001b[49m\n",
      "File \u001b[0;32m~/Downloads/masters/optimal_pumps/optimization_SPDC.py:92\u001b[0m, in \u001b[0;36mget_observables\u001b[0;34m(theta, size, alpha, G, H, l)\u001b[0m\n\u001b[1;32m     76\u001b[0m \u001b[38;5;28;01mdef\u001b[39;00m \u001b[38;5;21mget_observables\u001b[39m(theta, size: \u001b[38;5;28mint\u001b[39m, alpha, G, H, l):\n\u001b[1;32m     77\u001b[0m     \u001b[38;5;124;03m\"\"\"\u001b[39;00m\n\u001b[1;32m     78\u001b[0m \u001b[38;5;124;03m    Gives the observables, namely the Schmidt number and the average photon pair number\u001b[39;00m\n\u001b[1;32m     79\u001b[0m \u001b[38;5;124;03m    to optimize.\u001b[39;00m\n\u001b[0;32m   (...)\u001b[0m\n\u001b[1;32m     90\u001b[0m \u001b[38;5;124;03m        schmidt_number (float): the schmidt number corresponding to all the parameters\u001b[39;00m\n\u001b[1;32m     91\u001b[0m \u001b[38;5;124;03m    \"\"\"\u001b[39;00m\n\u001b[0;32m---> 92\u001b[0m     U_ss, U_is, U_si, U_ii \u001b[38;5;241m=\u001b[39m \u001b[43mget_submatrices\u001b[49m\u001b[43m(\u001b[49m\u001b[43mtheta\u001b[49m\u001b[43m,\u001b[49m\u001b[43m \u001b[49m\u001b[43msize\u001b[49m\u001b[43m,\u001b[49m\u001b[43m \u001b[49m\u001b[43malpha\u001b[49m\u001b[43m,\u001b[49m\u001b[43m \u001b[49m\u001b[43mG\u001b[49m\u001b[43m,\u001b[49m\u001b[43m \u001b[49m\u001b[43mH\u001b[49m\u001b[43m,\u001b[49m\u001b[43m \u001b[49m\u001b[43ml\u001b[49m\u001b[43m)\u001b[49m\n\u001b[1;32m     93\u001b[0m     N_matrix \u001b[38;5;241m=\u001b[39m jnp\u001b[38;5;241m.\u001b[39mmatmul(jnp\u001b[38;5;241m.\u001b[39mconj(U_is), U_is\u001b[38;5;241m.\u001b[39mT)\n\u001b[1;32m     94\u001b[0m     N_value \u001b[38;5;241m=\u001b[39m jnp\u001b[38;5;241m.\u001b[39mtrace(N_matrix)\n",
      "File \u001b[0;32m~/Downloads/masters/optimal_pumps/optimization_SPDC.py:69\u001b[0m, in \u001b[0;36mget_submatrices\u001b[0;34m(theta, size, alpha, G, H, l)\u001b[0m\n\u001b[1;32m     55\u001b[0m \u001b[38;5;28;01mdef\u001b[39;00m \u001b[38;5;21mget_submatrices\u001b[39m(theta, size: \u001b[38;5;28mint\u001b[39m, alpha, G, H, l):\n\u001b[1;32m     56\u001b[0m     \u001b[38;5;124;03m\"\"\"\u001b[39;00m\n\u001b[1;32m     57\u001b[0m \u001b[38;5;124;03m    Gives submatrix from U matrix to calculate the Schmidt number and the mean photon number.\u001b[39;00m\n\u001b[1;32m     58\u001b[0m \n\u001b[0;32m   (...)\u001b[0m\n\u001b[1;32m     67\u001b[0m \u001b[38;5;124;03m        U_ss,U_is, U_si, U_ii (array[complex]): Submatrices of the U matrix\u001b[39;00m\n\u001b[1;32m     68\u001b[0m \u001b[38;5;124;03m    \"\"\"\u001b[39;00m\n\u001b[0;32m---> 69\u001b[0m     U \u001b[38;5;241m=\u001b[39m \u001b[43mget_U_matrix\u001b[49m\u001b[43m(\u001b[49m\u001b[43mtheta\u001b[49m\u001b[43m,\u001b[49m\u001b[43m \u001b[49m\u001b[43msize\u001b[49m\u001b[43m,\u001b[49m\u001b[43m \u001b[49m\u001b[43malpha\u001b[49m\u001b[43m,\u001b[49m\u001b[43m \u001b[49m\u001b[43mG\u001b[49m\u001b[43m,\u001b[49m\u001b[43m \u001b[49m\u001b[43mH\u001b[49m\u001b[43m,\u001b[49m\u001b[43m \u001b[49m\u001b[43ml\u001b[49m\u001b[43m)\u001b[49m\n\u001b[1;32m     70\u001b[0m     N \u001b[38;5;241m=\u001b[39m \u001b[38;5;28mlen\u001b[39m(U)\n\u001b[1;32m     71\u001b[0m     U_ss \u001b[38;5;241m=\u001b[39m U[:N\u001b[38;5;241m/\u001b[39m\u001b[38;5;241m/\u001b[39m\u001b[38;5;241m2\u001b[39m, :N\u001b[38;5;241m/\u001b[39m\u001b[38;5;241m/\u001b[39m\u001b[38;5;241m2\u001b[39m]\n",
      "File \u001b[0;32m~/Downloads/masters/optimal_pumps/optimization_SPDC.py:52\u001b[0m, in \u001b[0;36mget_U_matrix\u001b[0;34m(theta, size, alpha, G, H, l)\u001b[0m\n\u001b[1;32m     36\u001b[0m \u001b[38;5;124;03m\"\"\"\u001b[39;00m\n\u001b[1;32m     37\u001b[0m \u001b[38;5;124;03mFind the U matrix that is the gives the relationship between annihilation operator\u001b[39;00m\n\u001b[1;32m     38\u001b[0m \u001b[38;5;124;03mof the signal mode and the creation operator of the idler mode for at a position z\u001b[39;00m\n\u001b[0;32m   (...)\u001b[0m\n\u001b[1;32m     49\u001b[0m \u001b[38;5;124;03m    array[complex]: output matrix\u001b[39;00m\n\u001b[1;32m     50\u001b[0m \u001b[38;5;124;03m\"\"\"\u001b[39;00m\n\u001b[1;32m     51\u001b[0m F \u001b[38;5;241m=\u001b[39m alpha\u001b[38;5;241m*\u001b[39mmoving_window(theta, size)[:\u001b[38;5;241m-\u001b[39m\u001b[38;5;241m1\u001b[39m]\n\u001b[0;32m---> 52\u001b[0m Q \u001b[38;5;241m=\u001b[39m \u001b[43mjnp\u001b[49m\u001b[38;5;241;43m.\u001b[39;49m\u001b[43mblock\u001b[49m\u001b[43m(\u001b[49m\u001b[43m[\u001b[49m\u001b[43m[\u001b[49m\u001b[43mG\u001b[49m\u001b[43m,\u001b[49m\u001b[43m \u001b[49m\u001b[43mF\u001b[49m\u001b[43m]\u001b[49m\u001b[43m,\u001b[49m\u001b[43m \u001b[49m\u001b[43m[\u001b[49m\u001b[38;5;241;43m-\u001b[39;49m\u001b[43mjnp\u001b[49m\u001b[38;5;241;43m.\u001b[39;49m\u001b[43mconj\u001b[49m\u001b[43m(\u001b[49m\u001b[43mF\u001b[49m\u001b[43m)\u001b[49m\u001b[38;5;241;43m.\u001b[39;49m\u001b[43mT\u001b[49m\u001b[43m,\u001b[49m\u001b[43m \u001b[49m\u001b[38;5;241;43m-\u001b[39;49m\u001b[43mjnp\u001b[49m\u001b[38;5;241;43m.\u001b[39;49m\u001b[43mconj\u001b[49m\u001b[43m(\u001b[49m\u001b[43mH\u001b[49m\u001b[43m)\u001b[49m\u001b[38;5;241;43m.\u001b[39;49m\u001b[43mT\u001b[49m\u001b[43m]\u001b[49m\u001b[43m]\u001b[49m\u001b[43m)\u001b[49m\n\u001b[1;32m     53\u001b[0m U \u001b[38;5;241m=\u001b[39m jax\u001b[38;5;241m.\u001b[39mscipy\u001b[38;5;241m.\u001b[39mlinalg\u001b[38;5;241m.\u001b[39mexpm(\u001b[38;5;241m1\u001b[39mj\u001b[38;5;241m*\u001b[39mQ\u001b[38;5;241m*\u001b[39ml)\n\u001b[1;32m     54\u001b[0m \u001b[38;5;28;01mreturn\u001b[39;00m U\n",
      "    \u001b[0;31m[... skipping hidden 13 frame]\u001b[0m\n",
      "File \u001b[0;32m~/.local/share/virtualenvs/optimal_pumps-vxukOnVz/lib/python3.9/site-packages/jax/_src/numpy/lax_numpy.py:3492\u001b[0m, in \u001b[0;36mblock\u001b[0;34m(arrays)\u001b[0m\n\u001b[1;32m   3489\u001b[0m \u001b[38;5;129m@_wraps\u001b[39m(np\u001b[38;5;241m.\u001b[39mblock)\n\u001b[1;32m   3490\u001b[0m \u001b[38;5;129m@jit\u001b[39m\n\u001b[1;32m   3491\u001b[0m \u001b[38;5;28;01mdef\u001b[39;00m \u001b[38;5;21mblock\u001b[39m(arrays):\n\u001b[0;32m-> 3492\u001b[0m   out, _ \u001b[38;5;241m=\u001b[39m \u001b[43m_block\u001b[49m\u001b[43m(\u001b[49m\u001b[43marrays\u001b[49m\u001b[43m)\u001b[49m\n\u001b[1;32m   3493\u001b[0m   \u001b[38;5;28;01mreturn\u001b[39;00m out\n",
      "File \u001b[0;32m~/.local/share/virtualenvs/optimal_pumps-vxukOnVz/lib/python3.9/site-packages/jax/_src/numpy/lax_numpy.py:3480\u001b[0m, in \u001b[0;36m_block\u001b[0;34m(xs)\u001b[0m\n\u001b[1;32m   3478\u001b[0m \u001b[38;5;28;01mif\u001b[39;00m \u001b[38;5;28mlen\u001b[39m(xs) \u001b[38;5;241m==\u001b[39m \u001b[38;5;241m0\u001b[39m:\n\u001b[1;32m   3479\u001b[0m   \u001b[38;5;28;01mraise\u001b[39;00m \u001b[38;5;167;01mValueError\u001b[39;00m(\u001b[38;5;124m\"\u001b[39m\u001b[38;5;124mjax.numpy.block does not allow empty list arguments\u001b[39m\u001b[38;5;124m\"\u001b[39m)\n\u001b[0;32m-> 3480\u001b[0m xs, depths \u001b[38;5;241m=\u001b[39m unzip2([_block(x) \u001b[38;5;28;01mfor\u001b[39;00m x \u001b[38;5;129;01min\u001b[39;00m xs])\n\u001b[1;32m   3481\u001b[0m \u001b[38;5;28;01mif\u001b[39;00m _any(d \u001b[38;5;241m!=\u001b[39m depths[\u001b[38;5;241m0\u001b[39m] \u001b[38;5;28;01mfor\u001b[39;00m d \u001b[38;5;129;01min\u001b[39;00m depths[\u001b[38;5;241m1\u001b[39m:]):\n\u001b[1;32m   3482\u001b[0m   \u001b[38;5;28;01mraise\u001b[39;00m \u001b[38;5;167;01mValueError\u001b[39;00m(\u001b[38;5;124m\"\u001b[39m\u001b[38;5;124mMismatched list depths in jax.numpy.block\u001b[39m\u001b[38;5;124m\"\u001b[39m)\n",
      "File \u001b[0;32m~/.local/share/virtualenvs/optimal_pumps-vxukOnVz/lib/python3.9/site-packages/jax/_src/numpy/lax_numpy.py:3480\u001b[0m, in \u001b[0;36m<listcomp>\u001b[0;34m(.0)\u001b[0m\n\u001b[1;32m   3478\u001b[0m \u001b[38;5;28;01mif\u001b[39;00m \u001b[38;5;28mlen\u001b[39m(xs) \u001b[38;5;241m==\u001b[39m \u001b[38;5;241m0\u001b[39m:\n\u001b[1;32m   3479\u001b[0m   \u001b[38;5;28;01mraise\u001b[39;00m \u001b[38;5;167;01mValueError\u001b[39;00m(\u001b[38;5;124m\"\u001b[39m\u001b[38;5;124mjax.numpy.block does not allow empty list arguments\u001b[39m\u001b[38;5;124m\"\u001b[39m)\n\u001b[0;32m-> 3480\u001b[0m xs, depths \u001b[38;5;241m=\u001b[39m unzip2([\u001b[43m_block\u001b[49m\u001b[43m(\u001b[49m\u001b[43mx\u001b[49m\u001b[43m)\u001b[49m \u001b[38;5;28;01mfor\u001b[39;00m x \u001b[38;5;129;01min\u001b[39;00m xs])\n\u001b[1;32m   3481\u001b[0m \u001b[38;5;28;01mif\u001b[39;00m _any(d \u001b[38;5;241m!=\u001b[39m depths[\u001b[38;5;241m0\u001b[39m] \u001b[38;5;28;01mfor\u001b[39;00m d \u001b[38;5;129;01min\u001b[39;00m depths[\u001b[38;5;241m1\u001b[39m:]):\n\u001b[1;32m   3482\u001b[0m   \u001b[38;5;28;01mraise\u001b[39;00m \u001b[38;5;167;01mValueError\u001b[39;00m(\u001b[38;5;124m\"\u001b[39m\u001b[38;5;124mMismatched list depths in jax.numpy.block\u001b[39m\u001b[38;5;124m\"\u001b[39m)\n",
      "File \u001b[0;32m~/.local/share/virtualenvs/optimal_pumps-vxukOnVz/lib/python3.9/site-packages/jax/_src/numpy/lax_numpy.py:3485\u001b[0m, in \u001b[0;36m_block\u001b[0;34m(xs)\u001b[0m\n\u001b[1;32m   3483\u001b[0m   rank \u001b[38;5;241m=\u001b[39m _max(depths[\u001b[38;5;241m0\u001b[39m], _max(ndim(x) \u001b[38;5;28;01mfor\u001b[39;00m x \u001b[38;5;129;01min\u001b[39;00m xs))\n\u001b[1;32m   3484\u001b[0m   xs \u001b[38;5;241m=\u001b[39m [_atleast_nd(x, rank) \u001b[38;5;28;01mfor\u001b[39;00m x \u001b[38;5;129;01min\u001b[39;00m xs]\n\u001b[0;32m-> 3485\u001b[0m   \u001b[38;5;28;01mreturn\u001b[39;00m \u001b[43mconcatenate\u001b[49m\u001b[43m(\u001b[49m\u001b[43mxs\u001b[49m\u001b[43m,\u001b[49m\u001b[43m \u001b[49m\u001b[43maxis\u001b[49m\u001b[38;5;241;43m=\u001b[39;49m\u001b[38;5;241;43m-\u001b[39;49m\u001b[43mdepths\u001b[49m\u001b[43m[\u001b[49m\u001b[38;5;241;43m0\u001b[39;49m\u001b[43m]\u001b[49m\u001b[43m)\u001b[49m, depths[\u001b[38;5;241m0\u001b[39m] \u001b[38;5;241m+\u001b[39m \u001b[38;5;241m1\u001b[39m\n\u001b[1;32m   3486\u001b[0m \u001b[38;5;28;01melse\u001b[39;00m:\n\u001b[1;32m   3487\u001b[0m   \u001b[38;5;28;01mreturn\u001b[39;00m asarray(xs), \u001b[38;5;241m1\u001b[39m\n",
      "File \u001b[0;32m~/.local/share/virtualenvs/optimal_pumps-vxukOnVz/lib/python3.9/site-packages/jax/_src/numpy/lax_numpy.py:3399\u001b[0m, in \u001b[0;36mconcatenate\u001b[0;34m(arrays, axis)\u001b[0m\n\u001b[1;32m   3397\u001b[0m \u001b[38;5;28;01melse\u001b[39;00m:\n\u001b[1;32m   3398\u001b[0m   \u001b[38;5;28;01mwhile\u001b[39;00m \u001b[38;5;28mlen\u001b[39m(arrays) \u001b[38;5;241m>\u001b[39m \u001b[38;5;241m1\u001b[39m:\n\u001b[0;32m-> 3399\u001b[0m     arrays \u001b[38;5;241m=\u001b[39m [lax\u001b[38;5;241m.\u001b[39mconcatenate(arrays[i:i\u001b[38;5;241m+\u001b[39mk], axis)\n\u001b[1;32m   3400\u001b[0m               \u001b[38;5;28;01mfor\u001b[39;00m i \u001b[38;5;129;01min\u001b[39;00m \u001b[38;5;28mrange\u001b[39m(\u001b[38;5;241m0\u001b[39m, \u001b[38;5;28mlen\u001b[39m(arrays), k)]\n\u001b[1;32m   3401\u001b[0m   \u001b[38;5;28;01mreturn\u001b[39;00m arrays[\u001b[38;5;241m0\u001b[39m]\n",
      "File \u001b[0;32m~/.local/share/virtualenvs/optimal_pumps-vxukOnVz/lib/python3.9/site-packages/jax/_src/numpy/lax_numpy.py:3399\u001b[0m, in \u001b[0;36m<listcomp>\u001b[0;34m(.0)\u001b[0m\n\u001b[1;32m   3397\u001b[0m \u001b[38;5;28;01melse\u001b[39;00m:\n\u001b[1;32m   3398\u001b[0m   \u001b[38;5;28;01mwhile\u001b[39;00m \u001b[38;5;28mlen\u001b[39m(arrays) \u001b[38;5;241m>\u001b[39m \u001b[38;5;241m1\u001b[39m:\n\u001b[0;32m-> 3399\u001b[0m     arrays \u001b[38;5;241m=\u001b[39m [\u001b[43mlax\u001b[49m\u001b[38;5;241;43m.\u001b[39;49m\u001b[43mconcatenate\u001b[49m\u001b[43m(\u001b[49m\u001b[43marrays\u001b[49m\u001b[43m[\u001b[49m\u001b[43mi\u001b[49m\u001b[43m:\u001b[49m\u001b[43mi\u001b[49m\u001b[38;5;241;43m+\u001b[39;49m\u001b[43mk\u001b[49m\u001b[43m]\u001b[49m\u001b[43m,\u001b[49m\u001b[43m \u001b[49m\u001b[43maxis\u001b[49m\u001b[43m)\u001b[49m\n\u001b[1;32m   3400\u001b[0m               \u001b[38;5;28;01mfor\u001b[39;00m i \u001b[38;5;129;01min\u001b[39;00m \u001b[38;5;28mrange\u001b[39m(\u001b[38;5;241m0\u001b[39m, \u001b[38;5;28mlen\u001b[39m(arrays), k)]\n\u001b[1;32m   3401\u001b[0m   \u001b[38;5;28;01mreturn\u001b[39;00m arrays[\u001b[38;5;241m0\u001b[39m]\n",
      "    \u001b[0;31m[... skipping hidden 4 frame]\u001b[0m\n",
      "File \u001b[0;32m~/.local/share/virtualenvs/optimal_pumps-vxukOnVz/lib/python3.9/site-packages/jax/_src/lax/lax.py:3842\u001b[0m, in \u001b[0;36m_concatenate_shape_rule\u001b[0;34m(*operands, **kwargs)\u001b[0m\n\u001b[1;32m   3838\u001b[0m   msg \u001b[38;5;241m=\u001b[39m (\u001b[38;5;124m\"\u001b[39m\u001b[38;5;124mCannot concatenate arrays with shapes that differ in dimensions \u001b[39m\u001b[38;5;124m\"\u001b[39m\n\u001b[1;32m   3839\u001b[0m          \u001b[38;5;124m\"\u001b[39m\u001b[38;5;124mother than the one being concatenated: concatenating along \u001b[39m\u001b[38;5;124m\"\u001b[39m\n\u001b[1;32m   3840\u001b[0m          \u001b[38;5;124m\"\u001b[39m\u001b[38;5;124mdimension \u001b[39m\u001b[38;5;132;01m{}\u001b[39;00m\u001b[38;5;124m for shapes \u001b[39m\u001b[38;5;132;01m{}\u001b[39;00m\u001b[38;5;124m.\u001b[39m\u001b[38;5;124m\"\u001b[39m)\n\u001b[1;32m   3841\u001b[0m   shapes \u001b[38;5;241m=\u001b[39m [operand\u001b[38;5;241m.\u001b[39mshape \u001b[38;5;28;01mfor\u001b[39;00m operand \u001b[38;5;129;01min\u001b[39;00m operands]\n\u001b[0;32m-> 3842\u001b[0m   \u001b[38;5;28;01mraise\u001b[39;00m \u001b[38;5;167;01mTypeError\u001b[39;00m(msg\u001b[38;5;241m.\u001b[39mformat(dimension, \u001b[38;5;124m\"\u001b[39m\u001b[38;5;124m, \u001b[39m\u001b[38;5;124m\"\u001b[39m\u001b[38;5;241m.\u001b[39mjoin(\u001b[38;5;28mmap\u001b[39m(\u001b[38;5;28mstr\u001b[39m, shapes))))\n\u001b[1;32m   3844\u001b[0m concat_size \u001b[38;5;241m=\u001b[39m \u001b[38;5;28msum\u001b[39m(o\u001b[38;5;241m.\u001b[39mshape[dimension] \u001b[38;5;28;01mfor\u001b[39;00m o \u001b[38;5;129;01min\u001b[39;00m operands)\n\u001b[1;32m   3845\u001b[0m ex_shape \u001b[38;5;241m=\u001b[39m operands[\u001b[38;5;241m0\u001b[39m]\u001b[38;5;241m.\u001b[39mshape\n",
      "\u001b[0;31mTypeError\u001b[0m: Cannot concatenate arrays with shapes that differ in dimensions other than the one being concatenated: concatenating along dimension 1 for shapes (401, 401), (802, 802)."
     ]
    }
   ],
   "source": [
    "pump = np.zeros(4*N) \n",
    "pump[2*N - 30:2*N - 5] = 0.3\n",
    "import optimization_SPDC as opt\n",
    "complex_pump = opt.get_complex_array(pump)\n",
    "opt.get_observables(pump, N, alpha, G, H, l)"
   ]
  },
  {
   "cell_type": "code",
   "execution_count": 7,
   "id": "4cd2facc-32dd-4c08-8b4f-3d76a9b1dd23",
   "metadata": {},
   "outputs": [],
   "source": [
    "import jaxopt \n",
    "def f(theta, size: int, alpha, G, H, l, omega, y_N):\n",
    "    return opt.get_loss_K(theta, N, alpha, G, H, l, omega) + opt.get_loss_N(theta, N, alpha, G, H, l, y_N)\n",
    "optimizer = jaxopt.GradientDescent(f, maxiter = 1)"
   ]
  },
  {
   "cell_type": "code",
   "execution_count": 8,
   "id": "439fc137-ca8d-4aa3-9e3e-58024eb17303",
   "metadata": {},
   "outputs": [
    {
     "name": "stdout",
     "output_type": "stream",
     "text": [
      "0.55172515\n",
      "0.2642502\n",
      "0.07699973\n",
      "0.052320696\n",
      "0.04254803\n",
      "0.024752015\n",
      "0.021176804\n",
      "0.010780818\n",
      "0.00818745\n",
      "0.0072271093\n"
     ]
    }
   ],
   "source": [
    "params = jnp.array(pump).copy()\n",
    "for i in range(10):\n",
    "    print(f(params, N, alpha, G, H, l, 1, 1))\n",
    "    params, state = optimizer.run(params, N, alpha, G, H, l, 1, 1)"
   ]
  },
  {
   "cell_type": "code",
   "execution_count": 13,
   "id": "dc89c233-df4a-4d6f-ab46-ca1da17baefe",
   "metadata": {},
   "outputs": [
    {
     "data": {
      "text/plain": [
       "(DeviceArray(1.0309745, dtype=float32), DeviceArray(1.0037957, dtype=float32))"
      ]
     },
     "execution_count": 13,
     "metadata": {},
     "output_type": "execute_result"
    },
    {
     "data": {
      "image/png": "[encoded data removed]",
      "text/plain": [
       "<Figure size 640x480 with 1 Axes>"
      ]
     },
     "metadata": {},
     "output_type": "display_data"
    }
   ],
   "source": [
    "plt.xlabel(\"frequency\")\n",
    "plt.ylabel(\"pump real amplitude\")\n",
    "plt.plot(opt.get_complex_array(params))\n",
    "opt.get_observables(params, N, alpha, G, H, l)"
   ]
  },
  {
   "cell_type": "code",
   "execution_count": 46,
   "id": "f9cbf415-2c6d-4fb1-8f9e-12aa27df908c",
   "metadata": {},
   "outputs": [],
   "source": [
    "# Get initial pump and SU(1,1) algebra elements\n",
    "alpha, G, H = init.get_constants(vp, l, wi, wf, Np, alpha_phase, N = N)\n",
    "pump = init.get_initialization_array([0, gauss_amp, gauss_width, gauss_phase], vp, l, wi, wf, Np, method = method, N=N)"
   ]
  },
  {
   "cell_type": "code",
   "execution_count": 14,
   "id": "7c877fb6-6dfb-48e0-9c7d-67c9415744a3",
   "metadata": {},
   "outputs": [],
   "source": [
    "U_ss, U_si, U_is, U_ii = opt.get_submatrices(pump, N, alpha, G, H, l)\n",
    "V, W = uncoupling.get_V_W_matrices(pump, N, alpha, G, H, l)"
   ]
  },
  {
   "cell_type": "code",
   "execution_count": 15,
   "id": "19297bb7-18c5-476e-9bb0-8ee9c7c5c68b",
   "metadata": {},
   "outputs": [],
   "source": [
    "# Eigenvalues and eigenvectors\n",
    "eigenvalues, eigenvectors = jnp.linalg.eig(U_si@U_si.conj().T)\n",
    "norm_eig = np.abs(eigenvalues*eigenvalues.conj())"
   ]
  },
  {
   "cell_type": "code",
   "execution_count": 16,
   "id": "9209e1ab-152e-4813-8956-7735346d3564",
   "metadata": {},
   "outputs": [],
   "source": [
    "# Get free propagation V and W\n",
    "pump_free = init.get_initialization_array([0, 0, gauss_width, gauss_phase], vp, l, wi, wf, Np, method = method, N=N)\n",
    "free_U_ss, free_U_si, free_U_is, free_U_ii = opt.get_submatrices(pump_free, N, alpha, G, H, l)\n",
    "free_V, free_W = uncoupling.get_V_W_matrices(pump_free, N, alpha, G, H, l)"
   ]
  },
  {
   "cell_type": "code",
   "execution_count": 7,
   "id": "0d3fb951-a46d-44f5-bd5a-8a47b4eb2f08",
   "metadata": {},
   "outputs": [],
   "source": [
    "F = scipy.fft.fft(np.eye(N))\n",
    "F_inv = scipy.fft.ifft(np.eye(N))"
   ]
  },
  {
   "cell_type": "code",
   "execution_count": 8,
   "id": "ec22ca10-5117-4944-aea8-3e667183bcc5",
   "metadata": {},
   "outputs": [],
   "source": [
    "pump_matrix = opt.moving_window(pump, N)[:-1]\n",
    "time_pump = scipy.fft.fftshift(jnp.diag(F@(opt.moving_window(pump, N)[:-1])@F/N))"
   ]
  },
  {
   "cell_type": "code",
   "execution_count": 9,
   "id": "89250596-5741-4785-b450-680f182567ae",
   "metadata": {},
   "outputs": [],
   "source": [
    "supposed_V = free_V@np.diag(time_pump)@V"
   ]
  },
  {
   "cell_type": "markdown",
   "id": "29c29b35-bf60-4f0d-ad48-7844dd9305c4",
   "metadata": {},
   "source": [
    "# Code useful for pytest"
   ]
  },
  {
   "cell_type": "code",
   "execution_count": 94,
   "id": "69e2b6a9-b914-494a-9221-1a3caca0787a",
   "metadata": {},
   "outputs": [],
   "source": [
    "# Build submatrices of U\n",
    "K = alpha*opt.moving_window(pump, N)[:-1]\n",
    "Q = jnp.block([[G, K], [-jnp.conj(K).T, -jnp.conj(H).T]])\n",
    "U = jax.scipy.linalg.expm(1j*Q*l)\n",
    "M = len(U)\n",
    "U_ss = U[:M//2, :M//2]\n",
    "U_is = U[:M//2, M//2:M]\n",
    "U_si = U[M//2:M, :M//2]\n",
    "U_ii = U[M//2:M,M//2:M]"
   ]
  },
  {
   "cell_type": "code",
   "execution_count": 107,
   "id": "588bf102-67e3-4666-b141-7e3265988288",
   "metadata": {},
   "outputs": [
    {
     "ename": "NameError",
     "evalue": "name 'F' is not defined",
     "output_type": "error",
     "traceback": [
      "\u001b[0;31m---------------------------------------------------------------------------\u001b[0m",
      "\u001b[0;31mNameError\u001b[0m                                 Traceback (most recent call last)",
      "Cell \u001b[0;32mIn [107], line 1\u001b[0m\n\u001b[0;32m----> 1\u001b[0m test \u001b[38;5;241m=\u001b[39m \u001b[43mF\u001b[49m\u001b[38;5;129m@K\u001b[39m\u001b[38;5;129m@F\u001b[39m\u001b[38;5;241m/\u001b[39m\u001b[38;5;241m401\u001b[39m\n\u001b[1;32m      2\u001b[0m a \u001b[38;5;241m=\u001b[39m jnp\u001b[38;5;241m.\u001b[39mdiag(test)\n",
      "\u001b[0;31mNameError\u001b[0m: name 'F' is not defined"
     ]
    }
   ],
   "source": [
    "test = F@K@F/401\n",
    "a = jnp.diag(test)\n"
   ]
  },
  {
   "cell_type": "code",
   "execution_count": 129,
   "id": "fc70cb76-1727-4453-a292-ce62af4eb145",
   "metadata": {},
   "outputs": [
    {
     "ename": "NameError",
     "evalue": "name 'a' is not defined",
     "output_type": "error",
     "traceback": [
      "\u001b[0;31m---------------------------------------------------------------------------\u001b[0m",
      "\u001b[0;31mNameError\u001b[0m                                 Traceback (most recent call last)",
      "Cell \u001b[0;32mIn [129], line 1\u001b[0m\n\u001b[0;32m----> 1\u001b[0m plt\u001b[38;5;241m.\u001b[39mplot(np\u001b[38;5;241m.\u001b[39mabs(scipy\u001b[38;5;241m.\u001b[39mfft\u001b[38;5;241m.\u001b[39mfftshift(\u001b[43ma\u001b[49m)))\n",
      "\u001b[0;31mNameError\u001b[0m: name 'a' is not defined"
     ]
    }
   ],
   "source": [
    "plt.plot(np.abs(scipy.fft.fftshift(a)))"
   ]
  },
  {
   "cell_type": "code",
   "execution_count": 95,
   "id": "0598a6d5-4d21-4ad6-a9ad-29d64eda8ec6",
   "metadata": {},
   "outputs": [],
   "source": [
    "# Tests to see if matrices are well built\n",
    "test_phase_match_cond = jnp.allclose(G, -H)\n",
    "V_matrix_verif = jnp.allclose(U_ss + U_si, U_is + U_ii, rtol=0.01)\n",
    "W_matrix_verif = jnp.allclose(U_ss - U_si, U_ii - U_is, rtol=0.01)\n",
    "# Commutation tests (sum is used because even though the difference is small, allclose still does not recognize them as similar matrices...)\n",
    "# The absolute value of these matrices can even be plotted with matshow and it would show mostly noise\n",
    "# matrix exponential can introduce a lot of noise because of the algorithm of powers used\n",
    "commutation_ai_as = sum(sum(jnp.abs((U_ss@jnp.conj(U_si).T- U_is@jnp.conj(U_ii).T))))\n",
    "commutation_as_as_dagger = sum(sum(jnp.abs((U_ss@jnp.conj(U_ss).T - U_si@jnp.conj(U_si).T - jnp.eye(len(U_ss))))))"
   ]
  },
  {
   "cell_type": "code",
   "execution_count": 96,
   "id": "38559a85-ef33-4a89-9cca-4c0bb44c2402",
   "metadata": {},
   "outputs": [],
   "source": [
    "# Get V and W, propagators of pseudo-quadratures in frequency\n",
    "V = U_ss + U_si\n",
    "W = U_ss - U_si\n",
    "# Test where commutation relations of U_ss/U_si/U_is/U_ii are made with V/W\n",
    "commutation_ai_as = sum(sum(np.abs(V@jnp.conj(W).T-W@jnp.conj(V).T)))\n",
    "commutation_as_as_dagger = sum(sum(np.abs(V@jnp.conj(W).T-jnp.eye(len(U_ss)))))"
   ]
  },
  {
   "cell_type": "code",
   "execution_count": 99,
   "id": "eff37086-fccb-4694-aae3-8ee96188fb3e",
   "metadata": {},
   "outputs": [
    {
     "data": {
      "text/plain": [
       "<matplotlib.image.AxesImage at 0x7f69e7717e50>"
      ]
     },
     "execution_count": 99,
     "metadata": {},
     "output_type": "execute_result"
    },
    {
     "data": {
      "image/png": "[encoded data removed]",
      "text/plain": [
       "<Figure size 480x480 with 1 Axes>"
      ]
     },
     "metadata": {},
     "output_type": "display_data"
    }
   ],
   "source": [
    "plt.matshow(jnp.abs(U_si))"
   ]
  },
  {
   "cell_type": "code",
   "execution_count": 16,
   "id": "3d362c7f-0ff9-4b01-97ed-86a7ed0a62b2",
   "metadata": {},
   "outputs": [],
   "source": [
    "# See commutation relation VVdagger, WWdagger\n",
    "commutation_V_dagger_V = sum(sum(jnp.abs(V@jnp.conj(V).T - jnp.conj(V).T@V)))\n",
    "commutation_W_dagger_W = sum(sum(jnp.abs(W@jnp.conj(W).T - jnp.conj(W).T@W)))\n",
    "# See commutation relation V_dagger V and W_dagger W\n"
   ]
  },
  {
   "cell_type": "code",
   "execution_count": 17,
   "id": "ab927372-ee65-4d24-a08a-b31df8f35578",
   "metadata": {},
   "outputs": [],
   "source": [
    "# Objective function in V/W (4*Tr(N_U) = Tr(N), parfaitement comme prevu theoriquement)\n",
    "N = V@jnp.conj(V).T + W@jnp.conj(W).T - 2*jnp.eye(len(V))\n",
    "N_U = U_si@jnp.conj(U_si).T"
   ]
  },
  {
   "cell_type": "code",
   "execution_count": 18,
   "id": "a3623b17-1a60-405d-b173-0589bfe822c7",
   "metadata": {},
   "outputs": [],
   "source": [
    "# Fourier matrices\n",
    "F = scipy.fft.fft(np.eye(len(V)))\n",
    "F_inv = F.conj().T\n",
    "# V and W in time domain\n",
    "V_time = F@V@F_inv\n",
    "W_time = F@W@F_inv"
   ]
  },
  {
   "cell_type": "code",
   "execution_count": 19,
   "id": "68f632f8-8ec6-41cc-a9dd-d7ccc0f0ecbe",
   "metadata": {},
   "outputs": [],
   "source": [
    "up = jnp.trace(V_time@V_time.conj().T)**2+jnp.trace(W_time@W_time.conj().T)**2+2*jnp.trace(W_time@W_time.conj().T)*jnp.trace(V_time@V_time.conj().T) - 4*(jnp.trace(W_time@W_time.conj().T)+jnp.trace(V_time@V_time.conj().T))\n",
    "down = jnp.trace(V_time@V_time.conj().T@V_time@V_time.conj().T) + jnp.trace(W_time@W_time.conj().T@W_time@W_time.conj().T) + 2 - 4*jnp.trace(V_time@V_time.conj().T + W_time@W_time.conj().T)"
   ]
  },
  {
   "cell_type": "code",
   "execution_count": null,
   "id": "38cb87a5-dd98-459c-b626-817849e9b5d5",
   "metadata": {},
   "outputs": [
    {
     "data": {
      "text/plain": [
       "DeviceArray(1.230627+2.3992178e-10j, dtype=complex64)"
      ]
     },
     "execution_count": 20,
     "metadata": {},
     "output_type": "execute_result"
    }
   ],
   "source": [
    "up/(2*down)"
   ]
  },
  {
   "cell_type": "code",
   "execution_count": 21,
   "id": "1d5bce75-656d-4593-acb1-bf7c57ab1d10",
   "metadata": {},
   "outputs": [
    {
     "data": {
      "text/plain": [
       "<matplotlib.image.AxesImage at 0x7f50082df040>"
      ]
     },
     "execution_count": 21,
     "metadata": {},
     "output_type": "execute_result"
    },
    {
     "data": {
      "image/png": "[encoded data removed]",
      "text/plain": [
       "<Figure size 480x480 with 1 Axes>"
      ]
     },
     "metadata": {},
     "output_type": "display_data"
    }
   ],
   "source": [
    "plt.matshow(np.abs(V_time))"
   ]
  },
  {
   "cell_type": "code",
   "execution_count": 22,
   "id": "cac31160-d548-4c6e-9ce2-99a8060d59e7",
   "metadata": {},
   "outputs": [
    {
     "data": {
      "text/plain": [
       "DeviceArray(1.2246513+1.8074207e-10j, dtype=complex64)"
      ]
     },
     "execution_count": 22,
     "metadata": {},
     "output_type": "execute_result"
    }
   ],
   "source": [
    "(jnp.trace(U_is@jnp.conj(U_is).T)**2)/jnp.trace(U_is@jnp.conj(U_is).T@U_is@jnp.conj(U_is).T)"
   ]
  },
  {
   "cell_type": "markdown",
   "id": "bd8a9521-1b57-455c-8432-0ddefac3c808",
   "metadata": {},
   "source": [
    "# Tests to make SPDC in quadratures into quadratic equation"
   ]
  },
  {
   "cell_type": "code",
   "execution_count": 41,
   "id": "9b5b63c8-cd1b-4093-8520-114b15115702",
   "metadata": {},
   "outputs": [],
   "source": [
    "l = 1\n",
    "inv_delta_t = 1\n",
    "N_time = 401\n",
    "min_time = -8\n",
    "t = np.linspace(min_time, -min_time, N_time)\n",
    "delta_t = np.abs(t[1] - t[0])\n",
    "green_f = np.zeros((len(t), len(t)))"
   ]
  },
  {
   "cell_type": "code",
   "execution_count": 42,
   "id": "5f051cfb-4a88-4a67-a323-f4eb2991d92b",
   "metadata": {},
   "outputs": [],
   "source": [
    "for i in range(len(green_f)):\n",
    "    if i - (inv_delta_t/delta_t)*l > 0:\n",
    "        green_f[i][int(i - (inv_delta_t/delta_t)*l)] = 1"
   ]
  },
  {
   "cell_type": "code",
   "execution_count": 43,
   "id": "9d14718d-900a-4196-9dba-566aa7a302ab",
   "metadata": {},
   "outputs": [
    {
     "data": {
      "text/plain": [
       "<matplotlib.image.AxesImage at 0x7f7be0379970>"
      ]
     },
     "execution_count": 43,
     "metadata": {},
     "output_type": "execute_result"
    },
    {
     "data": {
      "image/png": "[encoded data removed]",
      "text/plain": [
       "<Figure size 640x480 with 1 Axes>"
      ]
     },
     "metadata": {},
     "output_type": "display_data"
    }
   ],
   "source": [
    "plt.imshow(green_f)"
   ]
  }
 ],
 "metadata": {
  "kernelspec": {
   "display_name": "Python 3 (ipykernel)",
   "language": "python",
   "name": "python3"
  },
  "language_info": {
   "codemirror_mode": {
    "name": "ipython",
    "version": 3
   },
   "file_extension": ".py",
   "mimetype": "text/x-python",
   "name": "python",
   "nbconvert_exporter": "python",
   "pygments_lexer": "ipython3",
   "version": "3.9.12"
  }
 },
 "nbformat": 4,
 "nbformat_minor": 5
}
