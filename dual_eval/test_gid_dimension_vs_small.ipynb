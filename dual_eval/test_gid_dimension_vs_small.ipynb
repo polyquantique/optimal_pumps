{
 "cells": [
  {
   "cell_type": "code",
   "execution_count": 1,
   "metadata": {},
   "outputs": [],
   "source": [
    "import numpy as np\n",
    "import scipy.sparse as sparse\n",
    "import scipy\n",
    "import matplotlib.pyplot as plt\n",
    "import generate_proj_mat as gen_proj\n",
    "import generate_constant_matrices as gen_mat\n",
    "\n",
    "np.random.seed(0)"
   ]
  },
  {
   "cell_type": "code",
   "execution_count": 2,
   "metadata": {},
   "outputs": [],
   "source": [
    "N_omega = 201\n",
    "N_z = 31\n",
    "omega = np.linspace(-5, 5, N_omega)\n",
    "z = np.linspace(0, 0.4, N_z)\n",
    "delta_omega = np.abs(omega[1] - omega[0])\n",
    "delta_z = np.abs(z[1] - z[0])\n",
    "vp = 1\n",
    "a = 1.61/1.13\n",
    "vs = vp / (1 + 2 * a * vp / z[-1])\n",
    "delta_v = vp*vs/(vp - vs)"
   ]
  },
  {
   "cell_type": "code",
   "execution_count": 3,
   "metadata": {},
   "outputs": [],
   "source": [
    "# Can be used as part of test to see if constraint respected. \n",
    "# See if the diagonal of the computed constraint is equal to the diagonal of the \n",
    "# matrix exponential\n",
    "beta_vec = 6*delta_omega * np.random.random((2*N_omega,))\n",
    "beta = np.zeros((N_omega, N_omega))\n",
    "for i in range(N_omega):\n",
    "    for j in range(N_omega):\n",
    "        beta[i][j] = beta_vec[i + j]\n",
    "delta_k = np.diag((1/delta_v)*1.j*omega)\n",
    "Q_plus = delta_k + beta\n",
    "Q_minus = delta_k - beta\n",
    "green_f = scipy.linalg.expm(delta_k*z[-1])\n",
    "W_plus = np.array([scipy.linalg.expm(Q_plus * z[i]) for i in range(N_z)]).reshape(N_z*N_omega, N_omega)\n",
    "W_minus = np.array([scipy.linalg.expm(Q_minus * z[i]) for i in range(N_z)]).reshape(N_z*N_omega, N_omega)\n",
    "J = np.array([0.25*(W_plus[i]@W_plus[i].conj().T + W_minus[i]@W_minus[i].conj().T - 2*np.eye(N_omega)) for i in range(N_z)]).reshape(N_z*N_omega, N_omega)\n",
    "propagators = np.concatenate((W_plus, W_minus))\n",
    "X = np.concatenate((np.concatenate((J, propagators)), beta))"
   ]
  },
  {
   "cell_type": "code",
   "execution_count": 4,
   "metadata": {},
   "outputs": [],
   "source": [
    "lin_mat = gen_mat.get_proj_lin_basic(N_omega, N_z)"
   ]
  },
  {
   "cell_type": "code",
   "execution_count": 14,
   "metadata": {},
   "outputs": [
    {
     "name": "stdout",
     "output_type": "stream",
     "text": [
      "True\n",
      "True\n"
     ]
    }
   ],
   "source": [
    "lin_mat_for_z = lin_mat[2*N_z - 1]\n",
    "real = (lin_mat_for_z@X + (lin_mat_for_z@X).conj().T)\n",
    "real_should_be = 2*np.real(X[(2*N_z - 1)*N_omega: (2*N_z)*N_omega])\n",
    "imag = (lin_mat_for_z@X - (lin_mat_for_z@X).conj().T)\n",
    "imag_should_be = 2*1.j*np.imag(X[(2*N_z - 1)*N_omega: (2*N_z)*N_omega])\n",
    "print(np.allclose(real, real_should_be))\n",
    "print(np.allclose(imag, imag_should_be))"
   ]
  },
  {
   "cell_type": "code",
   "execution_count": 15,
   "metadata": {},
   "outputs": [],
   "source": [
    "matmul_green_f_small_dim, skew_matmul_green_f_small_dim = gen_proj.matmul_green_f_basic_proj(omega, vp, z, N_omega)"
   ]
  },
  {
   "cell_type": "code",
   "execution_count": 16,
   "metadata": {},
   "outputs": [
    {
     "name": "stdout",
     "output_type": "stream",
     "text": [
      "True\n"
     ]
    }
   ],
   "source": [
    "test_green_f = (matmul_green_f_small_dim[-1] - matmul_green_f_small_dim[-1].conj().T).toarray()\n",
    "theory_green_f = 2.j*np.imag(scipy.linalg.expm(delta_k*z[-1]))\n",
    "print(np.allclose(test_green_f, theory_green_f))"
   ]
  },
  {
   "cell_type": "code",
   "execution_count": 17,
   "metadata": {},
   "outputs": [],
   "source": [
    "hermitian_dynamics, skew_herm_dynamics = gen_mat.get_dynamics_matrices(omega, vp, z, \"plus\")\n",
    "test_real = delta_z*X.conj().T@skew_herm_dynamics[N_z - 1]@X"
   ]
  },
  {
   "cell_type": "code",
   "execution_count": 18,
   "metadata": {},
   "outputs": [
    {
     "data": {
      "text/plain": [
       "(1.176836406102666e-14-334.82451864648107j)"
      ]
     },
     "execution_count": 18,
     "metadata": {},
     "output_type": "execute_result"
    }
   ],
   "source": [
    "np.trace(test_real) + np.trace(test_green_f)# - np.trace(imag)"
   ]
  },
  {
   "cell_type": "code",
   "execution_count": 21,
   "metadata": {},
   "outputs": [],
   "source": [
    "id_green_matmul, imag_green_matmul = gen_proj.matmul_green_f_basic_proj(omega, vp, z, N_omega)\n",
    "big_term = sum([delta_z*W_plus[i*N_omega:(i + 1)*N_omega]@beta@id_green_matmul[N_z - i - 1] for i in range(N_z)])\n",
    "green_f_term = id_green_matmul[-1]\n",
    "lin_term = lin_mat[3*N_z - 1]@X"
   ]
  },
  {
   "cell_type": "code",
   "execution_count": 22,
   "metadata": {},
   "outputs": [
    {
     "data": {
      "text/plain": [
       "(702.0683151172948-334.689969096916j)"
      ]
     },
     "execution_count": 22,
     "metadata": {},
     "output_type": "execute_result"
    }
   ],
   "source": [
    "2*np.trace(big_term + green_f_term - lin_term)"
   ]
  },
  {
   "cell_type": "code",
   "execution_count": 13,
   "metadata": {},
   "outputs": [
    {
     "data": {
      "text/plain": [
       "[<matplotlib.lines.Line2D at 0x7ff8abd3a070>]"
      ]
     },
     "execution_count": 13,
     "metadata": {},
     "output_type": "execute_result"
    },
    {
     "data": {
      "image/png": "[encoded data removed]",
      "text/plain": [
       "<Figure size 640x480 with 1 Axes>"
      ]
     },
     "metadata": {},
     "output_type": "display_data"
    }
   ],
   "source": [
    "plt.plot(np.imag(np.diag(big_term + green_f_term, k = 20)))\n",
    "plt.plot(np.imag(np.diag(lin_term, k = 20)))"
   ]
  },
  {
   "cell_type": "code",
   "execution_count": 198,
   "metadata": {},
   "outputs": [
    {
     "data": {
      "text/plain": [
       "array([[0., 0., 0., 0., 0., 0., 0., 0., 0., 0.]])"
      ]
     },
     "execution_count": 198,
     "metadata": {},
     "output_type": "execute_result"
    }
   ],
   "source": [
    "np.zeros((1, 10))"
   ]
  },
  {
   "cell_type": "code",
   "execution_count": 79,
   "metadata": {},
   "outputs": [
    {
     "data": {
      "text/plain": [
       "((507.4573674164392+1.3027773304585821e-15j), (395.5176998234558+0j))"
      ]
     },
     "execution_count": 79,
     "metadata": {},
     "output_type": "execute_result"
    }
   ],
   "source": [
    "np.trace(test_real) + np.trace(test_green_f), np.trace(real)"
   ]
  },
  {
   "cell_type": "code",
   "execution_count": 28,
   "metadata": {},
   "outputs": [
    {
     "data": {
      "text/plain": [
       "(2.2394329619190466e-13, 1.8075544306734873e-13)"
      ]
     },
     "execution_count": 28,
     "metadata": {},
     "output_type": "execute_result"
    }
   ],
   "source": [
    "sum(sum(np.abs(np.real(real - 2*should_be)))), sum(sum(np.abs(np.imag(real - 2*should_be))))"
   ]
  }
 ],
 "metadata": {
  "kernelspec": {
   "display_name": "jax_opt",
   "language": "python",
   "name": "python3"
  },
  "language_info": {
   "codemirror_mode": {
    "name": "ipython",
    "version": 3
   },
   "file_extension": ".py",
   "mimetype": "text/x-python",
   "name": "python",
   "nbconvert_exporter": "python",
   "pygments_lexer": "ipython3",
   "version": "3.9.12"
  },
  "orig_nbformat": 4
 },
 "nbformat": 4,
 "nbformat_minor": 2
}
