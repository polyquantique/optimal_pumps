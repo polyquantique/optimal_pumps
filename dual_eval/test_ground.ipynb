{
 "cells": [
  {
   "cell_type": "code",
   "execution_count": 141,
   "metadata": {},
   "outputs": [],
   "source": [
    "import numpy as np\n",
    "import scipy.sparse as sparse\n",
    "import scipy\n",
    "import scipy.optimize as opt\n",
    "import matplotlib.pyplot as plt\n",
    "import generate_constant_matrices as mat_gen\n",
    "import generate_proj_mat as gen_proj\n",
    "\n",
    "np.random.seed(0)"
   ]
  },
  {
   "cell_type": "code",
   "execution_count": 176,
   "metadata": {},
   "outputs": [],
   "source": [
    "N_omega = 401\n",
    "N_z = 41\n",
    "omega = np.linspace(-3, 3, N_omega)\n",
    "z = np.linspace(0, 0.4, N_z)\n",
    "delta_omega = np.abs(omega[1] - omega[0])\n",
    "delta_z = np.abs(z[1] - z[0])\n",
    "vp = 1\n",
    "a = 1.61/1.13\n",
    "vs = vp / (1 + 2 * a * vp / z[-1])\n",
    "delta_v = vp*vs/(vp - vs)"
   ]
  },
  {
   "cell_type": "code",
   "execution_count": 189,
   "metadata": {},
   "outputs": [],
   "source": [
    "# Can be used as part of test to see if constraint respected. \n",
    "# See if the diagonal of the computed constraint is equal to the diagonal of the \n",
    "# matrix exponential\n",
    "beta_vec = 4*delta_omega * np.random.random((2*N_omega,))\n",
    "beta = np.zeros((N_omega, N_omega))\n",
    "for i in range(N_omega):\n",
    "    for j in range(N_omega):\n",
    "        beta[i][j] = beta_vec[i + j]\n",
    "delta_k = np.diag((1/delta_v)*1.j*omega)\n",
    "Q_plus = delta_k + beta\n",
    "green_f = scipy.linalg.expm(delta_k*z[-1])\n",
    "W_plus = np.array([scipy.linalg.expm(Q_plus * z[i]) for i in range(N_z)]).reshape(N_z*N_omega, N_omega)\n",
    "X = np.concatenate((np.concatenate((np.zeros((2*N_z*N_omega, N_omega)), W_plus)), beta))"
   ]
  },
  {
   "cell_type": "code",
   "execution_count": 190,
   "metadata": {},
   "outputs": [],
   "source": [
    "dynamics, anti_herm_dynamics = gen_proj.matmul_green_f_basic_proj(omega, vp, z, N_omega)"
   ]
  },
  {
   "cell_type": "code",
   "execution_count": 191,
   "metadata": {},
   "outputs": [],
   "source": [
    "dynamics_matrices, anti_herm_dynamics_matrices = mat_gen.get_dynamics_matrices(omega, vp, z)"
   ]
  },
  {
   "cell_type": "code",
   "execution_count": 192,
   "metadata": {},
   "outputs": [],
   "source": [
    "real_test_result = delta_z*X.conj().T@dynamics_matrices[-1]@X\n",
    "imag_test_result = delta_z*X.conj().T@anti_herm_dynamics_matrices[-1]@X\n",
    "real_green_f = 2*np.real(green_f)\n",
    "real_prop = 2*np.real(W_plus[(N_z - 1)*N_omega:])\n",
    "imag_green_f = 2*np.imag(green_f)\n",
    "imag_prop = 2*np.imag(W_plus[(N_z - 1)*N_omega:])"
   ]
  },
  {
   "cell_type": "code",
   "execution_count": 25,
   "metadata": {},
   "outputs": [],
   "source": [
    "# Can be used to see if the Hermitian projection is Hermitian and \n",
    "# anti-Hermitian is anti-Hermitian\n",
    "test_normal = anti_herm_dynamics_matrices[-1][(2*N_z + 10)*N_omega:(2*N_z + 11)*N_omega, 3*N_z*N_omega:].toarray()\n",
    "test_conj = anti_herm_dynamics_matrices[-1][3*N_z*N_omega:, (2*N_z + 10)*N_omega:(2*N_z + 11)*N_omega].conj().T.toarray()"
   ]
  },
  {
   "cell_type": "code",
   "execution_count": 202,
   "metadata": {},
   "outputs": [],
   "source": [
    "herm_lin_proj = mat_gen.get_proj_lin_basic(N_omega, N_z)\n",
    "real_dynamics, imag_dynamics = mat_gen.get_dynamics_matrices(omega, vp, z)"
   ]
  },
  {
   "cell_type": "code",
   "execution_count": 214,
   "metadata": {},
   "outputs": [],
   "source": [
    "lin_term = np.trace(herm_lin_proj[2*N_z + 10]@X + X.conj().T@(herm_lin_proj[2*N_z + 10].conj().T))\n",
    "green_f = np.diag(np.exp((1/delta_v)*1.j*omega*z[9]))\n",
    "cst_term = np.trace(green_f + green_f.conj().T)\n",
    "quad_term = np.trace(X.conj().T@real_dynamics[9]@X)"
   ]
  },
  {
   "cell_type": "code",
   "execution_count": 215,
   "metadata": {},
   "outputs": [
    {
     "data": {
      "text/plain": [
       "((317.32454005818175+0j),\n",
       " (389.62916600864054+0j),\n",
       " (263.73576639684785-4.920868400259959e-15j))"
      ]
     },
     "execution_count": 215,
     "metadata": {},
     "output_type": "execute_result"
    }
   ],
   "source": [
    "lin_term, cst_term, quad_term"
   ]
  }
 ],
 "metadata": {
  "kernelspec": {
   "display_name": "optimal_pumps-vxukOnVz",
   "language": "python",
   "name": "python3"
  },
  "language_info": {
   "codemirror_mode": {
    "name": "ipython",
    "version": 3
   },
   "file_extension": ".py",
   "mimetype": "text/x-python",
   "name": "python",
   "nbconvert_exporter": "python",
   "pygments_lexer": "ipython3",
   "version": "3.11.4"
  },
  "orig_nbformat": 4
 },
 "nbformat": 4,
 "nbformat_minor": 2
}
