{
 "cells": [
  {
   "cell_type": "code",
   "execution_count": 1,
   "metadata": {},
   "outputs": [],
   "source": [
    "import numpy as np\n",
    "import scipy.sparse as sparse\n",
    "import scipy\n",
    "import scipy.optimize as opt\n",
    "import matplotlib.pyplot as plt\n",
    "import generate_constant_matrices as mat_gen\n",
    "import generate_proj_mat as gen_proj"
   ]
  },
  {
   "cell_type": "code",
   "execution_count": 2,
   "metadata": {},
   "outputs": [],
   "source": [
    "N_omega = 101\n",
    "N_z = 21\n",
    "omega = np.linspace(-3, 3, N_omega)\n",
    "z = np.linspace(0, 0.2, N_z)"
   ]
  },
  {
   "cell_type": "code",
   "execution_count": 5,
   "metadata": {},
   "outputs": [],
   "source": [
    "quad_basic_herm_proj, quad_basic_antiherm_proj = mat_gen.get_proj_quad_basic(N_omega, N_z)\n",
    "lin_basic_herm_proj, lin_basic_antiherm_proj = mat_gen.get_proj_lin_basic(N_omega, N_z)"
   ]
  },
  {
   "cell_type": "code",
   "execution_count": 6,
   "metadata": {},
   "outputs": [
    {
     "data": {
      "text/plain": [
       "array([[1, 2, 0, 0, 0, 0, 0, 0, 0, 0],\n",
       "       [3, 4, 0, 0, 0, 0, 0, 0, 0, 0]], dtype=int32)"
      ]
     },
     "execution_count": 6,
     "metadata": {},
     "output_type": "execute_result"
    }
   ],
   "source": [
    "A = sparse.csr_matrix(np.array([[1,2],[3,4]]))\n",
    "B = sparse.csr_matrix(())\n",
    "A.resize((2, 4))\n",
    "A.toarray()"
   ]
  },
  {
   "cell_type": "code",
   "execution_count": 28,
   "metadata": {},
   "outputs": [],
   "source": [
    "projections = gen_proj.diag_proj_unity(N_omega, N_proj)"
   ]
  },
  {
   "cell_type": "code",
   "execution_count": 3,
   "metadata": {},
   "outputs": [],
   "source": [
    "list_proj = mat_gen.get_lin_proj_mat(N_z, N_omega, N_proj, real=False)"
   ]
  },
  {
   "cell_type": "code",
   "execution_count": 4,
   "metadata": {},
   "outputs": [
    {
     "data": {
      "text/plain": [
       "<matplotlib.image.AxesImage at 0x210bfae54c0>"
      ]
     },
     "execution_count": 4,
     "metadata": {},
     "output_type": "execute_result"
    },
    {
     "data": {
      "image/png": "[encoded data removed]",
      "text/plain": [
       "<Figure size 288x288 with 1 Axes>"
      ]
     },
     "metadata": {
      "needs_background": "light"
     },
     "output_type": "display_data"
    }
   ],
   "source": [
    "plt.matshow(np.abs(list_proj[0][62].toarray())[61*N_omega:, 61*N_omega:])"
   ]
  }
 ],
 "metadata": {
  "kernelspec": {
   "display_name": "optimal_pumps-vxukOnVz",
   "language": "python",
   "name": "python3"
  },
  "language_info": {
   "codemirror_mode": {
    "name": "ipython",
    "version": 3
   },
   "file_extension": ".py",
   "mimetype": "text/x-python",
   "name": "python",
   "nbconvert_exporter": "python",
   "pygments_lexer": "ipython3",
   "version": "3.9.7"
  },
  "orig_nbformat": 4
 },
 "nbformat": 4,
 "nbformat_minor": 2
}
