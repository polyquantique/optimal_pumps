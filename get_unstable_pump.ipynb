{
 "cells": [
  {
   "cell_type": "code",
   "execution_count": 1,
   "id": "5e986ba2-7110-4e12-b792-3acadfbda8ca",
   "metadata": {},
   "outputs": [],
   "source": [
    "import jax.numpy as jnp\n",
    "import jax\n",
    "import jaxopt\n",
    "import numpy as np\n",
    "\n",
    "import matplotlib.pyplot as plt\n",
    "\n",
    "import optimization_SPDC as opt\n",
    "import get_initialization_cond as init\n",
    "\n",
    "key = jax.random.PRNGKey(0)\n",
    "\n",
    "from jax import config\n",
    "config.update(\"jax_enable_x64\", True)"
   ]
  },
  {
   "cell_type": "code",
   "execution_count": 2,
   "id": "d2ba0d92-83b0-4498-9a8c-c9b10e8bd13f",
   "metadata": {},
   "outputs": [],
   "source": [
    "Np = 0.01\n",
    "# higher N and wf+wi makes less unstable pump... need to see if N or wf+wi influences more\n",
    "N = 601\n",
    "wi = -10\n",
    "wf = 10\n",
    "x = jnp.linspace(wi, wf, N)\n",
    "freq_range_pump = jnp.linspace(2*wi, 2*wf, 2*N)\n",
    "freq_range_pump_complex = jnp.concatenate((freq_range_pump, freq_range_pump)).reshape(4*N,)\n",
    "vp = 0.1\n",
    "l = 1\n",
    "# Parameters to generate pump seed\n",
    "hermite_order = 2\n",
    "gaussian_amplitude = 0.05\n",
    "gaussian_width = 0.3\n",
    "phase = jnp.pi/5\n",
    "hermite_init_params = [hermite_order, gaussian_amplitude, gaussian_width, phase]\n",
    "cst_init_params = [0.1]\n",
    "y_N = 3"
   ]
  },
  {
   "cell_type": "code",
   "execution_count": 3,
   "id": "be96243a-f64e-4604-9504-9a2bbd82e433",
   "metadata": {},
   "outputs": [],
   "source": [
    "alpha, G, H = init.get_constants(vp, l, wi, wf, Np, N = N)\n",
    "arbitrary_seed_hermite = init.get_initialization_array(hermite_init_params, vp, l, wi, wf, Np, method='hermite', N = N)\n",
    "random_seed = Np*jax.random.uniform(key, shape=(4*N,))"
   ]
  },
  {
   "cell_type": "code",
   "execution_count": 4,
   "id": "7cea8905-cb34-4cab-b76b-2a80ee1151df",
   "metadata": {},
   "outputs": [],
   "source": [
    "solver = jaxopt.GradientDescent(opt.get_loss_K, maxiter=30, verbose = 1)"
   ]
  },
  {
   "cell_type": "code",
   "execution_count": 5,
   "id": "f2b6e9d2-adb2-43fb-939a-310011d775d5",
   "metadata": {},
   "outputs": [
    {
     "name": "stdout",
     "output_type": "stream",
     "text": [
      "error: 64.1348875310743\n",
      "error: 28.5376721090614\n",
      "error: 22.36400991185107\n",
      "error: 18.202105123802784\n",
      "error: 10.183701840439081\n",
      "error: 4.212386263378185\n",
      "error: 1.8340789514739815\n",
      "error: 2.6117421366537634\n",
      "error: 0.9597741745949364\n",
      "error: 0.40932721462207444\n",
      "error: 0.6325076350040502\n",
      "error: 0.4959825289437786\n",
      "error: 0.42513521039554014\n",
      "error: 0.23879928580912513\n",
      "error: 0.4596337128303781\n",
      "error: 0.4368699742372284\n",
      "error: 0.24441832093954488\n",
      "error: 0.2693036699196472\n",
      "error: 0.5154171941666296\n",
      "error: 0.27615318758484514\n",
      "error: 0.5316144546225251\n",
      "error: 0.280339801144631\n",
      "error: 0.17104440633697307\n",
      "error: 0.6437501940308872\n",
      "error: 0.32401019113317653\n",
      "error: 0.18163108876111103\n",
      "error: 0.3602332123271545\n",
      "error: 0.35598444416699854\n",
      "error: 0.35060525145726096\n"
     ]
    }
   ],
   "source": [
    "(theta, state) = solver.run(random_seed, N, alpha, G, H, l, freq_range_pump)"
   ]
  },
  {
   "cell_type": "code",
   "execution_count": 6,
   "id": "1bcc9a81-7e9a-462b-ab2c-cb72328c27d5",
   "metadata": {},
   "outputs": [
    {
     "data": {
      "text/plain": [
       "(DeviceArray(0.04948129, dtype=float64),\n",
       " DeviceArray(1.21099496, dtype=float64))"
      ]
     },
     "execution_count": 6,
     "metadata": {},
     "output_type": "execute_result"
    },
    {
     "data": {
      "image/png": "[encoded data removed]",
      "text/plain": [
       "<Figure size 432x288 with 1 Axes>"
      ]
     },
     "metadata": {
      "needs_background": "light"
     },
     "output_type": "display_data"
    }
   ],
   "source": [
    "plt.plot(np.abs(opt.get_complex_array(theta)))\n",
    "opt.get_observables(theta, N, alpha, G, H, l)"
   ]
  }
 ],
 "metadata": {
  "kernelspec": {
   "display_name": "Python 3 (ipykernel)",
   "language": "python",
   "name": "python3"
  },
  "language_info": {
   "codemirror_mode": {
    "name": "ipython",
    "version": 3
   },
   "file_extension": ".py",
   "mimetype": "text/x-python",
   "name": "python",
   "nbconvert_exporter": "python",
   "pygments_lexer": "ipython3",
   "version": "3.9.7"
  }
 },
 "nbformat": 4,
 "nbformat_minor": 5
}
