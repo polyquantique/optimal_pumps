{
 "cells": [
  {
   "cell_type": "code",
   "execution_count": 1,
   "id": "5e986ba2-7110-4e12-b792-3acadfbda8ca",
   "metadata": {},
   "outputs": [],
   "source": [
    "import get_initialization_cond as init \n",
    "import optimization_SPDC as opt\n",
    "import jax.scipy.optimize as jax_opt\n",
    "import jax\n",
    "import jax.numpy as jnp\n",
    "import numpy as np\n",
    "import matplotlib.pyplot as plt"
   ]
  },
  {
   "cell_type": "code",
   "execution_count": 3,
   "id": "d2ba0d92-83b0-4498-9a8c-c9b10e8bd13f",
   "metadata": {},
   "outputs": [],
   "source": [
    "Np = 0.02\n",
    "# higher N and wf+wi makes less unstable pump... need to see if N or wf+wi influences more\n",
    "N = 801\n",
    "wi = -10\n",
    "wf = 10\n",
    "x = np.linspace(wi, wf, N)\n",
    "w = np.linspace(2*wi, 2*wf, 2*N)\n",
    "# get the group velocities for all modes\n",
    "vp = 0.1\n",
    "l = 1\n",
    "# For an unstable pump, just change amplitude to 0.2 and width to 0.2 at N = 1\n",
    "hermite_init_params = [1, 0.05, 0.5, jnp.pi/5]\n",
    "cst_init_params = [0.1]\n",
    "alpha, G, H = init.get_constants(vp, l, wi, wf, Np, N = N)\n",
    "# get the initialization seeds\n",
    "initial_value_gauss = jnp.array([0.5, 1., 2*jnp.pi/7])\n",
    "arbitrary_seed_hermite_order_1 = init.get_initialization_array(hermite_init_params, vp, l, wi, wf, Np, method='hermite', N = N)\n",
    "phi = 2*np.pi*np.random.random()\n",
    "y_N = 1"
   ]
  },
  {
   "cell_type": "code",
   "execution_count": 4,
   "id": "7cea8905-cb34-4cab-b76b-2a80ee1151df",
   "metadata": {},
   "outputs": [],
   "source": [
    "unstable_init_hermite_params = [1, 1, 1, jnp.pi/5]\n",
    "initial_unstable_arbitrary_seed = init.get_initialization_array(unstable_init_hermite_params, vp, l, wi, wf, Np, method = \"hermite\", N = N)\n",
    "unstable_opt_arbitrary_pump = (jax_opt.minimize(opt.get_loss, initial_unstable_arbitrary_seed, args = (N, alpha, G, H, l, y_N), method=\"BFGS\")).x\n",
    "unstabl_opt_arbitrary_complex_pump = opt.get_complex_array(unstable_opt_arbitrary_pump)"
   ]
  },
  {
   "cell_type": "code",
   "execution_count": 5,
   "id": "958ff12b-b7b5-4bf9-929c-6829a1aea382",
   "metadata": {},
   "outputs": [
    {
     "data": {
      "text/plain": [
       "[<matplotlib.lines.Line2D at 0x219953aec40>]"
      ]
     },
     "execution_count": 5,
     "metadata": {},
     "output_type": "execute_result"
    },
    {
     "data": {
      "image/png": "[encoded data removed]",
      "text/plain": [
       "<Figure size 432x288 with 1 Axes>"
      ]
     },
     "metadata": {
      "needs_background": "light"
     },
     "output_type": "display_data"
    }
   ],
   "source": [
    "plt.title(\"unstable optimized pump absolute value\")\n",
    "plt.xlabel(\"frequency difference\")\n",
    "plt.ylabel(\"pump amplitude\")\n",
    "plt.plot(np.abs(unstabl_opt_arbitrary_complex_pump))"
   ]
  },
  {
   "cell_type": "code",
   "execution_count": 8,
   "id": "53e43871-a68f-49e1-b874-5c6979ed0d64",
   "metadata": {},
   "outputs": [
    {
     "name": "stdout",
     "output_type": "stream",
     "text": [
      "Schmidt number:  1.0000105\n"
     ]
    }
   ],
   "source": [
    "print(\"Schmidt number: \", opt.get_observables(unstable_opt_arbitrary_pump, N, alpha, G, H, l)[1])"
   ]
  }
 ],
 "metadata": {
  "kernelspec": {
   "display_name": "Python 3 (ipykernel)",
   "language": "python",
   "name": "python3"
  },
  "language_info": {
   "codemirror_mode": {
    "name": "ipython",
    "version": 3
   },
   "file_extension": ".py",
   "mimetype": "text/x-python",
   "name": "python",
   "nbconvert_exporter": "python",
   "pygments_lexer": "ipython3",
   "version": "3.9.7"
  }
 },
 "nbformat": 4,
 "nbformat_minor": 5
}
