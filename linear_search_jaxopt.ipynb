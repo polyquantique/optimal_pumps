{
 "cells": [
  {
   "cell_type": "code",
   "execution_count": 1,
   "id": "deb71a65-9833-4c3f-aa18-baa8ae64ca38",
   "metadata": {},
   "outputs": [],
   "source": [
    "import jax \n",
    "import jax.numpy as jnp\n",
    "import get_initialization_cond as init\n",
    "import optimization_SPDC as opt\n",
    "import jax.scipy.optimize as jaxopt\n",
    "import matplotlib.pyplot as plt\n",
    "import numpy as np\n",
    "import jaxopt\n",
    "\n",
    "np.random.seed(0)"
   ]
  },
  {
   "cell_type": "markdown",
   "id": "68e7d224-9e14-42db-98ad-5e214f49266c",
   "metadata": {},
   "source": [
    "# Initialize the parameters and hyperparameters"
   ]
  },
  {
   "cell_type": "code",
   "execution_count": 2,
   "id": "5d6cb3da-0f2f-40b7-a22a-37e99dfa4e38",
   "metadata": {},
   "outputs": [
    {
     "name": "stderr",
     "output_type": "stream",
     "text": [
      "WARNING:absl:No GPU/TPU found, falling back to CPU. (Set TF_CPP_MIN_LOG_LEVEL=0 and rerun for more info.)\n"
     ]
    }
   ],
   "source": [
    "Np = 0.01\n",
    "# higher N and wf+wi makes less unstable pump... need to see if N or wf+wi influences more\n",
    "N = 601\n",
    "wi = -10\n",
    "wf = 10\n",
    "x = jnp.linspace(wi, wf, N)\n",
    "freq_range_pump = jnp.linspace(2*wi, 2*wf, 2*N)\n",
    "freq_range_pump_complex = jnp.concatenate((freq_range_pump, freq_range_pump)).reshape(4*N,)\n",
    "vp = 0.1\n",
    "l = 1\n",
    "# For an unstable pump, just change amplitude to 0.2 and width to 0.2 at N = 1\n",
    "hermite_init_params = [2, 0.05, 0.3, jnp.pi/5]\n",
    "cst_init_params = [0.1]\n",
    "alpha, G, H = init.get_constants(vp, l, wi, wf, Np, N = N)\n",
    "# get the initialization seeds\n",
    "initial_value_gauss = jnp.array([0.5, 1., 2*jnp.pi/7])\n",
    "arbitrary_seed_hermite = init.get_initialization_array(hermite_init_params, vp, l, wi, wf, Np, method='hermite', N = N)\n",
    "random_seed = 0.01*jax.random.uniform(key, shape=(4*N,))\n",
    "phi = 2*jnp.pi*jax.random.uniform(key)"
   ]
  },
  {
   "cell_type": "code",
   "execution_count": 3,
   "id": "14cb6071-2507-4677-83c6-8ff1237a9ac8",
   "metadata": {},
   "outputs": [],
   "source": [
    "y_N = 1"
   ]
  },
  {
   "cell_type": "code",
   "execution_count": null,
   "id": "daecee9d-0073-4087-845b-c0a9953d9b10",
   "metadata": {},
   "outputs": [],
   "source": [
    "solver = jaxopt.PolyakSGD(opt.get_penalty_loss, maxiter=40, verbose=1)"
   ]
  },
  {
   "cell_type": "code",
   "execution_count": null,
   "id": "7e5e62df-3a1c-46fa-add0-a313cc3c97d1",
   "metadata": {},
   "outputs": [],
   "source": [
    "pump = random_seed.copy()\n",
    "for i in range(15):\n",
    "    print(\"run \" + str(i))\n",
    "    (pump, state) = solver.run(pump, N, alpha, G, H, l, y_N, freq_range_pump, 3**i)"
   ]
  },
  {
   "cell_type": "markdown",
   "id": "f43aea3f-a292-49e7-ad0a-2214582cb0b9",
   "metadata": {},
   "source": [
    "# Optimization with GradientDescent"
   ]
  },
  {
   "cell_type": "code",
   "execution_count": 21,
   "id": "f5e9bccc-a9f6-4f00-9f34-f8a93807b025",
   "metadata": {},
   "outputs": [],
   "source": [
    "armajo_optimizer = jaxopt.ArmijoSGD(fun = opt.get_loss, maxiter=50, verbose=True, tol=0.001)"
   ]
  },
  {
   "cell_type": "code",
   "execution_count": 22,
   "id": "42aea600-25eb-4946-a261-e28d1b75422e",
   "metadata": {},
   "outputs": [
    {
     "name": "stdout",
     "output_type": "stream",
     "text": [
      "error: 15.188131\n",
      "error: 8.531442\n",
      "error: 2.8032985\n",
      "error: 1.0153624\n",
      "error: 0.7472315\n",
      "error: 0.81503206\n",
      "error: 1.082962\n",
      "error: 1.2040294\n",
      "error: 1.2442994\n",
      "error: 1.2048447\n",
      "error: 1.7633225\n",
      "error: 1.0402678\n",
      "error: 0.73155606\n",
      "error: 0.37454525\n",
      "error: 0.34619027\n",
      "error: 0.16709216\n",
      "error: 0.09842768\n",
      "error: 0.061208792\n",
      "error: 0.053958666\n",
      "error: 0.039724965\n",
      "error: 0.025822021\n",
      "error: 0.015789004\n",
      "error: 0.014135016\n",
      "error: 0.0103841275\n",
      "error: 0.0069255284\n",
      "error: 0.0042874403\n",
      "error: 0.0038167816\n",
      "error: 0.0028181053\n",
      "error: 0.0029229657\n",
      "error: 0.002150126\n",
      "error: 0.0014480369\n",
      "error: 0.0014020451\n",
      "error: 0.0015941816\n",
      "error: 0.0003016591\n"
     ]
    }
   ],
   "source": [
    "(pump, state) = armajo_optimizer.run(arbitrary_seed_hermite_order_1, N, alpha, G, H, l, y_N)"
   ]
  },
  {
   "cell_type": "code",
   "execution_count": 25,
   "id": "378b338c-745b-4ef8-ad67-a4940abdc720",
   "metadata": {},
   "outputs": [
    {
     "data": {
      "text/plain": [
       "[<matplotlib.lines.Line2D at 0x7fa69b8c95b0>]"
      ]
     },
     "execution_count": 25,
     "metadata": {},
     "output_type": "execute_result"
    },
    {
     "data": {
      "image/png": "[encoded data removed]",
      "text/plain": [
       "<Figure size 640x480 with 1 Axes>"
      ]
     },
     "metadata": {},
     "output_type": "display_data"
    }
   ],
   "source": [
    "plt.plot(abs(opt.get_complex_array(pump)))"
   ]
  },
  {
   "cell_type": "code",
   "execution_count": 6,
   "id": "9f7532d8-4a09-4410-a015-583a12daee11",
   "metadata": {},
   "outputs": [],
   "source": [
    "linear_optimizer = jaxopt.GradientDescent(fun = opt.get_loss, verbose=True, maxiter=10)"
   ]
  },
  {
   "cell_type": "code",
   "execution_count": 7,
   "id": "423fecf2-0fdd-4666-95b8-9228b792a489",
   "metadata": {},
   "outputs": [
    {
     "name": "stdout",
     "output_type": "stream",
     "text": [
      "error: 3.936996\n",
      "error: 1.5633477\n",
      "error: 1.0895418\n",
      "error: 1.4978354\n",
      "error: 1.4175628\n",
      "error: 2.4901147\n",
      "error: 2.2026553\n",
      "error: 3.7036264\n",
      "error: 20.42397\n"
     ]
    },
    {
     "data": {
      "text/plain": [
       "OptStep(params=DeviceArray([-3.5213278e-19, -7.7573318e-19, -1.2367281e-18, ...,\n",
       "              5.8599827e-19,  2.7510515e-19,  0.0000000e+00],            dtype=float32), state=ProxGradState(iter_num=DeviceArray(10, dtype=int32, weak_type=True), stepsize=DeviceArray(0.00390625, dtype=float32, weak_type=True), error=DeviceArray(5.9912796, dtype=float32), aux=None, velocity=DeviceArray([-6.2826642e-19, -1.3872305e-18, -2.2156512e-18, ...,\n",
       "              1.0518073e-18,  4.9300859e-19,  0.0000000e+00],            dtype=float32), t=DeviceArray(6.4631157, dtype=float32, weak_type=True)))"
      ]
     },
     "execution_count": 7,
     "metadata": {},
     "output_type": "execute_result"
    }
   ],
   "source": [
    "linear_optimizer.run(arbitrary_seed_hermite_order_1, N, alpha, G, H, l, y_N)"
   ]
  }
 ],
 "metadata": {
  "kernelspec": {
   "display_name": "Python 3 (ipykernel)",
   "language": "python",
   "name": "python3"
  },
  "language_info": {
   "codemirror_mode": {
    "name": "ipython",
    "version": 3
   },
   "file_extension": ".py",
   "mimetype": "text/x-python",
   "name": "python",
   "nbconvert_exporter": "python",
   "pygments_lexer": "ipython3",
   "version": "3.9.12"
  }
 },
 "nbformat": 4,
 "nbformat_minor": 5
}
